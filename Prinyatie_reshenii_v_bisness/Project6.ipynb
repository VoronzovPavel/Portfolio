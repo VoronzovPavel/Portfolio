{
 "cells": [
  {
   "cell_type": "markdown",
   "metadata": {},
   "source": [
    "# Проект: Принятие решений в бизнесе"
   ]
  },
  {
   "cell_type": "markdown",
   "metadata": {},
   "source": [
    "Я — аналитик крупного интернет-магазина. Вместе с отделом маркетинга мы подготовили список гипотез для увеличения выручки.\n",
    "Необходимо приоритизировать гипотезы, запустить A/B-тест и проанализировать результаты. \n"
   ]
  },
  {
   "cell_type": "markdown",
   "metadata": {},
   "source": [
    "**Проект будет состоять из двух частей.**\n",
    "\n",
    "**Первая часть:** Приоритизация гипотез. 9 гипотез по увеличению выручки интернет-магазина.\n",
    "\n",
    "**Вторая часть:** Проанализировать A/B-тест"
   ]
  },
  {
   "cell_type": "markdown",
   "metadata": {},
   "source": [
    "### Предобработка и изучение имеющихся данных"
   ]
  },
  {
   "cell_type": "code",
   "execution_count": 1,
   "metadata": {},
   "outputs": [],
   "source": [
    "#загрузка библиотек\n",
    "import pandas as pd\n",
    "import numpy as np\n",
    "import datetime as dt\n",
    "import scipy.stats as stats\n",
    "import matplotlib.pyplot as plt\n",
    "from scipy import stats as st\n",
    "import warnings"
   ]
  },
  {
   "cell_type": "code",
   "execution_count": 2,
   "metadata": {},
   "outputs": [
    {
     "data": {
      "text/html": [
       "<div>\n",
       "<style scoped>\n",
       "    .dataframe tbody tr th:only-of-type {\n",
       "        vertical-align: middle;\n",
       "    }\n",
       "\n",
       "    .dataframe tbody tr th {\n",
       "        vertical-align: top;\n",
       "    }\n",
       "\n",
       "    .dataframe thead th {\n",
       "        text-align: right;\n",
       "    }\n",
       "</style>\n",
       "<table border=\"1\" class=\"dataframe\">\n",
       "  <thead>\n",
       "    <tr style=\"text-align: right;\">\n",
       "      <th></th>\n",
       "      <th>Hypothesis</th>\n",
       "      <th>Reach</th>\n",
       "      <th>Impact</th>\n",
       "      <th>Confidence</th>\n",
       "      <th>Efforts</th>\n",
       "    </tr>\n",
       "  </thead>\n",
       "  <tbody>\n",
       "    <tr>\n",
       "      <th>0</th>\n",
       "      <td>Добавить два новых канала привлечения трафика,...</td>\n",
       "      <td>3</td>\n",
       "      <td>10</td>\n",
       "      <td>8</td>\n",
       "      <td>6</td>\n",
       "    </tr>\n",
       "    <tr>\n",
       "      <th>1</th>\n",
       "      <td>Запустить собственную службу доставки, что сок...</td>\n",
       "      <td>2</td>\n",
       "      <td>5</td>\n",
       "      <td>4</td>\n",
       "      <td>10</td>\n",
       "    </tr>\n",
       "    <tr>\n",
       "      <th>2</th>\n",
       "      <td>Добавить блоки рекомендаций товаров на сайт ин...</td>\n",
       "      <td>8</td>\n",
       "      <td>3</td>\n",
       "      <td>7</td>\n",
       "      <td>3</td>\n",
       "    </tr>\n",
       "    <tr>\n",
       "      <th>3</th>\n",
       "      <td>Изменить структура категорий, что увеличит кон...</td>\n",
       "      <td>8</td>\n",
       "      <td>3</td>\n",
       "      <td>3</td>\n",
       "      <td>8</td>\n",
       "    </tr>\n",
       "    <tr>\n",
       "      <th>4</th>\n",
       "      <td>Изменить цвет фона главной страницы, чтобы уве...</td>\n",
       "      <td>3</td>\n",
       "      <td>1</td>\n",
       "      <td>1</td>\n",
       "      <td>1</td>\n",
       "    </tr>\n",
       "    <tr>\n",
       "      <th>5</th>\n",
       "      <td>Добавить страницу отзывов клиентов о магазине,...</td>\n",
       "      <td>3</td>\n",
       "      <td>2</td>\n",
       "      <td>2</td>\n",
       "      <td>3</td>\n",
       "    </tr>\n",
       "    <tr>\n",
       "      <th>6</th>\n",
       "      <td>Показать на главной странице баннеры с актуаль...</td>\n",
       "      <td>5</td>\n",
       "      <td>3</td>\n",
       "      <td>8</td>\n",
       "      <td>3</td>\n",
       "    </tr>\n",
       "    <tr>\n",
       "      <th>7</th>\n",
       "      <td>Добавить форму подписки на все основные страни...</td>\n",
       "      <td>10</td>\n",
       "      <td>7</td>\n",
       "      <td>8</td>\n",
       "      <td>5</td>\n",
       "    </tr>\n",
       "    <tr>\n",
       "      <th>8</th>\n",
       "      <td>Запустить акцию, дающую скидку на товар в день...</td>\n",
       "      <td>1</td>\n",
       "      <td>9</td>\n",
       "      <td>9</td>\n",
       "      <td>5</td>\n",
       "    </tr>\n",
       "  </tbody>\n",
       "</table>\n",
       "</div>"
      ],
      "text/plain": [
       "                                          Hypothesis  Reach  Impact  \\\n",
       "0  Добавить два новых канала привлечения трафика,...      3      10   \n",
       "1  Запустить собственную службу доставки, что сок...      2       5   \n",
       "2  Добавить блоки рекомендаций товаров на сайт ин...      8       3   \n",
       "3  Изменить структура категорий, что увеличит кон...      8       3   \n",
       "4  Изменить цвет фона главной страницы, чтобы уве...      3       1   \n",
       "5  Добавить страницу отзывов клиентов о магазине,...      3       2   \n",
       "6  Показать на главной странице баннеры с актуаль...      5       3   \n",
       "7  Добавить форму подписки на все основные страни...     10       7   \n",
       "8  Запустить акцию, дающую скидку на товар в день...      1       9   \n",
       "\n",
       "   Confidence  Efforts  \n",
       "0           8        6  \n",
       "1           4       10  \n",
       "2           7        3  \n",
       "3           3        8  \n",
       "4           1        1  \n",
       "5           2        3  \n",
       "6           8        3  \n",
       "7           8        5  \n",
       "8           9        5  "
      ]
     },
     "metadata": {},
     "output_type": "display_data"
    }
   ],
   "source": [
    "hypothesis = pd.read_csv('/datasets/hypothesis.csv')\n",
    "display (hypothesis)"
   ]
  },
  {
   "cell_type": "code",
   "execution_count": 3,
   "metadata": {},
   "outputs": [
    {
     "name": "stdout",
     "output_type": "stream",
     "text": [
      "<class 'pandas.core.frame.DataFrame'>\n",
      "RangeIndex: 9 entries, 0 to 8\n",
      "Data columns (total 5 columns):\n",
      " #   Column      Non-Null Count  Dtype \n",
      "---  ------      --------------  ----- \n",
      " 0   Hypothesis  9 non-null      object\n",
      " 1   Reach       9 non-null      int64 \n",
      " 2   Impact      9 non-null      int64 \n",
      " 3   Confidence  9 non-null      int64 \n",
      " 4   Efforts     9 non-null      int64 \n",
      "dtypes: int64(4), object(1)\n",
      "memory usage: 488.0+ bytes\n"
     ]
    }
   ],
   "source": [
    "hypothesis.info()"
   ]
  },
  {
   "cell_type": "markdown",
   "metadata": {},
   "source": [
    "Видим, что с типом данных проблем нет, не нуливых значений так же нет. Единственное что сделаем - приведем наименование столбцов к нижнему регистру для облегчения работы в дальнешем. "
   ]
  },
  {
   "cell_type": "code",
   "execution_count": 4,
   "metadata": {},
   "outputs": [],
   "source": [
    "hypothesis.columns = hypothesis.columns.str.lower()"
   ]
  },
  {
   "cell_type": "code",
   "execution_count": 5,
   "metadata": {},
   "outputs": [
    {
     "data": {
      "text/html": [
       "<div>\n",
       "<style scoped>\n",
       "    .dataframe tbody tr th:only-of-type {\n",
       "        vertical-align: middle;\n",
       "    }\n",
       "\n",
       "    .dataframe tbody tr th {\n",
       "        vertical-align: top;\n",
       "    }\n",
       "\n",
       "    .dataframe thead th {\n",
       "        text-align: right;\n",
       "    }\n",
       "</style>\n",
       "<table border=\"1\" class=\"dataframe\">\n",
       "  <thead>\n",
       "    <tr style=\"text-align: right;\">\n",
       "      <th></th>\n",
       "      <th>hypothesis</th>\n",
       "      <th>reach</th>\n",
       "      <th>impact</th>\n",
       "      <th>confidence</th>\n",
       "      <th>efforts</th>\n",
       "    </tr>\n",
       "  </thead>\n",
       "  <tbody>\n",
       "    <tr>\n",
       "      <th>0</th>\n",
       "      <td>Добавить два новых канала привлечения трафика,...</td>\n",
       "      <td>3</td>\n",
       "      <td>10</td>\n",
       "      <td>8</td>\n",
       "      <td>6</td>\n",
       "    </tr>\n",
       "    <tr>\n",
       "      <th>1</th>\n",
       "      <td>Запустить собственную службу доставки, что сок...</td>\n",
       "      <td>2</td>\n",
       "      <td>5</td>\n",
       "      <td>4</td>\n",
       "      <td>10</td>\n",
       "    </tr>\n",
       "    <tr>\n",
       "      <th>2</th>\n",
       "      <td>Добавить блоки рекомендаций товаров на сайт ин...</td>\n",
       "      <td>8</td>\n",
       "      <td>3</td>\n",
       "      <td>7</td>\n",
       "      <td>3</td>\n",
       "    </tr>\n",
       "    <tr>\n",
       "      <th>3</th>\n",
       "      <td>Изменить структура категорий, что увеличит кон...</td>\n",
       "      <td>8</td>\n",
       "      <td>3</td>\n",
       "      <td>3</td>\n",
       "      <td>8</td>\n",
       "    </tr>\n",
       "    <tr>\n",
       "      <th>4</th>\n",
       "      <td>Изменить цвет фона главной страницы, чтобы уве...</td>\n",
       "      <td>3</td>\n",
       "      <td>1</td>\n",
       "      <td>1</td>\n",
       "      <td>1</td>\n",
       "    </tr>\n",
       "    <tr>\n",
       "      <th>5</th>\n",
       "      <td>Добавить страницу отзывов клиентов о магазине,...</td>\n",
       "      <td>3</td>\n",
       "      <td>2</td>\n",
       "      <td>2</td>\n",
       "      <td>3</td>\n",
       "    </tr>\n",
       "    <tr>\n",
       "      <th>6</th>\n",
       "      <td>Показать на главной странице баннеры с актуаль...</td>\n",
       "      <td>5</td>\n",
       "      <td>3</td>\n",
       "      <td>8</td>\n",
       "      <td>3</td>\n",
       "    </tr>\n",
       "    <tr>\n",
       "      <th>7</th>\n",
       "      <td>Добавить форму подписки на все основные страни...</td>\n",
       "      <td>10</td>\n",
       "      <td>7</td>\n",
       "      <td>8</td>\n",
       "      <td>5</td>\n",
       "    </tr>\n",
       "    <tr>\n",
       "      <th>8</th>\n",
       "      <td>Запустить акцию, дающую скидку на товар в день...</td>\n",
       "      <td>1</td>\n",
       "      <td>9</td>\n",
       "      <td>9</td>\n",
       "      <td>5</td>\n",
       "    </tr>\n",
       "  </tbody>\n",
       "</table>\n",
       "</div>"
      ],
      "text/plain": [
       "                                          hypothesis  reach  impact  \\\n",
       "0  Добавить два новых канала привлечения трафика,...      3      10   \n",
       "1  Запустить собственную службу доставки, что сок...      2       5   \n",
       "2  Добавить блоки рекомендаций товаров на сайт ин...      8       3   \n",
       "3  Изменить структура категорий, что увеличит кон...      8       3   \n",
       "4  Изменить цвет фона главной страницы, чтобы уве...      3       1   \n",
       "5  Добавить страницу отзывов клиентов о магазине,...      3       2   \n",
       "6  Показать на главной странице баннеры с актуаль...      5       3   \n",
       "7  Добавить форму подписки на все основные страни...     10       7   \n",
       "8  Запустить акцию, дающую скидку на товар в день...      1       9   \n",
       "\n",
       "   confidence  efforts  \n",
       "0           8        6  \n",
       "1           4       10  \n",
       "2           7        3  \n",
       "3           3        8  \n",
       "4           1        1  \n",
       "5           2        3  \n",
       "6           8        3  \n",
       "7           8        5  \n",
       "8           9        5  "
      ]
     },
     "metadata": {},
     "output_type": "display_data"
    }
   ],
   "source": [
    "display (hypothesis)"
   ]
  },
  {
   "cell_type": "markdown",
   "metadata": {},
   "source": [
    "**Вывод:** \n",
    "Мы  загрузили библиотеки длядальнешей работы и открытили файл с гепотизами. Привели наименование столбцов в нижнему регистру для удобства в работе.\n",
    "\n",
    "Так как в датасете всего 9 строчек, проводить проверку на дубликаты нет смысла, и так видно что одинаковых строчек нет."
   ]
  },
  {
   "cell_type": "markdown",
   "metadata": {},
   "source": [
    "### Первая часть: Приоритизация гипотез."
   ]
  },
  {
   "cell_type": "markdown",
   "metadata": {},
   "source": [
    "Напомню что, в моем распоряжении файл с 9 гипотезами, для которых оценены значения Reach, Impact, Confidence и Efforts. Применим к этим оценкам фреймворки ICE и RICE."
   ]
  },
  {
   "cell_type": "markdown",
   "metadata": {},
   "source": [
    "#### Применяем ICE"
   ]
  },
  {
   "cell_type": "code",
   "execution_count": 6,
   "metadata": {},
   "outputs": [
    {
     "data": {
      "text/html": [
       "<div>\n",
       "<style scoped>\n",
       "    .dataframe tbody tr th:only-of-type {\n",
       "        vertical-align: middle;\n",
       "    }\n",
       "\n",
       "    .dataframe tbody tr th {\n",
       "        vertical-align: top;\n",
       "    }\n",
       "\n",
       "    .dataframe thead th {\n",
       "        text-align: right;\n",
       "    }\n",
       "</style>\n",
       "<table border=\"1\" class=\"dataframe\">\n",
       "  <thead>\n",
       "    <tr style=\"text-align: right;\">\n",
       "      <th></th>\n",
       "      <th>hypothesis</th>\n",
       "      <th>reach</th>\n",
       "      <th>impact</th>\n",
       "      <th>confidence</th>\n",
       "      <th>efforts</th>\n",
       "      <th>ice</th>\n",
       "    </tr>\n",
       "  </thead>\n",
       "  <tbody>\n",
       "    <tr>\n",
       "      <th>8</th>\n",
       "      <td>Запустить акцию, дающую скидку на товар в день...</td>\n",
       "      <td>1</td>\n",
       "      <td>9</td>\n",
       "      <td>9</td>\n",
       "      <td>5</td>\n",
       "      <td>16.20</td>\n",
       "    </tr>\n",
       "    <tr>\n",
       "      <th>0</th>\n",
       "      <td>Добавить два новых канала привлечения трафика,...</td>\n",
       "      <td>3</td>\n",
       "      <td>10</td>\n",
       "      <td>8</td>\n",
       "      <td>6</td>\n",
       "      <td>13.33</td>\n",
       "    </tr>\n",
       "    <tr>\n",
       "      <th>7</th>\n",
       "      <td>Добавить форму подписки на все основные страни...</td>\n",
       "      <td>10</td>\n",
       "      <td>7</td>\n",
       "      <td>8</td>\n",
       "      <td>5</td>\n",
       "      <td>11.20</td>\n",
       "    </tr>\n",
       "    <tr>\n",
       "      <th>6</th>\n",
       "      <td>Показать на главной странице баннеры с актуаль...</td>\n",
       "      <td>5</td>\n",
       "      <td>3</td>\n",
       "      <td>8</td>\n",
       "      <td>3</td>\n",
       "      <td>8.00</td>\n",
       "    </tr>\n",
       "    <tr>\n",
       "      <th>2</th>\n",
       "      <td>Добавить блоки рекомендаций товаров на сайт ин...</td>\n",
       "      <td>8</td>\n",
       "      <td>3</td>\n",
       "      <td>7</td>\n",
       "      <td>3</td>\n",
       "      <td>7.00</td>\n",
       "    </tr>\n",
       "    <tr>\n",
       "      <th>1</th>\n",
       "      <td>Запустить собственную службу доставки, что сок...</td>\n",
       "      <td>2</td>\n",
       "      <td>5</td>\n",
       "      <td>4</td>\n",
       "      <td>10</td>\n",
       "      <td>2.00</td>\n",
       "    </tr>\n",
       "    <tr>\n",
       "      <th>5</th>\n",
       "      <td>Добавить страницу отзывов клиентов о магазине,...</td>\n",
       "      <td>3</td>\n",
       "      <td>2</td>\n",
       "      <td>2</td>\n",
       "      <td>3</td>\n",
       "      <td>1.33</td>\n",
       "    </tr>\n",
       "    <tr>\n",
       "      <th>3</th>\n",
       "      <td>Изменить структура категорий, что увеличит кон...</td>\n",
       "      <td>8</td>\n",
       "      <td>3</td>\n",
       "      <td>3</td>\n",
       "      <td>8</td>\n",
       "      <td>1.12</td>\n",
       "    </tr>\n",
       "    <tr>\n",
       "      <th>4</th>\n",
       "      <td>Изменить цвет фона главной страницы, чтобы уве...</td>\n",
       "      <td>3</td>\n",
       "      <td>1</td>\n",
       "      <td>1</td>\n",
       "      <td>1</td>\n",
       "      <td>1.00</td>\n",
       "    </tr>\n",
       "  </tbody>\n",
       "</table>\n",
       "</div>"
      ],
      "text/plain": [
       "                                          hypothesis  reach  impact  \\\n",
       "8  Запустить акцию, дающую скидку на товар в день...      1       9   \n",
       "0  Добавить два новых канала привлечения трафика,...      3      10   \n",
       "7  Добавить форму подписки на все основные страни...     10       7   \n",
       "6  Показать на главной странице баннеры с актуаль...      5       3   \n",
       "2  Добавить блоки рекомендаций товаров на сайт ин...      8       3   \n",
       "1  Запустить собственную службу доставки, что сок...      2       5   \n",
       "5  Добавить страницу отзывов клиентов о магазине,...      3       2   \n",
       "3  Изменить структура категорий, что увеличит кон...      8       3   \n",
       "4  Изменить цвет фона главной страницы, чтобы уве...      3       1   \n",
       "\n",
       "   confidence  efforts    ice  \n",
       "8           9        5  16.20  \n",
       "0           8        6  13.33  \n",
       "7           8        5  11.20  \n",
       "6           8        3   8.00  \n",
       "2           7        3   7.00  \n",
       "1           4       10   2.00  \n",
       "5           2        3   1.33  \n",
       "3           3        8   1.12  \n",
       "4           1        1   1.00  "
      ]
     },
     "execution_count": 6,
     "metadata": {},
     "output_type": "execute_result"
    }
   ],
   "source": [
    "hypothesis['ice'] = (hypothesis['impact'] * hypothesis['confidence']/ hypothesis['efforts']).round(2)\n",
    "hypothesis.sort_values(by = 'ice', ascending=False)"
   ]
  },
  {
   "cell_type": "markdown",
   "metadata": {},
   "source": [
    "#### Применяем RICE"
   ]
  },
  {
   "cell_type": "code",
   "execution_count": 7,
   "metadata": {},
   "outputs": [
    {
     "data": {
      "text/html": [
       "<div>\n",
       "<style scoped>\n",
       "    .dataframe tbody tr th:only-of-type {\n",
       "        vertical-align: middle;\n",
       "    }\n",
       "\n",
       "    .dataframe tbody tr th {\n",
       "        vertical-align: top;\n",
       "    }\n",
       "\n",
       "    .dataframe thead th {\n",
       "        text-align: right;\n",
       "    }\n",
       "</style>\n",
       "<table border=\"1\" class=\"dataframe\">\n",
       "  <thead>\n",
       "    <tr style=\"text-align: right;\">\n",
       "      <th></th>\n",
       "      <th>hypothesis</th>\n",
       "      <th>reach</th>\n",
       "      <th>impact</th>\n",
       "      <th>confidence</th>\n",
       "      <th>efforts</th>\n",
       "      <th>ice</th>\n",
       "      <th>rice</th>\n",
       "    </tr>\n",
       "  </thead>\n",
       "  <tbody>\n",
       "    <tr>\n",
       "      <th>7</th>\n",
       "      <td>Добавить форму подписки на все основные страни...</td>\n",
       "      <td>10</td>\n",
       "      <td>7</td>\n",
       "      <td>8</td>\n",
       "      <td>5</td>\n",
       "      <td>11.20</td>\n",
       "      <td>112.0</td>\n",
       "    </tr>\n",
       "    <tr>\n",
       "      <th>2</th>\n",
       "      <td>Добавить блоки рекомендаций товаров на сайт ин...</td>\n",
       "      <td>8</td>\n",
       "      <td>3</td>\n",
       "      <td>7</td>\n",
       "      <td>3</td>\n",
       "      <td>7.00</td>\n",
       "      <td>56.0</td>\n",
       "    </tr>\n",
       "    <tr>\n",
       "      <th>0</th>\n",
       "      <td>Добавить два новых канала привлечения трафика,...</td>\n",
       "      <td>3</td>\n",
       "      <td>10</td>\n",
       "      <td>8</td>\n",
       "      <td>6</td>\n",
       "      <td>13.33</td>\n",
       "      <td>40.0</td>\n",
       "    </tr>\n",
       "    <tr>\n",
       "      <th>6</th>\n",
       "      <td>Показать на главной странице баннеры с актуаль...</td>\n",
       "      <td>5</td>\n",
       "      <td>3</td>\n",
       "      <td>8</td>\n",
       "      <td>3</td>\n",
       "      <td>8.00</td>\n",
       "      <td>40.0</td>\n",
       "    </tr>\n",
       "    <tr>\n",
       "      <th>8</th>\n",
       "      <td>Запустить акцию, дающую скидку на товар в день...</td>\n",
       "      <td>1</td>\n",
       "      <td>9</td>\n",
       "      <td>9</td>\n",
       "      <td>5</td>\n",
       "      <td>16.20</td>\n",
       "      <td>16.2</td>\n",
       "    </tr>\n",
       "    <tr>\n",
       "      <th>3</th>\n",
       "      <td>Изменить структура категорий, что увеличит кон...</td>\n",
       "      <td>8</td>\n",
       "      <td>3</td>\n",
       "      <td>3</td>\n",
       "      <td>8</td>\n",
       "      <td>1.12</td>\n",
       "      <td>9.0</td>\n",
       "    </tr>\n",
       "    <tr>\n",
       "      <th>1</th>\n",
       "      <td>Запустить собственную службу доставки, что сок...</td>\n",
       "      <td>2</td>\n",
       "      <td>5</td>\n",
       "      <td>4</td>\n",
       "      <td>10</td>\n",
       "      <td>2.00</td>\n",
       "      <td>4.0</td>\n",
       "    </tr>\n",
       "    <tr>\n",
       "      <th>5</th>\n",
       "      <td>Добавить страницу отзывов клиентов о магазине,...</td>\n",
       "      <td>3</td>\n",
       "      <td>2</td>\n",
       "      <td>2</td>\n",
       "      <td>3</td>\n",
       "      <td>1.33</td>\n",
       "      <td>4.0</td>\n",
       "    </tr>\n",
       "    <tr>\n",
       "      <th>4</th>\n",
       "      <td>Изменить цвет фона главной страницы, чтобы уве...</td>\n",
       "      <td>3</td>\n",
       "      <td>1</td>\n",
       "      <td>1</td>\n",
       "      <td>1</td>\n",
       "      <td>1.00</td>\n",
       "      <td>3.0</td>\n",
       "    </tr>\n",
       "  </tbody>\n",
       "</table>\n",
       "</div>"
      ],
      "text/plain": [
       "                                          hypothesis  reach  impact  \\\n",
       "7  Добавить форму подписки на все основные страни...     10       7   \n",
       "2  Добавить блоки рекомендаций товаров на сайт ин...      8       3   \n",
       "0  Добавить два новых канала привлечения трафика,...      3      10   \n",
       "6  Показать на главной странице баннеры с актуаль...      5       3   \n",
       "8  Запустить акцию, дающую скидку на товар в день...      1       9   \n",
       "3  Изменить структура категорий, что увеличит кон...      8       3   \n",
       "1  Запустить собственную службу доставки, что сок...      2       5   \n",
       "5  Добавить страницу отзывов клиентов о магазине,...      3       2   \n",
       "4  Изменить цвет фона главной страницы, чтобы уве...      3       1   \n",
       "\n",
       "   confidence  efforts    ice   rice  \n",
       "7           8        5  11.20  112.0  \n",
       "2           7        3   7.00   56.0  \n",
       "0           8        6  13.33   40.0  \n",
       "6           8        3   8.00   40.0  \n",
       "8           9        5  16.20   16.2  \n",
       "3           3        8   1.12    9.0  \n",
       "1           4       10   2.00    4.0  \n",
       "5           2        3   1.33    4.0  \n",
       "4           1        1   1.00    3.0  "
      ]
     },
     "execution_count": 7,
     "metadata": {},
     "output_type": "execute_result"
    }
   ],
   "source": [
    "hypothesis['rice'] = (hypothesis['reach'] * hypothesis['impact'] * hypothesis['confidence']/ hypothesis['efforts']).round(2)\n",
    "hypothesis.sort_values(by = 'rice', ascending=False)"
   ]
  },
  {
   "cell_type": "markdown",
   "metadata": {},
   "source": [
    "#### Разница между фреймворками ICE и RICE."
   ]
  },
  {
   "cell_type": "markdown",
   "metadata": {},
   "source": [
    "Фреймворк RICE, в отличии от ICE, использует так же в качестве параметра охват количества пользователей, которых затронет предполагаемое изменение.\n",
    "\n",
    "Наиболее перспективные гепотезы по методу ICE являются гепотезы с индексом 8, 0, 7. \n",
    "\n",
    "По методу RICE гепотезы с индексом 7, 2, 0.\n",
    "\n",
    "\n",
    "При обоих методах в лидерах гипотезы 7 и 0 - \"Добавить форму подписки на все основные страницы, чтобы собрать базу клиентов для email-рассылок\" и \"Добавить два новых канала привлечения трафика, что позволит привлекать на 30% больше пользователей\".\n"
   ]
  },
  {
   "cell_type": "markdown",
   "metadata": {},
   "source": [
    "### Вторая часть: Проанализировать A/B-тест"
   ]
  },
  {
   "cell_type": "markdown",
   "metadata": {},
   "source": [
    "У нас есть результаты проведения А/В-теста. Проанализируем их. \n",
    "\n",
    "Сначала откроем файл с данными о заказах."
   ]
  },
  {
   "cell_type": "code",
   "execution_count": 8,
   "metadata": {},
   "outputs": [
    {
     "data": {
      "text/html": [
       "<div>\n",
       "<style scoped>\n",
       "    .dataframe tbody tr th:only-of-type {\n",
       "        vertical-align: middle;\n",
       "    }\n",
       "\n",
       "    .dataframe tbody tr th {\n",
       "        vertical-align: top;\n",
       "    }\n",
       "\n",
       "    .dataframe thead th {\n",
       "        text-align: right;\n",
       "    }\n",
       "</style>\n",
       "<table border=\"1\" class=\"dataframe\">\n",
       "  <thead>\n",
       "    <tr style=\"text-align: right;\">\n",
       "      <th></th>\n",
       "      <th>transactionId</th>\n",
       "      <th>visitorId</th>\n",
       "      <th>date</th>\n",
       "      <th>revenue</th>\n",
       "      <th>group</th>\n",
       "    </tr>\n",
       "  </thead>\n",
       "  <tbody>\n",
       "    <tr>\n",
       "      <th>0</th>\n",
       "      <td>3667963787</td>\n",
       "      <td>3312258926</td>\n",
       "      <td>2019-08-15</td>\n",
       "      <td>1650</td>\n",
       "      <td>B</td>\n",
       "    </tr>\n",
       "    <tr>\n",
       "      <th>1</th>\n",
       "      <td>2804400009</td>\n",
       "      <td>3642806036</td>\n",
       "      <td>2019-08-15</td>\n",
       "      <td>730</td>\n",
       "      <td>B</td>\n",
       "    </tr>\n",
       "    <tr>\n",
       "      <th>2</th>\n",
       "      <td>2961555356</td>\n",
       "      <td>4069496402</td>\n",
       "      <td>2019-08-15</td>\n",
       "      <td>400</td>\n",
       "      <td>A</td>\n",
       "    </tr>\n",
       "    <tr>\n",
       "      <th>3</th>\n",
       "      <td>3797467345</td>\n",
       "      <td>1196621759</td>\n",
       "      <td>2019-08-15</td>\n",
       "      <td>9759</td>\n",
       "      <td>B</td>\n",
       "    </tr>\n",
       "    <tr>\n",
       "      <th>4</th>\n",
       "      <td>2282983706</td>\n",
       "      <td>2322279887</td>\n",
       "      <td>2019-08-15</td>\n",
       "      <td>2308</td>\n",
       "      <td>B</td>\n",
       "    </tr>\n",
       "    <tr>\n",
       "      <th>...</th>\n",
       "      <td>...</td>\n",
       "      <td>...</td>\n",
       "      <td>...</td>\n",
       "      <td>...</td>\n",
       "      <td>...</td>\n",
       "    </tr>\n",
       "    <tr>\n",
       "      <th>1192</th>\n",
       "      <td>2662137336</td>\n",
       "      <td>3733762160</td>\n",
       "      <td>2019-08-14</td>\n",
       "      <td>6490</td>\n",
       "      <td>B</td>\n",
       "    </tr>\n",
       "    <tr>\n",
       "      <th>1193</th>\n",
       "      <td>2203539145</td>\n",
       "      <td>370388673</td>\n",
       "      <td>2019-08-14</td>\n",
       "      <td>3190</td>\n",
       "      <td>A</td>\n",
       "    </tr>\n",
       "    <tr>\n",
       "      <th>1194</th>\n",
       "      <td>1807773912</td>\n",
       "      <td>573423106</td>\n",
       "      <td>2019-08-14</td>\n",
       "      <td>10550</td>\n",
       "      <td>A</td>\n",
       "    </tr>\n",
       "    <tr>\n",
       "      <th>1195</th>\n",
       "      <td>1947021204</td>\n",
       "      <td>1614305549</td>\n",
       "      <td>2019-08-14</td>\n",
       "      <td>100</td>\n",
       "      <td>A</td>\n",
       "    </tr>\n",
       "    <tr>\n",
       "      <th>1196</th>\n",
       "      <td>3936777065</td>\n",
       "      <td>2108080724</td>\n",
       "      <td>2019-08-15</td>\n",
       "      <td>202740</td>\n",
       "      <td>B</td>\n",
       "    </tr>\n",
       "  </tbody>\n",
       "</table>\n",
       "<p>1197 rows × 5 columns</p>\n",
       "</div>"
      ],
      "text/plain": [
       "      transactionId   visitorId        date  revenue group\n",
       "0        3667963787  3312258926  2019-08-15     1650     B\n",
       "1        2804400009  3642806036  2019-08-15      730     B\n",
       "2        2961555356  4069496402  2019-08-15      400     A\n",
       "3        3797467345  1196621759  2019-08-15     9759     B\n",
       "4        2282983706  2322279887  2019-08-15     2308     B\n",
       "...             ...         ...         ...      ...   ...\n",
       "1192     2662137336  3733762160  2019-08-14     6490     B\n",
       "1193     2203539145   370388673  2019-08-14     3190     A\n",
       "1194     1807773912   573423106  2019-08-14    10550     A\n",
       "1195     1947021204  1614305549  2019-08-14      100     A\n",
       "1196     3936777065  2108080724  2019-08-15   202740     B\n",
       "\n",
       "[1197 rows x 5 columns]"
      ]
     },
     "metadata": {},
     "output_type": "display_data"
    }
   ],
   "source": [
    "orders = pd.read_csv('/datasets/orders.csv')\n",
    "display (orders)"
   ]
  },
  {
   "cell_type": "code",
   "execution_count": 9,
   "metadata": {},
   "outputs": [
    {
     "name": "stdout",
     "output_type": "stream",
     "text": [
      "<class 'pandas.core.frame.DataFrame'>\n",
      "RangeIndex: 1197 entries, 0 to 1196\n",
      "Data columns (total 5 columns):\n",
      " #   Column         Non-Null Count  Dtype \n",
      "---  ------         --------------  ----- \n",
      " 0   transactionId  1197 non-null   int64 \n",
      " 1   visitorId      1197 non-null   int64 \n",
      " 2   date           1197 non-null   object\n",
      " 3   revenue        1197 non-null   int64 \n",
      " 4   group          1197 non-null   object\n",
      "dtypes: int64(3), object(2)\n",
      "memory usage: 46.9+ KB\n"
     ]
    }
   ],
   "source": [
    "orders.info()"
   ]
  },
  {
   "cell_type": "markdown",
   "metadata": {},
   "source": [
    "Видим что тип данных в колонке \"дата\" - object, а нам необходи datetime"
   ]
  },
  {
   "cell_type": "code",
   "execution_count": 10,
   "metadata": {},
   "outputs": [],
   "source": [
    "orders['date'] = orders['date'].map(lambda x: dt.datetime.strptime(x, '%Y-%m-%d'))"
   ]
  },
  {
   "cell_type": "code",
   "execution_count": 11,
   "metadata": {},
   "outputs": [
    {
     "data": {
      "text/plain": [
       "transactionId    0\n",
       "visitorId        0\n",
       "date             0\n",
       "revenue          0\n",
       "group            0\n",
       "dtype: int64"
      ]
     },
     "metadata": {},
     "output_type": "display_data"
    }
   ],
   "source": [
    "#Проверим на пропуски \n",
    "display(orders.isna().sum())"
   ]
  },
  {
   "cell_type": "code",
   "execution_count": 12,
   "metadata": {},
   "outputs": [
    {
     "data": {
      "text/plain": [
       "0"
      ]
     },
     "execution_count": 12,
     "metadata": {},
     "output_type": "execute_result"
    }
   ],
   "source": [
    "#Проверим на дубликаты\n",
    "orders.duplicated().sum()"
   ]
  },
  {
   "cell_type": "code",
   "execution_count": 13,
   "metadata": {},
   "outputs": [
    {
     "data": {
      "text/plain": [
       "58"
      ]
     },
     "execution_count": 13,
     "metadata": {},
     "output_type": "execute_result"
    }
   ],
   "source": [
    "#посмотрим уникальных пользователей по группам\n",
    "i = list(set(orders.query('group == \\\"A\\\"')['visitorId'].unique()) & set(orders.query('group == \\\"B\\\"')['visitorId'].unique()))\n",
    "len(i)"
   ]
  },
  {
   "cell_type": "code",
   "execution_count": 14,
   "metadata": {},
   "outputs": [
    {
     "data": {
      "text/plain": [
       "11.530815109343937"
      ]
     },
     "execution_count": 14,
     "metadata": {},
     "output_type": "execute_result"
    }
   ],
   "source": [
    "len(i) / orders.query('group == \\\"A\\\"')['visitorId'].nunique() * 100"
   ]
  },
  {
   "cell_type": "markdown",
   "metadata": {},
   "source": [
    "58 пользователей оказались в обеих группах, это почти 12% от общегочисла пользователей группы А. "
   ]
  },
  {
   "cell_type": "code",
   "execution_count": 15,
   "metadata": {},
   "outputs": [
    {
     "data": {
      "text/plain": [
       "9.897610921501707"
      ]
     },
     "execution_count": 15,
     "metadata": {},
     "output_type": "execute_result"
    }
   ],
   "source": [
    "len(i) / orders.query('group == \\\"B\\\"')['visitorId'].nunique() * 100"
   ]
  },
  {
   "cell_type": "markdown",
   "metadata": {},
   "source": [
    "Аналогичная ситуация и с группой Б, это 10% пользователей."
   ]
  },
  {
   "cell_type": "code",
   "execution_count": 16,
   "metadata": {},
   "outputs": [
    {
     "data": {
      "text/plain": [
       "15.121136173767752"
      ]
     },
     "execution_count": 16,
     "metadata": {},
     "output_type": "execute_result"
    }
   ],
   "source": [
    "orders.query('visitorId in @i')['visitorId'].count() / orders['visitorId'].count() * 100"
   ]
  },
  {
   "cell_type": "markdown",
   "metadata": {},
   "source": [
    "Около 15% записей о покупках этих пользователей. Если мы удалим этих пользователей, то данные о среднем чеке будут более корректными, но это может повлиять на конверсию. Предлагаю оставить этих пользователей с поправкой о том, что данные не совсем корректны и 58 пользователей определены в обе группы."
   ]
  },
  {
   "cell_type": "markdown",
   "metadata": {},
   "source": [
    "Теперь откроем файл с посещениями."
   ]
  },
  {
   "cell_type": "code",
   "execution_count": 17,
   "metadata": {},
   "outputs": [
    {
     "data": {
      "text/html": [
       "<div>\n",
       "<style scoped>\n",
       "    .dataframe tbody tr th:only-of-type {\n",
       "        vertical-align: middle;\n",
       "    }\n",
       "\n",
       "    .dataframe tbody tr th {\n",
       "        vertical-align: top;\n",
       "    }\n",
       "\n",
       "    .dataframe thead th {\n",
       "        text-align: right;\n",
       "    }\n",
       "</style>\n",
       "<table border=\"1\" class=\"dataframe\">\n",
       "  <thead>\n",
       "    <tr style=\"text-align: right;\">\n",
       "      <th></th>\n",
       "      <th>date</th>\n",
       "      <th>group</th>\n",
       "      <th>visitors</th>\n",
       "    </tr>\n",
       "  </thead>\n",
       "  <tbody>\n",
       "    <tr>\n",
       "      <th>0</th>\n",
       "      <td>2019-08-01</td>\n",
       "      <td>A</td>\n",
       "      <td>719</td>\n",
       "    </tr>\n",
       "    <tr>\n",
       "      <th>1</th>\n",
       "      <td>2019-08-02</td>\n",
       "      <td>A</td>\n",
       "      <td>619</td>\n",
       "    </tr>\n",
       "    <tr>\n",
       "      <th>2</th>\n",
       "      <td>2019-08-03</td>\n",
       "      <td>A</td>\n",
       "      <td>507</td>\n",
       "    </tr>\n",
       "    <tr>\n",
       "      <th>3</th>\n",
       "      <td>2019-08-04</td>\n",
       "      <td>A</td>\n",
       "      <td>717</td>\n",
       "    </tr>\n",
       "    <tr>\n",
       "      <th>4</th>\n",
       "      <td>2019-08-05</td>\n",
       "      <td>A</td>\n",
       "      <td>756</td>\n",
       "    </tr>\n",
       "    <tr>\n",
       "      <th>...</th>\n",
       "      <td>...</td>\n",
       "      <td>...</td>\n",
       "      <td>...</td>\n",
       "    </tr>\n",
       "    <tr>\n",
       "      <th>57</th>\n",
       "      <td>2019-08-27</td>\n",
       "      <td>B</td>\n",
       "      <td>720</td>\n",
       "    </tr>\n",
       "    <tr>\n",
       "      <th>58</th>\n",
       "      <td>2019-08-28</td>\n",
       "      <td>B</td>\n",
       "      <td>654</td>\n",
       "    </tr>\n",
       "    <tr>\n",
       "      <th>59</th>\n",
       "      <td>2019-08-29</td>\n",
       "      <td>B</td>\n",
       "      <td>531</td>\n",
       "    </tr>\n",
       "    <tr>\n",
       "      <th>60</th>\n",
       "      <td>2019-08-30</td>\n",
       "      <td>B</td>\n",
       "      <td>490</td>\n",
       "    </tr>\n",
       "    <tr>\n",
       "      <th>61</th>\n",
       "      <td>2019-08-31</td>\n",
       "      <td>B</td>\n",
       "      <td>718</td>\n",
       "    </tr>\n",
       "  </tbody>\n",
       "</table>\n",
       "<p>62 rows × 3 columns</p>\n",
       "</div>"
      ],
      "text/plain": [
       "          date group  visitors\n",
       "0   2019-08-01     A       719\n",
       "1   2019-08-02     A       619\n",
       "2   2019-08-03     A       507\n",
       "3   2019-08-04     A       717\n",
       "4   2019-08-05     A       756\n",
       "..         ...   ...       ...\n",
       "57  2019-08-27     B       720\n",
       "58  2019-08-28     B       654\n",
       "59  2019-08-29     B       531\n",
       "60  2019-08-30     B       490\n",
       "61  2019-08-31     B       718\n",
       "\n",
       "[62 rows x 3 columns]"
      ]
     },
     "metadata": {},
     "output_type": "display_data"
    }
   ],
   "source": [
    "visitors = pd.read_csv('/datasets/visitors.csv')\n",
    "display (visitors)"
   ]
  },
  {
   "cell_type": "code",
   "execution_count": 18,
   "metadata": {},
   "outputs": [
    {
     "name": "stdout",
     "output_type": "stream",
     "text": [
      "<class 'pandas.core.frame.DataFrame'>\n",
      "RangeIndex: 62 entries, 0 to 61\n",
      "Data columns (total 3 columns):\n",
      " #   Column    Non-Null Count  Dtype \n",
      "---  ------    --------------  ----- \n",
      " 0   date      62 non-null     object\n",
      " 1   group     62 non-null     object\n",
      " 2   visitors  62 non-null     int64 \n",
      "dtypes: int64(1), object(2)\n",
      "memory usage: 1.6+ KB\n"
     ]
    }
   ],
   "source": [
    "visitors.info()"
   ]
  },
  {
   "cell_type": "markdown",
   "metadata": {},
   "source": [
    "Так же видим проблему с типом данных в колонке \"дата\". Исправляем."
   ]
  },
  {
   "cell_type": "code",
   "execution_count": 19,
   "metadata": {},
   "outputs": [],
   "source": [
    "visitors['date'] = visitors['date'].map(lambda x: dt.datetime.strptime(x, '%Y-%m-%d'))"
   ]
  },
  {
   "cell_type": "markdown",
   "metadata": {},
   "source": [
    "В этой таблице не существует информации об идентификаторах пользователя, поэтому не сможем исключить данные о посещении сайта."
   ]
  },
  {
   "cell_type": "code",
   "execution_count": 20,
   "metadata": {},
   "outputs": [
    {
     "data": {
      "text/plain": [
       "date        0\n",
       "group       0\n",
       "visitors    0\n",
       "dtype: int64"
      ]
     },
     "metadata": {},
     "output_type": "display_data"
    }
   ],
   "source": [
    "#проверяем пропуски\n",
    "display(visitors.isna().sum())"
   ]
  },
  {
   "cell_type": "code",
   "execution_count": 21,
   "metadata": {},
   "outputs": [
    {
     "data": {
      "text/plain": [
       "0"
      ]
     },
     "execution_count": 21,
     "metadata": {},
     "output_type": "execute_result"
    }
   ],
   "source": [
    "#проверяем дубликаты\n",
    "visitors.duplicated().sum()"
   ]
  },
  {
   "cell_type": "markdown",
   "metadata": {},
   "source": [
    "**Вывод:** провели предобработку данных orders и visitors.\n",
    "Нашли что 58 пользователей оказались в обеих группах, что состовляет 12% от общегочисла пользователей группы А и 10% пользователей группы Б. Так как процент большой, приняли решение не удалять их, а просто указать что данные будут не совсем корректные."
   ]
  },
  {
   "cell_type": "markdown",
   "metadata": {},
   "source": [
    "#### Построим график кумулятивной выручки по группам. "
   ]
  },
  {
   "cell_type": "markdown",
   "metadata": {},
   "source": [
    "Создадим таблицу кумулятивной выручки по дням по группам."
   ]
  },
  {
   "cell_type": "code",
   "execution_count": 22,
   "metadata": {},
   "outputs": [],
   "source": [
    "# таблица уникальных соцетаний дата - группа\n",
    "datesGroups = orders[['date', 'group']].drop_duplicates()"
   ]
  },
  {
   "cell_type": "code",
   "execution_count": 23,
   "metadata": {},
   "outputs": [],
   "source": [
    "# создание таблицы с кумулятивными значениями пользователей, заказов и стоимости заказов\n",
    "ordersAggregated = (\n",
    "    datesGroups.apply(\n",
    "        lambda x: orders[np.logical_and(orders['date'] <= x['date'], \n",
    "                                        orders['group'] == x['group'])]\n",
    "    .agg({'date' : 'max', \n",
    "          'group': 'max', \n",
    "          'transactionId': 'nunique', \n",
    "          'visitorId': 'nunique', \n",
    "          'revenue': 'sum'}), axis=1)\n",
    "    .sort_values(by=['date','group'])\n",
    ")"
   ]
  },
  {
   "cell_type": "code",
   "execution_count": 24,
   "metadata": {},
   "outputs": [],
   "source": [
    "# создание таблицы с кумулятивными значениями посещений\n",
    "visitorsAggregated = (\n",
    "    datesGroups.apply(\n",
    "        lambda x: visitors[np.logical_and(visitors['date'] <= x['date'],\n",
    "                                          visitors['group'] == x['group'])]\n",
    "        .agg({'date' : 'max', 'group' : 'max', 'visitors' : 'sum'}), axis=1)\n",
    "    .sort_values(by=['date','group'])       \n",
    ")"
   ]
  },
  {
   "cell_type": "code",
   "execution_count": 25,
   "metadata": {},
   "outputs": [
    {
     "data": {
      "text/html": [
       "<div>\n",
       "<style scoped>\n",
       "    .dataframe tbody tr th:only-of-type {\n",
       "        vertical-align: middle;\n",
       "    }\n",
       "\n",
       "    .dataframe tbody tr th {\n",
       "        vertical-align: top;\n",
       "    }\n",
       "\n",
       "    .dataframe thead th {\n",
       "        text-align: right;\n",
       "    }\n",
       "</style>\n",
       "<table border=\"1\" class=\"dataframe\">\n",
       "  <thead>\n",
       "    <tr style=\"text-align: right;\">\n",
       "      <th></th>\n",
       "      <th>date</th>\n",
       "      <th>group</th>\n",
       "      <th>orders</th>\n",
       "      <th>buyers</th>\n",
       "      <th>revenue</th>\n",
       "      <th>visitors</th>\n",
       "    </tr>\n",
       "  </thead>\n",
       "  <tbody>\n",
       "    <tr>\n",
       "      <th>0</th>\n",
       "      <td>2019-08-01</td>\n",
       "      <td>A</td>\n",
       "      <td>24</td>\n",
       "      <td>20</td>\n",
       "      <td>148579</td>\n",
       "      <td>719</td>\n",
       "    </tr>\n",
       "    <tr>\n",
       "      <th>1</th>\n",
       "      <td>2019-08-01</td>\n",
       "      <td>B</td>\n",
       "      <td>21</td>\n",
       "      <td>20</td>\n",
       "      <td>101217</td>\n",
       "      <td>713</td>\n",
       "    </tr>\n",
       "    <tr>\n",
       "      <th>2</th>\n",
       "      <td>2019-08-02</td>\n",
       "      <td>A</td>\n",
       "      <td>44</td>\n",
       "      <td>38</td>\n",
       "      <td>242401</td>\n",
       "      <td>1338</td>\n",
       "    </tr>\n",
       "    <tr>\n",
       "      <th>3</th>\n",
       "      <td>2019-08-02</td>\n",
       "      <td>B</td>\n",
       "      <td>45</td>\n",
       "      <td>43</td>\n",
       "      <td>266748</td>\n",
       "      <td>1294</td>\n",
       "    </tr>\n",
       "    <tr>\n",
       "      <th>4</th>\n",
       "      <td>2019-08-03</td>\n",
       "      <td>A</td>\n",
       "      <td>68</td>\n",
       "      <td>62</td>\n",
       "      <td>354874</td>\n",
       "      <td>1845</td>\n",
       "    </tr>\n",
       "  </tbody>\n",
       "</table>\n",
       "</div>"
      ],
      "text/plain": [
       "        date group  orders  buyers  revenue  visitors\n",
       "0 2019-08-01     A      24      20   148579       719\n",
       "1 2019-08-01     B      21      20   101217       713\n",
       "2 2019-08-02     A      44      38   242401      1338\n",
       "3 2019-08-02     B      45      43   266748      1294\n",
       "4 2019-08-03     A      68      62   354874      1845"
      ]
     },
     "execution_count": 25,
     "metadata": {},
     "output_type": "execute_result"
    }
   ],
   "source": [
    "# объединяем таблицы по дате и группе\n",
    "cumulativeData = ordersAggregated.merge(visitorsAggregated, \n",
    "                                        left_on=['date', 'group'], \n",
    "                                        right_on=['date', 'group'])\n",
    "cumulativeData.columns = ['date', 'group', 'orders', 'buyers', 'revenue', 'visitors']\n",
    "cumulativeData.head()"
   ]
  },
  {
   "cell_type": "markdown",
   "metadata": {},
   "source": [
    "Таблица готова. Теперь можно разбить её по группам и построим график кумулятивной выручки по дням."
   ]
  },
  {
   "cell_type": "code",
   "execution_count": 26,
   "metadata": {},
   "outputs": [],
   "source": [
    "# создаем отдельные таблицы для А и В\n",
    "cumulativeRevenueA = cumulativeData.query('group == \\\"A\\\"')[['date','revenue', 'orders']]\n",
    "cumulativeRevenueB = cumulativeData.query('group == \\\"B\\\"')[['date','revenue', 'orders']]"
   ]
  },
  {
   "cell_type": "code",
   "execution_count": 27,
   "metadata": {},
   "outputs": [
    {
     "data": {
      "image/png": "[encoded data removed]",
      "text/plain": [
       "<Figure size 1224x576 with 1 Axes>"
      ]
     },
     "metadata": {
      "needs_background": "light"
     },
     "output_type": "display_data"
    }
   ],
   "source": [
    "plt.figure(figsize=(17, 8))\n",
    "plt.plot(cumulativeRevenueA['date'], cumulativeRevenueA['revenue'], label='A')\n",
    "plt.plot(cumulativeRevenueB['date'], cumulativeRevenueB['revenue'], label='B')\n",
    "plt.title('Кумулятивная выручка')\n",
    "plt.xlabel('Дата')\n",
    "plt.ylabel('Выручка, млн')\n",
    "plt.grid()\n",
    "plt.legend()\n",
    "plt.show()"
   ]
  },
  {
   "cell_type": "markdown",
   "metadata": {},
   "source": [
    "**Вывод:** \n",
    "\n",
    "Из графика видно, что первые пять дней выручка была приблизительно одинаковая, но после сегмент В стал приносить немного больше выручки. Примерно в середине проведения исследования виден сильный скачок прибыли в сегменте В, вероятнее всего это аномальные заказы, считем что именно они повлияли на такой результат."
   ]
  },
  {
   "cell_type": "markdown",
   "metadata": {},
   "source": [
    "#### Построим график кумулятивного среднего чека по группам. "
   ]
  },
  {
   "cell_type": "code",
   "execution_count": 28,
   "metadata": {},
   "outputs": [
    {
     "data": {
      "image/png": "[encoded data removed]",
      "text/plain": [
       "<Figure size 1224x576 with 1 Axes>"
      ]
     },
     "metadata": {
      "needs_background": "light"
     },
     "output_type": "display_data"
    }
   ],
   "source": [
    "plt.figure(figsize=(17, 8))\n",
    "plt.plot(cumulativeRevenueA['date'],\n",
    "         cumulativeRevenueA['revenue']/cumulativeRevenueA['orders'],\n",
    "         label='A')\n",
    "plt.plot(cumulativeRevenueB['date'],\n",
    "         cumulativeRevenueB['revenue']/cumulativeRevenueB['orders'], \n",
    "         label='B')\n",
    "plt.title('Кумулятивный средний чек')\n",
    "plt.xlabel('Дата')\n",
    "plt.ylabel('Средний чек')\n",
    "plt.grid()\n",
    "plt.legend()\n",
    "plt.show()"
   ]
  },
  {
   "cell_type": "markdown",
   "metadata": {},
   "source": [
    "Кумулятивный средний чек по группам показывает колебания в начале периода, но затем выравнивается. В середине теста произошел скачек, возможно в данных есть аномалии."
   ]
  },
  {
   "cell_type": "markdown",
   "metadata": {},
   "source": [
    "#### Построим график относительного изменения кумулятивного среднего чека группы B к группе A"
   ]
  },
  {
   "cell_type": "code",
   "execution_count": 29,
   "metadata": {},
   "outputs": [],
   "source": [
    "# собираем данные в одной таблице\n",
    "mergedCumulativeRevenue = cumulativeRevenueA.merge(cumulativeRevenueB, \n",
    "                                                   left_on='date', \n",
    "                                                   right_on='date', \n",
    "                                                   how='left', \n",
    "                                                   suffixes=['A', 'B'])"
   ]
  },
  {
   "cell_type": "code",
   "execution_count": 30,
   "metadata": {},
   "outputs": [
    {
     "data": {
      "image/png": "[encoded data removed]",
      "text/plain": [
       "<Figure size 1224x576 with 1 Axes>"
      ]
     },
     "metadata": {
      "needs_background": "light"
     },
     "output_type": "display_data"
    }
   ],
   "source": [
    "# cтроим график отношения средних чеков\n",
    "plt.figure(figsize=(17, 8))\n",
    "plt.plot(mergedCumulativeRevenue['date'],\n",
    "         (mergedCumulativeRevenue['revenueB'] / \n",
    "          mergedCumulativeRevenue['ordersB']) / \n",
    "         (mergedCumulativeRevenue['revenueA'] / \n",
    "          mergedCumulativeRevenue['ordersA']) - 1)\n",
    "plt.axhline(y=0, color='black', linestyle='--')\n",
    "plt.title('Относительное изменение кумулятивного среднего чека группы B к группе A')\n",
    "plt.xlabel('Дата')\n",
    "plt.ylabel('Относительная разница')\n",
    "plt.grid()\n",
    "plt.show()"
   ]
  },
  {
   "cell_type": "markdown",
   "metadata": {},
   "source": [
    "На этом графике хорошо видно резкие изменения, в районе 13 августа. Средний чек В стал резко ниже чека группы А, а потом опять выше. \n",
    "\n",
    "Скорее всего это влияние аномальных заказов. Также не будем забывать, что в обоих группах есть одни и те же пользователи, что может отражаться на результатах."
   ]
  },
  {
   "cell_type": "markdown",
   "metadata": {},
   "source": [
    "#### Построим график кумулятивного среднего количества заказов на посетителя по группам."
   ]
  },
  {
   "cell_type": "code",
   "execution_count": 31,
   "metadata": {},
   "outputs": [
    {
     "data": {
      "image/png": "[encoded data removed]",
      "text/plain": [
       "<Figure size 1224x576 with 1 Axes>"
      ]
     },
     "metadata": {
      "needs_background": "light"
     },
     "output_type": "display_data"
    }
   ],
   "source": [
    "# считаем кумулятивное среднее количество заказов на посетителя\n",
    "cumulativeData['conversion'] = cumulativeData['orders']/cumulativeData['visitors']\n",
    "\n",
    "# отделяем данные по группе A\n",
    "cumulativeDataA = cumulativeData[cumulativeData['group']=='A']\n",
    "# отделяем данные по группе B\n",
    "cumulativeDataB = cumulativeData[cumulativeData['group']=='B']\n",
    "\n",
    "# строим графики\n",
    "plt.figure(figsize=(17, 8))\n",
    "plt.plot(cumulativeDataA['date'], cumulativeDataA['conversion'], label='A')\n",
    "plt.plot(cumulativeDataB['date'], cumulativeDataB['conversion'], label='B')\n",
    "plt.legend()\n",
    "plt.xticks(rotation=45)\n",
    "plt.title(\"График кумулятивного среднего количества заказов на посетителя по группам\")\n",
    "plt.ylabel(\"Среднее количества заказов на посетителя\")\n",
    "plt.xlabel(\"Дата\")\n",
    "plt.grid()\n",
    "plt.show()"
   ]
  },
  {
   "cell_type": "markdown",
   "metadata": {},
   "source": [
    "Кумулятивное среднее количество заказов на посетителя в группе Б превышает значение аналогичного показателя группы А"
   ]
  },
  {
   "cell_type": "markdown",
   "metadata": {},
   "source": [
    "#### Построим график относительного изменения кумулятивного среднего количества заказов на посетителя группы B к группе A. "
   ]
  },
  {
   "cell_type": "code",
   "execution_count": 32,
   "metadata": {},
   "outputs": [],
   "source": [
    "# объединяем данные в одну таблицу\n",
    "mergedCumulativeConversions = (\n",
    "    cumulativeDataA[['date','conversion']].merge(\n",
    "    cumulativeDataB[['date','conversion']], \n",
    "    left_on='date', \n",
    "    right_on='date', \n",
    "    how='left', \n",
    "    suffixes=['A', 'B'])\n",
    ")"
   ]
  },
  {
   "cell_type": "code",
   "execution_count": 33,
   "metadata": {},
   "outputs": [
    {
     "data": {
      "image/png": "[encoded data removed]",
      "text/plain": [
       "<Figure size 1224x576 with 1 Axes>"
      ]
     },
     "metadata": {
      "needs_background": "light"
     },
     "output_type": "display_data"
    }
   ],
   "source": [
    "# строим график\n",
    "plt.figure(figsize=(17, 8))\n",
    "plt.plot(mergedCumulativeConversions['date'], \n",
    "         mergedCumulativeConversions['conversionB'] / mergedCumulativeConversions['conversionA'] - 1)\n",
    "plt.axhline(y=0, color='black', linestyle='--')\n",
    "#Отметим на графике дополнительную горизонтальную прямую на уровне 0.125 - относительный выигрыш группы В начал стабилизироваться.\n",
    "plt.axhline(y=0.125, color='grey', linestyle='--')\n",
    "plt.title('Относительное изменение кумулятивной конверсии группы B к группе A')\n",
    "plt.xlabel('Дата')\n",
    "plt.ylabel('Относительная разница')\n",
    "plt.show()"
   ]
  },
  {
   "cell_type": "markdown",
   "metadata": {},
   "source": [
    "Примерно после 5 дней теста группа В начала уверенно лидировать по конверсии. \n",
    "\n",
    "Она поднималась до прироста почти в 20%, затем немного снизилась и начала колебаться в пределах 10% и 15% прироста относительно группы А."
   ]
  },
  {
   "cell_type": "markdown",
   "metadata": {},
   "source": [
    "#### Построим точечный график количества заказов по пользователям. "
   ]
  },
  {
   "cell_type": "code",
   "execution_count": 34,
   "metadata": {},
   "outputs": [],
   "source": [
    "# считает количество заказов для каждого пользователя\n",
    "ordersByUsers = (\n",
    "    orders.groupby('visitorId', as_index=False)\n",
    "    .agg({'transactionId': 'nunique'})\n",
    ")\n",
    "ordersByUsers.columns = ['userId', 'orders']"
   ]
  },
  {
   "cell_type": "code",
   "execution_count": 35,
   "metadata": {},
   "outputs": [
    {
     "data": {
      "image/png": "[encoded data removed]",
      "text/plain": [
       "<Figure size 1224x576 with 1 Axes>"
      ]
     },
     "metadata": {
      "needs_background": "light"
     },
     "output_type": "display_data"
    }
   ],
   "source": [
    "# строим точечный график\n",
    "x_values = pd.Series(range(0, len(ordersByUsers)))\n",
    "plt.figure(figsize=(17, 8))\n",
    "plt.scatter(x_values, ordersByUsers['orders'])\n",
    "plt.title('Количество заказов по пользователям')\n",
    "plt.xlabel('Порядковый номер пользователя')\n",
    "plt.ylabel('Количество заказов')\n",
    "plt.show()"
   ]
  },
  {
   "cell_type": "markdown",
   "metadata": {},
   "source": [
    "По графику видно, что пользователей, сделавших больше 2 заказов мало. "
   ]
  },
  {
   "cell_type": "markdown",
   "metadata": {},
   "source": [
    "#### Посчитаем 95-й и 99-й перцентили количества заказов на пользователя. Выберим границу для определения аномальных пользователей."
   ]
  },
  {
   "cell_type": "code",
   "execution_count": 36,
   "metadata": {},
   "outputs": [
    {
     "data": {
      "text/plain": [
       "array([2., 4.])"
      ]
     },
     "execution_count": 36,
     "metadata": {},
     "output_type": "execute_result"
    }
   ],
   "source": [
    "np.percentile(ordersByUsers['orders'], [95, 99])"
   ]
  },
  {
   "cell_type": "markdown",
   "metadata": {},
   "source": [
    "Не более 5% пользователей совершали более двух заказов и не более 1% - больше четырёх. Примем количество заказов равное 2 как границу для фильтрации."
   ]
  },
  {
   "cell_type": "code",
   "execution_count": 37,
   "metadata": {},
   "outputs": [],
   "source": [
    "filterOrders = np.percentile(ordersByUsers['orders'], 95)"
   ]
  },
  {
   "cell_type": "markdown",
   "metadata": {},
   "source": [
    "#### Построим точечный график стоимостей заказов."
   ]
  },
  {
   "cell_type": "code",
   "execution_count": 38,
   "metadata": {},
   "outputs": [
    {
     "data": {
      "image/png": "[encoded data removed]",
      "text/plain": [
       "<Figure size 1224x576 with 1 Axes>"
      ]
     },
     "metadata": {
      "needs_background": "light"
     },
     "output_type": "display_data"
    }
   ],
   "source": [
    "x_values = pd.Series(range(0, len(orders['revenue'])))\n",
    "plt.figure(figsize=(17, 8))\n",
    "plt.scatter(x_values, orders['revenue'])\n",
    "plt.title('Стоимость заказов')\n",
    "plt.xlabel('Порядковый номер заказа')\n",
    "plt.ylabel('Стоимость заказов')\n",
    "plt.grid()\n",
    "plt.show()"
   ]
  },
  {
   "cell_type": "markdown",
   "metadata": {},
   "source": [
    "Видим два выброса - заказ стоимостью 1 200 000 рублей и заказ стоимостью больше 200 000 рублей. Остальные заказы не превышают 100 000, видны некоторые выбросы, но установить примерную границу на данном этапе трудно. "
   ]
  },
  {
   "cell_type": "markdown",
   "metadata": {},
   "source": [
    "#### Посчитаем 95-й и 99-й перцентили стоимости заказов. Выберим границу для определения аномальных заказов."
   ]
  },
  {
   "cell_type": "code",
   "execution_count": 39,
   "metadata": {},
   "outputs": [
    {
     "data": {
      "text/plain": [
       "array([28000. , 35485. , 58233.2])"
      ]
     },
     "execution_count": 39,
     "metadata": {},
     "output_type": "execute_result"
    }
   ],
   "source": [
    "np.percentile(orders['revenue'], [95, 97, 99])"
   ]
  },
  {
   "cell_type": "markdown",
   "metadata": {},
   "source": [
    "Не более 5% заказов стоят дороже 28 000 рублей и не более 1% - дороже 58 233 рублей. Возьмем за аномальные значения заказы, которые стоят дороже 28 000 рублей."
   ]
  },
  {
   "cell_type": "code",
   "execution_count": 40,
   "metadata": {},
   "outputs": [],
   "source": [
    "filterRevenue = np.percentile(orders['revenue'], 95)"
   ]
  },
  {
   "cell_type": "markdown",
   "metadata": {},
   "source": [
    "#### Посчитаем статистическую значимость различий в среднем количестве заказов на посетителя между группами по «сырым» данным. "
   ]
  },
  {
   "cell_type": "code",
   "execution_count": 41,
   "metadata": {},
   "outputs": [],
   "source": [
    "# создаем таблицы с количество заказов по пользователям\n",
    "ordersByUsersA = (\n",
    "    orders.query('group == \\'A\\'')\n",
    "    .groupby('visitorId', as_index=False)\n",
    "    .agg({'transactionId': pd.Series.nunique})\n",
    ")\n",
    "ordersByUsersA.columns = ['userId', 'orders']\n",
    "\n",
    "ordersByUsersB = (\n",
    "    orders.query('group == \\'B\\'')\n",
    "    .groupby('visitorId', as_index=False)\n",
    "    .agg({'transactionId': pd.Series.nunique})\n",
    ")\n",
    "ordersByUsersB.columns = ['userId', 'orders']"
   ]
  },
  {
   "cell_type": "code",
   "execution_count": 42,
   "metadata": {},
   "outputs": [
    {
     "name": "stdout",
     "output_type": "stream",
     "text": [
      "        date  ordersPerDateA  revenuePerDateA  ordersPerDateB  \\\n",
      "0 2019-08-01              24           148579              21   \n",
      "1 2019-08-02              20            93822              24   \n",
      "2 2019-08-03              24           112473              16   \n",
      "3 2019-08-04              16            70825              17   \n",
      "4 2019-08-05              25           124218              23   \n",
      "\n",
      "   revenuePerDateB  ordersCummulativeA  revenueCummulativeA  \\\n",
      "0           101217                  24               148579   \n",
      "1           165531                  44               242401   \n",
      "2           114248                  68               354874   \n",
      "3           108571                  84               425699   \n",
      "4            92428                 109               549917   \n",
      "\n",
      "   visitorsCummulativeA  ordersCummulativeB  revenueCummulativeB  \\\n",
      "0                   719                  21               101217   \n",
      "1                  1338                  45               266748   \n",
      "2                  1845                  61               380996   \n",
      "3                  2562                  78               489567   \n",
      "4                  3318                 101               581995   \n",
      "\n",
      "   visitorsCummulativeB  visitorsPerDateA  visitorsPerDateB  \n",
      "0                   713               719               713  \n",
      "1                  1294               619               581  \n",
      "2                  1803               507               509  \n",
      "3                  2573               717               770  \n",
      "4                  3280               756               707  \n"
     ]
    }
   ],
   "source": [
    "# таблицы с количеством ежедневных посещений в группах\n",
    "visitorsADaily = visitors.query('group == \\\"A\\\"')[['date', 'visitors']]\n",
    "visitorsADaily.columns = ['date', 'visitorsPerDateA']\n",
    "\n",
    "visitorsBDaily = visitors.query('group == \\\"B\\\"')[['date', 'visitors']]\n",
    "visitorsBDaily.columns = ['date', 'visitorsPerDateB']\n",
    "\n",
    "# таблицы с ежедневными количествами заказов, их стоимостями и количество посетителей по датам\n",
    "ordersADaily = (\n",
    "    orders.query('group == \\\"A\\\"')[['date', 'transactionId', 'visitorId', 'revenue']]\n",
    "    .groupby('date', as_index=False)\n",
    "    .agg({'transactionId': pd.Series.nunique, 'revenue': 'sum'})\n",
    ")\n",
    "ordersADaily.columns = ['date', 'ordersPerDateA', 'revenuePerDateA']\n",
    "\n",
    "# те же таблицы, но с кумулятивными значениями\n",
    "ordersACummulative = cumulativeData.query('group == \\\"A\\\"')[['date', \n",
    "                                                             'orders', \n",
    "                                                             'revenue', \n",
    "                                                             'visitors']]\n",
    "ordersACummulative.columns = ['date', \n",
    "                              'ordersCummulativeA', \n",
    "                              'revenueCummulativeA', \n",
    "                              'visitorsCummulativeA']\n",
    "\n",
    "ordersBDaily = (\n",
    "    orders.query('group == \\\"B\\\"')[['date', 'transactionId', 'visitorId', 'revenue']]\n",
    "    .groupby('date', as_index=False)\n",
    "    .agg({'transactionId': pd.Series.nunique, 'revenue': 'sum'})\n",
    ")\n",
    "ordersBDaily.columns = ['date', 'ordersPerDateB', 'revenuePerDateB']\n",
    "\n",
    "ordersBCummulative = cumulativeData.query('group == \\\"B\\\"')[['date', \n",
    "                                                             'orders', \n",
    "                                                             'revenue', \n",
    "                                                             'visitors']]\n",
    "ordersBCummulative.columns = ['date', \n",
    "                              'ordersCummulativeB', \n",
    "                              'revenueCummulativeB', \n",
    "                              'visitorsCummulativeB']\n",
    "\n",
    "data = (\n",
    "    ordersADaily.merge(ordersBDaily, left_on='date', right_on='date', how='left')\n",
    "     .merge(ordersACummulative, left_on='date', right_on='date', how='left')\n",
    "     .merge(ordersBCummulative, left_on='date', right_on='date', how='left')\n",
    "     .merge(visitorsADaily, left_on='date', right_on='date', how='left')\n",
    "     .merge(visitorsBDaily, left_on='date', right_on='date', how='left')\n",
    ")\n",
    "\n",
    "print(data.head(5))"
   ]
  },
  {
   "cell_type": "code",
   "execution_count": 43,
   "metadata": {},
   "outputs": [],
   "source": [
    "# количество заказов пользователей, включая пользователй без заказов\n",
    "sampleA = pd.concat(\n",
    "    [ordersByUsersA['orders'],\n",
    "     pd.Series(0, \n",
    "               index=np.arange(data['visitorsPerDateA'].sum() - len(ordersByUsersA['orders'])), \n",
    "               name='orders')],axis=0)\n",
    "\n",
    "sampleB = pd.concat(\n",
    "    [ordersByUsersB['orders'],\n",
    "     pd.Series(0, \n",
    "               index=np.arange(data['visitorsPerDateB'].sum() - len(ordersByUsersB['orders'])), \n",
    "               name='orders')],axis=0)"
   ]
  },
  {
   "cell_type": "markdown",
   "metadata": {},
   "source": [
    "Проверим статистическую значимость различий конверсий пользователей групп А и групп В. Сформулируем гипотезы:\n",
    "\n",
    "* H0: Различий в среднем количестве заказов на посетителя между группами нет.\n",
    "* H1: Различия в среднем количестве заказов на посетителя между группами есть.\n",
    "\n",
    "Для рассчёта статистической значимости будем использовать критерий Манна-Уитни из-за наличия выбросов в данных."
   ]
  },
  {
   "cell_type": "code",
   "execution_count": 44,
   "metadata": {},
   "outputs": [
    {
     "name": "stdout",
     "output_type": "stream",
     "text": [
      "Значение P-value: 0.017\n",
      "Относительная разница между группами:0.138\n"
     ]
    }
   ],
   "source": [
    "# применяем критерий Манна-Уитни\n",
    "print('Значение P-value:', \"{0:.3f}\".format(stats.mannwhitneyu(sampleA, sampleB)[1]))\n",
    "\n",
    "# рассчитываем относительный прирост конверсии группы В относительно А\n",
    "print('Относительная разница между группами:' \"{0:.3f}\".format(sampleB.mean() / sampleA.mean() - 1))"
   ]
  },
  {
   "cell_type": "markdown",
   "metadata": {},
   "source": [
    "P-value меньше 0.05 значит нулевую гепотезу отвергаем.\n",
    "\n",
    "Значение 0.017 как показатель статистически значимого различия между группами А и В. Относительный прирост уровня конверсии относительно группы А - почти 14%."
   ]
  },
  {
   "cell_type": "markdown",
   "metadata": {},
   "source": [
    "#### Посчитаем статистическую значимость различий в среднем чеке заказа между группами по «сырым» данным"
   ]
  },
  {
   "cell_type": "markdown",
   "metadata": {},
   "source": [
    "Проверим статистическую значимость различий среднего чека групп А и групп В. Сформулируем гипотезы:\n",
    "\n",
    "* H0: Различий в среднем чеке между группами нет.\n",
    "* H1: Различия в среднем чеке между группами есть.\n",
    "\n",
    "Для рассчёта статистической значимости будем использовать тот же критерий Манна-Уитни."
   ]
  },
  {
   "cell_type": "code",
   "execution_count": 45,
   "metadata": {},
   "outputs": [
    {
     "name": "stdout",
     "output_type": "stream",
     "text": [
      "Значение P-value: 0.729\n",
      "Относительная разница между группами: 0.259\n"
     ]
    }
   ],
   "source": [
    "# применяем критерий Манна-Уитни\n",
    "print('Значение P-value:', '{0:.3f}'.format(stats.mannwhitneyu(orders.query('group == \\\"A\\\"')['revenue'], \n",
    "                                          orders.query('group == \\\"B\\\"')['revenue'])[1]))\n",
    "\n",
    "# рассчитываем относительные увеличение среднего чека группы В относительно А\n",
    "print('Относительная разница между группами:', '{0:.3f}'.format(orders.query('group == \\\"B\\\"')['revenue'].mean() / \n",
    "                       orders.query('group == \\\"A\\\"')['revenue'].mean() - 1))"
   ]
  },
  {
   "cell_type": "markdown",
   "metadata": {},
   "source": [
    "P-value = 0.729 и значительно больше 0.05. \n",
    "\n",
    "Значит, причин отвергать нулевую гипотезу и считать, что в среднем чеке есть различия, нет. \n",
    "\n",
    "А наблюдаемое различие в 26% группы Б не является стат. значимым."
   ]
  },
  {
   "cell_type": "markdown",
   "metadata": {},
   "source": [
    "#### Посчитаем статистическую значимость различий в среднем количестве заказов на посетителя между группами по «очищенным» данным."
   ]
  },
  {
   "cell_type": "code",
   "execution_count": 46,
   "metadata": {},
   "outputs": [],
   "source": [
    "# определяем аномальных пользователей\n",
    "usersWithManyOrders = pd.concat(\n",
    "    [\n",
    "        ordersByUsersA.query('orders > @filterOrders')['userId'],\n",
    "        ordersByUsersB.query('orders > @filterOrders')['userId']\n",
    "    ],\n",
    "    axis=0,\n",
    ")\n",
    "usersWithExpensiveOrders = orders.query('revenue > @filterRevenue')['visitorId']\n",
    "abnormalUsers = (\n",
    "    pd.concat([usersWithManyOrders, usersWithExpensiveOrders], axis=0)\n",
    "    .drop_duplicates()\n",
    "    .sort_values()\n",
    ")\n"
   ]
  },
  {
   "cell_type": "code",
   "execution_count": 47,
   "metadata": {},
   "outputs": [],
   "source": [
    "# формируем списки таблицы по неаномальным пользователям\n",
    "sampleAFiltered = pd.concat(\n",
    "    [\n",
    "        ordersByUsersA[\n",
    "            np.logical_not(ordersByUsersA['userId'].isin(abnormalUsers))\n",
    "        ]['orders'],\n",
    "        pd.Series(\n",
    "            0,\n",
    "            index=np.arange(\n",
    "                data['visitorsPerDateA'].sum() - len(ordersByUsersA['orders'])\n",
    "            ),\n",
    "            name='orders',\n",
    "        ),\n",
    "    ],\n",
    "    axis=0,\n",
    ")\n",
    "\n",
    "sampleBFiltered = pd.concat(\n",
    "    [\n",
    "        ordersByUsersB[\n",
    "            np.logical_not(ordersByUsersB['userId'].isin(abnormalUsers))\n",
    "        ]['orders'],\n",
    "        pd.Series(\n",
    "            0,\n",
    "            index=np.arange(\n",
    "                data['visitorsPerDateB'].sum() - len(ordersByUsersB['orders'])\n",
    "            ),\n",
    "            name='orders',\n",
    "        ),\n",
    "    ],\n",
    "    axis=0,\n",
    ")"
   ]
  },
  {
   "cell_type": "markdown",
   "metadata": {},
   "source": [
    "Проверим статистическую значимость для отфильтрованных данных. Оставим те же гипотезы:\n",
    "\n",
    "* H0: Различий в конверсии между группами нет.\n",
    "* H1: Различия в конверсии между группами есть.\n",
    "\n",
    "\n",
    "Будем использовать критерий Манна-Уитни."
   ]
  },
  {
   "cell_type": "code",
   "execution_count": 48,
   "metadata": {},
   "outputs": [
    {
     "name": "stdout",
     "output_type": "stream",
     "text": [
      "0.013\n",
      "0.173\n"
     ]
    }
   ],
   "source": [
    "# применяем критерий Манна-Уитни\n",
    "print('{0:.3f}'.format(stats.mannwhitneyu(sampleAFiltered, sampleBFiltered)[1]))\n",
    "\n",
    "# рассчитываем относительный прирост конверсии группы В относительно А\n",
    "print('{0:.3f}'.format(sampleBFiltered.mean() / sampleAFiltered.mean() - 1))"
   ]
  },
  {
   "cell_type": "markdown",
   "metadata": {},
   "source": [
    "P-value = 0.013 что по прежнему меньше 0.05. Значит нулевую гипотезу о том, что статистически значимых различий в среднем числе заказов между группами нет, отвергаем в пользу альтернативной гипотезы.\n",
    "\n",
    "Статистически значимая разница есть, а относительный прирост конверсии стал 17%. Можно сделать вывод, что сегмент В лучше, чем сегмент А."
   ]
  },
  {
   "cell_type": "markdown",
   "metadata": {},
   "source": [
    "#### Посчитаем статистическую значимость различий в среднем чеке заказа между группами по «очищенным» данным."
   ]
  },
  {
   "cell_type": "markdown",
   "metadata": {},
   "source": [
    "Проверим статистическую значимость различия среднего чека для отфильтрованных данных. Оставим те же гипотезы:\n",
    "\n",
    "* H0: Различий в среднем чеке между группами нет.\n",
    "* H1: Различия в среднем чеке между группами есть.\n",
    "\n",
    "Будем использовать критерий Манна-Уитни."
   ]
  },
  {
   "cell_type": "code",
   "execution_count": 49,
   "metadata": {},
   "outputs": [
    {
     "name": "stdout",
     "output_type": "stream",
     "text": [
      "0.738\n",
      "-0.020\n"
     ]
    }
   ],
   "source": [
    "# применяем критерий Манна-Уитни\n",
    "print(\n",
    "    '{0:.3f}'.format(\n",
    "        stats.mannwhitneyu(\n",
    "            orders[\n",
    "                np.logical_and(\n",
    "                    orders['group'] == 'A',\n",
    "                    np.logical_not(orders['visitorId'].isin(abnormalUsers)),\n",
    "                )]['revenue'],\n",
    "            orders[\n",
    "                np.logical_and(\n",
    "                    orders['group'] == 'B',\n",
    "                    np.logical_not(orders['visitorId'].isin(abnormalUsers)),\n",
    "                )]['revenue'])[1]\n",
    "    )\n",
    ")\n",
    "# рассчитываем относительное увеличение среднего чека группы В относительно А\n",
    "print(\n",
    "    \"{0:.3f}\".format(\n",
    "        orders[\n",
    "            np.logical_and(\n",
    "                orders['group'] == 'B',\n",
    "                np.logical_not(orders['visitorId'].isin(abnormalUsers)))]['revenue'].mean()\n",
    "        / orders[\n",
    "            np.logical_and(\n",
    "                orders['group'] == 'A',\n",
    "                np.logical_not(orders['visitorId'].isin(abnormalUsers)))]['revenue'].mean() - 1\n",
    "    )\n",
    ")"
   ]
  },
  {
   "cell_type": "markdown",
   "metadata": {},
   "source": [
    "P-value = 0.738 и значительно больше 0.05. Причин отвергать нулевую гипотезу нет.\n",
    "\n",
    "Как и на сырых данных, тут статистически значимой разницы не обнаружено, но теперь группа В проигрывает относительно среднего чека А на 2%, хотя раньше выигрывала на 25%. Аномальные значения сильно повлияли на результаты анализа средких чеков групп."
   ]
  },
  {
   "cell_type": "markdown",
   "metadata": {},
   "source": [
    "#### Примим решение по результатам теста."
   ]
  },
  {
   "cell_type": "markdown",
   "metadata": {},
   "source": [
    "После анализа проведённого А/В-теста можно сделать выводы:\n",
    "\n",
    "Существует статистически значимая разница между конверсиями групп как при подсчёте по \"сырым\", так и по \"очищенным\" данным.\n",
    "\n",
    "\n",
    "Статистически значимой разницы между средними чеками групп нет. Однако при \"очищенных данных\" средний чек группы В проигрывает группе А относительно на 2%.\n",
    "\n",
    "\n",
    "График относительного изменения кумулятивной конверсии группы B к группе A показывает, что конверсия группы В стабильно лучше группы А. Возможно это значение ещё колеблется вокруг среднего, но уже точно А не будет лучше.\n",
    "\n",
    "\n",
    "По графику относительного изменения среднего чека группы В к группе А нельзя сказать ничего конкретного. График искажён аномальными значениями.\n",
    "\n",
    "\n",
    "Изменения, которые показывались группе В улучшили конверсию пользователей, но на средний чек эти изменения повлияли в меньшей степени (если не брать в счёт аномально дорогие заказы).\n",
    "\n",
    "\n",
    "Думаю, тест можно остановить и признать успешным. Заметно улучшение в конверсии группы В относительно группы А."
   ]
  }
 ],
 "metadata": {
  "ExecuteTimeLog": [
   {
    "duration": 1401,
    "start_time": "2023-09-12T05:54:18.245Z"
   },
   {
    "duration": 61,
    "start_time": "2023-09-12T05:54:59.959Z"
   },
   {
    "duration": 94,
    "start_time": "2023-09-12T05:55:13.306Z"
   },
   {
    "duration": 38,
    "start_time": "2023-09-12T05:55:18.244Z"
   },
   {
    "duration": 109,
    "start_time": "2023-09-12T05:55:47.857Z"
   },
   {
    "duration": 13,
    "start_time": "2023-09-12T05:55:54.847Z"
   },
   {
    "duration": 8,
    "start_time": "2023-09-12T05:58:27.829Z"
   },
   {
    "duration": 7,
    "start_time": "2023-09-12T05:58:37.079Z"
   },
   {
    "duration": 13,
    "start_time": "2023-09-12T06:06:03.574Z"
   },
   {
    "duration": 12,
    "start_time": "2023-09-12T06:06:13.781Z"
   },
   {
    "duration": 15,
    "start_time": "2023-09-12T06:09:47.484Z"
   },
   {
    "duration": 1297,
    "start_time": "2023-09-12T06:18:45.260Z"
   },
   {
    "duration": 37,
    "start_time": "2023-09-12T06:18:46.559Z"
   },
   {
    "duration": 11,
    "start_time": "2023-09-12T06:18:46.597Z"
   },
   {
    "duration": 46,
    "start_time": "2023-09-12T06:18:46.610Z"
   },
   {
    "duration": 15,
    "start_time": "2023-09-12T06:18:46.660Z"
   },
   {
    "duration": 18,
    "start_time": "2023-09-12T06:18:46.677Z"
   },
   {
    "duration": 14,
    "start_time": "2023-09-12T06:18:46.698Z"
   },
   {
    "duration": 150,
    "start_time": "2023-09-12T06:23:29.422Z"
   },
   {
    "duration": 143,
    "start_time": "2023-09-12T06:23:48.021Z"
   },
   {
    "duration": 9,
    "start_time": "2023-09-12T06:23:51.048Z"
   },
   {
    "duration": 12,
    "start_time": "2023-09-12T06:23:55.083Z"
   },
   {
    "duration": 13,
    "start_time": "2023-09-12T06:24:37.460Z"
   },
   {
    "duration": 534,
    "start_time": "2023-09-12T06:24:44.958Z"
   },
   {
    "duration": 1495,
    "start_time": "2023-09-12T06:25:15.316Z"
   },
   {
    "duration": 55,
    "start_time": "2023-09-12T06:25:16.813Z"
   },
   {
    "duration": 24,
    "start_time": "2023-09-12T06:25:16.870Z"
   },
   {
    "duration": 47,
    "start_time": "2023-09-12T06:25:16.896Z"
   },
   {
    "duration": 24,
    "start_time": "2023-09-12T06:25:16.949Z"
   },
   {
    "duration": 26,
    "start_time": "2023-09-12T06:25:16.975Z"
   },
   {
    "duration": 27,
    "start_time": "2023-09-12T06:25:17.003Z"
   },
   {
    "duration": 65,
    "start_time": "2023-09-12T06:25:17.037Z"
   },
   {
    "duration": 12,
    "start_time": "2023-09-12T06:25:17.103Z"
   },
   {
    "duration": 41,
    "start_time": "2023-09-12T06:25:17.117Z"
   },
   {
    "duration": 16,
    "start_time": "2023-09-12T06:26:12.577Z"
   },
   {
    "duration": 6,
    "start_time": "2023-09-12T06:27:23.878Z"
   },
   {
    "duration": 8,
    "start_time": "2023-09-12T06:28:25.809Z"
   },
   {
    "duration": 12,
    "start_time": "2023-09-12T06:33:00.979Z"
   },
   {
    "duration": 18,
    "start_time": "2023-09-12T06:33:16.836Z"
   },
   {
    "duration": 9,
    "start_time": "2023-09-12T06:33:59.186Z"
   },
   {
    "duration": 123,
    "start_time": "2023-09-12T06:34:18.535Z"
   },
   {
    "duration": 8,
    "start_time": "2023-09-12T06:34:33.805Z"
   },
   {
    "duration": 10,
    "start_time": "2023-09-12T06:41:33.094Z"
   },
   {
    "duration": 11,
    "start_time": "2023-09-12T06:42:36.075Z"
   },
   {
    "duration": 1330,
    "start_time": "2023-09-12T06:44:25.652Z"
   },
   {
    "duration": 52,
    "start_time": "2023-09-12T06:44:26.985Z"
   },
   {
    "duration": 15,
    "start_time": "2023-09-12T06:44:27.040Z"
   },
   {
    "duration": 36,
    "start_time": "2023-09-12T06:44:27.057Z"
   },
   {
    "duration": 16,
    "start_time": "2023-09-12T06:44:27.098Z"
   },
   {
    "duration": 28,
    "start_time": "2023-09-12T06:44:27.117Z"
   },
   {
    "duration": 25,
    "start_time": "2023-09-12T06:44:27.147Z"
   },
   {
    "duration": 67,
    "start_time": "2023-09-12T06:44:27.174Z"
   },
   {
    "duration": 12,
    "start_time": "2023-09-12T06:44:27.250Z"
   },
   {
    "duration": 55,
    "start_time": "2023-09-12T06:44:27.264Z"
   },
   {
    "duration": 33,
    "start_time": "2023-09-12T06:44:27.322Z"
   },
   {
    "duration": 11,
    "start_time": "2023-09-12T06:44:27.357Z"
   },
   {
    "duration": 18,
    "start_time": "2023-09-12T06:44:27.370Z"
   },
   {
    "duration": 11,
    "start_time": "2023-09-12T06:44:27.391Z"
   },
   {
    "duration": 31,
    "start_time": "2023-09-12T06:44:27.404Z"
   },
   {
    "duration": 18,
    "start_time": "2023-09-12T06:44:27.437Z"
   },
   {
    "duration": 71,
    "start_time": "2023-09-12T06:46:11.846Z"
   },
   {
    "duration": 15,
    "start_time": "2023-09-12T06:46:24.960Z"
   },
   {
    "duration": 10,
    "start_time": "2023-09-12T06:47:17.833Z"
   },
   {
    "duration": 12,
    "start_time": "2023-09-12T06:47:22.677Z"
   },
   {
    "duration": 7,
    "start_time": "2023-09-12T06:49:12.972Z"
   },
   {
    "duration": 6,
    "start_time": "2023-09-12T06:49:49.062Z"
   },
   {
    "duration": 9,
    "start_time": "2023-09-12T06:50:00.142Z"
   },
   {
    "duration": 8,
    "start_time": "2023-09-12T06:58:27.842Z"
   },
   {
    "duration": 278,
    "start_time": "2023-09-12T06:58:45.629Z"
   },
   {
    "duration": 163,
    "start_time": "2023-09-12T06:58:46.795Z"
   },
   {
    "duration": 23,
    "start_time": "2023-09-12T06:58:55.925Z"
   },
   {
    "duration": 10,
    "start_time": "2023-09-12T06:59:50.713Z"
   },
   {
    "duration": 412,
    "start_time": "2023-09-12T06:59:59.356Z"
   },
   {
    "duration": 298,
    "start_time": "2023-09-12T07:00:10.594Z"
   },
   {
    "duration": 306,
    "start_time": "2023-09-12T07:00:52.756Z"
   },
   {
    "duration": 339,
    "start_time": "2023-09-12T07:01:24.965Z"
   },
   {
    "duration": 335,
    "start_time": "2023-09-12T07:01:33.254Z"
   },
   {
    "duration": 302,
    "start_time": "2023-09-12T07:01:38.377Z"
   },
   {
    "duration": 8,
    "start_time": "2023-09-12T07:05:29.148Z"
   },
   {
    "duration": 381,
    "start_time": "2023-09-12T07:05:51.854Z"
   },
   {
    "duration": 422,
    "start_time": "2023-09-12T07:06:01.223Z"
   },
   {
    "duration": 8,
    "start_time": "2023-09-12T07:23:01.417Z"
   },
   {
    "duration": 398,
    "start_time": "2023-09-12T07:23:12.978Z"
   },
   {
    "duration": 325,
    "start_time": "2023-09-12T07:23:29.643Z"
   },
   {
    "duration": 400,
    "start_time": "2023-09-12T07:24:16.214Z"
   },
   {
    "duration": 255,
    "start_time": "2023-09-12T07:34:17.102Z"
   },
   {
    "duration": 302,
    "start_time": "2023-09-12T07:34:46.599Z"
   },
   {
    "duration": 296,
    "start_time": "2023-09-12T07:35:04.282Z"
   },
   {
    "duration": 422,
    "start_time": "2023-09-12T07:35:52.222Z"
   },
   {
    "duration": 9,
    "start_time": "2023-09-12T07:38:36.596Z"
   },
   {
    "duration": 386,
    "start_time": "2023-09-12T07:39:39.554Z"
   },
   {
    "duration": 415,
    "start_time": "2023-09-12T07:41:47.458Z"
   },
   {
    "duration": 386,
    "start_time": "2023-09-12T07:42:57.967Z"
   },
   {
    "duration": 16,
    "start_time": "2023-09-12T07:44:33.940Z"
   },
   {
    "duration": 188,
    "start_time": "2023-09-12T07:44:40.528Z"
   },
   {
    "duration": 274,
    "start_time": "2023-09-12T07:44:46.991Z"
   },
   {
    "duration": 7,
    "start_time": "2023-09-12T07:50:20.973Z"
   },
   {
    "duration": 3,
    "start_time": "2023-09-12T07:51:47.112Z"
   },
   {
    "duration": 5,
    "start_time": "2023-09-12T07:52:49.661Z"
   },
   {
    "duration": 208,
    "start_time": "2023-09-12T07:53:26.282Z"
   },
   {
    "duration": 228,
    "start_time": "2023-09-12T07:58:34.052Z"
   },
   {
    "duration": 259,
    "start_time": "2023-09-12T07:58:40.346Z"
   },
   {
    "duration": 7,
    "start_time": "2023-09-12T07:59:48.364Z"
   },
   {
    "duration": 17,
    "start_time": "2023-09-12T08:00:03.419Z"
   },
   {
    "duration": 6,
    "start_time": "2023-09-12T08:01:33.065Z"
   },
   {
    "duration": 8,
    "start_time": "2023-09-12T08:01:45.628Z"
   },
   {
    "duration": 1438,
    "start_time": "2023-09-12T08:01:55.516Z"
   },
   {
    "duration": 41,
    "start_time": "2023-09-12T08:01:56.959Z"
   },
   {
    "duration": 83,
    "start_time": "2023-09-12T08:01:57.002Z"
   },
   {
    "duration": 80,
    "start_time": "2023-09-12T08:01:57.087Z"
   },
   {
    "duration": 43,
    "start_time": "2023-09-12T08:01:57.169Z"
   },
   {
    "duration": 45,
    "start_time": "2023-09-12T08:01:57.214Z"
   },
   {
    "duration": 40,
    "start_time": "2023-09-12T08:01:57.261Z"
   },
   {
    "duration": 78,
    "start_time": "2023-09-12T08:01:57.304Z"
   },
   {
    "duration": 15,
    "start_time": "2023-09-12T08:01:57.384Z"
   },
   {
    "duration": 44,
    "start_time": "2023-09-12T08:01:57.401Z"
   },
   {
    "duration": 22,
    "start_time": "2023-09-12T08:01:57.456Z"
   },
   {
    "duration": 11,
    "start_time": "2023-09-12T08:01:57.480Z"
   },
   {
    "duration": 26,
    "start_time": "2023-09-12T08:01:57.494Z"
   },
   {
    "duration": 34,
    "start_time": "2023-09-12T08:01:57.523Z"
   },
   {
    "duration": 18,
    "start_time": "2023-09-12T08:01:57.558Z"
   },
   {
    "duration": 13,
    "start_time": "2023-09-12T08:01:57.578Z"
   },
   {
    "duration": 69,
    "start_time": "2023-09-12T08:01:57.592Z"
   },
   {
    "duration": 12,
    "start_time": "2023-09-12T08:01:57.663Z"
   },
   {
    "duration": 12,
    "start_time": "2023-09-12T08:01:57.677Z"
   },
   {
    "duration": 28,
    "start_time": "2023-09-12T08:01:57.691Z"
   },
   {
    "duration": 19,
    "start_time": "2023-09-12T08:01:57.721Z"
   },
   {
    "duration": 14,
    "start_time": "2023-09-12T08:01:57.742Z"
   },
   {
    "duration": 227,
    "start_time": "2023-09-12T08:01:57.759Z"
   },
   {
    "duration": 168,
    "start_time": "2023-09-12T08:01:57.988Z"
   },
   {
    "duration": 15,
    "start_time": "2023-09-12T08:01:58.162Z"
   },
   {
    "duration": 20,
    "start_time": "2023-09-12T08:01:58.178Z"
   },
   {
    "duration": 471,
    "start_time": "2023-09-12T08:01:58.201Z"
   },
   {
    "duration": 338,
    "start_time": "2023-09-12T08:01:58.675Z"
   },
   {
    "duration": 23,
    "start_time": "2023-09-12T08:01:59.015Z"
   },
   {
    "duration": 546,
    "start_time": "2023-09-12T08:01:59.041Z"
   },
   {
    "duration": 391,
    "start_time": "2023-09-12T08:01:59.589Z"
   },
   {
    "duration": 14,
    "start_time": "2023-09-12T08:01:59.982Z"
   },
   {
    "duration": 417,
    "start_time": "2023-09-12T08:01:59.998Z"
   },
   {
    "duration": 13,
    "start_time": "2023-09-12T08:02:00.429Z"
   },
   {
    "duration": 658,
    "start_time": "2023-09-12T08:02:00.458Z"
   },
   {
    "duration": 349,
    "start_time": "2023-09-12T08:02:01.119Z"
   },
   {
    "duration": 95,
    "start_time": "2023-09-12T08:02:01.470Z"
   },
   {
    "duration": 295,
    "start_time": "2023-09-12T08:02:01.568Z"
   },
   {
    "duration": 8,
    "start_time": "2023-09-12T08:02:01.872Z"
   },
   {
    "duration": 84,
    "start_time": "2023-09-12T08:02:01.882Z"
   },
   {
    "duration": 224,
    "start_time": "2023-09-12T08:04:13.980Z"
   },
   {
    "duration": 94,
    "start_time": "2023-09-12T08:04:30.393Z"
   },
   {
    "duration": 19,
    "start_time": "2023-09-12T08:04:43.051Z"
   },
   {
    "duration": 6,
    "start_time": "2023-09-12T08:04:45.585Z"
   },
   {
    "duration": 186,
    "start_time": "2023-09-12T08:05:36.358Z"
   },
   {
    "duration": 1493,
    "start_time": "2023-09-12T08:06:12.395Z"
   },
   {
    "duration": 119,
    "start_time": "2023-09-12T08:06:13.892Z"
   },
   {
    "duration": 51,
    "start_time": "2023-09-12T08:06:14.013Z"
   },
   {
    "duration": 13,
    "start_time": "2023-09-12T08:06:14.067Z"
   },
   {
    "duration": 10,
    "start_time": "2023-09-12T08:06:14.084Z"
   },
   {
    "duration": 16,
    "start_time": "2023-09-12T08:06:14.096Z"
   },
   {
    "duration": 51,
    "start_time": "2023-09-12T08:06:14.113Z"
   },
   {
    "duration": 68,
    "start_time": "2023-09-12T08:06:14.172Z"
   },
   {
    "duration": 31,
    "start_time": "2023-09-12T08:06:14.243Z"
   },
   {
    "duration": 24,
    "start_time": "2023-09-12T08:06:14.279Z"
   },
   {
    "duration": 13,
    "start_time": "2023-09-12T08:06:14.305Z"
   },
   {
    "duration": 14,
    "start_time": "2023-09-12T08:06:14.321Z"
   },
   {
    "duration": 33,
    "start_time": "2023-09-12T08:06:14.339Z"
   },
   {
    "duration": 13,
    "start_time": "2023-09-12T08:06:14.379Z"
   },
   {
    "duration": 16,
    "start_time": "2023-09-12T08:06:14.394Z"
   },
   {
    "duration": 8,
    "start_time": "2023-09-12T08:06:14.412Z"
   },
   {
    "duration": 65,
    "start_time": "2023-09-12T08:06:14.422Z"
   },
   {
    "duration": 15,
    "start_time": "2023-09-12T08:06:14.489Z"
   },
   {
    "duration": 6,
    "start_time": "2023-09-12T08:06:14.506Z"
   },
   {
    "duration": 30,
    "start_time": "2023-09-12T08:06:14.514Z"
   },
   {
    "duration": 29,
    "start_time": "2023-09-12T08:06:14.546Z"
   },
   {
    "duration": 6,
    "start_time": "2023-09-12T08:06:14.581Z"
   },
   {
    "duration": 275,
    "start_time": "2023-09-12T08:06:14.589Z"
   },
   {
    "duration": 179,
    "start_time": "2023-09-12T08:06:14.872Z"
   },
   {
    "duration": 32,
    "start_time": "2023-09-12T08:06:15.062Z"
   },
   {
    "duration": 67,
    "start_time": "2023-09-12T08:06:15.096Z"
   },
   {
    "duration": 495,
    "start_time": "2023-09-12T08:06:15.165Z"
   },
   {
    "duration": 402,
    "start_time": "2023-09-12T08:06:15.672Z"
   },
   {
    "duration": 9,
    "start_time": "2023-09-12T08:06:16.077Z"
   },
   {
    "duration": 425,
    "start_time": "2023-09-12T08:06:16.088Z"
   },
   {
    "duration": 570,
    "start_time": "2023-09-12T08:06:16.516Z"
   },
   {
    "duration": 10,
    "start_time": "2023-09-12T08:06:17.088Z"
   },
   {
    "duration": 461,
    "start_time": "2023-09-12T08:06:17.099Z"
   },
   {
    "duration": 17,
    "start_time": "2023-09-12T08:06:17.562Z"
   },
   {
    "duration": 300,
    "start_time": "2023-09-12T08:06:17.582Z"
   },
   {
    "duration": 7,
    "start_time": "2023-09-12T08:06:17.885Z"
   },
   {
    "duration": 92,
    "start_time": "2023-09-12T08:06:17.894Z"
   },
   {
    "duration": 299,
    "start_time": "2023-09-12T08:06:17.988Z"
   },
   {
    "duration": 5,
    "start_time": "2023-09-12T08:06:18.290Z"
   },
   {
    "duration": 36,
    "start_time": "2023-09-12T08:06:18.297Z"
   },
   {
    "duration": 211,
    "start_time": "2023-09-12T08:06:18.342Z"
   },
   {
    "duration": 88,
    "start_time": "2023-09-12T08:06:18.556Z"
   },
   {
    "duration": 14,
    "start_time": "2023-09-12T08:06:18.646Z"
   },
   {
    "duration": 50,
    "start_time": "2023-09-12T08:06:18.663Z"
   },
   {
    "duration": 3,
    "start_time": "2023-09-12T08:11:02.713Z"
   },
   {
    "duration": 16,
    "start_time": "2023-09-12T08:12:07.001Z"
   },
   {
    "duration": 4280,
    "start_time": "2023-09-12T08:18:44.600Z"
   },
   {
    "duration": 1390,
    "start_time": "2023-09-12T08:19:14.778Z"
   },
   {
    "duration": 124,
    "start_time": "2023-09-12T08:19:16.171Z"
   },
   {
    "duration": 11,
    "start_time": "2023-09-12T08:19:16.297Z"
   },
   {
    "duration": 42,
    "start_time": "2023-09-12T08:19:16.309Z"
   },
   {
    "duration": 14,
    "start_time": "2023-09-12T08:19:16.365Z"
   },
   {
    "duration": 24,
    "start_time": "2023-09-12T08:19:16.381Z"
   },
   {
    "duration": 13,
    "start_time": "2023-09-12T08:19:16.406Z"
   },
   {
    "duration": 85,
    "start_time": "2023-09-12T08:19:16.420Z"
   },
   {
    "duration": 11,
    "start_time": "2023-09-12T08:19:16.507Z"
   },
   {
    "duration": 195,
    "start_time": "2023-09-12T08:19:16.520Z"
   },
   {
    "duration": 112,
    "start_time": "2023-09-12T08:19:16.718Z"
   },
   {
    "duration": 110,
    "start_time": "2023-09-12T08:19:16.832Z"
   },
   {
    "duration": 136,
    "start_time": "2023-09-12T08:19:16.944Z"
   },
   {
    "duration": 13,
    "start_time": "2023-09-12T08:19:17.087Z"
   },
   {
    "duration": 10,
    "start_time": "2023-09-12T08:19:17.102Z"
   },
   {
    "duration": 15,
    "start_time": "2023-09-12T08:19:17.114Z"
   },
   {
    "duration": 66,
    "start_time": "2023-09-12T08:19:17.131Z"
   },
   {
    "duration": 15,
    "start_time": "2023-09-12T08:19:17.198Z"
   },
   {
    "duration": 61,
    "start_time": "2023-09-12T08:19:17.215Z"
   },
   {
    "duration": 27,
    "start_time": "2023-09-12T08:19:17.283Z"
   },
   {
    "duration": 56,
    "start_time": "2023-09-12T08:19:17.312Z"
   },
   {
    "duration": 53,
    "start_time": "2023-09-12T08:19:17.371Z"
   },
   {
    "duration": 321,
    "start_time": "2023-09-12T08:19:17.426Z"
   },
   {
    "duration": 158,
    "start_time": "2023-09-12T08:19:17.750Z"
   },
   {
    "duration": 31,
    "start_time": "2023-09-12T08:19:17.910Z"
   },
   {
    "duration": 165,
    "start_time": "2023-09-12T08:19:17.943Z"
   },
   {
    "duration": 508,
    "start_time": "2023-09-12T08:19:18.110Z"
   },
   {
    "duration": 382,
    "start_time": "2023-09-12T08:19:18.620Z"
   },
   {
    "duration": 8,
    "start_time": "2023-09-12T08:19:19.004Z"
   },
   {
    "duration": 480,
    "start_time": "2023-09-12T08:19:19.014Z"
   },
   {
    "duration": 489,
    "start_time": "2023-09-12T08:19:19.500Z"
   },
   {
    "duration": 10,
    "start_time": "2023-09-12T08:19:19.997Z"
   },
   {
    "duration": 588,
    "start_time": "2023-09-12T08:19:20.009Z"
   },
   {
    "duration": 8,
    "start_time": "2023-09-12T08:19:20.599Z"
   },
   {
    "duration": 303,
    "start_time": "2023-09-12T08:19:20.609Z"
   },
   {
    "duration": 6,
    "start_time": "2023-09-12T08:19:20.914Z"
   },
   {
    "duration": 58,
    "start_time": "2023-09-12T08:19:20.922Z"
   },
   {
    "duration": 261,
    "start_time": "2023-09-12T08:19:20.984Z"
   },
   {
    "duration": 8,
    "start_time": "2023-09-12T08:19:21.250Z"
   },
   {
    "duration": 91,
    "start_time": "2023-09-12T08:19:21.260Z"
   },
   {
    "duration": 349,
    "start_time": "2023-09-12T08:19:21.355Z"
   },
   {
    "duration": 216,
    "start_time": "2023-09-12T08:19:21.705Z"
   },
   {
    "duration": 91,
    "start_time": "2023-09-12T08:19:21.923Z"
   },
   {
    "duration": 385,
    "start_time": "2023-09-12T08:19:22.016Z"
   },
   {
    "duration": 250,
    "start_time": "2023-09-12T08:19:22.403Z"
   },
   {
    "duration": 3490,
    "start_time": "2023-09-12T08:19:22.660Z"
   },
   {
    "duration": 3315,
    "start_time": "2023-09-12T08:21:28.475Z"
   },
   {
    "duration": 1386,
    "start_time": "2023-09-12T08:22:16.784Z"
   },
   {
    "duration": 117,
    "start_time": "2023-09-12T08:22:18.176Z"
   },
   {
    "duration": 14,
    "start_time": "2023-09-12T08:22:18.295Z"
   },
   {
    "duration": 40,
    "start_time": "2023-09-12T08:22:18.311Z"
   },
   {
    "duration": 25,
    "start_time": "2023-09-12T08:22:18.356Z"
   },
   {
    "duration": 14,
    "start_time": "2023-09-12T08:22:18.384Z"
   },
   {
    "duration": 20,
    "start_time": "2023-09-12T08:22:18.399Z"
   },
   {
    "duration": 77,
    "start_time": "2023-09-12T08:22:18.421Z"
   },
   {
    "duration": 11,
    "start_time": "2023-09-12T08:22:18.499Z"
   },
   {
    "duration": 45,
    "start_time": "2023-09-12T08:22:18.511Z"
   },
   {
    "duration": 8,
    "start_time": "2023-09-12T08:22:18.566Z"
   },
   {
    "duration": 42,
    "start_time": "2023-09-12T08:22:18.576Z"
   },
   {
    "duration": 29,
    "start_time": "2023-09-12T08:22:18.619Z"
   },
   {
    "duration": 13,
    "start_time": "2023-09-12T08:22:18.662Z"
   },
   {
    "duration": 22,
    "start_time": "2023-09-12T08:22:18.677Z"
   },
   {
    "duration": 47,
    "start_time": "2023-09-12T08:22:18.701Z"
   },
   {
    "duration": 47,
    "start_time": "2023-09-12T08:22:18.750Z"
   },
   {
    "duration": 13,
    "start_time": "2023-09-12T08:22:18.799Z"
   },
   {
    "duration": 40,
    "start_time": "2023-09-12T08:22:18.814Z"
   },
   {
    "duration": 46,
    "start_time": "2023-09-12T08:22:18.856Z"
   },
   {
    "duration": 56,
    "start_time": "2023-09-12T08:22:18.904Z"
   },
   {
    "duration": 14,
    "start_time": "2023-09-12T08:22:18.963Z"
   },
   {
    "duration": 261,
    "start_time": "2023-09-12T08:22:18.979Z"
   },
   {
    "duration": 161,
    "start_time": "2023-09-12T08:22:19.245Z"
   },
   {
    "duration": 33,
    "start_time": "2023-09-12T08:22:19.407Z"
   },
   {
    "duration": 20,
    "start_time": "2023-09-12T08:22:19.454Z"
   },
   {
    "duration": 472,
    "start_time": "2023-09-12T08:22:19.476Z"
   },
   {
    "duration": 315,
    "start_time": "2023-09-12T08:22:19.951Z"
   },
   {
    "duration": 18,
    "start_time": "2023-09-12T08:22:20.269Z"
   },
   {
    "duration": 461,
    "start_time": "2023-09-12T08:22:20.289Z"
   },
   {
    "duration": 430,
    "start_time": "2023-09-12T08:22:20.756Z"
   },
   {
    "duration": 8,
    "start_time": "2023-09-12T08:22:21.188Z"
   },
   {
    "duration": 468,
    "start_time": "2023-09-12T08:22:21.198Z"
   },
   {
    "duration": 11,
    "start_time": "2023-09-12T08:22:21.668Z"
   },
   {
    "duration": 301,
    "start_time": "2023-09-12T08:22:21.681Z"
   },
   {
    "duration": 5,
    "start_time": "2023-09-12T08:22:21.984Z"
   },
   {
    "duration": 12,
    "start_time": "2023-09-12T08:22:21.990Z"
   },
   {
    "duration": 372,
    "start_time": "2023-09-12T08:22:22.004Z"
   },
   {
    "duration": 8,
    "start_time": "2023-09-12T08:22:22.379Z"
   },
   {
    "duration": 24,
    "start_time": "2023-09-12T08:22:22.389Z"
   },
   {
    "duration": 220,
    "start_time": "2023-09-12T08:22:22.417Z"
   },
   {
    "duration": 66,
    "start_time": "2023-09-12T08:22:22.649Z"
   },
   {
    "duration": 7,
    "start_time": "2023-09-12T08:22:22.716Z"
   },
   {
    "duration": 58,
    "start_time": "2023-09-12T08:22:22.729Z"
   },
   {
    "duration": 24,
    "start_time": "2023-09-12T08:22:22.789Z"
   },
   {
    "duration": 3759,
    "start_time": "2023-09-12T08:22:22.815Z"
   },
   {
    "duration": 10,
    "start_time": "2023-09-12T08:23:45.880Z"
   },
   {
    "duration": 16,
    "start_time": "2023-09-12T08:24:59.246Z"
   },
   {
    "duration": 3298,
    "start_time": "2023-09-12T08:25:13.316Z"
   },
   {
    "duration": 9,
    "start_time": "2023-09-12T08:27:20.482Z"
   },
   {
    "duration": 40,
    "start_time": "2023-09-12T08:27:52.428Z"
   },
   {
    "duration": 17,
    "start_time": "2023-09-12T08:30:15.991Z"
   },
   {
    "duration": 1444,
    "start_time": "2023-09-12T08:35:42.507Z"
   },
   {
    "duration": 128,
    "start_time": "2023-09-12T08:35:43.963Z"
   },
   {
    "duration": 14,
    "start_time": "2023-09-12T08:35:44.093Z"
   },
   {
    "duration": 26,
    "start_time": "2023-09-12T08:35:44.110Z"
   },
   {
    "duration": 44,
    "start_time": "2023-09-12T08:35:44.140Z"
   },
   {
    "duration": 25,
    "start_time": "2023-09-12T08:35:44.186Z"
   },
   {
    "duration": 48,
    "start_time": "2023-09-12T08:35:44.214Z"
   },
   {
    "duration": 53,
    "start_time": "2023-09-12T08:35:44.265Z"
   },
   {
    "duration": 25,
    "start_time": "2023-09-12T08:35:44.319Z"
   },
   {
    "duration": 42,
    "start_time": "2023-09-12T08:35:44.348Z"
   },
   {
    "duration": 11,
    "start_time": "2023-09-12T08:35:44.392Z"
   },
   {
    "duration": 9,
    "start_time": "2023-09-12T08:35:44.406Z"
   },
   {
    "duration": 15,
    "start_time": "2023-09-12T08:35:44.417Z"
   },
   {
    "duration": 31,
    "start_time": "2023-09-12T08:35:44.434Z"
   },
   {
    "duration": 15,
    "start_time": "2023-09-12T08:35:44.469Z"
   },
   {
    "duration": 10,
    "start_time": "2023-09-12T08:35:44.488Z"
   },
   {
    "duration": 62,
    "start_time": "2023-09-12T08:35:44.499Z"
   },
   {
    "duration": 18,
    "start_time": "2023-09-12T08:35:44.570Z"
   },
   {
    "duration": 23,
    "start_time": "2023-09-12T08:35:44.590Z"
   },
   {
    "duration": 24,
    "start_time": "2023-09-12T08:35:44.615Z"
   },
   {
    "duration": 10,
    "start_time": "2023-09-12T08:35:44.641Z"
   },
   {
    "duration": 21,
    "start_time": "2023-09-12T08:35:44.653Z"
   },
   {
    "duration": 246,
    "start_time": "2023-09-12T08:35:44.680Z"
   },
   {
    "duration": 171,
    "start_time": "2023-09-12T08:35:44.928Z"
   },
   {
    "duration": 17,
    "start_time": "2023-09-12T08:35:45.101Z"
   },
   {
    "duration": 28,
    "start_time": "2023-09-12T08:35:45.128Z"
   },
   {
    "duration": 469,
    "start_time": "2023-09-12T08:35:45.158Z"
   },
   {
    "duration": 376,
    "start_time": "2023-09-12T08:35:45.640Z"
   },
   {
    "duration": 34,
    "start_time": "2023-09-12T08:35:46.018Z"
   },
   {
    "duration": 448,
    "start_time": "2023-09-12T08:35:46.071Z"
   },
   {
    "duration": 472,
    "start_time": "2023-09-12T08:35:46.522Z"
   },
   {
    "duration": 10,
    "start_time": "2023-09-12T08:35:47.000Z"
   },
   {
    "duration": 469,
    "start_time": "2023-09-12T08:35:47.012Z"
   },
   {
    "duration": 7,
    "start_time": "2023-09-12T08:35:47.483Z"
   },
   {
    "duration": 261,
    "start_time": "2023-09-12T08:35:47.491Z"
   },
   {
    "duration": 12,
    "start_time": "2023-09-12T08:35:47.754Z"
   },
   {
    "duration": 26,
    "start_time": "2023-09-12T08:35:47.769Z"
   },
   {
    "duration": 289,
    "start_time": "2023-09-12T08:35:47.797Z"
   },
   {
    "duration": 5,
    "start_time": "2023-09-12T08:35:48.089Z"
   },
   {
    "duration": 44,
    "start_time": "2023-09-12T08:35:48.096Z"
   },
   {
    "duration": 254,
    "start_time": "2023-09-12T08:35:48.142Z"
   },
   {
    "duration": 107,
    "start_time": "2023-09-12T08:35:48.398Z"
   },
   {
    "duration": 38,
    "start_time": "2023-09-12T08:35:48.507Z"
   },
   {
    "duration": 41,
    "start_time": "2023-09-12T08:35:48.556Z"
   },
   {
    "duration": 64,
    "start_time": "2023-09-12T08:35:48.600Z"
   },
   {
    "duration": 25,
    "start_time": "2023-09-12T08:35:48.667Z"
   },
   {
    "duration": 28,
    "start_time": "2023-09-12T08:35:48.694Z"
   },
   {
    "duration": 98,
    "start_time": "2023-09-12T08:35:48.724Z"
   },
   {
    "duration": 159,
    "start_time": "2023-09-12T08:35:48.833Z"
   },
   {
    "duration": 1377,
    "start_time": "2023-09-12T08:37:10.074Z"
   },
   {
    "duration": 145,
    "start_time": "2023-09-12T08:37:11.465Z"
   },
   {
    "duration": 24,
    "start_time": "2023-09-12T08:37:11.612Z"
   },
   {
    "duration": 131,
    "start_time": "2023-09-12T08:37:11.653Z"
   },
   {
    "duration": 59,
    "start_time": "2023-09-12T08:37:11.786Z"
   },
   {
    "duration": 62,
    "start_time": "2023-09-12T08:37:11.856Z"
   },
   {
    "duration": 54,
    "start_time": "2023-09-12T08:37:11.920Z"
   },
   {
    "duration": 114,
    "start_time": "2023-09-12T08:37:11.978Z"
   },
   {
    "duration": 15,
    "start_time": "2023-09-12T08:37:12.095Z"
   },
   {
    "duration": 22,
    "start_time": "2023-09-12T08:37:12.113Z"
   },
   {
    "duration": 10,
    "start_time": "2023-09-12T08:37:12.140Z"
   },
   {
    "duration": 13,
    "start_time": "2023-09-12T08:37:12.153Z"
   },
   {
    "duration": 26,
    "start_time": "2023-09-12T08:37:12.169Z"
   },
   {
    "duration": 8,
    "start_time": "2023-09-12T08:37:12.198Z"
   },
   {
    "duration": 32,
    "start_time": "2023-09-12T08:37:12.207Z"
   },
   {
    "duration": 41,
    "start_time": "2023-09-12T08:37:12.243Z"
   },
   {
    "duration": 68,
    "start_time": "2023-09-12T08:37:12.297Z"
   },
   {
    "duration": 18,
    "start_time": "2023-09-12T08:37:12.367Z"
   },
   {
    "duration": 10,
    "start_time": "2023-09-12T08:37:12.389Z"
   },
   {
    "duration": 51,
    "start_time": "2023-09-12T08:37:12.401Z"
   },
   {
    "duration": 31,
    "start_time": "2023-09-12T08:37:12.455Z"
   },
   {
    "duration": 24,
    "start_time": "2023-09-12T08:37:12.493Z"
   },
   {
    "duration": 386,
    "start_time": "2023-09-12T08:37:12.519Z"
   },
   {
    "duration": 244,
    "start_time": "2023-09-12T08:37:12.908Z"
   },
   {
    "duration": 25,
    "start_time": "2023-09-12T08:37:13.155Z"
   },
   {
    "duration": 16,
    "start_time": "2023-09-12T08:37:13.188Z"
   },
   {
    "duration": 500,
    "start_time": "2023-09-12T08:37:13.208Z"
   },
   {
    "duration": 334,
    "start_time": "2023-09-12T08:37:13.711Z"
   },
   {
    "duration": 17,
    "start_time": "2023-09-12T08:37:14.047Z"
   },
   {
    "duration": 426,
    "start_time": "2023-09-12T08:37:14.066Z"
   },
   {
    "duration": 386,
    "start_time": "2023-09-12T08:37:14.494Z"
   },
   {
    "duration": 12,
    "start_time": "2023-09-12T08:37:14.887Z"
   },
   {
    "duration": 459,
    "start_time": "2023-09-12T08:37:14.901Z"
   },
   {
    "duration": 14,
    "start_time": "2023-09-12T08:37:15.362Z"
   },
   {
    "duration": 213,
    "start_time": "2023-09-12T08:37:15.385Z"
   },
   {
    "duration": 11,
    "start_time": "2023-09-12T08:37:15.599Z"
   },
   {
    "duration": 41,
    "start_time": "2023-09-12T08:37:15.612Z"
   },
   {
    "duration": 313,
    "start_time": "2023-09-12T08:37:15.660Z"
   },
   {
    "duration": 9,
    "start_time": "2023-09-12T08:37:15.976Z"
   },
   {
    "duration": 82,
    "start_time": "2023-09-12T08:37:15.988Z"
   },
   {
    "duration": 225,
    "start_time": "2023-09-12T08:37:16.082Z"
   },
   {
    "duration": 94,
    "start_time": "2023-09-12T08:37:16.310Z"
   },
   {
    "duration": 8,
    "start_time": "2023-09-12T08:37:16.406Z"
   },
   {
    "duration": 93,
    "start_time": "2023-09-12T08:37:16.417Z"
   },
   {
    "duration": 111,
    "start_time": "2023-09-12T08:37:16.511Z"
   },
   {
    "duration": 70,
    "start_time": "2023-09-12T08:37:16.625Z"
   },
   {
    "duration": 35,
    "start_time": "2023-09-12T08:37:16.697Z"
   },
   {
    "duration": 73,
    "start_time": "2023-09-12T08:37:16.734Z"
   },
   {
    "duration": 189,
    "start_time": "2023-09-12T08:37:16.809Z"
   },
   {
    "duration": 1287,
    "start_time": "2023-09-12T10:20:17.103Z"
   },
   {
    "duration": 94,
    "start_time": "2023-09-12T10:20:18.393Z"
   },
   {
    "duration": 11,
    "start_time": "2023-09-12T10:20:18.489Z"
   },
   {
    "duration": 28,
    "start_time": "2023-09-12T10:20:18.502Z"
   },
   {
    "duration": 40,
    "start_time": "2023-09-12T10:20:18.533Z"
   },
   {
    "duration": 20,
    "start_time": "2023-09-12T10:20:18.576Z"
   },
   {
    "duration": 31,
    "start_time": "2023-09-12T10:20:18.599Z"
   },
   {
    "duration": 92,
    "start_time": "2023-09-12T10:20:18.633Z"
   },
   {
    "duration": 14,
    "start_time": "2023-09-12T10:20:18.727Z"
   },
   {
    "duration": 44,
    "start_time": "2023-09-12T10:20:18.743Z"
   },
   {
    "duration": 46,
    "start_time": "2023-09-12T10:20:18.789Z"
   },
   {
    "duration": 42,
    "start_time": "2023-09-12T10:20:18.837Z"
   },
   {
    "duration": 37,
    "start_time": "2023-09-12T10:20:18.881Z"
   },
   {
    "duration": 26,
    "start_time": "2023-09-12T10:20:18.923Z"
   },
   {
    "duration": 19,
    "start_time": "2023-09-12T10:20:18.951Z"
   },
   {
    "duration": 31,
    "start_time": "2023-09-12T10:20:18.972Z"
   },
   {
    "duration": 38,
    "start_time": "2023-09-12T10:20:19.005Z"
   },
   {
    "duration": 12,
    "start_time": "2023-09-12T10:20:19.046Z"
   },
   {
    "duration": 34,
    "start_time": "2023-09-12T10:20:19.061Z"
   },
   {
    "duration": 30,
    "start_time": "2023-09-12T10:20:19.097Z"
   },
   {
    "duration": 15,
    "start_time": "2023-09-12T10:20:19.129Z"
   },
   {
    "duration": 18,
    "start_time": "2023-09-12T10:20:19.146Z"
   },
   {
    "duration": 196,
    "start_time": "2023-09-12T10:20:19.166Z"
   },
   {
    "duration": 144,
    "start_time": "2023-09-12T10:20:19.364Z"
   },
   {
    "duration": 19,
    "start_time": "2023-09-12T10:20:19.510Z"
   },
   {
    "duration": 14,
    "start_time": "2023-09-12T10:20:19.531Z"
   },
   {
    "duration": 407,
    "start_time": "2023-09-12T10:20:19.547Z"
   },
   {
    "duration": 283,
    "start_time": "2023-09-12T10:20:19.955Z"
   },
   {
    "duration": 6,
    "start_time": "2023-09-12T10:20:20.240Z"
   },
   {
    "duration": 457,
    "start_time": "2023-09-12T10:20:20.248Z"
   },
   {
    "duration": 308,
    "start_time": "2023-09-12T10:20:20.708Z"
   },
   {
    "duration": 10,
    "start_time": "2023-09-12T10:20:21.018Z"
   },
   {
    "duration": 379,
    "start_time": "2023-09-12T10:20:21.030Z"
   },
   {
    "duration": 11,
    "start_time": "2023-09-12T10:20:21.413Z"
   },
   {
    "duration": 231,
    "start_time": "2023-09-12T10:20:21.426Z"
   },
   {
    "duration": 6,
    "start_time": "2023-09-12T10:20:21.659Z"
   },
   {
    "duration": 33,
    "start_time": "2023-09-12T10:20:21.666Z"
   },
   {
    "duration": 263,
    "start_time": "2023-09-12T10:20:21.702Z"
   },
   {
    "duration": 5,
    "start_time": "2023-09-12T10:20:21.967Z"
   },
   {
    "duration": 24,
    "start_time": "2023-09-12T10:20:21.973Z"
   },
   {
    "duration": 163,
    "start_time": "2023-09-12T10:20:22.002Z"
   },
   {
    "duration": 63,
    "start_time": "2023-09-12T10:20:22.167Z"
   },
   {
    "duration": 39,
    "start_time": "2023-09-12T10:20:22.232Z"
   },
   {
    "duration": 51,
    "start_time": "2023-09-12T10:20:22.273Z"
   },
   {
    "duration": 17,
    "start_time": "2023-09-12T10:20:22.326Z"
   },
   {
    "duration": 58,
    "start_time": "2023-09-12T10:20:22.345Z"
   },
   {
    "duration": 33,
    "start_time": "2023-09-12T10:20:22.405Z"
   },
   {
    "duration": 63,
    "start_time": "2023-09-12T10:20:22.440Z"
   },
   {
    "duration": 22,
    "start_time": "2023-09-12T10:20:22.506Z"
   },
   {
    "duration": 248,
    "start_time": "2023-09-12T10:31:39.027Z"
   },
   {
    "duration": 1333,
    "start_time": "2023-09-13T09:27:20.468Z"
   },
   {
    "duration": 133,
    "start_time": "2023-09-13T09:27:21.803Z"
   },
   {
    "duration": 14,
    "start_time": "2023-09-13T09:27:21.938Z"
   },
   {
    "duration": 22,
    "start_time": "2023-09-13T09:27:21.956Z"
   },
   {
    "duration": 36,
    "start_time": "2023-09-13T09:27:21.980Z"
   },
   {
    "duration": 26,
    "start_time": "2023-09-13T09:27:22.018Z"
   },
   {
    "duration": 21,
    "start_time": "2023-09-13T09:27:22.045Z"
   },
   {
    "duration": 122,
    "start_time": "2023-09-13T09:27:22.068Z"
   },
   {
    "duration": 10,
    "start_time": "2023-09-13T09:27:22.191Z"
   },
   {
    "duration": 35,
    "start_time": "2023-09-13T09:27:22.204Z"
   },
   {
    "duration": 17,
    "start_time": "2023-09-13T09:27:22.241Z"
   },
   {
    "duration": 17,
    "start_time": "2023-09-13T09:27:22.261Z"
   },
   {
    "duration": 27,
    "start_time": "2023-09-13T09:27:22.279Z"
   },
   {
    "duration": 16,
    "start_time": "2023-09-13T09:27:22.308Z"
   },
   {
    "duration": 36,
    "start_time": "2023-09-13T09:27:22.326Z"
   },
   {
    "duration": 27,
    "start_time": "2023-09-13T09:27:22.364Z"
   },
   {
    "duration": 85,
    "start_time": "2023-09-13T09:27:22.392Z"
   },
   {
    "duration": 10,
    "start_time": "2023-09-13T09:27:22.479Z"
   },
   {
    "duration": 24,
    "start_time": "2023-09-13T09:27:22.491Z"
   },
   {
    "duration": 27,
    "start_time": "2023-09-13T09:27:22.517Z"
   },
   {
    "duration": 31,
    "start_time": "2023-09-13T09:27:22.546Z"
   },
   {
    "duration": 41,
    "start_time": "2023-09-13T09:27:22.578Z"
   },
   {
    "duration": 233,
    "start_time": "2023-09-13T09:27:22.621Z"
   },
   {
    "duration": 148,
    "start_time": "2023-09-13T09:27:22.856Z"
   },
   {
    "duration": 19,
    "start_time": "2023-09-13T09:27:23.006Z"
   },
   {
    "duration": 65,
    "start_time": "2023-09-13T09:27:23.026Z"
   },
   {
    "duration": 376,
    "start_time": "2023-09-13T09:27:23.092Z"
   },
   {
    "duration": 277,
    "start_time": "2023-09-13T09:27:23.474Z"
   },
   {
    "duration": 11,
    "start_time": "2023-09-13T09:27:23.754Z"
   },
   {
    "duration": 505,
    "start_time": "2023-09-13T09:27:23.767Z"
   },
   {
    "duration": 344,
    "start_time": "2023-09-13T09:27:24.274Z"
   },
   {
    "duration": 9,
    "start_time": "2023-09-13T09:27:24.620Z"
   },
   {
    "duration": 397,
    "start_time": "2023-09-13T09:27:24.631Z"
   },
   {
    "duration": 7,
    "start_time": "2023-09-13T09:27:25.030Z"
   },
   {
    "duration": 197,
    "start_time": "2023-09-13T09:27:25.047Z"
   },
   {
    "duration": 5,
    "start_time": "2023-09-13T09:27:25.247Z"
   },
   {
    "duration": 14,
    "start_time": "2023-09-13T09:27:25.254Z"
   },
   {
    "duration": 268,
    "start_time": "2023-09-13T09:27:25.270Z"
   },
   {
    "duration": 10,
    "start_time": "2023-09-13T09:27:25.540Z"
   },
   {
    "duration": 43,
    "start_time": "2023-09-13T09:27:25.553Z"
   },
   {
    "duration": 365,
    "start_time": "2023-09-13T09:27:25.598Z"
   },
   {
    "duration": 59,
    "start_time": "2023-09-13T09:27:25.965Z"
   },
   {
    "duration": 25,
    "start_time": "2023-09-13T09:27:26.026Z"
   },
   {
    "duration": 64,
    "start_time": "2023-09-13T09:27:26.053Z"
   },
   {
    "duration": 16,
    "start_time": "2023-09-13T09:31:22.406Z"
   },
   {
    "duration": 105,
    "start_time": "2023-09-13T09:40:13.817Z"
   },
   {
    "duration": 1245,
    "start_time": "2023-09-13T09:40:25.810Z"
   },
   {
    "duration": 91,
    "start_time": "2023-09-13T09:40:27.057Z"
   },
   {
    "duration": 11,
    "start_time": "2023-09-13T09:40:27.150Z"
   },
   {
    "duration": 99,
    "start_time": "2023-09-13T09:40:27.163Z"
   },
   {
    "duration": 51,
    "start_time": "2023-09-13T09:40:27.264Z"
   },
   {
    "duration": 32,
    "start_time": "2023-09-13T09:40:27.317Z"
   },
   {
    "duration": 35,
    "start_time": "2023-09-13T09:40:27.351Z"
   },
   {
    "duration": 56,
    "start_time": "2023-09-13T09:40:27.388Z"
   },
   {
    "duration": 11,
    "start_time": "2023-09-13T09:40:27.446Z"
   },
   {
    "duration": 22,
    "start_time": "2023-09-13T09:40:27.460Z"
   },
   {
    "duration": 14,
    "start_time": "2023-09-13T09:40:27.484Z"
   },
   {
    "duration": 20,
    "start_time": "2023-09-13T09:40:27.500Z"
   },
   {
    "duration": 18,
    "start_time": "2023-09-13T09:40:27.522Z"
   },
   {
    "duration": 34,
    "start_time": "2023-09-13T09:40:27.542Z"
   },
   {
    "duration": 26,
    "start_time": "2023-09-13T09:40:27.578Z"
   },
   {
    "duration": 13,
    "start_time": "2023-09-13T09:40:27.606Z"
   },
   {
    "duration": 32,
    "start_time": "2023-09-13T09:40:27.621Z"
   },
   {
    "duration": 10,
    "start_time": "2023-09-13T09:40:27.655Z"
   },
   {
    "duration": 14,
    "start_time": "2023-09-13T09:40:27.666Z"
   },
   {
    "duration": 16,
    "start_time": "2023-09-13T09:40:27.681Z"
   },
   {
    "duration": 10,
    "start_time": "2023-09-13T09:40:27.699Z"
   },
   {
    "duration": 10,
    "start_time": "2023-09-13T09:40:27.711Z"
   },
   {
    "duration": 182,
    "start_time": "2023-09-13T09:40:27.722Z"
   },
   {
    "duration": 141,
    "start_time": "2023-09-13T09:40:27.906Z"
   },
   {
    "duration": 13,
    "start_time": "2023-09-13T09:40:28.048Z"
   },
   {
    "duration": 20,
    "start_time": "2023-09-13T09:40:28.063Z"
   },
   {
    "duration": 352,
    "start_time": "2023-09-13T09:40:28.085Z"
   },
   {
    "duration": 269,
    "start_time": "2023-09-13T09:40:28.441Z"
   },
   {
    "duration": 6,
    "start_time": "2023-09-13T09:40:28.712Z"
   },
   {
    "duration": 395,
    "start_time": "2023-09-13T09:40:28.720Z"
   },
   {
    "duration": 336,
    "start_time": "2023-09-13T09:40:29.117Z"
   },
   {
    "duration": 8,
    "start_time": "2023-09-13T09:40:29.456Z"
   },
   {
    "duration": 347,
    "start_time": "2023-09-13T09:40:29.466Z"
   },
   {
    "duration": 7,
    "start_time": "2023-09-13T09:40:29.814Z"
   },
   {
    "duration": 203,
    "start_time": "2023-09-13T09:40:29.823Z"
   },
   {
    "duration": 5,
    "start_time": "2023-09-13T09:40:30.027Z"
   },
   {
    "duration": 61,
    "start_time": "2023-09-13T09:40:30.034Z"
   },
   {
    "duration": 250,
    "start_time": "2023-09-13T09:40:30.097Z"
   },
   {
    "duration": 6,
    "start_time": "2023-09-13T09:40:30.349Z"
   },
   {
    "duration": 65,
    "start_time": "2023-09-13T09:40:30.357Z"
   },
   {
    "duration": 179,
    "start_time": "2023-09-13T09:40:30.424Z"
   },
   {
    "duration": 59,
    "start_time": "2023-09-13T09:40:30.605Z"
   },
   {
    "duration": 50,
    "start_time": "2023-09-13T09:40:30.666Z"
   },
   {
    "duration": 77,
    "start_time": "2023-09-13T09:40:30.717Z"
   },
   {
    "duration": 33,
    "start_time": "2023-09-13T09:40:30.796Z"
   },
   {
    "duration": 121,
    "start_time": "2023-09-13T09:40:30.831Z"
   },
   {
    "duration": 58,
    "start_time": "2023-09-13T09:40:30.954Z"
   },
   {
    "duration": 119,
    "start_time": "2023-09-13T09:40:31.014Z"
   },
   {
    "duration": 212,
    "start_time": "2023-09-13T09:40:31.135Z"
   },
   {
    "duration": 983,
    "start_time": "2023-09-13T16:49:36.300Z"
   },
   {
    "duration": 124,
    "start_time": "2023-09-13T16:49:37.284Z"
   },
   {
    "duration": 10,
    "start_time": "2023-09-13T16:49:37.410Z"
   },
   {
    "duration": 6,
    "start_time": "2023-09-13T16:49:37.421Z"
   },
   {
    "duration": 13,
    "start_time": "2023-09-13T16:49:37.428Z"
   },
   {
    "duration": 15,
    "start_time": "2023-09-13T16:49:37.442Z"
   },
   {
    "duration": 11,
    "start_time": "2023-09-13T16:49:37.458Z"
   },
   {
    "duration": 93,
    "start_time": "2023-09-13T16:49:37.470Z"
   },
   {
    "duration": 10,
    "start_time": "2023-09-13T16:49:37.564Z"
   },
   {
    "duration": 13,
    "start_time": "2023-09-13T16:49:37.576Z"
   },
   {
    "duration": 7,
    "start_time": "2023-09-13T16:49:37.590Z"
   },
   {
    "duration": 8,
    "start_time": "2023-09-13T16:49:37.598Z"
   },
   {
    "duration": 9,
    "start_time": "2023-09-13T16:49:37.607Z"
   },
   {
    "duration": 5,
    "start_time": "2023-09-13T16:49:37.617Z"
   },
   {
    "duration": 28,
    "start_time": "2023-09-13T16:49:37.624Z"
   },
   {
    "duration": 11,
    "start_time": "2023-09-13T16:49:37.653Z"
   },
   {
    "duration": 112,
    "start_time": "2023-09-13T16:49:37.665Z"
   },
   {
    "duration": 9,
    "start_time": "2023-09-13T16:49:37.778Z"
   },
   {
    "duration": 10,
    "start_time": "2023-09-13T16:49:37.789Z"
   },
   {
    "duration": 11,
    "start_time": "2023-09-13T16:49:37.800Z"
   },
   {
    "duration": 14,
    "start_time": "2023-09-13T16:49:37.812Z"
   },
   {
    "duration": 8,
    "start_time": "2023-09-13T16:49:37.828Z"
   },
   {
    "duration": 161,
    "start_time": "2023-09-13T16:49:37.837Z"
   },
   {
    "duration": 121,
    "start_time": "2023-09-13T16:49:38.000Z"
   },
   {
    "duration": 11,
    "start_time": "2023-09-13T16:49:38.123Z"
   },
   {
    "duration": 8,
    "start_time": "2023-09-13T16:49:38.149Z"
   },
   {
    "duration": 382,
    "start_time": "2023-09-13T16:49:38.158Z"
   },
   {
    "duration": 240,
    "start_time": "2023-09-13T16:49:38.544Z"
   },
   {
    "duration": 5,
    "start_time": "2023-09-13T16:49:38.786Z"
   },
   {
    "duration": 335,
    "start_time": "2023-09-13T16:49:38.793Z"
   },
   {
    "duration": 286,
    "start_time": "2023-09-13T16:49:39.130Z"
   },
   {
    "duration": 8,
    "start_time": "2023-09-13T16:49:39.417Z"
   },
   {
    "duration": 336,
    "start_time": "2023-09-13T16:49:39.426Z"
   },
   {
    "duration": 6,
    "start_time": "2023-09-13T16:49:39.763Z"
   },
   {
    "duration": 156,
    "start_time": "2023-09-13T16:49:39.771Z"
   },
   {
    "duration": 4,
    "start_time": "2023-09-13T16:49:39.928Z"
   },
   {
    "duration": 4,
    "start_time": "2023-09-13T16:49:39.933Z"
   },
   {
    "duration": 179,
    "start_time": "2023-09-13T16:49:39.939Z"
   },
   {
    "duration": 5,
    "start_time": "2023-09-13T16:49:40.119Z"
   },
   {
    "duration": 10,
    "start_time": "2023-09-13T16:49:40.126Z"
   },
   {
    "duration": 144,
    "start_time": "2023-09-13T16:49:40.137Z"
   },
   {
    "duration": 53,
    "start_time": "2023-09-13T16:49:40.283Z"
   },
   {
    "duration": 12,
    "start_time": "2023-09-13T16:49:40.338Z"
   },
   {
    "duration": 30,
    "start_time": "2023-09-13T16:49:40.352Z"
   },
   {
    "duration": 16,
    "start_time": "2023-09-13T16:49:40.383Z"
   },
   {
    "duration": 11,
    "start_time": "2023-09-13T16:49:40.400Z"
   },
   {
    "duration": 12,
    "start_time": "2023-09-13T16:49:40.413Z"
   },
   {
    "duration": 54,
    "start_time": "2023-09-13T16:49:40.426Z"
   },
   {
    "duration": 13,
    "start_time": "2023-09-13T16:49:40.482Z"
   }
  ],
  "kernelspec": {
   "display_name": "Python 3 (ipykernel)",
   "language": "python",
   "name": "python3"
  },
  "language_info": {
   "codemirror_mode": {
    "name": "ipython",
    "version": 3
   },
   "file_extension": ".py",
   "mimetype": "text/x-python",
   "name": "python",
   "nbconvert_exporter": "python",
   "pygments_lexer": "ipython3",
   "version": "3.10.9"
  },
  "toc": {
   "base_numbering": 1,
   "nav_menu": {},
   "number_sections": true,
   "sideBar": true,
   "skip_h1_title": true,
   "title_cell": "Table of Contents",
   "title_sidebar": "Contents",
   "toc_cell": false,
   "toc_position": {},
   "toc_section_display": true,
   "toc_window_display": true
  }
 },
 "nbformat": 4,
 "nbformat_minor": 4
}
