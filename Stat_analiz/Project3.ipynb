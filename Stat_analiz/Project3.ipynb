{
 "cells": [
  {
   "cell_type": "markdown",
   "id": "87dbd1ff",
   "metadata": {},
   "source": [
    "**Анализ сервиса аренды самокатов GoFast**\n",
    "\n",
    "Вы аналитик популярного сервиса аренды самокатов GoFast. Вам передали данные о некоторых пользователях из нескольких городов, а также об их поездках. Проанализируйте данные и проверьте некоторые гипотезы, которые могут помочь бизнесу вырасти.\n",
    "\n",
    "Чтобы совершать поездки по городу, пользователи сервиса GoFast пользуются мобильным приложением. Сервисом можно пользоваться:\n",
    "\n",
    "* без подписки\n",
    "* абонентская плата отсутствует;\n",
    "* стоимость одной минуты поездки — 8 рублей;\n",
    "* стоимость старта (начала поездки) — 50 рублей;\n",
    "* с подпиской Ultra\n",
    "* абонентская плата — 199 рублей в месяц;\n",
    "* стоимость одной минуты поездки — 6 рублей;\n",
    "* стоимость старта — бесплатно.\n",
    "\n",
    "**Описание данных**\n",
    "**Пользователи — users_go.csv**\n",
    "\n",
    "* user_id — уникальный идентификатор пользователя\n",
    "* name — имя пользователя\n",
    "* age — возраст\n",
    "* city — город\n",
    "* subscription_type — тип подписки (free, ultra)\n",
    "\n",
    "**Поeздки — rides_go.csv**\n",
    "\n",
    "* user_id — уникальный идентификатор пользователя\n",
    "* distance — расстояние, которое пользователь проехал в текущей сессии (в метрах)\n",
    "* duration — продолжительность сессии (в минутах) — время с того момента, как пользователь нажал кнопку «Начать поездку» до момента, как он нажал кнопку «Завершить поездку»\n",
    "* date — дата совершения поездки\n",
    "\n",
    "**Подписки — subscriptions_go.csv**\n",
    "\n",
    "* subscription_type — тип подписки\n",
    "* minute_price — стоимость одной минуты поездки по данной подписке\n",
    "* start_ride_price — стоимость начала поездки\n",
    "* subscription_fee — стоимость ежемесячного платежа#### Шаг 1. Загрузка данных"
   ]
  },
  {
   "cell_type": "code",
   "execution_count": 1,
   "id": "d98325d5",
   "metadata": {},
   "outputs": [],
   "source": [
    "import pandas as pd\n",
    "import matplotlib.pyplot as plt\n",
    "import seaborn as sns\n",
    "import numpy as np\n",
    "from scipy import stats as st"
   ]
  },
  {
   "cell_type": "markdown",
   "id": "c42cbe00",
   "metadata": {},
   "source": [
    "## Шаг 1. Загрузка данных"
   ]
  },
  {
   "cell_type": "markdown",
   "id": "879fee33",
   "metadata": {},
   "source": [
    "### Считайте CSV-файлы с данными с помощью библиотеки pandas и сохраните их в датафреймы."
   ]
  },
  {
   "cell_type": "code",
   "execution_count": 2,
   "id": "eff9f206",
   "metadata": {},
   "outputs": [],
   "source": [
    "data_users = pd.read_csv('/datasets/users_go.csv')\n",
    "data_riders = pd.read_csv('/datasets/rides_go.csv')\n",
    "data_sub = pd.read_csv('/datasets/subscriptions_go.csv')"
   ]
  },
  {
   "cell_type": "markdown",
   "id": "089c2313",
   "metadata": {},
   "source": [
    "### Выведите первые строки каждого набора данных. Изучите общую информацию о каждом датафрейме."
   ]
  },
  {
   "cell_type": "code",
   "execution_count": 3,
   "id": "e0395d0e",
   "metadata": {},
   "outputs": [
    {
     "data": {
      "text/html": [
       "<div>\n",
       "<style scoped>\n",
       "    .dataframe tbody tr th:only-of-type {\n",
       "        vertical-align: middle;\n",
       "    }\n",
       "\n",
       "    .dataframe tbody tr th {\n",
       "        vertical-align: top;\n",
       "    }\n",
       "\n",
       "    .dataframe thead th {\n",
       "        text-align: right;\n",
       "    }\n",
       "</style>\n",
       "<table border=\"1\" class=\"dataframe\">\n",
       "  <thead>\n",
       "    <tr style=\"text-align: right;\">\n",
       "      <th></th>\n",
       "      <th>user_id</th>\n",
       "      <th>name</th>\n",
       "      <th>age</th>\n",
       "      <th>city</th>\n",
       "      <th>subscription_type</th>\n",
       "    </tr>\n",
       "  </thead>\n",
       "  <tbody>\n",
       "    <tr>\n",
       "      <th>0</th>\n",
       "      <td>1</td>\n",
       "      <td>Кира</td>\n",
       "      <td>22</td>\n",
       "      <td>Тюмень</td>\n",
       "      <td>ultra</td>\n",
       "    </tr>\n",
       "    <tr>\n",
       "      <th>1</th>\n",
       "      <td>2</td>\n",
       "      <td>Станислав</td>\n",
       "      <td>31</td>\n",
       "      <td>Омск</td>\n",
       "      <td>ultra</td>\n",
       "    </tr>\n",
       "    <tr>\n",
       "      <th>2</th>\n",
       "      <td>3</td>\n",
       "      <td>Алексей</td>\n",
       "      <td>20</td>\n",
       "      <td>Москва</td>\n",
       "      <td>ultra</td>\n",
       "    </tr>\n",
       "    <tr>\n",
       "      <th>3</th>\n",
       "      <td>4</td>\n",
       "      <td>Константин</td>\n",
       "      <td>26</td>\n",
       "      <td>Ростов-на-Дону</td>\n",
       "      <td>ultra</td>\n",
       "    </tr>\n",
       "    <tr>\n",
       "      <th>4</th>\n",
       "      <td>5</td>\n",
       "      <td>Адель</td>\n",
       "      <td>28</td>\n",
       "      <td>Омск</td>\n",
       "      <td>ultra</td>\n",
       "    </tr>\n",
       "    <tr>\n",
       "      <th>5</th>\n",
       "      <td>6</td>\n",
       "      <td>Регина</td>\n",
       "      <td>25</td>\n",
       "      <td>Краснодар</td>\n",
       "      <td>ultra</td>\n",
       "    </tr>\n",
       "    <tr>\n",
       "      <th>6</th>\n",
       "      <td>7</td>\n",
       "      <td>Игорь</td>\n",
       "      <td>23</td>\n",
       "      <td>Омск</td>\n",
       "      <td>ultra</td>\n",
       "    </tr>\n",
       "    <tr>\n",
       "      <th>7</th>\n",
       "      <td>8</td>\n",
       "      <td>Юрий</td>\n",
       "      <td>23</td>\n",
       "      <td>Краснодар</td>\n",
       "      <td>ultra</td>\n",
       "    </tr>\n",
       "    <tr>\n",
       "      <th>8</th>\n",
       "      <td>9</td>\n",
       "      <td>Ян</td>\n",
       "      <td>21</td>\n",
       "      <td>Пятигорск</td>\n",
       "      <td>ultra</td>\n",
       "    </tr>\n",
       "    <tr>\n",
       "      <th>9</th>\n",
       "      <td>10</td>\n",
       "      <td>Валерий</td>\n",
       "      <td>18</td>\n",
       "      <td>Екатеринбург</td>\n",
       "      <td>ultra</td>\n",
       "    </tr>\n",
       "  </tbody>\n",
       "</table>\n",
       "</div>"
      ],
      "text/plain": [
       "   user_id        name  age            city subscription_type\n",
       "0        1        Кира   22          Тюмень             ultra\n",
       "1        2   Станислав   31            Омск             ultra\n",
       "2        3     Алексей   20          Москва             ultra\n",
       "3        4  Константин   26  Ростов-на-Дону             ultra\n",
       "4        5       Адель   28            Омск             ultra\n",
       "5        6      Регина   25       Краснодар             ultra\n",
       "6        7       Игорь   23            Омск             ultra\n",
       "7        8        Юрий   23       Краснодар             ultra\n",
       "8        9          Ян   21       Пятигорск             ultra\n",
       "9       10     Валерий   18    Екатеринбург             ultra"
      ]
     },
     "execution_count": 3,
     "metadata": {},
     "output_type": "execute_result"
    }
   ],
   "source": [
    "data_users.head(10)"
   ]
  },
  {
   "cell_type": "code",
   "execution_count": 4,
   "id": "f7572263",
   "metadata": {},
   "outputs": [
    {
     "name": "stdout",
     "output_type": "stream",
     "text": [
      "<class 'pandas.core.frame.DataFrame'>\n",
      "RangeIndex: 1565 entries, 0 to 1564\n",
      "Data columns (total 5 columns):\n",
      " #   Column             Non-Null Count  Dtype \n",
      "---  ------             --------------  ----- \n",
      " 0   user_id            1565 non-null   int64 \n",
      " 1   name               1565 non-null   object\n",
      " 2   age                1565 non-null   int64 \n",
      " 3   city               1565 non-null   object\n",
      " 4   subscription_type  1565 non-null   object\n",
      "dtypes: int64(2), object(3)\n",
      "memory usage: 61.3+ KB\n"
     ]
    }
   ],
   "source": [
    "data_users.info()"
   ]
  },
  {
   "cell_type": "code",
   "execution_count": 5,
   "id": "b1c7b576",
   "metadata": {},
   "outputs": [
    {
     "data": {
      "text/html": [
       "<div>\n",
       "<style scoped>\n",
       "    .dataframe tbody tr th:only-of-type {\n",
       "        vertical-align: middle;\n",
       "    }\n",
       "\n",
       "    .dataframe tbody tr th {\n",
       "        vertical-align: top;\n",
       "    }\n",
       "\n",
       "    .dataframe thead th {\n",
       "        text-align: right;\n",
       "    }\n",
       "</style>\n",
       "<table border=\"1\" class=\"dataframe\">\n",
       "  <thead>\n",
       "    <tr style=\"text-align: right;\">\n",
       "      <th></th>\n",
       "      <th>user_id</th>\n",
       "      <th>distance</th>\n",
       "      <th>duration</th>\n",
       "      <th>date</th>\n",
       "    </tr>\n",
       "  </thead>\n",
       "  <tbody>\n",
       "    <tr>\n",
       "      <th>0</th>\n",
       "      <td>1</td>\n",
       "      <td>4409.919140</td>\n",
       "      <td>25.599769</td>\n",
       "      <td>2021-01-01</td>\n",
       "    </tr>\n",
       "    <tr>\n",
       "      <th>1</th>\n",
       "      <td>1</td>\n",
       "      <td>2617.592153</td>\n",
       "      <td>15.816871</td>\n",
       "      <td>2021-01-18</td>\n",
       "    </tr>\n",
       "    <tr>\n",
       "      <th>2</th>\n",
       "      <td>1</td>\n",
       "      <td>754.159807</td>\n",
       "      <td>6.232113</td>\n",
       "      <td>2021-04-20</td>\n",
       "    </tr>\n",
       "    <tr>\n",
       "      <th>3</th>\n",
       "      <td>1</td>\n",
       "      <td>2694.783254</td>\n",
       "      <td>18.511000</td>\n",
       "      <td>2021-08-11</td>\n",
       "    </tr>\n",
       "    <tr>\n",
       "      <th>4</th>\n",
       "      <td>1</td>\n",
       "      <td>4028.687306</td>\n",
       "      <td>26.265803</td>\n",
       "      <td>2021-08-28</td>\n",
       "    </tr>\n",
       "    <tr>\n",
       "      <th>5</th>\n",
       "      <td>1</td>\n",
       "      <td>2770.890808</td>\n",
       "      <td>16.650138</td>\n",
       "      <td>2021-10-09</td>\n",
       "    </tr>\n",
       "    <tr>\n",
       "      <th>6</th>\n",
       "      <td>1</td>\n",
       "      <td>3039.020292</td>\n",
       "      <td>14.927879</td>\n",
       "      <td>2021-10-19</td>\n",
       "    </tr>\n",
       "    <tr>\n",
       "      <th>7</th>\n",
       "      <td>1</td>\n",
       "      <td>2842.118050</td>\n",
       "      <td>23.117468</td>\n",
       "      <td>2021-11-06</td>\n",
       "    </tr>\n",
       "    <tr>\n",
       "      <th>8</th>\n",
       "      <td>1</td>\n",
       "      <td>3412.690668</td>\n",
       "      <td>15.238072</td>\n",
       "      <td>2021-11-14</td>\n",
       "    </tr>\n",
       "    <tr>\n",
       "      <th>9</th>\n",
       "      <td>1</td>\n",
       "      <td>748.690645</td>\n",
       "      <td>15.041884</td>\n",
       "      <td>2021-11-22</td>\n",
       "    </tr>\n",
       "  </tbody>\n",
       "</table>\n",
       "</div>"
      ],
      "text/plain": [
       "   user_id     distance   duration        date\n",
       "0        1  4409.919140  25.599769  2021-01-01\n",
       "1        1  2617.592153  15.816871  2021-01-18\n",
       "2        1   754.159807   6.232113  2021-04-20\n",
       "3        1  2694.783254  18.511000  2021-08-11\n",
       "4        1  4028.687306  26.265803  2021-08-28\n",
       "5        1  2770.890808  16.650138  2021-10-09\n",
       "6        1  3039.020292  14.927879  2021-10-19\n",
       "7        1  2842.118050  23.117468  2021-11-06\n",
       "8        1  3412.690668  15.238072  2021-11-14\n",
       "9        1   748.690645  15.041884  2021-11-22"
      ]
     },
     "execution_count": 5,
     "metadata": {},
     "output_type": "execute_result"
    }
   ],
   "source": [
    "data_riders.head(10)"
   ]
  },
  {
   "cell_type": "code",
   "execution_count": 6,
   "id": "28ee2fd5",
   "metadata": {},
   "outputs": [
    {
     "name": "stdout",
     "output_type": "stream",
     "text": [
      "<class 'pandas.core.frame.DataFrame'>\n",
      "RangeIndex: 18068 entries, 0 to 18067\n",
      "Data columns (total 4 columns):\n",
      " #   Column    Non-Null Count  Dtype  \n",
      "---  ------    --------------  -----  \n",
      " 0   user_id   18068 non-null  int64  \n",
      " 1   distance  18068 non-null  float64\n",
      " 2   duration  18068 non-null  float64\n",
      " 3   date      18068 non-null  object \n",
      "dtypes: float64(2), int64(1), object(1)\n",
      "memory usage: 564.8+ KB\n"
     ]
    }
   ],
   "source": [
    "data_riders.info()"
   ]
  },
  {
   "cell_type": "code",
   "execution_count": 7,
   "id": "28c4fd6e",
   "metadata": {},
   "outputs": [
    {
     "data": {
      "text/html": [
       "<div>\n",
       "<style scoped>\n",
       "    .dataframe tbody tr th:only-of-type {\n",
       "        vertical-align: middle;\n",
       "    }\n",
       "\n",
       "    .dataframe tbody tr th {\n",
       "        vertical-align: top;\n",
       "    }\n",
       "\n",
       "    .dataframe thead th {\n",
       "        text-align: right;\n",
       "    }\n",
       "</style>\n",
       "<table border=\"1\" class=\"dataframe\">\n",
       "  <thead>\n",
       "    <tr style=\"text-align: right;\">\n",
       "      <th></th>\n",
       "      <th>subscription_type</th>\n",
       "      <th>minute_price</th>\n",
       "      <th>start_ride_price</th>\n",
       "      <th>subscription_fee</th>\n",
       "    </tr>\n",
       "  </thead>\n",
       "  <tbody>\n",
       "    <tr>\n",
       "      <th>0</th>\n",
       "      <td>free</td>\n",
       "      <td>8</td>\n",
       "      <td>50</td>\n",
       "      <td>0</td>\n",
       "    </tr>\n",
       "    <tr>\n",
       "      <th>1</th>\n",
       "      <td>ultra</td>\n",
       "      <td>6</td>\n",
       "      <td>0</td>\n",
       "      <td>199</td>\n",
       "    </tr>\n",
       "  </tbody>\n",
       "</table>\n",
       "</div>"
      ],
      "text/plain": [
       "  subscription_type  minute_price  start_ride_price  subscription_fee\n",
       "0              free             8                50                 0\n",
       "1             ultra             6                 0               199"
      ]
     },
     "execution_count": 7,
     "metadata": {},
     "output_type": "execute_result"
    }
   ],
   "source": [
    "data_sub.head(10)"
   ]
  },
  {
   "cell_type": "code",
   "execution_count": 8,
   "id": "ac684b6a",
   "metadata": {},
   "outputs": [
    {
     "name": "stdout",
     "output_type": "stream",
     "text": [
      "<class 'pandas.core.frame.DataFrame'>\n",
      "RangeIndex: 2 entries, 0 to 1\n",
      "Data columns (total 4 columns):\n",
      " #   Column             Non-Null Count  Dtype \n",
      "---  ------             --------------  ----- \n",
      " 0   subscription_type  2 non-null      object\n",
      " 1   minute_price       2 non-null      int64 \n",
      " 2   start_ride_price   2 non-null      int64 \n",
      " 3   subscription_fee   2 non-null      int64 \n",
      "dtypes: int64(3), object(1)\n",
      "memory usage: 192.0+ bytes\n"
     ]
    }
   ],
   "source": [
    "data_sub.info()"
   ]
  },
  {
   "cell_type": "markdown",
   "id": "581c5dea",
   "metadata": {},
   "source": [
    "**Вывод**\n",
    "\n",
    "Мы импортировали все нужные нам библиотеки. Открыли 3 датасета. Исходя из увиденного можно предварительно сказать что у нас 1565 пользователей, 18 тысяч поездок и информация по ценам и типам подписок, нет нулевых значений."
   ]
  },
  {
   "cell_type": "markdown",
   "id": "e95ebca7",
   "metadata": {},
   "source": [
    "## Шаг 2. Предобработка данных"
   ]
  },
  {
   "cell_type": "markdown",
   "id": "10ca6326",
   "metadata": {},
   "source": [
    "### Приведите столбец 'date' к типу даты pandas."
   ]
  },
  {
   "cell_type": "code",
   "execution_count": 9,
   "id": "af6d202c",
   "metadata": {},
   "outputs": [],
   "source": [
    "data_riders['date'] = pd.to_datetime(data_riders['date'], format = '%Y-%m-%d')"
   ]
  },
  {
   "cell_type": "markdown",
   "id": "af5bc562",
   "metadata": {},
   "source": [
    "### Создайте новый столбец с номером месяца на основе столбца date."
   ]
  },
  {
   "cell_type": "code",
   "execution_count": 10,
   "id": "f232c9e9",
   "metadata": {},
   "outputs": [
    {
     "data": {
      "text/plain": [
       "array([2021])"
      ]
     },
     "execution_count": 10,
     "metadata": {},
     "output_type": "execute_result"
    }
   ],
   "source": [
    "data_riders['date'].dt.year.unique() #Проверим, за какие года предоставлены данные"
   ]
  },
  {
   "cell_type": "code",
   "execution_count": 11,
   "id": "0204860c",
   "metadata": {},
   "outputs": [],
   "source": [
    "data_riders['month'] = data_riders['date'].dt.month #Так как данные предоставленны только за 1 год, то ошибок не будет"
   ]
  },
  {
   "cell_type": "markdown",
   "id": "4ea723e5",
   "metadata": {},
   "source": [
    "### Проверьте наличие пропущенных значений и дубликатов в датафреймах. Обработайте их, если такие значения присутствуют."
   ]
  },
  {
   "cell_type": "code",
   "execution_count": 12,
   "id": "55b51009",
   "metadata": {},
   "outputs": [
    {
     "data": {
      "text/plain": [
       "user_id              0\n",
       "name                 0\n",
       "age                  0\n",
       "city                 0\n",
       "subscription_type    0\n",
       "dtype: int64"
      ]
     },
     "execution_count": 12,
     "metadata": {},
     "output_type": "execute_result"
    }
   ],
   "source": [
    "data_users.isna().sum()"
   ]
  },
  {
   "cell_type": "code",
   "execution_count": 13,
   "id": "d59a81c4",
   "metadata": {},
   "outputs": [
    {
     "data": {
      "text/plain": [
       "user_id     0\n",
       "distance    0\n",
       "duration    0\n",
       "date        0\n",
       "month       0\n",
       "dtype: int64"
      ]
     },
     "execution_count": 13,
     "metadata": {},
     "output_type": "execute_result"
    }
   ],
   "source": [
    "data_riders.isna().sum()"
   ]
  },
  {
   "cell_type": "code",
   "execution_count": 14,
   "id": "73dca4cf",
   "metadata": {},
   "outputs": [
    {
     "data": {
      "text/plain": [
       "subscription_type    0\n",
       "minute_price         0\n",
       "start_ride_price     0\n",
       "subscription_fee     0\n",
       "dtype: int64"
      ]
     },
     "execution_count": 14,
     "metadata": {},
     "output_type": "execute_result"
    }
   ],
   "source": [
    "data_sub.isna().sum()"
   ]
  },
  {
   "cell_type": "markdown",
   "id": "5a21f433",
   "metadata": {},
   "source": [
    "**Пропусков не обнаружено**"
   ]
  },
  {
   "cell_type": "markdown",
   "id": "12262815",
   "metadata": {},
   "source": [
    "**Поиск и обработка дубликатов**"
   ]
  },
  {
   "cell_type": "code",
   "execution_count": 15,
   "id": "f211efb2",
   "metadata": {},
   "outputs": [
    {
     "data": {
      "text/plain": [
       "31"
      ]
     },
     "execution_count": 15,
     "metadata": {},
     "output_type": "execute_result"
    }
   ],
   "source": [
    "data_users.duplicated().sum()"
   ]
  },
  {
   "cell_type": "code",
   "execution_count": 16,
   "id": "0ed6d4ed",
   "metadata": {},
   "outputs": [
    {
     "data": {
      "text/plain": [
       "1.98"
      ]
     },
     "execution_count": 16,
     "metadata": {},
     "output_type": "execute_result"
    }
   ],
   "source": [
    "round (data_users.duplicated().sum()/len(data_users)*100, 2)"
   ]
  },
  {
   "cell_type": "code",
   "execution_count": 17,
   "id": "6be75bf7",
   "metadata": {},
   "outputs": [
    {
     "data": {
      "text/plain": [
       "0"
      ]
     },
     "execution_count": 17,
     "metadata": {},
     "output_type": "execute_result"
    }
   ],
   "source": [
    "data_riders.duplicated().sum()"
   ]
  },
  {
   "cell_type": "code",
   "execution_count": 18,
   "id": "11606a2e",
   "metadata": {},
   "outputs": [
    {
     "data": {
      "text/plain": [
       "0"
      ]
     },
     "execution_count": 18,
     "metadata": {},
     "output_type": "execute_result"
    }
   ],
   "source": [
    "data_sub.duplicated().sum()"
   ]
  },
  {
   "cell_type": "markdown",
   "id": "9e14c245",
   "metadata": {},
   "source": [
    "*Обнаружены явные дубликаты в файле с пользователями, они составляют почти 2% от общего объема дата фрейма. Так как они явные, предлагаю их просто удалить.*"
   ]
  },
  {
   "cell_type": "code",
   "execution_count": 19,
   "id": "34a061a7",
   "metadata": {},
   "outputs": [],
   "source": [
    "data_users.drop_duplicates(inplace=True)"
   ]
  },
  {
   "cell_type": "markdown",
   "id": "6e471de7",
   "metadata": {},
   "source": [
    "**Вывод**\n",
    "\n",
    "Добавили столбец с месяцем.\n",
    "\n",
    "Пропущенных данных в таблице нет. Имеющися дубликаты удалили, они составили 2% от общего числа датафрейма"
   ]
  },
  {
   "cell_type": "markdown",
   "id": "212593c7",
   "metadata": {},
   "source": [
    "## Шаг 3. Исследовательский анализ данных"
   ]
  },
  {
   "cell_type": "markdown",
   "id": "3b5cc4ff",
   "metadata": {},
   "source": [
    "### Опишите и визуализируйте общую информацию о пользователях и поездках:\n",
    "* 3.1 частота встречаемости городов;"
   ]
  },
  {
   "cell_type": "code",
   "execution_count": 20,
   "id": "e3a4274c",
   "metadata": {},
   "outputs": [],
   "source": [
    "user_id_city = data_users['city'].value_counts()"
   ]
  },
  {
   "cell_type": "code",
   "execution_count": 21,
   "id": "e949d64c",
   "metadata": {},
   "outputs": [
    {
     "data": {
      "text/plain": [
       "Пятигорск         219\n",
       "Екатеринбург      204\n",
       "Ростов-на-Дону    198\n",
       "Краснодар         193\n",
       "Сочи              189\n",
       "Омск              183\n",
       "Тюмень            180\n",
       "Москва            168\n",
       "Name: city, dtype: int64"
      ]
     },
     "execution_count": 21,
     "metadata": {},
     "output_type": "execute_result"
    }
   ],
   "source": [
    "user_id_city"
   ]
  },
  {
   "cell_type": "code",
   "execution_count": 22,
   "id": "e8bc48bd",
   "metadata": {},
   "outputs": [],
   "source": [
    "user_id_city['procent'] = round(data_users['city'].value_counts() / user_id_city.sum()* 100, 2) "
   ]
  },
  {
   "cell_type": "code",
   "execution_count": 23,
   "id": "050e7430",
   "metadata": {},
   "outputs": [
    {
     "data": {
      "text/plain": [
       "Пятигорск         14.28\n",
       "Екатеринбург      13.30\n",
       "Ростов-на-Дону    12.91\n",
       "Краснодар         12.58\n",
       "Сочи              12.32\n",
       "Омск              11.93\n",
       "Тюмень            11.73\n",
       "Москва            10.95\n",
       "Name: city, dtype: float64"
      ]
     },
     "execution_count": 23,
     "metadata": {},
     "output_type": "execute_result"
    }
   ],
   "source": [
    "user_id_city['procent']"
   ]
  },
  {
   "cell_type": "code",
   "execution_count": 24,
   "id": "d2458611",
   "metadata": {},
   "outputs": [
    {
     "data": {
      "image/png": "[encoded data removed]",
      "text/plain": [
       "<Figure size 720x720 with 1 Axes>"
      ]
     },
     "metadata": {},
     "output_type": "display_data"
    }
   ],
   "source": [
    "user_id_city['procent'].value_counts().plot(kind = 'pie', figsize=(10,10), title = 'Процент пользователей по городам');"
   ]
  },
  {
   "cell_type": "code",
   "execution_count": 74,
   "id": "14f70255",
   "metadata": {},
   "outputs": [
    {
     "data": {
      "image/png": "[encoded data removed]",
      "text/plain": [
       "<Figure size 1080x360 with 1 Axes>"
      ]
     },
     "metadata": {
      "needs_background": "light"
     },
     "output_type": "display_data"
    }
   ],
   "source": [
    "data_users['city'].value_counts(ascending= True).plot(\n",
    "    kind= 'barh',\n",
    "    figsize= (15,5),\n",
    "    title= 'График частоты встречаемости городов',\n",
    "\n",
    ")\n",
    "plt.show()"
   ]
  },
  {
   "cell_type": "markdown",
   "id": "3c625f4f",
   "metadata": {},
   "source": [
    "* 3.2 соотношение пользователей с подпиской и без подписки;"
   ]
  },
  {
   "cell_type": "code",
   "execution_count": 25,
   "id": "00eebce1",
   "metadata": {},
   "outputs": [],
   "source": [
    "subs = data_users['subscription_type'].value_counts()"
   ]
  },
  {
   "cell_type": "code",
   "execution_count": 26,
   "id": "4e730c28",
   "metadata": {},
   "outputs": [
    {
     "data": {
      "text/plain": [
       "free     835\n",
       "ultra    699\n",
       "Name: subscription_type, dtype: int64"
      ]
     },
     "execution_count": 26,
     "metadata": {},
     "output_type": "execute_result"
    }
   ],
   "source": [
    "subs"
   ]
  },
  {
   "cell_type": "code",
   "execution_count": 27,
   "id": "7a2be4d3",
   "metadata": {},
   "outputs": [
    {
     "data": {
      "image/png": "[encoded data removed]",
      "text/plain": [
       "<Figure size 720x720 with 1 Axes>"
      ]
     },
     "metadata": {},
     "output_type": "display_data"
    }
   ],
   "source": [
    "data_users['subscription_type'].value_counts().plot(kind = 'pie', autopct = '%1.0f%%', figsize=(10,10), title = 'Cоотношение пользователей с подпиской и без подписки');"
   ]
  },
  {
   "cell_type": "markdown",
   "id": "4865269e",
   "metadata": {},
   "source": [
    "* 3.3 возраст пользователей;"
   ]
  },
  {
   "cell_type": "code",
   "execution_count": 28,
   "id": "3ef76ab0",
   "metadata": {},
   "outputs": [
    {
     "data": {
      "text/plain": [
       "array([12, 13, 14, 15, 16, 17, 18, 19, 20, 21, 22, 23, 24, 25, 26, 27, 28,\n",
       "       29, 30, 31, 32, 33, 34, 35, 36, 37, 38, 39, 43])"
      ]
     },
     "execution_count": 28,
     "metadata": {},
     "output_type": "execute_result"
    }
   ],
   "source": [
    "data_users['age'].sort_values().unique()"
   ]
  },
  {
   "cell_type": "code",
   "execution_count": 29,
   "id": "422cc2d7",
   "metadata": {},
   "outputs": [
    {
     "data": {
      "text/plain": [
       "count    1534.000000\n",
       "mean       24.903520\n",
       "std         4.572367\n",
       "min        12.000000\n",
       "25%        22.000000\n",
       "50%        25.000000\n",
       "75%        28.000000\n",
       "max        43.000000\n",
       "Name: age, dtype: float64"
      ]
     },
     "execution_count": 29,
     "metadata": {},
     "output_type": "execute_result"
    }
   ],
   "source": [
    "data_users['age'].describe()"
   ]
  },
  {
   "cell_type": "code",
   "execution_count": 30,
   "id": "4c422be5",
   "metadata": {},
   "outputs": [
    {
     "data": {
      "image/png": "[encoded data removed]",
      "text/plain": [
       "<Figure size 432x288 with 1 Axes>"
      ]
     },
     "metadata": {
      "needs_background": "light"
     },
     "output_type": "display_data"
    }
   ],
   "source": [
    "plt.hist(data_users['age'], bins = 30)\n",
    "plt.title('Возраст пользователей')\n",
    "plt.xlabel('Возраст')\n",
    "plt.ylabel('Количество')\n",
    "plt.grid()\n",
    "plt.show()"
   ]
  },
  {
   "cell_type": "markdown",
   "id": "1689edff",
   "metadata": {},
   "source": [
    "* 3.4 расстояние, которое пользователь преодолел за одну поездку;"
   ]
  },
  {
   "cell_type": "code",
   "execution_count": 31,
   "id": "bdbc7dc3",
   "metadata": {},
   "outputs": [
    {
     "data": {
      "text/plain": [
       "count    18068.00\n",
       "mean      3070.66\n",
       "std       1116.83\n",
       "min          0.86\n",
       "25%       2543.23\n",
       "50%       3133.61\n",
       "75%       3776.22\n",
       "max       7211.01\n",
       "Name: distance, dtype: float64"
      ]
     },
     "execution_count": 31,
     "metadata": {},
     "output_type": "execute_result"
    }
   ],
   "source": [
    "round (data_riders['distance'].describe(), 2)"
   ]
  },
  {
   "cell_type": "code",
   "execution_count": 32,
   "id": "ad6b963b",
   "metadata": {},
   "outputs": [
    {
     "data": {
      "image/png": "[encoded data removed]",
      "text/plain": [
       "<Figure size 432x288 with 1 Axes>"
      ]
     },
     "metadata": {
      "needs_background": "light"
     },
     "output_type": "display_data"
    }
   ],
   "source": [
    "plt.hist(data_riders['distance'], bins = 30)\n",
    "plt.title('Расстояние, преодоленное за одну поездку')\n",
    "plt.xlabel('Расстояние, м')\n",
    "plt.ylabel('Количество поездок')\n",
    "plt.grid()\n",
    "plt.show() "
   ]
  },
  {
   "cell_type": "code",
   "execution_count": 33,
   "id": "113415ed",
   "metadata": {},
   "outputs": [
    {
     "data": {
      "image/png": "[encoded data removed]",
      "text/plain": [
       "<Figure size 432x288 with 1 Axes>"
      ]
     },
     "metadata": {
      "needs_background": "light"
     },
     "output_type": "display_data"
    }
   ],
   "source": [
    "sns.boxplot(x=data_riders['distance'], color='blue')\n",
    "plt.title('Расстояние, преодоленное за одну поездку')\n",
    "plt.xlabel('Расстояние, м')\n",
    "_ = plt.xlim(0, 7500)"
   ]
  },
  {
   "cell_type": "code",
   "execution_count": 34,
   "id": "df724371",
   "metadata": {},
   "outputs": [
    {
     "data": {
      "image/png": "[encoded data removed]",
      "text/plain": [
       "<Figure size 432x288 with 1 Axes>"
      ]
     },
     "metadata": {
      "needs_background": "light"
     },
     "output_type": "display_data"
    }
   ],
   "source": [
    "plt.hist(data_riders['distance'], bins = 30, range = (1500, 5000))\n",
    "plt.title('Расстояние, преодоленное за одну поездку')\n",
    "plt.xlabel('Расстояние, м')\n",
    "plt.ylabel('Количество поездок')\n",
    "plt.grid()\n",
    "plt.show() "
   ]
  },
  {
   "cell_type": "markdown",
   "id": "5b6ffdb1",
   "metadata": {},
   "source": [
    "* 3.5 продолжительность поездок."
   ]
  },
  {
   "cell_type": "code",
   "execution_count": 35,
   "id": "77ffcdc7",
   "metadata": {},
   "outputs": [
    {
     "data": {
      "text/plain": [
       "count    18068.00\n",
       "mean        17.81\n",
       "std          6.09\n",
       "min          0.50\n",
       "25%         13.60\n",
       "50%         17.68\n",
       "75%         21.72\n",
       "max         40.82\n",
       "Name: duration, dtype: float64"
      ]
     },
     "execution_count": 35,
     "metadata": {},
     "output_type": "execute_result"
    }
   ],
   "source": [
    "round (data_riders['duration'].describe(), 2)"
   ]
  },
  {
   "cell_type": "code",
   "execution_count": 36,
   "id": "12c853ea",
   "metadata": {},
   "outputs": [
    {
     "data": {
      "image/png": "[encoded data removed]",
      "text/plain": [
       "<Figure size 432x288 with 1 Axes>"
      ]
     },
     "metadata": {
      "needs_background": "light"
     },
     "output_type": "display_data"
    }
   ],
   "source": [
    "plt.hist(data_riders['duration'], bins = 30)\n",
    "plt.title('Время, проведенное в поездке')\n",
    "plt.xlabel('Время, мин')\n",
    "plt.grid()\n",
    "plt.show() "
   ]
  },
  {
   "cell_type": "code",
   "execution_count": 37,
   "id": "60b13334",
   "metadata": {},
   "outputs": [
    {
     "data": {
      "image/png": "[encoded data removed]",
      "text/plain": [
       "<Figure size 432x288 with 1 Axes>"
      ]
     },
     "metadata": {
      "needs_background": "light"
     },
     "output_type": "display_data"
    }
   ],
   "source": [
    "plt.hist(data_riders['duration'], bins = 30, range = (5, 30))\n",
    "plt.title('Время, проведенное в поездке')\n",
    "plt.xlabel('Время, мин')\n",
    "plt.grid()\n",
    "plt.show() "
   ]
  },
  {
   "cell_type": "code",
   "execution_count": 38,
   "id": "169ccc6c",
   "metadata": {},
   "outputs": [
    {
     "data": {
      "image/png": "[encoded data removed]",
      "text/plain": [
       "<Figure size 432x288 with 1 Axes>"
      ]
     },
     "metadata": {
      "needs_background": "light"
     },
     "output_type": "display_data"
    }
   ],
   "source": [
    "sns.boxplot(x = data_riders['duration'], color='blue')\n",
    "plt.title('Время, проведенное в поездке')\n",
    "plt.xlabel('Время, минуты')\n",
    "_ = plt.xlim(0, 45)"
   ]
  },
  {
   "cell_type": "markdown",
   "id": "6a30c703",
   "metadata": {},
   "source": [
    "**Вывод**\n",
    "\n",
    "**Частота встречаемости городов**\n",
    "\n",
    "Количество пользователей по городам распределено примерно одинаково, нет аномальных значений. Лидером по количеству пользователей является Пятигорск - 219 пользователей. Меньше всего пользователей в Москве - 168.\n",
    "\n",
    "**Соотношение пользователей с подпиской и без подписки**\n",
    "\n",
    "Пользователей, использующих бесплатную подписку - 835 человек (54% от общего числа пользователей), а у платной подписки 699 пользователей (46% от общего числа пользователей).\n",
    "\n",
    "**Возраст пользователей**\n",
    "\n",
    "Самыми младшими являются пользователи 12 лет.\n",
    "Самыми старшими - 43.\n",
    "Медианный возраст - почти 25 лет, что соответсвует среднему возрасту пользователю.\n",
    "\n",
    "**Расстояние, которое пользователь преодолел за одну поездку**\n",
    "\n",
    "Самая короткая дистанция - 860 метров\n",
    "Самая длинная - 7 211 метров\n",
    "В основном пользователи проезжают от 2 000 метров до 5 000 км.\n",
    "\n",
    "**Продолжительность поездок**\n",
    "\n",
    "Самые короткие поездки - 30 секунд (видимо тест самоката с последующей проблемой в нем).\n",
    "Самая длинная поездка заняла  почти 41 минуту.\n",
    "В основном же длительность поездки состовляет 7 - 27 минут."
   ]
  },
  {
   "cell_type": "markdown",
   "id": "4ef51331",
   "metadata": {},
   "source": [
    "## Шаг 4. Объединение данных"
   ]
  },
  {
   "cell_type": "markdown",
   "id": "580718a0",
   "metadata": {},
   "source": [
    "### Объедините данные о пользователях, поездках и подписках в один датафрейм. Для этого воспользуйтесь методом merge()."
   ]
  },
  {
   "cell_type": "code",
   "execution_count": 39,
   "id": "0b3210c8",
   "metadata": {},
   "outputs": [
    {
     "data": {
      "text/plain": [
       "1534"
      ]
     },
     "execution_count": 39,
     "metadata": {},
     "output_type": "execute_result"
    }
   ],
   "source": [
    "data_users.shape[0]"
   ]
  },
  {
   "cell_type": "code",
   "execution_count": 40,
   "id": "56667444",
   "metadata": {},
   "outputs": [
    {
     "data": {
      "text/plain": [
       "18068"
      ]
     },
     "execution_count": 40,
     "metadata": {},
     "output_type": "execute_result"
    }
   ],
   "source": [
    "data_riders.shape[0]"
   ]
  },
  {
   "cell_type": "code",
   "execution_count": 41,
   "id": "c3081fd4",
   "metadata": {},
   "outputs": [
    {
     "data": {
      "text/plain": [
       "2"
      ]
     },
     "execution_count": 41,
     "metadata": {},
     "output_type": "execute_result"
    }
   ],
   "source": [
    "data_sub.shape[0]"
   ]
  },
  {
   "cell_type": "code",
   "execution_count": 42,
   "id": "6bf288b5",
   "metadata": {},
   "outputs": [],
   "source": [
    "data = data_users.merge(data_riders)"
   ]
  },
  {
   "cell_type": "code",
   "execution_count": 43,
   "id": "b24b5d3e",
   "metadata": {},
   "outputs": [],
   "source": [
    "data = data.merge(data_sub)"
   ]
  },
  {
   "cell_type": "code",
   "execution_count": 44,
   "id": "55754c3d",
   "metadata": {},
   "outputs": [
    {
     "data": {
      "text/plain": [
       "18068"
      ]
     },
     "execution_count": 44,
     "metadata": {},
     "output_type": "execute_result"
    }
   ],
   "source": [
    "data.shape[0]"
   ]
  },
  {
   "cell_type": "code",
   "execution_count": 45,
   "id": "56f80908",
   "metadata": {},
   "outputs": [
    {
     "data": {
      "text/html": [
       "<div>\n",
       "<style scoped>\n",
       "    .dataframe tbody tr th:only-of-type {\n",
       "        vertical-align: middle;\n",
       "    }\n",
       "\n",
       "    .dataframe tbody tr th {\n",
       "        vertical-align: top;\n",
       "    }\n",
       "\n",
       "    .dataframe thead th {\n",
       "        text-align: right;\n",
       "    }\n",
       "</style>\n",
       "<table border=\"1\" class=\"dataframe\">\n",
       "  <thead>\n",
       "    <tr style=\"text-align: right;\">\n",
       "      <th></th>\n",
       "      <th>user_id</th>\n",
       "      <th>name</th>\n",
       "      <th>age</th>\n",
       "      <th>city</th>\n",
       "      <th>subscription_type</th>\n",
       "      <th>distance</th>\n",
       "      <th>duration</th>\n",
       "      <th>date</th>\n",
       "      <th>month</th>\n",
       "      <th>minute_price</th>\n",
       "      <th>start_ride_price</th>\n",
       "      <th>subscription_fee</th>\n",
       "    </tr>\n",
       "  </thead>\n",
       "  <tbody>\n",
       "    <tr>\n",
       "      <th>0</th>\n",
       "      <td>1</td>\n",
       "      <td>Кира</td>\n",
       "      <td>22</td>\n",
       "      <td>Тюмень</td>\n",
       "      <td>ultra</td>\n",
       "      <td>4409.919140</td>\n",
       "      <td>25.599769</td>\n",
       "      <td>2021-01-01</td>\n",
       "      <td>1</td>\n",
       "      <td>6</td>\n",
       "      <td>0</td>\n",
       "      <td>199</td>\n",
       "    </tr>\n",
       "    <tr>\n",
       "      <th>1</th>\n",
       "      <td>1</td>\n",
       "      <td>Кира</td>\n",
       "      <td>22</td>\n",
       "      <td>Тюмень</td>\n",
       "      <td>ultra</td>\n",
       "      <td>2617.592153</td>\n",
       "      <td>15.816871</td>\n",
       "      <td>2021-01-18</td>\n",
       "      <td>1</td>\n",
       "      <td>6</td>\n",
       "      <td>0</td>\n",
       "      <td>199</td>\n",
       "    </tr>\n",
       "    <tr>\n",
       "      <th>2</th>\n",
       "      <td>1</td>\n",
       "      <td>Кира</td>\n",
       "      <td>22</td>\n",
       "      <td>Тюмень</td>\n",
       "      <td>ultra</td>\n",
       "      <td>754.159807</td>\n",
       "      <td>6.232113</td>\n",
       "      <td>2021-04-20</td>\n",
       "      <td>4</td>\n",
       "      <td>6</td>\n",
       "      <td>0</td>\n",
       "      <td>199</td>\n",
       "    </tr>\n",
       "    <tr>\n",
       "      <th>3</th>\n",
       "      <td>1</td>\n",
       "      <td>Кира</td>\n",
       "      <td>22</td>\n",
       "      <td>Тюмень</td>\n",
       "      <td>ultra</td>\n",
       "      <td>2694.783254</td>\n",
       "      <td>18.511000</td>\n",
       "      <td>2021-08-11</td>\n",
       "      <td>8</td>\n",
       "      <td>6</td>\n",
       "      <td>0</td>\n",
       "      <td>199</td>\n",
       "    </tr>\n",
       "    <tr>\n",
       "      <th>4</th>\n",
       "      <td>1</td>\n",
       "      <td>Кира</td>\n",
       "      <td>22</td>\n",
       "      <td>Тюмень</td>\n",
       "      <td>ultra</td>\n",
       "      <td>4028.687306</td>\n",
       "      <td>26.265803</td>\n",
       "      <td>2021-08-28</td>\n",
       "      <td>8</td>\n",
       "      <td>6</td>\n",
       "      <td>0</td>\n",
       "      <td>199</td>\n",
       "    </tr>\n",
       "    <tr>\n",
       "      <th>...</th>\n",
       "      <td>...</td>\n",
       "      <td>...</td>\n",
       "      <td>...</td>\n",
       "      <td>...</td>\n",
       "      <td>...</td>\n",
       "      <td>...</td>\n",
       "      <td>...</td>\n",
       "      <td>...</td>\n",
       "      <td>...</td>\n",
       "      <td>...</td>\n",
       "      <td>...</td>\n",
       "      <td>...</td>\n",
       "    </tr>\n",
       "    <tr>\n",
       "      <th>18063</th>\n",
       "      <td>1534</td>\n",
       "      <td>Альберт</td>\n",
       "      <td>25</td>\n",
       "      <td>Краснодар</td>\n",
       "      <td>free</td>\n",
       "      <td>3781.098080</td>\n",
       "      <td>19.822962</td>\n",
       "      <td>2021-11-04</td>\n",
       "      <td>11</td>\n",
       "      <td>8</td>\n",
       "      <td>50</td>\n",
       "      <td>0</td>\n",
       "    </tr>\n",
       "    <tr>\n",
       "      <th>18064</th>\n",
       "      <td>1534</td>\n",
       "      <td>Альберт</td>\n",
       "      <td>25</td>\n",
       "      <td>Краснодар</td>\n",
       "      <td>free</td>\n",
       "      <td>2840.423057</td>\n",
       "      <td>21.409799</td>\n",
       "      <td>2021-11-16</td>\n",
       "      <td>11</td>\n",
       "      <td>8</td>\n",
       "      <td>50</td>\n",
       "      <td>0</td>\n",
       "    </tr>\n",
       "    <tr>\n",
       "      <th>18065</th>\n",
       "      <td>1534</td>\n",
       "      <td>Альберт</td>\n",
       "      <td>25</td>\n",
       "      <td>Краснодар</td>\n",
       "      <td>free</td>\n",
       "      <td>3826.185507</td>\n",
       "      <td>18.435051</td>\n",
       "      <td>2021-11-18</td>\n",
       "      <td>11</td>\n",
       "      <td>8</td>\n",
       "      <td>50</td>\n",
       "      <td>0</td>\n",
       "    </tr>\n",
       "    <tr>\n",
       "      <th>18066</th>\n",
       "      <td>1534</td>\n",
       "      <td>Альберт</td>\n",
       "      <td>25</td>\n",
       "      <td>Краснодар</td>\n",
       "      <td>free</td>\n",
       "      <td>2902.308661</td>\n",
       "      <td>16.674362</td>\n",
       "      <td>2021-11-27</td>\n",
       "      <td>11</td>\n",
       "      <td>8</td>\n",
       "      <td>50</td>\n",
       "      <td>0</td>\n",
       "    </tr>\n",
       "    <tr>\n",
       "      <th>18067</th>\n",
       "      <td>1534</td>\n",
       "      <td>Альберт</td>\n",
       "      <td>25</td>\n",
       "      <td>Краснодар</td>\n",
       "      <td>free</td>\n",
       "      <td>2371.711192</td>\n",
       "      <td>15.893917</td>\n",
       "      <td>2021-12-29</td>\n",
       "      <td>12</td>\n",
       "      <td>8</td>\n",
       "      <td>50</td>\n",
       "      <td>0</td>\n",
       "    </tr>\n",
       "  </tbody>\n",
       "</table>\n",
       "<p>18068 rows × 12 columns</p>\n",
       "</div>"
      ],
      "text/plain": [
       "       user_id     name  age       city subscription_type     distance  \\\n",
       "0            1     Кира   22     Тюмень             ultra  4409.919140   \n",
       "1            1     Кира   22     Тюмень             ultra  2617.592153   \n",
       "2            1     Кира   22     Тюмень             ultra   754.159807   \n",
       "3            1     Кира   22     Тюмень             ultra  2694.783254   \n",
       "4            1     Кира   22     Тюмень             ultra  4028.687306   \n",
       "...        ...      ...  ...        ...               ...          ...   \n",
       "18063     1534  Альберт   25  Краснодар              free  3781.098080   \n",
       "18064     1534  Альберт   25  Краснодар              free  2840.423057   \n",
       "18065     1534  Альберт   25  Краснодар              free  3826.185507   \n",
       "18066     1534  Альберт   25  Краснодар              free  2902.308661   \n",
       "18067     1534  Альберт   25  Краснодар              free  2371.711192   \n",
       "\n",
       "        duration       date  month  minute_price  start_ride_price  \\\n",
       "0      25.599769 2021-01-01      1             6                 0   \n",
       "1      15.816871 2021-01-18      1             6                 0   \n",
       "2       6.232113 2021-04-20      4             6                 0   \n",
       "3      18.511000 2021-08-11      8             6                 0   \n",
       "4      26.265803 2021-08-28      8             6                 0   \n",
       "...          ...        ...    ...           ...               ...   \n",
       "18063  19.822962 2021-11-04     11             8                50   \n",
       "18064  21.409799 2021-11-16     11             8                50   \n",
       "18065  18.435051 2021-11-18     11             8                50   \n",
       "18066  16.674362 2021-11-27     11             8                50   \n",
       "18067  15.893917 2021-12-29     12             8                50   \n",
       "\n",
       "       subscription_fee  \n",
       "0                   199  \n",
       "1                   199  \n",
       "2                   199  \n",
       "3                   199  \n",
       "4                   199  \n",
       "...                 ...  \n",
       "18063                 0  \n",
       "18064                 0  \n",
       "18065                 0  \n",
       "18066                 0  \n",
       "18067                 0  \n",
       "\n",
       "[18068 rows x 12 columns]"
      ]
     },
     "metadata": {},
     "output_type": "display_data"
    }
   ],
   "source": [
    "display (data)"
   ]
  },
  {
   "cell_type": "markdown",
   "id": "16e2c141",
   "metadata": {},
   "source": [
    "### Создайте ещё два датафрейма из датафрейма, созданного на этапе 4.1:\n",
    "* c данными о пользователях без подписки;\n",
    "* с данными о пользователях с подпиской.\n"
   ]
  },
  {
   "cell_type": "code",
   "execution_count": 46,
   "id": "d69bd961",
   "metadata": {},
   "outputs": [],
   "source": [
    "free = data.query(\"`subscription_type` == 'free'\")"
   ]
  },
  {
   "cell_type": "code",
   "execution_count": 47,
   "id": "2c6f5862",
   "metadata": {},
   "outputs": [
    {
     "data": {
      "text/html": [
       "<div>\n",
       "<style scoped>\n",
       "    .dataframe tbody tr th:only-of-type {\n",
       "        vertical-align: middle;\n",
       "    }\n",
       "\n",
       "    .dataframe tbody tr th {\n",
       "        vertical-align: top;\n",
       "    }\n",
       "\n",
       "    .dataframe thead th {\n",
       "        text-align: right;\n",
       "    }\n",
       "</style>\n",
       "<table border=\"1\" class=\"dataframe\">\n",
       "  <thead>\n",
       "    <tr style=\"text-align: right;\">\n",
       "      <th></th>\n",
       "      <th>user_id</th>\n",
       "      <th>name</th>\n",
       "      <th>age</th>\n",
       "      <th>city</th>\n",
       "      <th>subscription_type</th>\n",
       "      <th>distance</th>\n",
       "      <th>duration</th>\n",
       "      <th>date</th>\n",
       "      <th>month</th>\n",
       "      <th>minute_price</th>\n",
       "      <th>start_ride_price</th>\n",
       "      <th>subscription_fee</th>\n",
       "    </tr>\n",
       "  </thead>\n",
       "  <tbody>\n",
       "    <tr>\n",
       "      <th>6500</th>\n",
       "      <td>700</td>\n",
       "      <td>Айдар</td>\n",
       "      <td>22</td>\n",
       "      <td>Омск</td>\n",
       "      <td>free</td>\n",
       "      <td>2515.690719</td>\n",
       "      <td>14.944286</td>\n",
       "      <td>2021-01-02</td>\n",
       "      <td>1</td>\n",
       "      <td>8</td>\n",
       "      <td>50</td>\n",
       "      <td>0</td>\n",
       "    </tr>\n",
       "    <tr>\n",
       "      <th>6501</th>\n",
       "      <td>700</td>\n",
       "      <td>Айдар</td>\n",
       "      <td>22</td>\n",
       "      <td>Омск</td>\n",
       "      <td>free</td>\n",
       "      <td>846.932642</td>\n",
       "      <td>16.234663</td>\n",
       "      <td>2021-02-01</td>\n",
       "      <td>2</td>\n",
       "      <td>8</td>\n",
       "      <td>50</td>\n",
       "      <td>0</td>\n",
       "    </tr>\n",
       "    <tr>\n",
       "      <th>6502</th>\n",
       "      <td>700</td>\n",
       "      <td>Айдар</td>\n",
       "      <td>22</td>\n",
       "      <td>Омск</td>\n",
       "      <td>free</td>\n",
       "      <td>4004.434142</td>\n",
       "      <td>20.016628</td>\n",
       "      <td>2021-02-04</td>\n",
       "      <td>2</td>\n",
       "      <td>8</td>\n",
       "      <td>50</td>\n",
       "      <td>0</td>\n",
       "    </tr>\n",
       "    <tr>\n",
       "      <th>6503</th>\n",
       "      <td>700</td>\n",
       "      <td>Айдар</td>\n",
       "      <td>22</td>\n",
       "      <td>Омск</td>\n",
       "      <td>free</td>\n",
       "      <td>1205.911290</td>\n",
       "      <td>9.782872</td>\n",
       "      <td>2021-02-10</td>\n",
       "      <td>2</td>\n",
       "      <td>8</td>\n",
       "      <td>50</td>\n",
       "      <td>0</td>\n",
       "    </tr>\n",
       "    <tr>\n",
       "      <th>6504</th>\n",
       "      <td>700</td>\n",
       "      <td>Айдар</td>\n",
       "      <td>22</td>\n",
       "      <td>Омск</td>\n",
       "      <td>free</td>\n",
       "      <td>3047.379435</td>\n",
       "      <td>17.427673</td>\n",
       "      <td>2021-02-14</td>\n",
       "      <td>2</td>\n",
       "      <td>8</td>\n",
       "      <td>50</td>\n",
       "      <td>0</td>\n",
       "    </tr>\n",
       "    <tr>\n",
       "      <th>...</th>\n",
       "      <td>...</td>\n",
       "      <td>...</td>\n",
       "      <td>...</td>\n",
       "      <td>...</td>\n",
       "      <td>...</td>\n",
       "      <td>...</td>\n",
       "      <td>...</td>\n",
       "      <td>...</td>\n",
       "      <td>...</td>\n",
       "      <td>...</td>\n",
       "      <td>...</td>\n",
       "      <td>...</td>\n",
       "    </tr>\n",
       "    <tr>\n",
       "      <th>18063</th>\n",
       "      <td>1534</td>\n",
       "      <td>Альберт</td>\n",
       "      <td>25</td>\n",
       "      <td>Краснодар</td>\n",
       "      <td>free</td>\n",
       "      <td>3781.098080</td>\n",
       "      <td>19.822962</td>\n",
       "      <td>2021-11-04</td>\n",
       "      <td>11</td>\n",
       "      <td>8</td>\n",
       "      <td>50</td>\n",
       "      <td>0</td>\n",
       "    </tr>\n",
       "    <tr>\n",
       "      <th>18064</th>\n",
       "      <td>1534</td>\n",
       "      <td>Альберт</td>\n",
       "      <td>25</td>\n",
       "      <td>Краснодар</td>\n",
       "      <td>free</td>\n",
       "      <td>2840.423057</td>\n",
       "      <td>21.409799</td>\n",
       "      <td>2021-11-16</td>\n",
       "      <td>11</td>\n",
       "      <td>8</td>\n",
       "      <td>50</td>\n",
       "      <td>0</td>\n",
       "    </tr>\n",
       "    <tr>\n",
       "      <th>18065</th>\n",
       "      <td>1534</td>\n",
       "      <td>Альберт</td>\n",
       "      <td>25</td>\n",
       "      <td>Краснодар</td>\n",
       "      <td>free</td>\n",
       "      <td>3826.185507</td>\n",
       "      <td>18.435051</td>\n",
       "      <td>2021-11-18</td>\n",
       "      <td>11</td>\n",
       "      <td>8</td>\n",
       "      <td>50</td>\n",
       "      <td>0</td>\n",
       "    </tr>\n",
       "    <tr>\n",
       "      <th>18066</th>\n",
       "      <td>1534</td>\n",
       "      <td>Альберт</td>\n",
       "      <td>25</td>\n",
       "      <td>Краснодар</td>\n",
       "      <td>free</td>\n",
       "      <td>2902.308661</td>\n",
       "      <td>16.674362</td>\n",
       "      <td>2021-11-27</td>\n",
       "      <td>11</td>\n",
       "      <td>8</td>\n",
       "      <td>50</td>\n",
       "      <td>0</td>\n",
       "    </tr>\n",
       "    <tr>\n",
       "      <th>18067</th>\n",
       "      <td>1534</td>\n",
       "      <td>Альберт</td>\n",
       "      <td>25</td>\n",
       "      <td>Краснодар</td>\n",
       "      <td>free</td>\n",
       "      <td>2371.711192</td>\n",
       "      <td>15.893917</td>\n",
       "      <td>2021-12-29</td>\n",
       "      <td>12</td>\n",
       "      <td>8</td>\n",
       "      <td>50</td>\n",
       "      <td>0</td>\n",
       "    </tr>\n",
       "  </tbody>\n",
       "</table>\n",
       "<p>11568 rows × 12 columns</p>\n",
       "</div>"
      ],
      "text/plain": [
       "       user_id     name  age       city subscription_type     distance  \\\n",
       "6500       700    Айдар   22       Омск              free  2515.690719   \n",
       "6501       700    Айдар   22       Омск              free   846.932642   \n",
       "6502       700    Айдар   22       Омск              free  4004.434142   \n",
       "6503       700    Айдар   22       Омск              free  1205.911290   \n",
       "6504       700    Айдар   22       Омск              free  3047.379435   \n",
       "...        ...      ...  ...        ...               ...          ...   \n",
       "18063     1534  Альберт   25  Краснодар              free  3781.098080   \n",
       "18064     1534  Альберт   25  Краснодар              free  2840.423057   \n",
       "18065     1534  Альберт   25  Краснодар              free  3826.185507   \n",
       "18066     1534  Альберт   25  Краснодар              free  2902.308661   \n",
       "18067     1534  Альберт   25  Краснодар              free  2371.711192   \n",
       "\n",
       "        duration       date  month  minute_price  start_ride_price  \\\n",
       "6500   14.944286 2021-01-02      1             8                50   \n",
       "6501   16.234663 2021-02-01      2             8                50   \n",
       "6502   20.016628 2021-02-04      2             8                50   \n",
       "6503    9.782872 2021-02-10      2             8                50   \n",
       "6504   17.427673 2021-02-14      2             8                50   \n",
       "...          ...        ...    ...           ...               ...   \n",
       "18063  19.822962 2021-11-04     11             8                50   \n",
       "18064  21.409799 2021-11-16     11             8                50   \n",
       "18065  18.435051 2021-11-18     11             8                50   \n",
       "18066  16.674362 2021-11-27     11             8                50   \n",
       "18067  15.893917 2021-12-29     12             8                50   \n",
       "\n",
       "       subscription_fee  \n",
       "6500                  0  \n",
       "6501                  0  \n",
       "6502                  0  \n",
       "6503                  0  \n",
       "6504                  0  \n",
       "...                 ...  \n",
       "18063                 0  \n",
       "18064                 0  \n",
       "18065                 0  \n",
       "18066                 0  \n",
       "18067                 0  \n",
       "\n",
       "[11568 rows x 12 columns]"
      ]
     },
     "metadata": {},
     "output_type": "display_data"
    }
   ],
   "source": [
    "display (free)"
   ]
  },
  {
   "cell_type": "code",
   "execution_count": 48,
   "id": "e12e6234",
   "metadata": {},
   "outputs": [],
   "source": [
    "ultra = data.query(\"`subscription_type` == 'ultra'\")"
   ]
  },
  {
   "cell_type": "code",
   "execution_count": 49,
   "id": "447c6baf",
   "metadata": {
    "scrolled": true
   },
   "outputs": [
    {
     "data": {
      "text/html": [
       "<div>\n",
       "<style scoped>\n",
       "    .dataframe tbody tr th:only-of-type {\n",
       "        vertical-align: middle;\n",
       "    }\n",
       "\n",
       "    .dataframe tbody tr th {\n",
       "        vertical-align: top;\n",
       "    }\n",
       "\n",
       "    .dataframe thead th {\n",
       "        text-align: right;\n",
       "    }\n",
       "</style>\n",
       "<table border=\"1\" class=\"dataframe\">\n",
       "  <thead>\n",
       "    <tr style=\"text-align: right;\">\n",
       "      <th></th>\n",
       "      <th>user_id</th>\n",
       "      <th>name</th>\n",
       "      <th>age</th>\n",
       "      <th>city</th>\n",
       "      <th>subscription_type</th>\n",
       "      <th>distance</th>\n",
       "      <th>duration</th>\n",
       "      <th>date</th>\n",
       "      <th>month</th>\n",
       "      <th>minute_price</th>\n",
       "      <th>start_ride_price</th>\n",
       "      <th>subscription_fee</th>\n",
       "    </tr>\n",
       "  </thead>\n",
       "  <tbody>\n",
       "    <tr>\n",
       "      <th>0</th>\n",
       "      <td>1</td>\n",
       "      <td>Кира</td>\n",
       "      <td>22</td>\n",
       "      <td>Тюмень</td>\n",
       "      <td>ultra</td>\n",
       "      <td>4409.919140</td>\n",
       "      <td>25.599769</td>\n",
       "      <td>2021-01-01</td>\n",
       "      <td>1</td>\n",
       "      <td>6</td>\n",
       "      <td>0</td>\n",
       "      <td>199</td>\n",
       "    </tr>\n",
       "    <tr>\n",
       "      <th>1</th>\n",
       "      <td>1</td>\n",
       "      <td>Кира</td>\n",
       "      <td>22</td>\n",
       "      <td>Тюмень</td>\n",
       "      <td>ultra</td>\n",
       "      <td>2617.592153</td>\n",
       "      <td>15.816871</td>\n",
       "      <td>2021-01-18</td>\n",
       "      <td>1</td>\n",
       "      <td>6</td>\n",
       "      <td>0</td>\n",
       "      <td>199</td>\n",
       "    </tr>\n",
       "    <tr>\n",
       "      <th>2</th>\n",
       "      <td>1</td>\n",
       "      <td>Кира</td>\n",
       "      <td>22</td>\n",
       "      <td>Тюмень</td>\n",
       "      <td>ultra</td>\n",
       "      <td>754.159807</td>\n",
       "      <td>6.232113</td>\n",
       "      <td>2021-04-20</td>\n",
       "      <td>4</td>\n",
       "      <td>6</td>\n",
       "      <td>0</td>\n",
       "      <td>199</td>\n",
       "    </tr>\n",
       "    <tr>\n",
       "      <th>3</th>\n",
       "      <td>1</td>\n",
       "      <td>Кира</td>\n",
       "      <td>22</td>\n",
       "      <td>Тюмень</td>\n",
       "      <td>ultra</td>\n",
       "      <td>2694.783254</td>\n",
       "      <td>18.511000</td>\n",
       "      <td>2021-08-11</td>\n",
       "      <td>8</td>\n",
       "      <td>6</td>\n",
       "      <td>0</td>\n",
       "      <td>199</td>\n",
       "    </tr>\n",
       "    <tr>\n",
       "      <th>4</th>\n",
       "      <td>1</td>\n",
       "      <td>Кира</td>\n",
       "      <td>22</td>\n",
       "      <td>Тюмень</td>\n",
       "      <td>ultra</td>\n",
       "      <td>4028.687306</td>\n",
       "      <td>26.265803</td>\n",
       "      <td>2021-08-28</td>\n",
       "      <td>8</td>\n",
       "      <td>6</td>\n",
       "      <td>0</td>\n",
       "      <td>199</td>\n",
       "    </tr>\n",
       "    <tr>\n",
       "      <th>...</th>\n",
       "      <td>...</td>\n",
       "      <td>...</td>\n",
       "      <td>...</td>\n",
       "      <td>...</td>\n",
       "      <td>...</td>\n",
       "      <td>...</td>\n",
       "      <td>...</td>\n",
       "      <td>...</td>\n",
       "      <td>...</td>\n",
       "      <td>...</td>\n",
       "      <td>...</td>\n",
       "      <td>...</td>\n",
       "    </tr>\n",
       "    <tr>\n",
       "      <th>6495</th>\n",
       "      <td>699</td>\n",
       "      <td>Оксана</td>\n",
       "      <td>22</td>\n",
       "      <td>Москва</td>\n",
       "      <td>ultra</td>\n",
       "      <td>3973.046497</td>\n",
       "      <td>24.671163</td>\n",
       "      <td>2021-08-29</td>\n",
       "      <td>8</td>\n",
       "      <td>6</td>\n",
       "      <td>0</td>\n",
       "      <td>199</td>\n",
       "    </tr>\n",
       "    <tr>\n",
       "      <th>6496</th>\n",
       "      <td>699</td>\n",
       "      <td>Оксана</td>\n",
       "      <td>22</td>\n",
       "      <td>Москва</td>\n",
       "      <td>ultra</td>\n",
       "      <td>3288.702563</td>\n",
       "      <td>15.892886</td>\n",
       "      <td>2021-09-12</td>\n",
       "      <td>9</td>\n",
       "      <td>6</td>\n",
       "      <td>0</td>\n",
       "      <td>199</td>\n",
       "    </tr>\n",
       "    <tr>\n",
       "      <th>6497</th>\n",
       "      <td>699</td>\n",
       "      <td>Оксана</td>\n",
       "      <td>22</td>\n",
       "      <td>Москва</td>\n",
       "      <td>ultra</td>\n",
       "      <td>3076.159348</td>\n",
       "      <td>14.389525</td>\n",
       "      <td>2021-09-26</td>\n",
       "      <td>9</td>\n",
       "      <td>6</td>\n",
       "      <td>0</td>\n",
       "      <td>199</td>\n",
       "    </tr>\n",
       "    <tr>\n",
       "      <th>6498</th>\n",
       "      <td>699</td>\n",
       "      <td>Оксана</td>\n",
       "      <td>22</td>\n",
       "      <td>Москва</td>\n",
       "      <td>ultra</td>\n",
       "      <td>4707.845501</td>\n",
       "      <td>15.839579</td>\n",
       "      <td>2021-10-17</td>\n",
       "      <td>10</td>\n",
       "      <td>6</td>\n",
       "      <td>0</td>\n",
       "      <td>199</td>\n",
       "    </tr>\n",
       "    <tr>\n",
       "      <th>6499</th>\n",
       "      <td>699</td>\n",
       "      <td>Оксана</td>\n",
       "      <td>22</td>\n",
       "      <td>Москва</td>\n",
       "      <td>ultra</td>\n",
       "      <td>3202.890770</td>\n",
       "      <td>25.217345</td>\n",
       "      <td>2021-12-03</td>\n",
       "      <td>12</td>\n",
       "      <td>6</td>\n",
       "      <td>0</td>\n",
       "      <td>199</td>\n",
       "    </tr>\n",
       "  </tbody>\n",
       "</table>\n",
       "<p>6500 rows × 12 columns</p>\n",
       "</div>"
      ],
      "text/plain": [
       "      user_id    name  age    city subscription_type     distance   duration  \\\n",
       "0           1    Кира   22  Тюмень             ultra  4409.919140  25.599769   \n",
       "1           1    Кира   22  Тюмень             ultra  2617.592153  15.816871   \n",
       "2           1    Кира   22  Тюмень             ultra   754.159807   6.232113   \n",
       "3           1    Кира   22  Тюмень             ultra  2694.783254  18.511000   \n",
       "4           1    Кира   22  Тюмень             ultra  4028.687306  26.265803   \n",
       "...       ...     ...  ...     ...               ...          ...        ...   \n",
       "6495      699  Оксана   22  Москва             ultra  3973.046497  24.671163   \n",
       "6496      699  Оксана   22  Москва             ultra  3288.702563  15.892886   \n",
       "6497      699  Оксана   22  Москва             ultra  3076.159348  14.389525   \n",
       "6498      699  Оксана   22  Москва             ultra  4707.845501  15.839579   \n",
       "6499      699  Оксана   22  Москва             ultra  3202.890770  25.217345   \n",
       "\n",
       "           date  month  minute_price  start_ride_price  subscription_fee  \n",
       "0    2021-01-01      1             6                 0               199  \n",
       "1    2021-01-18      1             6                 0               199  \n",
       "2    2021-04-20      4             6                 0               199  \n",
       "3    2021-08-11      8             6                 0               199  \n",
       "4    2021-08-28      8             6                 0               199  \n",
       "...         ...    ...           ...               ...               ...  \n",
       "6495 2021-08-29      8             6                 0               199  \n",
       "6496 2021-09-12      9             6                 0               199  \n",
       "6497 2021-09-26      9             6                 0               199  \n",
       "6498 2021-10-17     10             6                 0               199  \n",
       "6499 2021-12-03     12             6                 0               199  \n",
       "\n",
       "[6500 rows x 12 columns]"
      ]
     },
     "metadata": {},
     "output_type": "display_data"
    }
   ],
   "source": [
    "display (ultra)"
   ]
  },
  {
   "cell_type": "markdown",
   "id": "d039088e",
   "metadata": {},
   "source": [
    "### Визуализируйте информацию о расстоянии и времени поездок для пользователей обеих категорий."
   ]
  },
  {
   "cell_type": "code",
   "execution_count": 50,
   "id": "f4abd754",
   "metadata": {},
   "outputs": [
    {
     "data": {
      "text/plain": [
       "count    11568.000000\n",
       "mean      3045.495282\n",
       "std       1246.173806\n",
       "min          0.855683\n",
       "25%       2366.562689\n",
       "50%       3114.648465\n",
       "75%       3905.697894\n",
       "max       7211.007745\n",
       "Name: distance, dtype: float64"
      ]
     },
     "execution_count": 50,
     "metadata": {},
     "output_type": "execute_result"
    }
   ],
   "source": [
    "free['distance'].describe()"
   ]
  },
  {
   "cell_type": "code",
   "execution_count": 51,
   "id": "573f371e",
   "metadata": {},
   "outputs": [
    {
     "data": {
      "image/png": "[encoded data removed]",
      "text/plain": [
       "<Figure size 432x288 with 1 Axes>"
      ]
     },
     "metadata": {
      "needs_background": "light"
     },
     "output_type": "display_data"
    }
   ],
   "source": [
    "plt.hist(free['distance'], bins=40)\n",
    "plt.title('Расстояние, бесплатный тариф')\n",
    "plt.xlabel('Расстояние, м')\n",
    "plt.ylabel('Количество поездок')\n",
    "plt.show()"
   ]
  },
  {
   "cell_type": "code",
   "execution_count": 52,
   "id": "5f50493e",
   "metadata": {},
   "outputs": [
    {
     "data": {
      "text/plain": [
       "count    11568.000000\n",
       "mean        17.390909\n",
       "std          6.326803\n",
       "min          0.500000\n",
       "25%         12.958437\n",
       "50%         17.326890\n",
       "75%         21.594071\n",
       "max         34.948498\n",
       "Name: duration, dtype: float64"
      ]
     },
     "execution_count": 52,
     "metadata": {},
     "output_type": "execute_result"
    }
   ],
   "source": [
    "free['duration'].describe()"
   ]
  },
  {
   "cell_type": "code",
   "execution_count": 53,
   "id": "e4418832",
   "metadata": {},
   "outputs": [
    {
     "data": {
      "image/png": "[encoded data removed]",
      "text/plain": [
       "<Figure size 432x288 with 1 Axes>"
      ]
     },
     "metadata": {
      "needs_background": "light"
     },
     "output_type": "display_data"
    }
   ],
   "source": [
    "plt.hist(free['duration'], bins=40)\n",
    "plt.title('Время, бесплатный тариф')\n",
    "plt.xlabel('Время поездки, мин')\n",
    "plt.ylabel('Количество поездок')\n",
    "plt.show()"
   ]
  },
  {
   "cell_type": "code",
   "execution_count": 54,
   "id": "13e3bbec",
   "metadata": {},
   "outputs": [
    {
     "data": {
      "text/plain": [
       "count    6500.000000\n",
       "mean     3115.445388\n",
       "std       836.895330\n",
       "min       244.210438\n",
       "25%      2785.444017\n",
       "50%      3148.637229\n",
       "75%      3560.574425\n",
       "max      5699.769662\n",
       "Name: distance, dtype: float64"
      ]
     },
     "execution_count": 54,
     "metadata": {},
     "output_type": "execute_result"
    }
   ],
   "source": [
    "ultra['distance'].describe()"
   ]
  },
  {
   "cell_type": "code",
   "execution_count": 55,
   "id": "9f40e04a",
   "metadata": {},
   "outputs": [
    {
     "data": {
      "image/png": "[encoded data removed]",
      "text/plain": [
       "<Figure size 432x288 with 1 Axes>"
      ]
     },
     "metadata": {
      "needs_background": "light"
     },
     "output_type": "display_data"
    }
   ],
   "source": [
    "plt.hist(ultra['distance'], bins=40)\n",
    "plt.title('Расстояние, платный тариф')\n",
    "plt.xlabel('Расстояние, м')\n",
    "plt.ylabel('Количество поездок')\n",
    "plt.show()"
   ]
  },
  {
   "cell_type": "code",
   "execution_count": 56,
   "id": "68851785",
   "metadata": {},
   "outputs": [
    {
     "data": {
      "text/plain": [
       "count    6500.000000\n",
       "mean       18.541985\n",
       "std         5.572048\n",
       "min         3.760353\n",
       "25%        14.524654\n",
       "50%        18.178153\n",
       "75%        21.884129\n",
       "max        40.823963\n",
       "Name: duration, dtype: float64"
      ]
     },
     "execution_count": 56,
     "metadata": {},
     "output_type": "execute_result"
    }
   ],
   "source": [
    "ultra['duration'].describe()"
   ]
  },
  {
   "cell_type": "code",
   "execution_count": 57,
   "id": "7fd51234",
   "metadata": {},
   "outputs": [
    {
     "data": {
      "image/png": "[encoded data removed]",
      "text/plain": [
       "<Figure size 432x288 with 1 Axes>"
      ]
     },
     "metadata": {
      "needs_background": "light"
     },
     "output_type": "display_data"
    }
   ],
   "source": [
    "plt.hist(ultra['duration'], bins=30, range = (0, 35))\n",
    "plt.title('Время, платный тариф')\n",
    "plt.xlabel('Время поездки, мин')\n",
    "plt.ylabel('Количество поездок')\n",
    "plt.show()"
   ]
  },
  {
   "cell_type": "markdown",
   "id": "80cd15fb",
   "metadata": {},
   "source": [
    "**Вывод**\n",
    "\n",
    "Объединили данные о пользователях, поездках и тарифах в один датафрейм - data.\n",
    "\n",
    "Выделили два датафрейма на основе нового датафрейма data:\n",
    "\n",
    "* free - Информация о пользователях с бесплатным тарифом\n",
    "* ultra - Информация о пользователях с платным тарифом\n",
    "\n",
    "Визуализировали информацию о расстоянии и времени для каждого из тарифов.\n",
    "\n",
    "* Для бесплатного тарифа время поездки составляет от 12 до 30 минут, и проезжают от 2000 метров до 5 000 метров. Медианное расстояния приходится на 3 000 метров.\n",
    "\n",
    "*  Платный тариф. В основном время укладывается в промежуток от 12 до 27 минути проезжают от 2 500 метров до 4 000 метров.  Медианное расстояния приходится на 3 100 метров.\n",
    "\n",
    "Пользователи с бесплатным тарифом в целом совершают чуть более долгие поездки, а также проезжают большее расстояние, чем пользователи на платном тарифе."
   ]
  },
  {
   "cell_type": "markdown",
   "id": "402d620f",
   "metadata": {},
   "source": [
    "## Шаг 5. Подсчёт выручки"
   ]
  },
  {
   "cell_type": "markdown",
   "id": "6c2e0128",
   "metadata": {},
   "source": [
    "### Создайте датафрейм с агрегированными данными о поездках на основе датафрейма с объединёнными данными из шага 4: найдите суммарное расстояние, количество поездок и суммарное время для каждого пользователя за каждый месяц."
   ]
  },
  {
   "cell_type": "code",
   "execution_count": 58,
   "id": "c735ded2",
   "metadata": {},
   "outputs": [
    {
     "data": {
      "text/plain": [
       "user_id              0\n",
       "name                 0\n",
       "age                  0\n",
       "city                 0\n",
       "subscription_type    0\n",
       "distance             0\n",
       "duration             0\n",
       "date                 0\n",
       "month                0\n",
       "minute_price         0\n",
       "start_ride_price     0\n",
       "subscription_fee     0\n",
       "dtype: int64"
      ]
     },
     "execution_count": 58,
     "metadata": {},
     "output_type": "execute_result"
    }
   ],
   "source": [
    "data.isna().sum()"
   ]
  },
  {
   "cell_type": "code",
   "execution_count": 59,
   "id": "d742df95",
   "metadata": {},
   "outputs": [
    {
     "data": {
      "text/plain": [
       "0"
      ]
     },
     "execution_count": 59,
     "metadata": {},
     "output_type": "execute_result"
    }
   ],
   "source": [
    "data.duplicated().sum()"
   ]
  },
  {
   "cell_type": "code",
   "execution_count": 60,
   "id": "53049e0a",
   "metadata": {},
   "outputs": [],
   "source": [
    "data_agf = pd.pivot_table(data, index=['month', 'user_id'], values = ['distance', 'duration', 'name', 'subscription_type'],\n",
    "                           aggfunc = {'distance': sum, \n",
    "                                      'duration' : sum, \n",
    "                                      'name' : len,\n",
    "                                      'subscription_type' : min})"
   ]
  },
  {
   "cell_type": "code",
   "execution_count": 61,
   "id": "c7d26bc5",
   "metadata": {},
   "outputs": [],
   "source": [
    "data_agf['duration'] = np.ceil(data_agf['duration'])"
   ]
  },
  {
   "cell_type": "code",
   "execution_count": 62,
   "id": "3c823162",
   "metadata": {},
   "outputs": [
    {
     "data": {
      "text/plain": [
       "distance             0\n",
       "duration             0\n",
       "name                 0\n",
       "subscription_type    0\n",
       "dtype: int64"
      ]
     },
     "execution_count": 62,
     "metadata": {},
     "output_type": "execute_result"
    }
   ],
   "source": [
    "data_agf.isna().sum()"
   ]
  },
  {
   "cell_type": "code",
   "execution_count": 63,
   "id": "19d14e48",
   "metadata": {},
   "outputs": [
    {
     "data": {
      "text/plain": [
       "0"
      ]
     },
     "execution_count": 63,
     "metadata": {},
     "output_type": "execute_result"
    }
   ],
   "source": [
    "data_agf.duplicated().sum()"
   ]
  },
  {
   "cell_type": "code",
   "execution_count": 64,
   "id": "d1e28e2c",
   "metadata": {},
   "outputs": [],
   "source": [
    "data_agf.rename(columns = {'name' : 'starts'}, inplace = True)"
   ]
  },
  {
   "cell_type": "code",
   "execution_count": 65,
   "id": "c6c712cb",
   "metadata": {},
   "outputs": [
    {
     "data": {
      "text/html": [
       "<div>\n",
       "<style scoped>\n",
       "    .dataframe tbody tr th:only-of-type {\n",
       "        vertical-align: middle;\n",
       "    }\n",
       "\n",
       "    .dataframe tbody tr th {\n",
       "        vertical-align: top;\n",
       "    }\n",
       "\n",
       "    .dataframe thead th {\n",
       "        text-align: right;\n",
       "    }\n",
       "</style>\n",
       "<table border=\"1\" class=\"dataframe\">\n",
       "  <thead>\n",
       "    <tr style=\"text-align: right;\">\n",
       "      <th></th>\n",
       "      <th></th>\n",
       "      <th>distance</th>\n",
       "      <th>duration</th>\n",
       "      <th>starts</th>\n",
       "      <th>subscription_type</th>\n",
       "    </tr>\n",
       "    <tr>\n",
       "      <th>month</th>\n",
       "      <th>user_id</th>\n",
       "      <th></th>\n",
       "      <th></th>\n",
       "      <th></th>\n",
       "      <th></th>\n",
       "    </tr>\n",
       "  </thead>\n",
       "  <tbody>\n",
       "    <tr>\n",
       "      <th rowspan=\"5\" valign=\"top\">1</th>\n",
       "      <th>1</th>\n",
       "      <td>7027.511294</td>\n",
       "      <td>42.0</td>\n",
       "      <td>2</td>\n",
       "      <td>ultra</td>\n",
       "    </tr>\n",
       "    <tr>\n",
       "      <th>1061</th>\n",
       "      <td>12637.249630</td>\n",
       "      <td>42.0</td>\n",
       "      <td>3</td>\n",
       "      <td>free</td>\n",
       "    </tr>\n",
       "    <tr>\n",
       "      <th>1063</th>\n",
       "      <td>3276.362299</td>\n",
       "      <td>10.0</td>\n",
       "      <td>1</td>\n",
       "      <td>free</td>\n",
       "    </tr>\n",
       "    <tr>\n",
       "      <th>1064</th>\n",
       "      <td>5297.324649</td>\n",
       "      <td>15.0</td>\n",
       "      <td>1</td>\n",
       "      <td>free</td>\n",
       "    </tr>\n",
       "    <tr>\n",
       "      <th>1065</th>\n",
       "      <td>14547.099333</td>\n",
       "      <td>97.0</td>\n",
       "      <td>4</td>\n",
       "      <td>free</td>\n",
       "    </tr>\n",
       "    <tr>\n",
       "      <th>...</th>\n",
       "      <th>...</th>\n",
       "      <td>...</td>\n",
       "      <td>...</td>\n",
       "      <td>...</td>\n",
       "      <td>...</td>\n",
       "    </tr>\n",
       "    <tr>\n",
       "      <th rowspan=\"5\" valign=\"top\">12</th>\n",
       "      <th>618</th>\n",
       "      <td>5269.450142</td>\n",
       "      <td>32.0</td>\n",
       "      <td>2</td>\n",
       "      <td>ultra</td>\n",
       "    </tr>\n",
       "    <tr>\n",
       "      <th>619</th>\n",
       "      <td>2955.251037</td>\n",
       "      <td>17.0</td>\n",
       "      <td>1</td>\n",
       "      <td>ultra</td>\n",
       "    </tr>\n",
       "    <tr>\n",
       "      <th>620</th>\n",
       "      <td>3972.842520</td>\n",
       "      <td>14.0</td>\n",
       "      <td>1</td>\n",
       "      <td>ultra</td>\n",
       "    </tr>\n",
       "    <tr>\n",
       "      <th>600</th>\n",
       "      <td>3698.618505</td>\n",
       "      <td>14.0</td>\n",
       "      <td>1</td>\n",
       "      <td>ultra</td>\n",
       "    </tr>\n",
       "    <tr>\n",
       "      <th>1534</th>\n",
       "      <td>2371.711192</td>\n",
       "      <td>16.0</td>\n",
       "      <td>1</td>\n",
       "      <td>free</td>\n",
       "    </tr>\n",
       "  </tbody>\n",
       "</table>\n",
       "<p>11331 rows × 4 columns</p>\n",
       "</div>"
      ],
      "text/plain": [
       "                   distance  duration  starts subscription_type\n",
       "month user_id                                                  \n",
       "1     1         7027.511294      42.0       2             ultra\n",
       "      1061     12637.249630      42.0       3              free\n",
       "      1063      3276.362299      10.0       1              free\n",
       "      1064      5297.324649      15.0       1              free\n",
       "      1065     14547.099333      97.0       4              free\n",
       "...                     ...       ...     ...               ...\n",
       "12    618       5269.450142      32.0       2             ultra\n",
       "      619       2955.251037      17.0       1             ultra\n",
       "      620       3972.842520      14.0       1             ultra\n",
       "      600       3698.618505      14.0       1             ultra\n",
       "      1534      2371.711192      16.0       1              free\n",
       "\n",
       "[11331 rows x 4 columns]"
      ]
     },
     "metadata": {},
     "output_type": "display_data"
    }
   ],
   "source": [
    "display (data_agf.sort_values(by='month'))"
   ]
  },
  {
   "cell_type": "markdown",
   "id": "e3a6c25e",
   "metadata": {},
   "source": [
    "### Создайте датафрейм с агрегированными данными о поездках на основе датафрейма с объединёнными данными из шага 4: найдите суммарное расстояние, количество поездок и суммарное время для каждого пользователя за каждый месяц.\n",
    "\n",
    "Напомним, что: \n",
    "* без подписки\n",
    "абонентская плата отсутствует;\n",
    "стоимость одной минуты поездки — 8 рублей;\n",
    "стоимость старта (начала поездки) — 50 рублей;\n",
    "\n",
    "* с подпиской Ultra\n",
    "абонентская плата — 199 рублей в месяц;\n",
    "стоимость одной минуты поездки — 6 рублей;\n",
    "стоимость старта — бесплатно."
   ]
  },
  {
   "cell_type": "code",
   "execution_count": 66,
   "id": "7fd239ae",
   "metadata": {},
   "outputs": [],
   "source": [
    "def virucka(row):\n",
    "    if row['subscription_type'] == 'ultra':\n",
    "        return 6 * row['duration'] + 199\n",
    "    elif row['subscription_type'] == 'free':\n",
    "        return 8 * row['duration'] + 50 * row['starts']\n",
    "    else:\n",
    "        return 'Ошибка'"
   ]
  },
  {
   "cell_type": "code",
   "execution_count": 67,
   "id": "34e00d27",
   "metadata": {},
   "outputs": [],
   "source": [
    "data_agf['virucka_za_month'] = data_agf.apply(virucka, axis=1)"
   ]
  },
  {
   "cell_type": "code",
   "execution_count": 68,
   "id": "b8ce10d1",
   "metadata": {},
   "outputs": [
    {
     "data": {
      "text/plain": [
       "month  user_id\n",
       "1      1          451.0\n",
       "       3          277.0\n",
       "       5          277.0\n",
       "       7          367.0\n",
       "       12         397.0\n",
       "                  ...  \n",
       "12     1525       322.0\n",
       "       1526       234.0\n",
       "       1528       138.0\n",
       "       1532       428.0\n",
       "       1534       178.0\n",
       "Name: virucka_za_month, Length: 11331, dtype: float64"
      ]
     },
     "metadata": {},
     "output_type": "display_data"
    }
   ],
   "source": [
    "display (data_agf['virucka_za_month'])"
   ]
  },
  {
   "cell_type": "markdown",
   "id": "8814eb49",
   "metadata": {},
   "source": [
    "**Вывод**\n",
    "\n",
    "* Создали новый датафрейм с агрегированными данными (total_data) на основе датафрейма с объединенными данными (data).\n",
    "\n",
    "* Нашли суммарное расстояние, количество поездок и суммарное время для каждого пользователя за каждый месяц. Также добавили столбец с помесячной выручкой, которую принес каждый пользователь."
   ]
  },
  {
   "cell_type": "markdown",
   "id": "41545ac0",
   "metadata": {},
   "source": [
    "## Шаг 6. Проверка гипотез"
   ]
  },
  {
   "cell_type": "markdown",
   "id": "2edf466e",
   "metadata": {},
   "source": [
    "### Важно понять, тратят ли пользователи с подпиской больше времени на поездки? \n",
    "Если да, то пользователи с подпиской могут быть «выгоднее» для компании. Проверьте гипотезу. Используйте исходные данные о продолжительности каждой сессии — отдельно для подписчиков и тех, у кого нет подписки."
   ]
  },
  {
   "cell_type": "markdown",
   "id": "0d32f515",
   "metadata": {},
   "source": [
    "**Проверим гипотезу: пользователи с подпиской тратят больше времени на поездки, чем пользователи на бесплатном тарифе.**\n",
    "\n",
    "H_0: Время (duration) пользователей на подписке ultra = время (duration) пользователей на подписке free\n",
    "\n",
    "H_1: Время (duration) пользователей на подписке ultra > время (duration) пользователей на подписке free"
   ]
  },
  {
   "cell_type": "code",
   "execution_count": 69,
   "id": "df206512",
   "metadata": {},
   "outputs": [
    {
     "name": "stdout",
     "output_type": "stream",
     "text": [
      "1.2804098316645618e-34\n",
      "Отвергаем нулевую гипотезу\n"
     ]
    }
   ],
   "source": [
    "ultra_sub = ultra['duration'] \n",
    "\n",
    "free_sub = free['duration']\n",
    "\n",
    "results = st.ttest_ind(ultra_sub, free_sub, alternative = 'greater')\n",
    "\n",
    "alpha = 0.05\n",
    "\n",
    "print(results.pvalue)\n",
    "\n",
    "if results.pvalue < alpha:\n",
    "    print('Отвергаем нулевую гипотезу')\n",
    "else:\n",
    "    print('Не удалось отвергнуть нулевую гипотезу')"
   ]
  },
  {
   "cell_type": "markdown",
   "id": "78890bd6",
   "metadata": {},
   "source": [
    "Отвераем гипотезу о том, что время поездки пользователей на тарифе \"ultra\" равно времени поездки пользователей на тарифе \"free\"."
   ]
  },
  {
   "cell_type": "markdown",
   "id": "508697ab",
   "metadata": {},
   "source": [
    "### Расстояние одной поездки в 3130 метров — оптимальное с точки зрения износа самоката. \n",
    "Можно ли сказать, что расстояние, которое проезжают пользователи с подпиской за одну поездку, не превышает 3130 метров? Проверьте гипотезу и сделайте выводы."
   ]
  },
  {
   "cell_type": "markdown",
   "id": "ee726fc1",
   "metadata": {},
   "source": [
    "**Проверим гипотезу: пользователи с подпиской проезжают расстояние, не превышающее 3130 метров за одну поездку.**\n",
    "\n",
    "H_0: Расстояние (distance) пользователей на подписке ultra = 3130 метров\n",
    "\n",
    "H_1: Расстояние (distance) пользователей на подписке ultra < 3130 метров"
   ]
  },
  {
   "cell_type": "code",
   "execution_count": 70,
   "id": "79a839e6",
   "metadata": {},
   "outputs": [
    {
     "name": "stdout",
     "output_type": "stream",
     "text": [
      "0.9195368847849785\n",
      "Не удалось отвергнуть нулевую гипотезу\n"
     ]
    }
   ],
   "source": [
    "ultra_dist = ultra['distance']\n",
    "\n",
    "interested_value = 3130.0\n",
    "\n",
    "alpha = 0.05\n",
    "\n",
    "results = st.ttest_1samp(ultra_dist, interested_value, alternative='greater')\n",
    "    \n",
    "print(results.pvalue)\n",
    "\n",
    "if (results.pvalue < alpha):\n",
    "    print('Отвергаем нулевую гипотезу')\n",
    "else:\n",
    "    print('Не удалось отвергнуть нулевую гипотезу')"
   ]
  },
  {
   "cell_type": "markdown",
   "id": "01a3a5a2",
   "metadata": {},
   "source": [
    "**Вывод**\n",
    "\n",
    "Мы не можем утверждать, что расстояние, которое проехали пользователи на тарифе \"ultra\" не превышает 3130 метров."
   ]
  },
  {
   "cell_type": "markdown",
   "id": "3da66218",
   "metadata": {},
   "source": [
    "### Проверьте гипотезу о том, будет ли помесячная выручка от пользователей с подпиской по месяцам выше, чем выручка от пользователей без подписки. Сделайте вывод.\n",
    "\n",
    "Проверим гипотезу: помесячная выручка от пользователей с подпиской выше, чем выручка от пользователей без подписки\n",
    "\n",
    "H_0: Выручка (virucka_za_month) пользователей на подписке ultra = выручка (virucka_za_month) пользователей на подписке free\n",
    "\n",
    "H_1: Выручка (virucka_za_month) пользователей на подписке ultra > выручка (virucka_za_month) пользователей на подписке free"
   ]
  },
  {
   "cell_type": "code",
   "execution_count": 71,
   "id": "7456b396",
   "metadata": {},
   "outputs": [
    {
     "name": "stdout",
     "output_type": "stream",
     "text": [
      "2.8130926188487286e-35\n",
      "Отвергаем нулевую гипотезу\n"
     ]
    }
   ],
   "source": [
    "ultra_per_mnth = data_agf.loc[data_agf.subscription_type == 'ultra', 'virucka_za_month'] \n",
    "\n",
    "free_per_mnth = data_agf.loc[data_agf.subscription_type == 'free', 'virucka_za_month'] \n",
    "\n",
    "\n",
    "results = st.ttest_ind(ultra_per_mnth, \n",
    "                       free_per_mnth,\n",
    "                       alternative = 'greater')\n",
    "\n",
    "alpha = .05\n",
    "\n",
    "print(results.pvalue)\n",
    "\n",
    "if results.pvalue < alpha:\n",
    "    print('Отвергаем нулевую гипотезу')\n",
    "else:\n",
    "    print('Не удалось отвергнуть нулевую гипотезу')"
   ]
  },
  {
   "cell_type": "markdown",
   "id": "38cf2266",
   "metadata": {},
   "source": [
    "**Вывод**\n",
    "\n",
    "Проверили гипотезу, соответственно, мы можем утверждать, что выручка с пользователей на подписке ultra превышает выручку с пользователей на подписке free"
   ]
  },
  {
   "cell_type": "markdown",
   "id": "7e0f9703",
   "metadata": {},
   "source": [
    "### Представьте такую ситуацию: техническая команда сервиса обновила сервера, с которыми взаимодействует мобильное приложение. Она надеется, что из-за этого количество обращений в техподдержку значимо снизилось. Некоторый файл содержит для каждого пользователя данные о количестве обращений до обновления и после него. \n",
    "**Какой тест вам понадобился бы для проверки этой гипотезы?**"
   ]
  },
  {
   "cell_type": "markdown",
   "id": "587f42a4",
   "metadata": {},
   "source": [
    "**Ответ:**\n",
    "Будем использовать гипотезу о равенстве средних для зависимых (парных) выборок.\n",
    "\n",
    "Гипотезы будут сформулированы так:\n",
    "\n",
    "* H0 : μ1 = μ2\n",
    "* H1 : μ1 != μ2\n",
    "где μ1 и μ2 - средние значения количество обращений в техподдержку до и после изменения.\n",
    "\n",
    "**Метод, который нужно использовать при сравнении: scipy.stats.ttest_rel()**"
   ]
  },
  {
   "cell_type": "markdown",
   "id": "fbf70ff1",
   "metadata": {},
   "source": [
    "## Общий вывод\n",
    "\n",
    "Загрузили 3 датафрейма: с пользователями, информацией о поездках, информацией о подписках.\n",
    "\n",
    "Дальше проверили данные на пропуски, их не оказалось ни в одной таблице. Поменяли тип данных у столбца date из датафрейма data_riders к типу даты. Также добавили столбец month с номером месяца. И удалили дубликаты строк из датафрейма с пользователями.\n",
    "\n",
    "Провели исследовательский анализ данных:\n",
    "\n",
    "Лидером по количеству пользователей является Пятигорск - 219 пользователей. Меньше всего пользователей в Москве - 168.\n",
    "Пользователей, использующих бесплатную подписку - 835 человек (54% от общего числа пользователей). В платной подписке 699 пользователей (46% от общего числа пользователей)\n",
    "\n",
    "Самыми младшим являются пользователи 12 лет.\n",
    "Самыми старшими - 43.\n",
    "Медианный возраст - почти 25 лет, что соответсвует среднему возрасту пользователю.\n",
    "\n",
    "Самая короткая дистанция - 860 метров\n",
    "Самая длинная - 7 211 метров\n",
    "В основном пользователи проезжают от 2 000 метров до 5 000 км.\n",
    "\n",
    "\n",
    "Самые короткие поездки - 30 секунд (видимо тест самоката с последующей проблемой в нем).\n",
    "Самая длинная поездка заняла  почти 41 минуту.\n",
    "В основном же длительность поездки состовляет 7 - 27 минут.\n",
    "\n",
    "Объединили данные о пользователях, поездках и подписках в один датафрейм. На основе объединенного датафрейма создали еще 2 датафрейма:\n",
    "\n",
    "Для пользователей с ultra подпиской\n",
    "Для пользователей с free подпиской\n",
    "\n",
    "Визуализировали информацию о расстоянии и времени для каждого из тарифов.\n",
    "\n",
    "Для бесплатного тарифа время поездки составляет от 12 до 30 минут, и проезжают от 2000 метров до 5 000 метров. Медианное расстояния приходится на 3 000 метров.\n",
    "\n",
    "Платный тариф. В основном время укладывается в промежуток от 12 до 27 минути проезжают от 2 500 метров до 4 000 метров.  Медианное расстояния приходится на 3 100 метров.\n",
    "\n",
    "Пользователи с бесплатным тарифом в целом совершают чуть более долгие поездки, а также проезжают большее расстояние, чем пользователи на платном тарифе.\n",
    "\n",
    "Проверили гипотезы:\n",
    "\n",
    "**Пользователи с подпиской тратят больше времени на поездки, чем пользователи на бесплатном тарифе**\n",
    "\n",
    "* Отвергли нулевую гипотезу\n",
    "\n",
    "**Пользователи с подпиской проезжают расстояние, не превышающее 3130 метров за одну поездку** \n",
    "\n",
    "* Не удалось отвергнуть нулевую гипотезу\n",
    "\n",
    "**Помесячная выручка от пользователей с подпиской выше, чем выручка от пользователей без подписки** \n",
    "\n",
    "* Отвергли нулевую гипотезу\n",
    "\n",
    "**Рекомендации по развитию аренды самокатов:**\n",
    "\n",
    "Судя по количеству пользователей бизнес не совсем давно стартанул. Первой моей рекомендацией изучить топ1 рынка услугу в каждом заявленном городе. Почему они лучше и крупнее \"нас\"? \n",
    "\n",
    "Второе: если нет или не было не каких акций, то предлагаю запустить одну из них, что-то на подадобии \"при покупке подписки, пользуя самокат более 20 минут кажая следующая минута стоит в 2 раза дешевле. \n",
    "Так же можно добавить реферальную ссылку: если ты пришел от \"друга\" то ему дается условно неделя подписки, а тебе две недели.\n",
    "\n",
    "Третье: если это активный пользователь бесплатной версии, то добавить ему так называемых \"челенжей\". Условно если он проехал 50 км давать ему статус \"новобранец\", от этого например меняется цена в подписке, и сама подписка стоит дешевле. Ну и соотственно чем больше он проехал, тем больше скидка."
   ]
  }
 ],
 "metadata": {
  "ExecuteTimeLog": [
   {
    "duration": 1436,
    "start_time": "2023-07-07T07:01:32.058Z"
   },
   {
    "duration": 141,
    "start_time": "2023-07-07T07:04:15.863Z"
   },
   {
    "duration": 99,
    "start_time": "2023-07-07T07:04:24.631Z"
   },
   {
    "duration": 13,
    "start_time": "2023-07-07T07:05:37.629Z"
   },
   {
    "duration": 12,
    "start_time": "2023-07-07T07:05:46.445Z"
   },
   {
    "duration": 12,
    "start_time": "2023-07-07T07:06:10.046Z"
   },
   {
    "duration": 14,
    "start_time": "2023-07-07T07:06:26.849Z"
   },
   {
    "duration": 12,
    "start_time": "2023-07-07T07:06:34.566Z"
   },
   {
    "duration": 10,
    "start_time": "2023-07-07T07:07:02.980Z"
   },
   {
    "duration": 10,
    "start_time": "2023-07-07T07:07:20.456Z"
   },
   {
    "duration": 9,
    "start_time": "2023-07-07T07:09:59.789Z"
   },
   {
    "duration": 9,
    "start_time": "2023-07-07T07:12:02.361Z"
   },
   {
    "duration": 15,
    "start_time": "2023-07-07T07:20:02.843Z"
   },
   {
    "duration": 8,
    "start_time": "2023-07-07T07:20:10.950Z"
   },
   {
    "duration": 8,
    "start_time": "2023-07-07T07:20:22.258Z"
   },
   {
    "duration": 8,
    "start_time": "2023-07-07T07:20:26.008Z"
   },
   {
    "duration": 14,
    "start_time": "2023-07-07T07:23:07.226Z"
   },
   {
    "duration": 13,
    "start_time": "2023-07-07T07:23:08.448Z"
   },
   {
    "duration": 8,
    "start_time": "2023-07-07T07:23:09.124Z"
   },
   {
    "duration": 171,
    "start_time": "2023-07-07T07:25:03.960Z"
   },
   {
    "duration": 13,
    "start_time": "2023-07-07T07:25:30.000Z"
   },
   {
    "duration": 12,
    "start_time": "2023-07-07T07:25:37.485Z"
   },
   {
    "duration": 9,
    "start_time": "2023-07-07T07:26:26.832Z"
   },
   {
    "duration": 7,
    "start_time": "2023-07-07T07:26:40.959Z"
   },
   {
    "duration": 9,
    "start_time": "2023-07-07T07:27:16.127Z"
   },
   {
    "duration": 8,
    "start_time": "2023-07-07T07:27:37.134Z"
   },
   {
    "duration": 7,
    "start_time": "2023-07-07T07:27:43.317Z"
   },
   {
    "duration": 6,
    "start_time": "2023-07-07T07:28:37.165Z"
   },
   {
    "duration": 6,
    "start_time": "2023-07-07T07:31:11.110Z"
   },
   {
    "duration": 6,
    "start_time": "2023-07-07T07:31:21.929Z"
   },
   {
    "duration": 7,
    "start_time": "2023-07-07T07:32:27.650Z"
   },
   {
    "duration": 13,
    "start_time": "2023-07-07T07:33:04.790Z"
   },
   {
    "duration": 29,
    "start_time": "2023-07-07T07:33:21.855Z"
   },
   {
    "duration": 9,
    "start_time": "2023-07-07T07:33:56.815Z"
   },
   {
    "duration": 9,
    "start_time": "2023-07-07T07:34:00.101Z"
   },
   {
    "duration": 6,
    "start_time": "2023-07-07T07:34:07.903Z"
   },
   {
    "duration": 7,
    "start_time": "2023-07-07T07:35:12.024Z"
   },
   {
    "duration": 6,
    "start_time": "2023-07-07T07:35:17.370Z"
   },
   {
    "duration": 6,
    "start_time": "2023-07-07T07:35:35.663Z"
   },
   {
    "duration": 8,
    "start_time": "2023-07-07T07:35:36.256Z"
   },
   {
    "duration": 158,
    "start_time": "2023-07-07T07:37:10.670Z"
   },
   {
    "duration": 4,
    "start_time": "2023-07-07T07:38:35.197Z"
   },
   {
    "duration": 6,
    "start_time": "2023-07-07T07:38:39.002Z"
   },
   {
    "duration": 149,
    "start_time": "2023-07-07T07:39:36.869Z"
   },
   {
    "duration": 149,
    "start_time": "2023-07-07T07:40:06.359Z"
   },
   {
    "duration": 178,
    "start_time": "2023-07-07T07:40:18.244Z"
   },
   {
    "duration": 127,
    "start_time": "2023-07-07T07:40:44.724Z"
   },
   {
    "duration": 6,
    "start_time": "2023-07-07T07:42:23.000Z"
   },
   {
    "duration": 13,
    "start_time": "2023-07-07T07:42:35.645Z"
   },
   {
    "duration": 6,
    "start_time": "2023-07-07T07:42:56.093Z"
   },
   {
    "duration": 257,
    "start_time": "2023-07-07T07:43:29.848Z"
   },
   {
    "duration": 7,
    "start_time": "2023-07-07T07:44:58.397Z"
   },
   {
    "duration": 7,
    "start_time": "2023-07-07T07:45:03.622Z"
   },
   {
    "duration": 7,
    "start_time": "2023-07-07T07:45:12.333Z"
   },
   {
    "duration": 12,
    "start_time": "2023-07-07T07:46:57.545Z"
   },
   {
    "duration": 11,
    "start_time": "2023-07-07T07:47:02.996Z"
   },
   {
    "duration": 244,
    "start_time": "2023-07-07T07:47:49.891Z"
   },
   {
    "duration": 10,
    "start_time": "2023-07-07T07:48:31.518Z"
   },
   {
    "duration": 10,
    "start_time": "2023-07-07T07:48:44.776Z"
   },
   {
    "duration": 13,
    "start_time": "2023-07-07T07:49:03.804Z"
   },
   {
    "duration": 349,
    "start_time": "2023-07-07T07:50:25.240Z"
   },
   {
    "duration": 383,
    "start_time": "2023-07-07T07:52:02.192Z"
   },
   {
    "duration": 15,
    "start_time": "2023-07-07T07:54:18.806Z"
   },
   {
    "duration": 12,
    "start_time": "2023-07-07T07:54:36.036Z"
   },
   {
    "duration": 5,
    "start_time": "2023-07-07T07:55:06.603Z"
   },
   {
    "duration": 1159,
    "start_time": "2023-07-07T07:55:18.133Z"
   },
   {
    "duration": 65,
    "start_time": "2023-07-07T07:55:19.295Z"
   },
   {
    "duration": 12,
    "start_time": "2023-07-07T07:55:19.363Z"
   },
   {
    "duration": 43,
    "start_time": "2023-07-07T07:55:19.377Z"
   },
   {
    "duration": 17,
    "start_time": "2023-07-07T07:55:19.422Z"
   },
   {
    "duration": 14,
    "start_time": "2023-07-07T07:55:19.441Z"
   },
   {
    "duration": 16,
    "start_time": "2023-07-07T07:55:19.457Z"
   },
   {
    "duration": 35,
    "start_time": "2023-07-07T07:55:19.474Z"
   },
   {
    "duration": 13,
    "start_time": "2023-07-07T07:55:19.511Z"
   },
   {
    "duration": 11,
    "start_time": "2023-07-07T07:55:19.525Z"
   },
   {
    "duration": 7,
    "start_time": "2023-07-07T07:55:19.538Z"
   },
   {
    "duration": 31,
    "start_time": "2023-07-07T07:55:19.547Z"
   },
   {
    "duration": 27,
    "start_time": "2023-07-07T07:55:19.580Z"
   },
   {
    "duration": 11,
    "start_time": "2023-07-07T07:55:19.611Z"
   },
   {
    "duration": 10,
    "start_time": "2023-07-07T07:55:19.624Z"
   },
   {
    "duration": 9,
    "start_time": "2023-07-07T07:55:19.636Z"
   },
   {
    "duration": 15,
    "start_time": "2023-07-07T07:55:19.647Z"
   },
   {
    "duration": 8,
    "start_time": "2023-07-07T07:55:19.663Z"
   },
   {
    "duration": 36,
    "start_time": "2023-07-07T07:55:19.673Z"
   },
   {
    "duration": 5,
    "start_time": "2023-07-07T07:55:19.711Z"
   },
   {
    "duration": 21,
    "start_time": "2023-07-07T07:55:19.718Z"
   },
   {
    "duration": 12,
    "start_time": "2023-07-07T07:55:19.741Z"
   },
   {
    "duration": 21,
    "start_time": "2023-07-07T07:55:19.754Z"
   },
   {
    "duration": 176,
    "start_time": "2023-07-07T07:55:19.777Z"
   },
   {
    "duration": 4,
    "start_time": "2023-07-07T07:55:19.955Z"
   },
   {
    "duration": 29,
    "start_time": "2023-07-07T07:55:19.960Z"
   },
   {
    "duration": 115,
    "start_time": "2023-07-07T07:55:19.990Z"
   },
   {
    "duration": 6,
    "start_time": "2023-07-07T07:55:20.112Z"
   },
   {
    "duration": 27,
    "start_time": "2023-07-07T07:55:20.119Z"
   },
   {
    "duration": 178,
    "start_time": "2023-07-07T07:55:20.148Z"
   },
   {
    "duration": 11,
    "start_time": "2023-07-07T07:55:20.328Z"
   },
   {
    "duration": 208,
    "start_time": "2023-07-07T07:55:20.340Z"
   },
   {
    "duration": 15,
    "start_time": "2023-07-07T07:55:25.748Z"
   },
   {
    "duration": 203,
    "start_time": "2023-07-07T07:55:59.169Z"
   },
   {
    "duration": 199,
    "start_time": "2023-07-07T07:57:08.304Z"
   },
   {
    "duration": 188,
    "start_time": "2023-07-07T07:57:24.132Z"
   },
   {
    "duration": 10,
    "start_time": "2023-07-07T07:58:00.362Z"
   },
   {
    "duration": 11,
    "start_time": "2023-07-07T07:58:09.755Z"
   },
   {
    "duration": 1154,
    "start_time": "2023-07-07T07:58:29.361Z"
   },
   {
    "duration": 65,
    "start_time": "2023-07-07T07:58:30.517Z"
   },
   {
    "duration": 15,
    "start_time": "2023-07-07T07:58:30.584Z"
   },
   {
    "duration": 89,
    "start_time": "2023-07-07T07:58:30.601Z"
   },
   {
    "duration": 51,
    "start_time": "2023-07-07T07:58:30.692Z"
   },
   {
    "duration": 69,
    "start_time": "2023-07-07T07:58:30.745Z"
   },
   {
    "duration": 40,
    "start_time": "2023-07-07T07:58:30.815Z"
   },
   {
    "duration": 67,
    "start_time": "2023-07-07T07:58:30.857Z"
   },
   {
    "duration": 35,
    "start_time": "2023-07-07T07:58:30.926Z"
   },
   {
    "duration": 30,
    "start_time": "2023-07-07T07:58:30.965Z"
   },
   {
    "duration": 16,
    "start_time": "2023-07-07T07:58:30.996Z"
   },
   {
    "duration": 41,
    "start_time": "2023-07-07T07:58:31.013Z"
   },
   {
    "duration": 38,
    "start_time": "2023-07-07T07:58:31.056Z"
   },
   {
    "duration": 37,
    "start_time": "2023-07-07T07:58:31.096Z"
   },
   {
    "duration": 31,
    "start_time": "2023-07-07T07:58:31.135Z"
   },
   {
    "duration": 34,
    "start_time": "2023-07-07T07:58:31.168Z"
   },
   {
    "duration": 26,
    "start_time": "2023-07-07T07:58:31.204Z"
   },
   {
    "duration": 32,
    "start_time": "2023-07-07T07:58:31.232Z"
   },
   {
    "duration": 36,
    "start_time": "2023-07-07T07:58:31.266Z"
   },
   {
    "duration": 23,
    "start_time": "2023-07-07T07:58:31.304Z"
   },
   {
    "duration": 36,
    "start_time": "2023-07-07T07:58:31.329Z"
   },
   {
    "duration": 28,
    "start_time": "2023-07-07T07:58:31.367Z"
   },
   {
    "duration": 34,
    "start_time": "2023-07-07T07:58:31.397Z"
   },
   {
    "duration": 197,
    "start_time": "2023-07-07T07:58:31.433Z"
   },
   {
    "duration": 6,
    "start_time": "2023-07-07T07:58:31.632Z"
   },
   {
    "duration": 44,
    "start_time": "2023-07-07T07:58:31.641Z"
   },
   {
    "duration": 169,
    "start_time": "2023-07-07T07:58:31.687Z"
   },
   {
    "duration": 9,
    "start_time": "2023-07-07T07:58:31.859Z"
   },
   {
    "duration": 32,
    "start_time": "2023-07-07T07:58:31.875Z"
   },
   {
    "duration": 207,
    "start_time": "2023-07-07T07:58:31.909Z"
   },
   {
    "duration": 9,
    "start_time": "2023-07-07T07:58:32.118Z"
   },
   {
    "duration": 254,
    "start_time": "2023-07-07T07:58:32.129Z"
   },
   {
    "duration": 11,
    "start_time": "2023-07-07T07:58:32.385Z"
   },
   {
    "duration": 10,
    "start_time": "2023-07-07T07:58:34.800Z"
   },
   {
    "duration": 211,
    "start_time": "2023-07-07T07:58:35.448Z"
   },
   {
    "duration": 194,
    "start_time": "2023-07-07T07:58:48.041Z"
   },
   {
    "duration": 112,
    "start_time": "2023-07-07T08:01:54.993Z"
   },
   {
    "duration": 111,
    "start_time": "2023-07-07T08:02:05.163Z"
   },
   {
    "duration": 406,
    "start_time": "2023-07-07T08:07:35.195Z"
   },
   {
    "duration": 139,
    "start_time": "2023-07-07T08:07:48.237Z"
   },
   {
    "duration": 184,
    "start_time": "2023-07-07T08:08:06.713Z"
   },
   {
    "duration": 169,
    "start_time": "2023-07-07T08:08:17.292Z"
   },
   {
    "duration": 178,
    "start_time": "2023-07-07T08:08:37.757Z"
   },
   {
    "duration": 147,
    "start_time": "2023-07-07T08:09:07.646Z"
   },
   {
    "duration": 181,
    "start_time": "2023-07-07T08:09:13.135Z"
   },
   {
    "duration": 175,
    "start_time": "2023-07-07T08:09:26.692Z"
   },
   {
    "duration": 167,
    "start_time": "2023-07-07T08:09:49.563Z"
   },
   {
    "duration": 15,
    "start_time": "2023-07-07T08:15:36.887Z"
   },
   {
    "duration": 13,
    "start_time": "2023-07-07T08:15:56.106Z"
   },
   {
    "duration": 26,
    "start_time": "2023-07-07T08:16:03.327Z"
   },
   {
    "duration": 12,
    "start_time": "2023-07-07T08:17:26.088Z"
   },
   {
    "duration": 12,
    "start_time": "2023-07-07T08:17:31.315Z"
   },
   {
    "duration": 28,
    "start_time": "2023-07-07T08:17:42.313Z"
   },
   {
    "duration": 11,
    "start_time": "2023-07-07T08:18:21.794Z"
   },
   {
    "duration": 23,
    "start_time": "2023-07-07T08:18:28.647Z"
   },
   {
    "duration": 11,
    "start_time": "2023-07-07T08:19:45.694Z"
   },
   {
    "duration": 176,
    "start_time": "2023-07-07T08:19:52.537Z"
   },
   {
    "duration": 218,
    "start_time": "2023-07-07T08:20:29.220Z"
   },
   {
    "duration": 191,
    "start_time": "2023-07-07T08:20:34.075Z"
   },
   {
    "duration": 166,
    "start_time": "2023-07-07T08:20:50.839Z"
   },
   {
    "duration": 222,
    "start_time": "2023-07-07T08:21:15.829Z"
   },
   {
    "duration": 901,
    "start_time": "2023-07-07T08:21:25.779Z"
   },
   {
    "duration": 264,
    "start_time": "2023-07-07T08:21:33.342Z"
   },
   {
    "duration": 170,
    "start_time": "2023-07-07T08:21:42.355Z"
   },
   {
    "duration": 15,
    "start_time": "2023-07-07T08:22:06.182Z"
   },
   {
    "duration": 262,
    "start_time": "2023-07-07T08:22:13.084Z"
   },
   {
    "duration": 242,
    "start_time": "2023-07-07T08:22:36.004Z"
   },
   {
    "duration": 13,
    "start_time": "2023-07-07T08:22:50.206Z"
   },
   {
    "duration": 218,
    "start_time": "2023-07-07T08:22:53.976Z"
   },
   {
    "duration": 256,
    "start_time": "2023-07-07T08:23:12.588Z"
   },
   {
    "duration": 224,
    "start_time": "2023-07-07T08:23:18.572Z"
   },
   {
    "duration": 10,
    "start_time": "2023-07-07T08:24:08.151Z"
   },
   {
    "duration": 9,
    "start_time": "2023-07-07T08:24:24.697Z"
   },
   {
    "duration": 8,
    "start_time": "2023-07-07T08:24:44.465Z"
   },
   {
    "duration": 10,
    "start_time": "2023-07-07T08:24:52.513Z"
   },
   {
    "duration": 1388,
    "start_time": "2023-07-07T08:36:08.929Z"
   },
   {
    "duration": 18,
    "start_time": "2023-07-07T08:37:14.940Z"
   },
   {
    "duration": 1222,
    "start_time": "2023-07-07T08:37:40.249Z"
   },
   {
    "duration": 63,
    "start_time": "2023-07-07T08:37:41.473Z"
   },
   {
    "duration": 13,
    "start_time": "2023-07-07T08:37:41.538Z"
   },
   {
    "duration": 13,
    "start_time": "2023-07-07T08:37:41.553Z"
   },
   {
    "duration": 13,
    "start_time": "2023-07-07T08:37:41.568Z"
   },
   {
    "duration": 17,
    "start_time": "2023-07-07T08:37:41.583Z"
   },
   {
    "duration": 8,
    "start_time": "2023-07-07T08:37:41.602Z"
   },
   {
    "duration": 30,
    "start_time": "2023-07-07T08:37:41.612Z"
   },
   {
    "duration": 17,
    "start_time": "2023-07-07T08:37:41.643Z"
   },
   {
    "duration": 7,
    "start_time": "2023-07-07T08:37:41.663Z"
   },
   {
    "duration": 16,
    "start_time": "2023-07-07T08:37:41.675Z"
   },
   {
    "duration": 9,
    "start_time": "2023-07-07T08:37:41.693Z"
   },
   {
    "duration": 8,
    "start_time": "2023-07-07T08:37:41.704Z"
   },
   {
    "duration": 9,
    "start_time": "2023-07-07T08:37:41.714Z"
   },
   {
    "duration": 12,
    "start_time": "2023-07-07T08:37:41.725Z"
   },
   {
    "duration": 9,
    "start_time": "2023-07-07T08:37:41.739Z"
   },
   {
    "duration": 10,
    "start_time": "2023-07-07T08:37:41.749Z"
   },
   {
    "duration": 5,
    "start_time": "2023-07-07T08:37:41.776Z"
   },
   {
    "duration": 6,
    "start_time": "2023-07-07T08:37:41.783Z"
   },
   {
    "duration": 7,
    "start_time": "2023-07-07T08:37:41.791Z"
   },
   {
    "duration": 10,
    "start_time": "2023-07-07T08:37:41.800Z"
   },
   {
    "duration": 11,
    "start_time": "2023-07-07T08:37:41.812Z"
   },
   {
    "duration": 6,
    "start_time": "2023-07-07T08:37:41.825Z"
   },
   {
    "duration": 204,
    "start_time": "2023-07-07T08:37:41.832Z"
   },
   {
    "duration": 5,
    "start_time": "2023-07-07T08:37:42.038Z"
   },
   {
    "duration": 10,
    "start_time": "2023-07-07T08:37:42.045Z"
   },
   {
    "duration": 135,
    "start_time": "2023-07-07T08:37:42.056Z"
   },
   {
    "duration": 7,
    "start_time": "2023-07-07T08:37:42.196Z"
   },
   {
    "duration": 11,
    "start_time": "2023-07-07T08:37:42.204Z"
   },
   {
    "duration": 241,
    "start_time": "2023-07-07T08:37:42.217Z"
   },
   {
    "duration": 21,
    "start_time": "2023-07-07T08:37:42.460Z"
   },
   {
    "duration": 185,
    "start_time": "2023-07-07T08:37:42.483Z"
   },
   {
    "duration": 170,
    "start_time": "2023-07-07T08:37:42.670Z"
   },
   {
    "duration": 10,
    "start_time": "2023-07-07T08:37:42.843Z"
   },
   {
    "duration": 197,
    "start_time": "2023-07-07T08:37:42.855Z"
   },
   {
    "duration": 163,
    "start_time": "2023-07-07T08:37:43.054Z"
   },
   {
    "duration": 11,
    "start_time": "2023-07-07T08:37:43.219Z"
   },
   {
    "duration": 12,
    "start_time": "2023-07-07T08:37:43.232Z"
   },
   {
    "duration": 41,
    "start_time": "2023-07-07T08:37:43.246Z"
   },
   {
    "duration": 9,
    "start_time": "2023-07-07T08:37:43.289Z"
   },
   {
    "duration": 19,
    "start_time": "2023-07-07T08:37:43.300Z"
   },
   {
    "duration": 9,
    "start_time": "2023-07-07T08:37:43.321Z"
   },
   {
    "duration": 22,
    "start_time": "2023-07-07T08:37:43.332Z"
   },
   {
    "duration": 9,
    "start_time": "2023-07-07T08:37:43.375Z"
   },
   {
    "duration": 192,
    "start_time": "2023-07-07T08:37:43.385Z"
   },
   {
    "duration": 9,
    "start_time": "2023-07-07T08:37:43.579Z"
   },
   {
    "duration": 249,
    "start_time": "2023-07-07T08:37:43.590Z"
   },
   {
    "duration": 9,
    "start_time": "2023-07-07T08:37:43.841Z"
   },
   {
    "duration": 226,
    "start_time": "2023-07-07T08:37:43.852Z"
   },
   {
    "duration": 9,
    "start_time": "2023-07-07T08:37:44.081Z"
   },
   {
    "duration": 198,
    "start_time": "2023-07-07T08:37:44.092Z"
   },
   {
    "duration": 834,
    "start_time": "2023-07-07T08:37:44.292Z"
   },
   {
    "duration": 4,
    "start_time": "2023-07-07T08:37:45.128Z"
   },
   {
    "duration": 4,
    "start_time": "2023-07-07T08:37:47.717Z"
   },
   {
    "duration": 21,
    "start_time": "2023-07-07T08:37:48.253Z"
   },
   {
    "duration": 836,
    "start_time": "2023-07-07T08:41:53.356Z"
   },
   {
    "duration": 1231,
    "start_time": "2023-07-07T08:42:03.661Z"
   },
   {
    "duration": 65,
    "start_time": "2023-07-07T08:42:04.894Z"
   },
   {
    "duration": 15,
    "start_time": "2023-07-07T08:42:04.961Z"
   },
   {
    "duration": 15,
    "start_time": "2023-07-07T08:42:04.978Z"
   },
   {
    "duration": 11,
    "start_time": "2023-07-07T08:42:04.995Z"
   },
   {
    "duration": 13,
    "start_time": "2023-07-07T08:42:05.008Z"
   },
   {
    "duration": 20,
    "start_time": "2023-07-07T08:42:05.023Z"
   },
   {
    "duration": 32,
    "start_time": "2023-07-07T08:42:05.045Z"
   },
   {
    "duration": 23,
    "start_time": "2023-07-07T08:42:05.079Z"
   },
   {
    "duration": 11,
    "start_time": "2023-07-07T08:42:05.106Z"
   },
   {
    "duration": 6,
    "start_time": "2023-07-07T08:42:05.119Z"
   },
   {
    "duration": 8,
    "start_time": "2023-07-07T08:42:05.127Z"
   },
   {
    "duration": 9,
    "start_time": "2023-07-07T08:42:05.137Z"
   },
   {
    "duration": 13,
    "start_time": "2023-07-07T08:42:05.148Z"
   },
   {
    "duration": 181,
    "start_time": "2023-07-07T08:42:05.162Z"
   },
   {
    "duration": 29,
    "start_time": "2023-07-07T08:42:05.345Z"
   },
   {
    "duration": 28,
    "start_time": "2023-07-07T08:42:05.376Z"
   },
   {
    "duration": 11,
    "start_time": "2023-07-07T08:42:05.406Z"
   },
   {
    "duration": 8,
    "start_time": "2023-07-07T08:42:05.419Z"
   },
   {
    "duration": 8,
    "start_time": "2023-07-07T08:42:05.429Z"
   },
   {
    "duration": 19,
    "start_time": "2023-07-07T08:42:05.439Z"
   },
   {
    "duration": 18,
    "start_time": "2023-07-07T08:42:05.463Z"
   },
   {
    "duration": 12,
    "start_time": "2023-07-07T08:42:05.482Z"
   },
   {
    "duration": 147,
    "start_time": "2023-07-07T08:42:05.496Z"
   },
   {
    "duration": 12,
    "start_time": "2023-07-07T08:42:05.644Z"
   },
   {
    "duration": 18,
    "start_time": "2023-07-07T08:42:05.658Z"
   },
   {
    "duration": 120,
    "start_time": "2023-07-07T08:42:05.677Z"
   },
   {
    "duration": 6,
    "start_time": "2023-07-07T08:42:05.801Z"
   },
   {
    "duration": 15,
    "start_time": "2023-07-07T08:42:05.809Z"
   },
   {
    "duration": 166,
    "start_time": "2023-07-07T08:42:05.826Z"
   },
   {
    "duration": 10,
    "start_time": "2023-07-07T08:42:05.994Z"
   },
   {
    "duration": 209,
    "start_time": "2023-07-07T08:42:06.006Z"
   },
   {
    "duration": 239,
    "start_time": "2023-07-07T08:42:06.217Z"
   },
   {
    "duration": 19,
    "start_time": "2023-07-07T08:42:06.459Z"
   },
   {
    "duration": 224,
    "start_time": "2023-07-07T08:42:06.479Z"
   },
   {
    "duration": 162,
    "start_time": "2023-07-07T08:42:06.705Z"
   },
   {
    "duration": 13,
    "start_time": "2023-07-07T08:42:06.869Z"
   },
   {
    "duration": 116,
    "start_time": "2023-07-07T08:42:06.884Z"
   },
   {
    "duration": 33,
    "start_time": "2023-07-07T08:42:07.002Z"
   },
   {
    "duration": 22,
    "start_time": "2023-07-07T08:42:07.037Z"
   },
   {
    "duration": 21,
    "start_time": "2023-07-07T08:42:07.061Z"
   },
   {
    "duration": 8,
    "start_time": "2023-07-07T08:42:07.084Z"
   },
   {
    "duration": 33,
    "start_time": "2023-07-07T08:42:07.094Z"
   },
   {
    "duration": 14,
    "start_time": "2023-07-07T08:42:07.129Z"
   },
   {
    "duration": 230,
    "start_time": "2023-07-07T08:42:07.145Z"
   },
   {
    "duration": 9,
    "start_time": "2023-07-07T08:42:07.377Z"
   },
   {
    "duration": 287,
    "start_time": "2023-07-07T08:42:07.388Z"
   },
   {
    "duration": 10,
    "start_time": "2023-07-07T08:42:07.677Z"
   },
   {
    "duration": 188,
    "start_time": "2023-07-07T08:42:07.689Z"
   },
   {
    "duration": 11,
    "start_time": "2023-07-07T08:42:07.879Z"
   },
   {
    "duration": 186,
    "start_time": "2023-07-07T08:42:07.892Z"
   },
   {
    "duration": 785,
    "start_time": "2023-07-07T08:42:08.080Z"
   },
   {
    "duration": 8,
    "start_time": "2023-07-07T08:42:08.867Z"
   },
   {
    "duration": 4,
    "start_time": "2023-07-07T08:42:12.062Z"
   },
   {
    "duration": 19,
    "start_time": "2023-07-07T08:42:13.381Z"
   },
   {
    "duration": 19,
    "start_time": "2023-07-07T08:43:19.008Z"
   },
   {
    "duration": 15,
    "start_time": "2023-07-07T08:43:23.138Z"
   },
   {
    "duration": 18,
    "start_time": "2023-07-07T08:44:14.052Z"
   },
   {
    "duration": 992,
    "start_time": "2023-07-07T08:46:35.070Z"
   },
   {
    "duration": 4,
    "start_time": "2023-07-07T08:46:36.064Z"
   },
   {
    "duration": 18,
    "start_time": "2023-07-07T08:46:36.189Z"
   },
   {
    "duration": 1425,
    "start_time": "2023-07-07T08:46:49.525Z"
   },
   {
    "duration": 72,
    "start_time": "2023-07-07T08:46:50.955Z"
   },
   {
    "duration": 18,
    "start_time": "2023-07-07T08:46:51.029Z"
   },
   {
    "duration": 16,
    "start_time": "2023-07-07T08:46:51.049Z"
   },
   {
    "duration": 18,
    "start_time": "2023-07-07T08:46:51.067Z"
   },
   {
    "duration": 42,
    "start_time": "2023-07-07T08:46:51.087Z"
   },
   {
    "duration": 30,
    "start_time": "2023-07-07T08:46:51.132Z"
   },
   {
    "duration": 48,
    "start_time": "2023-07-07T08:46:51.165Z"
   },
   {
    "duration": 40,
    "start_time": "2023-07-07T08:46:51.215Z"
   },
   {
    "duration": 31,
    "start_time": "2023-07-07T08:46:51.259Z"
   },
   {
    "duration": 17,
    "start_time": "2023-07-07T08:46:51.292Z"
   },
   {
    "duration": 18,
    "start_time": "2023-07-07T08:46:51.312Z"
   },
   {
    "duration": 9,
    "start_time": "2023-07-07T08:46:51.333Z"
   },
   {
    "duration": 7,
    "start_time": "2023-07-07T08:46:51.344Z"
   },
   {
    "duration": 45,
    "start_time": "2023-07-07T08:46:51.353Z"
   },
   {
    "duration": 25,
    "start_time": "2023-07-07T08:46:51.400Z"
   },
   {
    "duration": 23,
    "start_time": "2023-07-07T08:46:51.427Z"
   },
   {
    "duration": 15,
    "start_time": "2023-07-07T08:46:51.452Z"
   },
   {
    "duration": 10,
    "start_time": "2023-07-07T08:46:51.469Z"
   },
   {
    "duration": 11,
    "start_time": "2023-07-07T08:46:51.481Z"
   },
   {
    "duration": 30,
    "start_time": "2023-07-07T08:46:51.493Z"
   },
   {
    "duration": 9,
    "start_time": "2023-07-07T08:46:51.524Z"
   },
   {
    "duration": 9,
    "start_time": "2023-07-07T08:46:51.535Z"
   },
   {
    "duration": 192,
    "start_time": "2023-07-07T08:46:51.546Z"
   },
   {
    "duration": 5,
    "start_time": "2023-07-07T08:46:51.740Z"
   },
   {
    "duration": 20,
    "start_time": "2023-07-07T08:46:51.747Z"
   },
   {
    "duration": 174,
    "start_time": "2023-07-07T08:46:51.770Z"
   },
   {
    "duration": 5,
    "start_time": "2023-07-07T08:46:51.949Z"
   },
   {
    "duration": 23,
    "start_time": "2023-07-07T08:46:51.956Z"
   },
   {
    "duration": 196,
    "start_time": "2023-07-07T08:46:51.981Z"
   },
   {
    "duration": 9,
    "start_time": "2023-07-07T08:46:52.179Z"
   },
   {
    "duration": 260,
    "start_time": "2023-07-07T08:46:52.190Z"
   },
   {
    "duration": 185,
    "start_time": "2023-07-07T08:46:52.452Z"
   },
   {
    "duration": 12,
    "start_time": "2023-07-07T08:46:52.639Z"
   },
   {
    "duration": 262,
    "start_time": "2023-07-07T08:46:52.653Z"
   },
   {
    "duration": 226,
    "start_time": "2023-07-07T08:46:52.917Z"
   },
   {
    "duration": 14,
    "start_time": "2023-07-07T08:46:53.145Z"
   },
   {
    "duration": 24,
    "start_time": "2023-07-07T08:46:53.161Z"
   },
   {
    "duration": 31,
    "start_time": "2023-07-07T08:46:53.188Z"
   },
   {
    "duration": 65,
    "start_time": "2023-07-07T08:46:53.221Z"
   },
   {
    "duration": 31,
    "start_time": "2023-07-07T08:46:53.292Z"
   },
   {
    "duration": 39,
    "start_time": "2023-07-07T08:46:53.326Z"
   },
   {
    "duration": 48,
    "start_time": "2023-07-07T08:46:53.368Z"
   },
   {
    "duration": 32,
    "start_time": "2023-07-07T08:46:53.418Z"
   },
   {
    "duration": 307,
    "start_time": "2023-07-07T08:46:53.452Z"
   },
   {
    "duration": 15,
    "start_time": "2023-07-07T08:46:53.761Z"
   },
   {
    "duration": 349,
    "start_time": "2023-07-07T08:46:53.778Z"
   },
   {
    "duration": 13,
    "start_time": "2023-07-07T08:46:54.129Z"
   },
   {
    "duration": 242,
    "start_time": "2023-07-07T08:46:54.144Z"
   },
   {
    "duration": 10,
    "start_time": "2023-07-07T08:46:54.388Z"
   },
   {
    "duration": 236,
    "start_time": "2023-07-07T08:46:54.400Z"
   },
   {
    "duration": 837,
    "start_time": "2023-07-07T08:46:54.638Z"
   },
   {
    "duration": 4,
    "start_time": "2023-07-07T08:46:55.478Z"
   },
   {
    "duration": 24,
    "start_time": "2023-07-07T08:46:55.484Z"
   },
   {
    "duration": 14,
    "start_time": "2023-07-07T08:47:19.364Z"
   },
   {
    "duration": 3,
    "start_time": "2023-07-07T08:53:16.936Z"
   },
   {
    "duration": 4,
    "start_time": "2023-07-07T08:54:03.107Z"
   },
   {
    "duration": 4,
    "start_time": "2023-07-07T08:54:21.584Z"
   },
   {
    "duration": 19,
    "start_time": "2023-07-07T08:54:23.331Z"
   },
   {
    "duration": 1060,
    "start_time": "2023-07-07T08:54:34.408Z"
   },
   {
    "duration": 67,
    "start_time": "2023-07-07T08:54:35.470Z"
   },
   {
    "duration": 14,
    "start_time": "2023-07-07T08:54:35.538Z"
   },
   {
    "duration": 11,
    "start_time": "2023-07-07T08:54:35.555Z"
   },
   {
    "duration": 16,
    "start_time": "2023-07-07T08:54:35.568Z"
   },
   {
    "duration": 22,
    "start_time": "2023-07-07T08:54:35.586Z"
   },
   {
    "duration": 9,
    "start_time": "2023-07-07T08:54:35.610Z"
   },
   {
    "duration": 24,
    "start_time": "2023-07-07T08:54:35.620Z"
   },
   {
    "duration": 9,
    "start_time": "2023-07-07T08:54:35.646Z"
   },
   {
    "duration": 20,
    "start_time": "2023-07-07T08:54:35.658Z"
   },
   {
    "duration": 5,
    "start_time": "2023-07-07T08:54:35.680Z"
   },
   {
    "duration": 10,
    "start_time": "2023-07-07T08:54:35.687Z"
   },
   {
    "duration": 14,
    "start_time": "2023-07-07T08:54:35.699Z"
   },
   {
    "duration": 7,
    "start_time": "2023-07-07T08:54:35.715Z"
   },
   {
    "duration": 13,
    "start_time": "2023-07-07T08:54:35.724Z"
   },
   {
    "duration": 7,
    "start_time": "2023-07-07T08:54:35.739Z"
   },
   {
    "duration": 34,
    "start_time": "2023-07-07T08:54:35.748Z"
   },
   {
    "duration": 6,
    "start_time": "2023-07-07T08:54:35.784Z"
   },
   {
    "duration": 8,
    "start_time": "2023-07-07T08:54:35.792Z"
   },
   {
    "duration": 12,
    "start_time": "2023-07-07T08:54:35.802Z"
   },
   {
    "duration": 10,
    "start_time": "2023-07-07T08:54:35.816Z"
   },
   {
    "duration": 23,
    "start_time": "2023-07-07T08:54:35.828Z"
   },
   {
    "duration": 15,
    "start_time": "2023-07-07T08:54:35.853Z"
   },
   {
    "duration": 167,
    "start_time": "2023-07-07T08:54:35.869Z"
   },
   {
    "duration": 4,
    "start_time": "2023-07-07T08:54:36.038Z"
   },
   {
    "duration": 12,
    "start_time": "2023-07-07T08:54:36.044Z"
   },
   {
    "duration": 135,
    "start_time": "2023-07-07T08:54:36.059Z"
   },
   {
    "duration": 6,
    "start_time": "2023-07-07T08:54:36.199Z"
   },
   {
    "duration": 12,
    "start_time": "2023-07-07T08:54:36.207Z"
   },
   {
    "duration": 210,
    "start_time": "2023-07-07T08:54:36.221Z"
   },
   {
    "duration": 12,
    "start_time": "2023-07-07T08:54:36.433Z"
   },
   {
    "duration": 274,
    "start_time": "2023-07-07T08:54:36.450Z"
   },
   {
    "duration": 202,
    "start_time": "2023-07-07T08:54:36.726Z"
   },
   {
    "duration": 10,
    "start_time": "2023-07-07T08:54:36.930Z"
   },
   {
    "duration": 211,
    "start_time": "2023-07-07T08:54:36.942Z"
   },
   {
    "duration": 230,
    "start_time": "2023-07-07T08:54:37.155Z"
   },
   {
    "duration": 14,
    "start_time": "2023-07-07T08:54:37.387Z"
   },
   {
    "duration": 18,
    "start_time": "2023-07-07T08:54:37.403Z"
   },
   {
    "duration": 26,
    "start_time": "2023-07-07T08:54:37.424Z"
   },
   {
    "duration": 10,
    "start_time": "2023-07-07T08:54:37.476Z"
   },
   {
    "duration": 24,
    "start_time": "2023-07-07T08:54:37.488Z"
   },
   {
    "duration": 7,
    "start_time": "2023-07-07T08:54:37.514Z"
   },
   {
    "duration": 54,
    "start_time": "2023-07-07T08:54:37.523Z"
   },
   {
    "duration": 9,
    "start_time": "2023-07-07T08:54:37.578Z"
   },
   {
    "duration": 203,
    "start_time": "2023-07-07T08:54:37.588Z"
   },
   {
    "duration": 10,
    "start_time": "2023-07-07T08:54:37.792Z"
   },
   {
    "duration": 267,
    "start_time": "2023-07-07T08:54:37.804Z"
   },
   {
    "duration": 10,
    "start_time": "2023-07-07T08:54:38.074Z"
   },
   {
    "duration": 184,
    "start_time": "2023-07-07T08:54:38.086Z"
   },
   {
    "duration": 11,
    "start_time": "2023-07-07T08:54:38.275Z"
   },
   {
    "duration": 202,
    "start_time": "2023-07-07T08:54:38.288Z"
   },
   {
    "duration": 784,
    "start_time": "2023-07-07T08:54:38.492Z"
   },
   {
    "duration": 3,
    "start_time": "2023-07-07T08:54:39.279Z"
   },
   {
    "duration": 7,
    "start_time": "2023-07-07T08:54:39.284Z"
   },
   {
    "duration": 20,
    "start_time": "2023-07-07T08:54:39.293Z"
   },
   {
    "duration": 1670,
    "start_time": "2023-07-07T08:55:09.030Z"
   },
   {
    "duration": 77,
    "start_time": "2023-07-07T08:55:10.702Z"
   },
   {
    "duration": 17,
    "start_time": "2023-07-07T08:55:10.792Z"
   },
   {
    "duration": 33,
    "start_time": "2023-07-07T08:55:10.813Z"
   },
   {
    "duration": 25,
    "start_time": "2023-07-07T08:55:10.848Z"
   },
   {
    "duration": 33,
    "start_time": "2023-07-07T08:55:10.875Z"
   },
   {
    "duration": 46,
    "start_time": "2023-07-07T08:55:10.910Z"
   },
   {
    "duration": 32,
    "start_time": "2023-07-07T08:55:10.958Z"
   },
   {
    "duration": 33,
    "start_time": "2023-07-07T08:55:10.993Z"
   },
   {
    "duration": 16,
    "start_time": "2023-07-07T08:55:11.029Z"
   },
   {
    "duration": 40,
    "start_time": "2023-07-07T08:55:11.047Z"
   },
   {
    "duration": 41,
    "start_time": "2023-07-07T08:55:11.089Z"
   },
   {
    "duration": 36,
    "start_time": "2023-07-07T08:55:11.132Z"
   },
   {
    "duration": 24,
    "start_time": "2023-07-07T08:55:11.170Z"
   },
   {
    "duration": 34,
    "start_time": "2023-07-07T08:55:11.196Z"
   },
   {
    "duration": 21,
    "start_time": "2023-07-07T08:55:11.233Z"
   },
   {
    "duration": 19,
    "start_time": "2023-07-07T08:55:11.256Z"
   },
   {
    "duration": 17,
    "start_time": "2023-07-07T08:55:11.278Z"
   },
   {
    "duration": 17,
    "start_time": "2023-07-07T08:55:11.297Z"
   },
   {
    "duration": 7,
    "start_time": "2023-07-07T08:55:11.316Z"
   },
   {
    "duration": 14,
    "start_time": "2023-07-07T08:55:11.325Z"
   },
   {
    "duration": 18,
    "start_time": "2023-07-07T08:55:11.341Z"
   },
   {
    "duration": 7,
    "start_time": "2023-07-07T08:55:11.361Z"
   },
   {
    "duration": 233,
    "start_time": "2023-07-07T08:55:11.374Z"
   },
   {
    "duration": 8,
    "start_time": "2023-07-07T08:55:11.610Z"
   },
   {
    "duration": 18,
    "start_time": "2023-07-07T08:55:11.620Z"
   },
   {
    "duration": 195,
    "start_time": "2023-07-07T08:55:11.639Z"
   },
   {
    "duration": 6,
    "start_time": "2023-07-07T08:55:11.838Z"
   },
   {
    "duration": 30,
    "start_time": "2023-07-07T08:55:11.846Z"
   },
   {
    "duration": 302,
    "start_time": "2023-07-07T08:55:11.878Z"
   },
   {
    "duration": 13,
    "start_time": "2023-07-07T08:55:12.182Z"
   },
   {
    "duration": 249,
    "start_time": "2023-07-07T08:55:12.197Z"
   },
   {
    "duration": 226,
    "start_time": "2023-07-07T08:55:12.449Z"
   },
   {
    "duration": 11,
    "start_time": "2023-07-07T08:55:12.677Z"
   },
   {
    "duration": 208,
    "start_time": "2023-07-07T08:55:12.690Z"
   },
   {
    "duration": 212,
    "start_time": "2023-07-07T08:55:12.900Z"
   },
   {
    "duration": 11,
    "start_time": "2023-07-07T08:55:13.114Z"
   },
   {
    "duration": 10,
    "start_time": "2023-07-07T08:55:13.127Z"
   },
   {
    "duration": 41,
    "start_time": "2023-07-07T08:55:13.139Z"
   },
   {
    "duration": 11,
    "start_time": "2023-07-07T08:55:13.182Z"
   },
   {
    "duration": 33,
    "start_time": "2023-07-07T08:55:13.195Z"
   },
   {
    "duration": 13,
    "start_time": "2023-07-07T08:55:13.230Z"
   },
   {
    "duration": 42,
    "start_time": "2023-07-07T08:55:13.245Z"
   },
   {
    "duration": 16,
    "start_time": "2023-07-07T08:55:13.289Z"
   },
   {
    "duration": 199,
    "start_time": "2023-07-07T08:55:13.307Z"
   },
   {
    "duration": 9,
    "start_time": "2023-07-07T08:55:13.508Z"
   },
   {
    "duration": 280,
    "start_time": "2023-07-07T08:55:13.519Z"
   },
   {
    "duration": 8,
    "start_time": "2023-07-07T08:55:13.801Z"
   },
   {
    "duration": 200,
    "start_time": "2023-07-07T08:55:13.811Z"
   },
   {
    "duration": 11,
    "start_time": "2023-07-07T08:55:14.012Z"
   },
   {
    "duration": 217,
    "start_time": "2023-07-07T08:55:14.025Z"
   },
   {
    "duration": 934,
    "start_time": "2023-07-07T08:55:14.244Z"
   },
   {
    "duration": 4,
    "start_time": "2023-07-07T08:55:15.180Z"
   },
   {
    "duration": 47,
    "start_time": "2023-07-07T08:55:15.189Z"
   },
   {
    "duration": 4,
    "start_time": "2023-07-07T08:55:16.775Z"
   },
   {
    "duration": 19,
    "start_time": "2023-07-07T08:55:17.544Z"
   },
   {
    "duration": 5,
    "start_time": "2023-07-07T08:55:23.407Z"
   },
   {
    "duration": 125,
    "start_time": "2023-07-07T08:56:48.371Z"
   },
   {
    "duration": 4,
    "start_time": "2023-07-07T08:57:52.107Z"
   },
   {
    "duration": 29,
    "start_time": "2023-07-07T08:57:52.650Z"
   },
   {
    "duration": 12,
    "start_time": "2023-07-07T08:58:19.912Z"
   },
   {
    "duration": 1500,
    "start_time": "2023-07-07T08:58:35.253Z"
   },
   {
    "duration": 73,
    "start_time": "2023-07-07T08:58:36.755Z"
   },
   {
    "duration": 14,
    "start_time": "2023-07-07T08:58:36.830Z"
   },
   {
    "duration": 29,
    "start_time": "2023-07-07T08:58:36.846Z"
   },
   {
    "duration": 27,
    "start_time": "2023-07-07T08:58:36.876Z"
   },
   {
    "duration": 23,
    "start_time": "2023-07-07T08:58:36.906Z"
   },
   {
    "duration": 8,
    "start_time": "2023-07-07T08:58:36.931Z"
   },
   {
    "duration": 13,
    "start_time": "2023-07-07T08:58:36.941Z"
   },
   {
    "duration": 20,
    "start_time": "2023-07-07T08:58:36.955Z"
   },
   {
    "duration": 12,
    "start_time": "2023-07-07T08:58:36.978Z"
   },
   {
    "duration": 17,
    "start_time": "2023-07-07T08:58:36.992Z"
   },
   {
    "duration": 13,
    "start_time": "2023-07-07T08:58:37.010Z"
   },
   {
    "duration": 11,
    "start_time": "2023-07-07T08:58:37.025Z"
   },
   {
    "duration": 6,
    "start_time": "2023-07-07T08:58:37.037Z"
   },
   {
    "duration": 18,
    "start_time": "2023-07-07T08:58:37.045Z"
   },
   {
    "duration": 23,
    "start_time": "2023-07-07T08:58:37.065Z"
   },
   {
    "duration": 25,
    "start_time": "2023-07-07T08:58:37.091Z"
   },
   {
    "duration": 6,
    "start_time": "2023-07-07T08:58:37.118Z"
   },
   {
    "duration": 10,
    "start_time": "2023-07-07T08:58:37.126Z"
   },
   {
    "duration": 10,
    "start_time": "2023-07-07T08:58:37.138Z"
   },
   {
    "duration": 22,
    "start_time": "2023-07-07T08:58:37.150Z"
   },
   {
    "duration": 12,
    "start_time": "2023-07-07T08:58:37.174Z"
   },
   {
    "duration": 20,
    "start_time": "2023-07-07T08:58:37.188Z"
   },
   {
    "duration": 157,
    "start_time": "2023-07-07T08:58:37.210Z"
   },
   {
    "duration": 9,
    "start_time": "2023-07-07T08:58:37.369Z"
   },
   {
    "duration": 21,
    "start_time": "2023-07-07T08:58:37.380Z"
   },
   {
    "duration": 121,
    "start_time": "2023-07-07T08:58:37.403Z"
   },
   {
    "duration": 6,
    "start_time": "2023-07-07T08:58:37.529Z"
   },
   {
    "duration": 10,
    "start_time": "2023-07-07T08:58:37.537Z"
   },
   {
    "duration": 183,
    "start_time": "2023-07-07T08:58:37.549Z"
   },
   {
    "duration": 11,
    "start_time": "2023-07-07T08:58:37.734Z"
   },
   {
    "duration": 279,
    "start_time": "2023-07-07T08:58:37.747Z"
   },
   {
    "duration": 203,
    "start_time": "2023-07-07T08:58:38.028Z"
   },
   {
    "duration": 12,
    "start_time": "2023-07-07T08:58:38.233Z"
   },
   {
    "duration": 204,
    "start_time": "2023-07-07T08:58:38.247Z"
   },
   {
    "duration": 169,
    "start_time": "2023-07-07T08:58:38.453Z"
   },
   {
    "duration": 16,
    "start_time": "2023-07-07T08:58:38.625Z"
   },
   {
    "duration": 10,
    "start_time": "2023-07-07T08:58:38.643Z"
   },
   {
    "duration": 36,
    "start_time": "2023-07-07T08:58:38.655Z"
   },
   {
    "duration": 10,
    "start_time": "2023-07-07T08:58:38.692Z"
   },
   {
    "duration": 18,
    "start_time": "2023-07-07T08:58:38.704Z"
   },
   {
    "duration": 7,
    "start_time": "2023-07-07T08:58:38.724Z"
   },
   {
    "duration": 55,
    "start_time": "2023-07-07T08:58:38.733Z"
   },
   {
    "duration": 9,
    "start_time": "2023-07-07T08:58:38.790Z"
   },
   {
    "duration": 199,
    "start_time": "2023-07-07T08:58:38.801Z"
   },
   {
    "duration": 10,
    "start_time": "2023-07-07T08:58:39.002Z"
   },
   {
    "duration": 281,
    "start_time": "2023-07-07T08:58:39.014Z"
   },
   {
    "duration": 11,
    "start_time": "2023-07-07T08:58:39.297Z"
   },
   {
    "duration": 183,
    "start_time": "2023-07-07T08:58:39.310Z"
   },
   {
    "duration": 10,
    "start_time": "2023-07-07T08:58:39.495Z"
   },
   {
    "duration": 196,
    "start_time": "2023-07-07T08:58:39.507Z"
   },
   {
    "duration": 859,
    "start_time": "2023-07-07T08:58:39.704Z"
   },
   {
    "duration": 3,
    "start_time": "2023-07-07T08:58:40.566Z"
   },
   {
    "duration": 4,
    "start_time": "2023-07-07T08:58:40.571Z"
   },
   {
    "duration": 34,
    "start_time": "2023-07-07T08:58:40.577Z"
   },
   {
    "duration": 4,
    "start_time": "2023-07-07T08:58:40.613Z"
   },
   {
    "duration": 167,
    "start_time": "2023-07-07T08:58:40.619Z"
   },
   {
    "duration": 9,
    "start_time": "2023-07-07T08:58:56.728Z"
   },
   {
    "duration": 9,
    "start_time": "2023-07-07T08:59:08.558Z"
   },
   {
    "duration": 1144,
    "start_time": "2023-07-07T08:59:48.712Z"
   },
   {
    "duration": 65,
    "start_time": "2023-07-07T08:59:49.858Z"
   },
   {
    "duration": 17,
    "start_time": "2023-07-07T08:59:49.924Z"
   },
   {
    "duration": 13,
    "start_time": "2023-07-07T08:59:49.944Z"
   },
   {
    "duration": 17,
    "start_time": "2023-07-07T08:59:49.959Z"
   },
   {
    "duration": 19,
    "start_time": "2023-07-07T08:59:49.978Z"
   },
   {
    "duration": 7,
    "start_time": "2023-07-07T08:59:49.998Z"
   },
   {
    "duration": 26,
    "start_time": "2023-07-07T08:59:50.007Z"
   },
   {
    "duration": 36,
    "start_time": "2023-07-07T08:59:50.035Z"
   },
   {
    "duration": 28,
    "start_time": "2023-07-07T08:59:50.073Z"
   },
   {
    "duration": 22,
    "start_time": "2023-07-07T08:59:50.103Z"
   },
   {
    "duration": 7,
    "start_time": "2023-07-07T08:59:50.127Z"
   },
   {
    "duration": 16,
    "start_time": "2023-07-07T08:59:50.138Z"
   },
   {
    "duration": 20,
    "start_time": "2023-07-07T08:59:50.156Z"
   },
   {
    "duration": 12,
    "start_time": "2023-07-07T08:59:50.178Z"
   },
   {
    "duration": 16,
    "start_time": "2023-07-07T08:59:50.192Z"
   },
   {
    "duration": 27,
    "start_time": "2023-07-07T08:59:50.209Z"
   },
   {
    "duration": 10,
    "start_time": "2023-07-07T08:59:50.238Z"
   },
   {
    "duration": 10,
    "start_time": "2023-07-07T08:59:50.250Z"
   },
   {
    "duration": 17,
    "start_time": "2023-07-07T08:59:50.263Z"
   },
   {
    "duration": 19,
    "start_time": "2023-07-07T08:59:50.281Z"
   },
   {
    "duration": 13,
    "start_time": "2023-07-07T08:59:50.302Z"
   },
   {
    "duration": 7,
    "start_time": "2023-07-07T08:59:50.317Z"
   },
   {
    "duration": 168,
    "start_time": "2023-07-07T08:59:50.326Z"
   },
   {
    "duration": 6,
    "start_time": "2023-07-07T08:59:50.496Z"
   },
   {
    "duration": 19,
    "start_time": "2023-07-07T08:59:50.504Z"
   },
   {
    "duration": 134,
    "start_time": "2023-07-07T08:59:50.525Z"
   },
   {
    "duration": 17,
    "start_time": "2023-07-07T08:59:50.661Z"
   },
   {
    "duration": 9,
    "start_time": "2023-07-07T08:59:50.679Z"
   },
   {
    "duration": 169,
    "start_time": "2023-07-07T08:59:50.690Z"
   },
   {
    "duration": 17,
    "start_time": "2023-07-07T08:59:50.860Z"
   },
   {
    "duration": 214,
    "start_time": "2023-07-07T08:59:50.879Z"
   },
   {
    "duration": 191,
    "start_time": "2023-07-07T08:59:51.095Z"
   },
   {
    "duration": 9,
    "start_time": "2023-07-07T08:59:51.289Z"
   },
   {
    "duration": 184,
    "start_time": "2023-07-07T08:59:51.300Z"
   },
   {
    "duration": 175,
    "start_time": "2023-07-07T08:59:51.486Z"
   },
   {
    "duration": 24,
    "start_time": "2023-07-07T08:59:51.663Z"
   },
   {
    "duration": 17,
    "start_time": "2023-07-07T08:59:51.689Z"
   },
   {
    "duration": 26,
    "start_time": "2023-07-07T08:59:51.708Z"
   },
   {
    "duration": 9,
    "start_time": "2023-07-07T08:59:51.738Z"
   },
   {
    "duration": 29,
    "start_time": "2023-07-07T08:59:51.748Z"
   },
   {
    "duration": 20,
    "start_time": "2023-07-07T08:59:51.779Z"
   },
   {
    "duration": 37,
    "start_time": "2023-07-07T08:59:51.801Z"
   },
   {
    "duration": 20,
    "start_time": "2023-07-07T08:59:51.840Z"
   },
   {
    "duration": 198,
    "start_time": "2023-07-07T08:59:51.862Z"
   },
   {
    "duration": 20,
    "start_time": "2023-07-07T08:59:52.062Z"
   },
   {
    "duration": 296,
    "start_time": "2023-07-07T08:59:52.084Z"
   },
   {
    "duration": 9,
    "start_time": "2023-07-07T08:59:52.383Z"
   },
   {
    "duration": 215,
    "start_time": "2023-07-07T08:59:52.393Z"
   },
   {
    "duration": 9,
    "start_time": "2023-07-07T08:59:52.610Z"
   },
   {
    "duration": 179,
    "start_time": "2023-07-07T08:59:52.621Z"
   },
   {
    "duration": 869,
    "start_time": "2023-07-07T08:59:52.801Z"
   },
   {
    "duration": 4,
    "start_time": "2023-07-07T08:59:53.674Z"
   },
   {
    "duration": 19,
    "start_time": "2023-07-07T08:59:53.680Z"
   },
   {
    "duration": 33,
    "start_time": "2023-07-07T08:59:53.701Z"
   },
   {
    "duration": 18,
    "start_time": "2023-07-07T08:59:53.736Z"
   },
   {
    "duration": 219,
    "start_time": "2023-07-07T08:59:53.756Z"
   },
   {
    "duration": 0,
    "start_time": "2023-07-07T08:59:57.395Z"
   },
   {
    "duration": 3877,
    "start_time": "2023-07-07T09:00:03.518Z"
   },
   {
    "duration": 8,
    "start_time": "2023-07-07T09:00:18.837Z"
   },
   {
    "duration": 1296,
    "start_time": "2023-07-07T09:00:29.573Z"
   },
   {
    "duration": 69,
    "start_time": "2023-07-07T09:00:30.872Z"
   },
   {
    "duration": 16,
    "start_time": "2023-07-07T09:00:30.943Z"
   },
   {
    "duration": 67,
    "start_time": "2023-07-07T09:00:30.962Z"
   },
   {
    "duration": 82,
    "start_time": "2023-07-07T09:00:31.031Z"
   },
   {
    "duration": 74,
    "start_time": "2023-07-07T09:00:31.116Z"
   },
   {
    "duration": 52,
    "start_time": "2023-07-07T09:00:31.193Z"
   },
   {
    "duration": 68,
    "start_time": "2023-07-07T09:00:31.247Z"
   },
   {
    "duration": 205,
    "start_time": "2023-07-07T09:00:31.317Z"
   },
   {
    "duration": 162,
    "start_time": "2023-07-07T09:00:31.525Z"
   },
   {
    "duration": 56,
    "start_time": "2023-07-07T09:00:31.689Z"
   },
   {
    "duration": 38,
    "start_time": "2023-07-07T09:00:31.747Z"
   },
   {
    "duration": 46,
    "start_time": "2023-07-07T09:00:31.787Z"
   },
   {
    "duration": 52,
    "start_time": "2023-07-07T09:00:31.836Z"
   },
   {
    "duration": 183,
    "start_time": "2023-07-07T09:00:31.890Z"
   },
   {
    "duration": 84,
    "start_time": "2023-07-07T09:00:32.076Z"
   },
   {
    "duration": 33,
    "start_time": "2023-07-07T09:00:32.161Z"
   },
   {
    "duration": 65,
    "start_time": "2023-07-07T09:00:32.196Z"
   },
   {
    "duration": 32,
    "start_time": "2023-07-07T09:00:32.263Z"
   },
   {
    "duration": 28,
    "start_time": "2023-07-07T09:00:32.297Z"
   },
   {
    "duration": 50,
    "start_time": "2023-07-07T09:00:32.327Z"
   },
   {
    "duration": 32,
    "start_time": "2023-07-07T09:00:32.381Z"
   },
   {
    "duration": 84,
    "start_time": "2023-07-07T09:00:32.415Z"
   },
   {
    "duration": 201,
    "start_time": "2023-07-07T09:00:32.501Z"
   },
   {
    "duration": 5,
    "start_time": "2023-07-07T09:00:32.704Z"
   },
   {
    "duration": 28,
    "start_time": "2023-07-07T09:00:32.711Z"
   },
   {
    "duration": 176,
    "start_time": "2023-07-07T09:00:32.742Z"
   },
   {
    "duration": 5,
    "start_time": "2023-07-07T09:00:32.923Z"
   },
   {
    "duration": 28,
    "start_time": "2023-07-07T09:00:32.930Z"
   },
   {
    "duration": 190,
    "start_time": "2023-07-07T09:00:32.960Z"
   },
   {
    "duration": 13,
    "start_time": "2023-07-07T09:00:33.152Z"
   },
   {
    "duration": 219,
    "start_time": "2023-07-07T09:00:33.175Z"
   },
   {
    "duration": 217,
    "start_time": "2023-07-07T09:00:33.396Z"
   },
   {
    "duration": 12,
    "start_time": "2023-07-07T09:00:33.614Z"
   },
   {
    "duration": 230,
    "start_time": "2023-07-07T09:00:33.629Z"
   },
   {
    "duration": 209,
    "start_time": "2023-07-07T09:00:33.862Z"
   },
   {
    "duration": 13,
    "start_time": "2023-07-07T09:00:34.075Z"
   },
   {
    "duration": 14,
    "start_time": "2023-07-07T09:00:34.089Z"
   },
   {
    "duration": 24,
    "start_time": "2023-07-07T09:00:34.105Z"
   },
   {
    "duration": 19,
    "start_time": "2023-07-07T09:00:34.131Z"
   },
   {
    "duration": 41,
    "start_time": "2023-07-07T09:00:34.153Z"
   },
   {
    "duration": 8,
    "start_time": "2023-07-07T09:00:34.196Z"
   },
   {
    "duration": 29,
    "start_time": "2023-07-07T09:00:34.206Z"
   },
   {
    "duration": 26,
    "start_time": "2023-07-07T09:00:34.237Z"
   },
   {
    "duration": 259,
    "start_time": "2023-07-07T09:00:34.266Z"
   },
   {
    "duration": 11,
    "start_time": "2023-07-07T09:00:34.527Z"
   },
   {
    "duration": 349,
    "start_time": "2023-07-07T09:00:34.540Z"
   },
   {
    "duration": 9,
    "start_time": "2023-07-07T09:00:34.891Z"
   },
   {
    "duration": 230,
    "start_time": "2023-07-07T09:00:34.902Z"
   },
   {
    "duration": 8,
    "start_time": "2023-07-07T09:00:35.134Z"
   },
   {
    "duration": 178,
    "start_time": "2023-07-07T09:00:35.143Z"
   },
   {
    "duration": 844,
    "start_time": "2023-07-07T09:00:35.322Z"
   },
   {
    "duration": 6,
    "start_time": "2023-07-07T09:00:36.175Z"
   },
   {
    "duration": 11,
    "start_time": "2023-07-07T09:00:36.183Z"
   },
   {
    "duration": 34,
    "start_time": "2023-07-07T09:00:36.196Z"
   },
   {
    "duration": 3,
    "start_time": "2023-07-07T09:00:36.231Z"
   },
   {
    "duration": 213,
    "start_time": "2023-07-07T09:00:36.236Z"
   },
   {
    "duration": 194,
    "start_time": "2023-07-07T09:00:38.430Z"
   },
   {
    "duration": 9,
    "start_time": "2023-07-07T09:00:38.946Z"
   },
   {
    "duration": 1218,
    "start_time": "2023-07-07T09:00:52.757Z"
   },
   {
    "duration": 72,
    "start_time": "2023-07-07T09:00:53.977Z"
   },
   {
    "duration": 19,
    "start_time": "2023-07-07T09:00:54.051Z"
   },
   {
    "duration": 13,
    "start_time": "2023-07-07T09:00:54.074Z"
   },
   {
    "duration": 22,
    "start_time": "2023-07-07T09:00:54.090Z"
   },
   {
    "duration": 24,
    "start_time": "2023-07-07T09:00:54.114Z"
   },
   {
    "duration": 10,
    "start_time": "2023-07-07T09:00:54.140Z"
   },
   {
    "duration": 28,
    "start_time": "2023-07-07T09:00:54.152Z"
   },
   {
    "duration": 11,
    "start_time": "2023-07-07T09:00:54.182Z"
   },
   {
    "duration": 8,
    "start_time": "2023-07-07T09:00:54.195Z"
   },
   {
    "duration": 7,
    "start_time": "2023-07-07T09:00:54.205Z"
   },
   {
    "duration": 7,
    "start_time": "2023-07-07T09:00:54.213Z"
   },
   {
    "duration": 18,
    "start_time": "2023-07-07T09:00:54.224Z"
   },
   {
    "duration": 32,
    "start_time": "2023-07-07T09:00:54.245Z"
   },
   {
    "duration": 11,
    "start_time": "2023-07-07T09:00:54.279Z"
   },
   {
    "duration": 7,
    "start_time": "2023-07-07T09:00:54.292Z"
   },
   {
    "duration": 12,
    "start_time": "2023-07-07T09:00:54.301Z"
   },
   {
    "duration": 6,
    "start_time": "2023-07-07T09:00:54.315Z"
   },
   {
    "duration": 13,
    "start_time": "2023-07-07T09:00:54.322Z"
   },
   {
    "duration": 5,
    "start_time": "2023-07-07T09:00:54.337Z"
   },
   {
    "duration": 32,
    "start_time": "2023-07-07T09:00:54.344Z"
   },
   {
    "duration": 32,
    "start_time": "2023-07-07T09:00:54.378Z"
   },
   {
    "duration": 20,
    "start_time": "2023-07-07T09:00:54.412Z"
   },
   {
    "duration": 184,
    "start_time": "2023-07-07T09:00:54.434Z"
   },
   {
    "duration": 4,
    "start_time": "2023-07-07T09:00:54.620Z"
   },
   {
    "duration": 9,
    "start_time": "2023-07-07T09:00:54.626Z"
   },
   {
    "duration": 124,
    "start_time": "2023-07-07T09:00:54.637Z"
   },
   {
    "duration": 12,
    "start_time": "2023-07-07T09:00:54.763Z"
   },
   {
    "duration": 17,
    "start_time": "2023-07-07T09:00:54.777Z"
   },
   {
    "duration": 190,
    "start_time": "2023-07-07T09:00:54.796Z"
   },
   {
    "duration": 9,
    "start_time": "2023-07-07T09:00:54.988Z"
   },
   {
    "duration": 208,
    "start_time": "2023-07-07T09:00:54.998Z"
   },
   {
    "duration": 200,
    "start_time": "2023-07-07T09:00:55.208Z"
   },
   {
    "duration": 10,
    "start_time": "2023-07-07T09:00:55.410Z"
   },
   {
    "duration": 191,
    "start_time": "2023-07-07T09:00:55.422Z"
   },
   {
    "duration": 154,
    "start_time": "2023-07-07T09:00:55.615Z"
   },
   {
    "duration": 12,
    "start_time": "2023-07-07T09:00:55.771Z"
   },
   {
    "duration": 21,
    "start_time": "2023-07-07T09:00:55.784Z"
   },
   {
    "duration": 17,
    "start_time": "2023-07-07T09:00:55.807Z"
   },
   {
    "duration": 9,
    "start_time": "2023-07-07T09:00:55.829Z"
   },
   {
    "duration": 52,
    "start_time": "2023-07-07T09:00:55.840Z"
   },
   {
    "duration": 12,
    "start_time": "2023-07-07T09:00:55.895Z"
   },
   {
    "duration": 21,
    "start_time": "2023-07-07T09:00:55.909Z"
   },
   {
    "duration": 14,
    "start_time": "2023-07-07T09:00:55.932Z"
   },
   {
    "duration": 225,
    "start_time": "2023-07-07T09:00:55.948Z"
   },
   {
    "duration": 15,
    "start_time": "2023-07-07T09:00:56.175Z"
   },
   {
    "duration": 302,
    "start_time": "2023-07-07T09:00:56.191Z"
   },
   {
    "duration": 10,
    "start_time": "2023-07-07T09:00:56.495Z"
   },
   {
    "duration": 246,
    "start_time": "2023-07-07T09:00:56.509Z"
   },
   {
    "duration": 20,
    "start_time": "2023-07-07T09:00:56.760Z"
   },
   {
    "duration": 219,
    "start_time": "2023-07-07T09:00:56.781Z"
   },
   {
    "duration": 912,
    "start_time": "2023-07-07T09:00:57.002Z"
   },
   {
    "duration": 5,
    "start_time": "2023-07-07T09:00:57.915Z"
   },
   {
    "duration": 12,
    "start_time": "2023-07-07T09:00:57.922Z"
   },
   {
    "duration": 36,
    "start_time": "2023-07-07T09:00:57.936Z"
   },
   {
    "duration": 10,
    "start_time": "2023-07-07T09:00:57.974Z"
   },
   {
    "duration": 164,
    "start_time": "2023-07-07T09:00:57.985Z"
   },
   {
    "duration": 9,
    "start_time": "2023-07-07T09:00:58.151Z"
   },
   {
    "duration": 1481,
    "start_time": "2023-07-07T09:01:18.385Z"
   },
   {
    "duration": 66,
    "start_time": "2023-07-07T09:01:19.868Z"
   },
   {
    "duration": 14,
    "start_time": "2023-07-07T09:01:19.936Z"
   },
   {
    "duration": 31,
    "start_time": "2023-07-07T09:01:19.952Z"
   },
   {
    "duration": 27,
    "start_time": "2023-07-07T09:01:19.984Z"
   },
   {
    "duration": 48,
    "start_time": "2023-07-07T09:01:20.014Z"
   },
   {
    "duration": 12,
    "start_time": "2023-07-07T09:01:20.065Z"
   },
   {
    "duration": 19,
    "start_time": "2023-07-07T09:01:20.079Z"
   },
   {
    "duration": 15,
    "start_time": "2023-07-07T09:01:20.100Z"
   },
   {
    "duration": 6,
    "start_time": "2023-07-07T09:01:20.119Z"
   },
   {
    "duration": 14,
    "start_time": "2023-07-07T09:01:20.127Z"
   },
   {
    "duration": 21,
    "start_time": "2023-07-07T09:01:20.143Z"
   },
   {
    "duration": 47,
    "start_time": "2023-07-07T09:01:20.166Z"
   },
   {
    "duration": 12,
    "start_time": "2023-07-07T09:01:20.215Z"
   },
   {
    "duration": 11,
    "start_time": "2023-07-07T09:01:20.229Z"
   },
   {
    "duration": 17,
    "start_time": "2023-07-07T09:01:20.242Z"
   },
   {
    "duration": 15,
    "start_time": "2023-07-07T09:01:20.260Z"
   },
   {
    "duration": 6,
    "start_time": "2023-07-07T09:01:20.277Z"
   },
   {
    "duration": 12,
    "start_time": "2023-07-07T09:01:20.285Z"
   },
   {
    "duration": 14,
    "start_time": "2023-07-07T09:01:20.299Z"
   },
   {
    "duration": 24,
    "start_time": "2023-07-07T09:01:20.314Z"
   },
   {
    "duration": 13,
    "start_time": "2023-07-07T09:01:20.340Z"
   },
   {
    "duration": 20,
    "start_time": "2023-07-07T09:01:20.355Z"
   },
   {
    "duration": 146,
    "start_time": "2023-07-07T09:01:20.377Z"
   },
   {
    "duration": 5,
    "start_time": "2023-07-07T09:01:20.525Z"
   },
   {
    "duration": 15,
    "start_time": "2023-07-07T09:01:20.532Z"
   },
   {
    "duration": 158,
    "start_time": "2023-07-07T09:01:20.549Z"
   },
   {
    "duration": 6,
    "start_time": "2023-07-07T09:01:20.713Z"
   },
   {
    "duration": 21,
    "start_time": "2023-07-07T09:01:20.720Z"
   },
   {
    "duration": 200,
    "start_time": "2023-07-07T09:01:20.743Z"
   },
   {
    "duration": 10,
    "start_time": "2023-07-07T09:01:20.944Z"
   },
   {
    "duration": 254,
    "start_time": "2023-07-07T09:01:20.956Z"
   },
   {
    "duration": 197,
    "start_time": "2023-07-07T09:01:21.212Z"
   },
   {
    "duration": 13,
    "start_time": "2023-07-07T09:01:21.411Z"
   },
   {
    "duration": 218,
    "start_time": "2023-07-07T09:01:21.426Z"
   },
   {
    "duration": 192,
    "start_time": "2023-07-07T09:01:21.646Z"
   },
   {
    "duration": 13,
    "start_time": "2023-07-07T09:01:21.839Z"
   },
   {
    "duration": 25,
    "start_time": "2023-07-07T09:01:21.854Z"
   },
   {
    "duration": 25,
    "start_time": "2023-07-07T09:01:21.881Z"
   },
   {
    "duration": 10,
    "start_time": "2023-07-07T09:01:21.908Z"
   },
   {
    "duration": 19,
    "start_time": "2023-07-07T09:01:21.920Z"
   },
   {
    "duration": 37,
    "start_time": "2023-07-07T09:01:21.940Z"
   },
   {
    "duration": 30,
    "start_time": "2023-07-07T09:01:21.979Z"
   },
   {
    "duration": 11,
    "start_time": "2023-07-07T09:01:22.011Z"
   },
   {
    "duration": 182,
    "start_time": "2023-07-07T09:01:22.024Z"
   },
   {
    "duration": 9,
    "start_time": "2023-07-07T09:01:22.208Z"
   },
   {
    "duration": 284,
    "start_time": "2023-07-07T09:01:22.219Z"
   },
   {
    "duration": 11,
    "start_time": "2023-07-07T09:01:22.505Z"
   },
   {
    "duration": 169,
    "start_time": "2023-07-07T09:01:22.518Z"
   },
   {
    "duration": 9,
    "start_time": "2023-07-07T09:01:22.689Z"
   },
   {
    "duration": 193,
    "start_time": "2023-07-07T09:01:22.700Z"
   },
   {
    "duration": 838,
    "start_time": "2023-07-07T09:01:22.894Z"
   },
   {
    "duration": 6,
    "start_time": "2023-07-07T09:01:23.734Z"
   },
   {
    "duration": 19,
    "start_time": "2023-07-07T09:01:23.742Z"
   },
   {
    "duration": 45,
    "start_time": "2023-07-07T09:01:23.763Z"
   },
   {
    "duration": 5,
    "start_time": "2023-07-07T09:01:23.810Z"
   },
   {
    "duration": 220,
    "start_time": "2023-07-07T09:01:23.817Z"
   },
   {
    "duration": 10,
    "start_time": "2023-07-07T09:01:24.040Z"
   },
   {
    "duration": 18,
    "start_time": "2023-07-07T09:04:36.833Z"
   },
   {
    "duration": 583,
    "start_time": "2023-07-07T09:09:19.695Z"
   },
   {
    "duration": 128,
    "start_time": "2023-07-07T09:11:19.940Z"
   },
   {
    "duration": 7,
    "start_time": "2023-07-07T09:11:33.340Z"
   },
   {
    "duration": 66,
    "start_time": "2023-07-07T09:12:09.359Z"
   },
   {
    "duration": 1460,
    "start_time": "2023-07-07T09:12:25.979Z"
   },
   {
    "duration": 67,
    "start_time": "2023-07-07T09:12:27.442Z"
   },
   {
    "duration": 17,
    "start_time": "2023-07-07T09:12:27.512Z"
   },
   {
    "duration": 23,
    "start_time": "2023-07-07T09:12:27.532Z"
   },
   {
    "duration": 31,
    "start_time": "2023-07-07T09:12:27.557Z"
   },
   {
    "duration": 47,
    "start_time": "2023-07-07T09:12:27.589Z"
   },
   {
    "duration": 25,
    "start_time": "2023-07-07T09:12:27.638Z"
   },
   {
    "duration": 20,
    "start_time": "2023-07-07T09:12:27.665Z"
   },
   {
    "duration": 19,
    "start_time": "2023-07-07T09:12:27.687Z"
   },
   {
    "duration": 25,
    "start_time": "2023-07-07T09:12:27.709Z"
   },
   {
    "duration": 9,
    "start_time": "2023-07-07T09:12:27.736Z"
   },
   {
    "duration": 11,
    "start_time": "2023-07-07T09:12:27.746Z"
   },
   {
    "duration": 27,
    "start_time": "2023-07-07T09:12:27.760Z"
   },
   {
    "duration": 14,
    "start_time": "2023-07-07T09:12:27.789Z"
   },
   {
    "duration": 17,
    "start_time": "2023-07-07T09:12:27.804Z"
   },
   {
    "duration": 23,
    "start_time": "2023-07-07T09:12:27.824Z"
   },
   {
    "duration": 24,
    "start_time": "2023-07-07T09:12:27.849Z"
   },
   {
    "duration": 30,
    "start_time": "2023-07-07T09:12:27.875Z"
   },
   {
    "duration": 48,
    "start_time": "2023-07-07T09:12:27.907Z"
   },
   {
    "duration": 45,
    "start_time": "2023-07-07T09:12:27.957Z"
   },
   {
    "duration": 43,
    "start_time": "2023-07-07T09:12:28.004Z"
   },
   {
    "duration": 27,
    "start_time": "2023-07-07T09:12:28.049Z"
   },
   {
    "duration": 23,
    "start_time": "2023-07-07T09:12:28.078Z"
   },
   {
    "duration": 146,
    "start_time": "2023-07-07T09:12:28.103Z"
   },
   {
    "duration": 5,
    "start_time": "2023-07-07T09:12:28.250Z"
   },
   {
    "duration": 19,
    "start_time": "2023-07-07T09:12:28.256Z"
   },
   {
    "duration": 153,
    "start_time": "2023-07-07T09:12:28.277Z"
   },
   {
    "duration": 6,
    "start_time": "2023-07-07T09:12:28.435Z"
   },
   {
    "duration": 17,
    "start_time": "2023-07-07T09:12:28.443Z"
   },
   {
    "duration": 186,
    "start_time": "2023-07-07T09:12:28.476Z"
   },
   {
    "duration": 19,
    "start_time": "2023-07-07T09:12:28.664Z"
   },
   {
    "duration": 209,
    "start_time": "2023-07-07T09:12:28.685Z"
   },
   {
    "duration": 267,
    "start_time": "2023-07-07T09:12:28.896Z"
   },
   {
    "duration": 18,
    "start_time": "2023-07-07T09:12:29.165Z"
   },
   {
    "duration": 283,
    "start_time": "2023-07-07T09:12:29.186Z"
   },
   {
    "duration": 149,
    "start_time": "2023-07-07T09:12:29.475Z"
   },
   {
    "duration": 11,
    "start_time": "2023-07-07T09:12:29.625Z"
   },
   {
    "duration": 11,
    "start_time": "2023-07-07T09:12:29.638Z"
   },
   {
    "duration": 35,
    "start_time": "2023-07-07T09:12:29.651Z"
   },
   {
    "duration": 8,
    "start_time": "2023-07-07T09:12:29.688Z"
   },
   {
    "duration": 19,
    "start_time": "2023-07-07T09:12:29.698Z"
   },
   {
    "duration": 19,
    "start_time": "2023-07-07T09:12:29.719Z"
   },
   {
    "duration": 36,
    "start_time": "2023-07-07T09:12:29.740Z"
   },
   {
    "duration": 24,
    "start_time": "2023-07-07T09:12:29.778Z"
   },
   {
    "duration": 207,
    "start_time": "2023-07-07T09:12:29.804Z"
   },
   {
    "duration": 11,
    "start_time": "2023-07-07T09:12:30.014Z"
   },
   {
    "duration": 311,
    "start_time": "2023-07-07T09:12:30.027Z"
   },
   {
    "duration": 10,
    "start_time": "2023-07-07T09:12:30.339Z"
   },
   {
    "duration": 195,
    "start_time": "2023-07-07T09:12:30.351Z"
   },
   {
    "duration": 8,
    "start_time": "2023-07-07T09:12:30.548Z"
   },
   {
    "duration": 181,
    "start_time": "2023-07-07T09:12:30.558Z"
   },
   {
    "duration": 896,
    "start_time": "2023-07-07T09:12:30.741Z"
   },
   {
    "duration": 3,
    "start_time": "2023-07-07T09:12:31.639Z"
   },
   {
    "duration": 155,
    "start_time": "2023-07-07T09:12:31.644Z"
   },
   {
    "duration": 91,
    "start_time": "2023-07-07T09:12:31.801Z"
   },
   {
    "duration": 44,
    "start_time": "2023-07-07T09:12:31.894Z"
   },
   {
    "duration": 175,
    "start_time": "2023-07-07T09:12:31.940Z"
   },
   {
    "duration": 8,
    "start_time": "2023-07-07T09:12:32.117Z"
   },
   {
    "duration": 29,
    "start_time": "2023-07-07T09:12:32.126Z"
   },
   {
    "duration": 5,
    "start_time": "2023-07-07T09:19:54.537Z"
   },
   {
    "duration": 9,
    "start_time": "2023-07-07T09:23:00.409Z"
   },
   {
    "duration": 1123,
    "start_time": "2023-07-07T09:26:18.530Z"
   },
   {
    "duration": 63,
    "start_time": "2023-07-07T09:26:19.655Z"
   },
   {
    "duration": 12,
    "start_time": "2023-07-07T09:26:19.720Z"
   },
   {
    "duration": 14,
    "start_time": "2023-07-07T09:26:19.734Z"
   },
   {
    "duration": 19,
    "start_time": "2023-07-07T09:26:19.749Z"
   },
   {
    "duration": 18,
    "start_time": "2023-07-07T09:26:19.769Z"
   },
   {
    "duration": 16,
    "start_time": "2023-07-07T09:26:19.789Z"
   },
   {
    "duration": 26,
    "start_time": "2023-07-07T09:26:19.807Z"
   },
   {
    "duration": 23,
    "start_time": "2023-07-07T09:26:19.835Z"
   },
   {
    "duration": 7,
    "start_time": "2023-07-07T09:26:19.862Z"
   },
   {
    "duration": 11,
    "start_time": "2023-07-07T09:26:19.871Z"
   },
   {
    "duration": 13,
    "start_time": "2023-07-07T09:26:19.884Z"
   },
   {
    "duration": 14,
    "start_time": "2023-07-07T09:26:19.899Z"
   },
   {
    "duration": 13,
    "start_time": "2023-07-07T09:26:19.915Z"
   },
   {
    "duration": 11,
    "start_time": "2023-07-07T09:26:19.930Z"
   },
   {
    "duration": 8,
    "start_time": "2023-07-07T09:26:19.943Z"
   },
   {
    "duration": 13,
    "start_time": "2023-07-07T09:26:19.952Z"
   },
   {
    "duration": 6,
    "start_time": "2023-07-07T09:26:19.974Z"
   },
   {
    "duration": 13,
    "start_time": "2023-07-07T09:26:19.981Z"
   },
   {
    "duration": 15,
    "start_time": "2023-07-07T09:26:19.996Z"
   },
   {
    "duration": 37,
    "start_time": "2023-07-07T09:26:20.014Z"
   },
   {
    "duration": 43,
    "start_time": "2023-07-07T09:26:20.053Z"
   },
   {
    "duration": 13,
    "start_time": "2023-07-07T09:26:20.098Z"
   },
   {
    "duration": 176,
    "start_time": "2023-07-07T09:26:20.113Z"
   },
   {
    "duration": 4,
    "start_time": "2023-07-07T09:26:20.291Z"
   },
   {
    "duration": 69,
    "start_time": "2023-07-07T09:26:20.296Z"
   },
   {
    "duration": 122,
    "start_time": "2023-07-07T09:26:20.367Z"
   },
   {
    "duration": 6,
    "start_time": "2023-07-07T09:26:20.495Z"
   },
   {
    "duration": 21,
    "start_time": "2023-07-07T09:26:20.503Z"
   },
   {
    "duration": 190,
    "start_time": "2023-07-07T09:26:20.526Z"
   },
   {
    "duration": 10,
    "start_time": "2023-07-07T09:26:20.717Z"
   },
   {
    "duration": 176,
    "start_time": "2023-07-07T09:26:20.729Z"
   },
   {
    "duration": 165,
    "start_time": "2023-07-07T09:26:20.907Z"
   },
   {
    "duration": 10,
    "start_time": "2023-07-07T09:26:21.075Z"
   },
   {
    "duration": 197,
    "start_time": "2023-07-07T09:26:21.086Z"
   },
   {
    "duration": 161,
    "start_time": "2023-07-07T09:26:21.285Z"
   },
   {
    "duration": 11,
    "start_time": "2023-07-07T09:26:21.448Z"
   },
   {
    "duration": 23,
    "start_time": "2023-07-07T09:26:21.461Z"
   },
   {
    "duration": 24,
    "start_time": "2023-07-07T09:26:21.487Z"
   },
   {
    "duration": 10,
    "start_time": "2023-07-07T09:26:21.513Z"
   },
   {
    "duration": 29,
    "start_time": "2023-07-07T09:26:21.525Z"
   },
   {
    "duration": 33,
    "start_time": "2023-07-07T09:26:21.556Z"
   },
   {
    "duration": 23,
    "start_time": "2023-07-07T09:26:21.591Z"
   },
   {
    "duration": 31,
    "start_time": "2023-07-07T09:26:21.616Z"
   },
   {
    "duration": 176,
    "start_time": "2023-07-07T09:26:21.649Z"
   },
   {
    "duration": 10,
    "start_time": "2023-07-07T09:26:21.827Z"
   },
   {
    "duration": 272,
    "start_time": "2023-07-07T09:26:21.839Z"
   },
   {
    "duration": 8,
    "start_time": "2023-07-07T09:26:22.113Z"
   },
   {
    "duration": 191,
    "start_time": "2023-07-07T09:26:22.123Z"
   },
   {
    "duration": 9,
    "start_time": "2023-07-07T09:26:22.315Z"
   },
   {
    "duration": 166,
    "start_time": "2023-07-07T09:26:22.325Z"
   },
   {
    "duration": 863,
    "start_time": "2023-07-07T09:26:22.493Z"
   },
   {
    "duration": 5,
    "start_time": "2023-07-07T09:26:23.357Z"
   },
   {
    "duration": 42,
    "start_time": "2023-07-07T09:26:23.364Z"
   },
   {
    "duration": 54,
    "start_time": "2023-07-07T09:26:23.407Z"
   },
   {
    "duration": 5,
    "start_time": "2023-07-07T09:26:23.463Z"
   },
   {
    "duration": 140,
    "start_time": "2023-07-07T09:26:23.469Z"
   },
   {
    "duration": 10,
    "start_time": "2023-07-07T09:26:23.610Z"
   },
   {
    "duration": 29,
    "start_time": "2023-07-07T09:26:23.622Z"
   },
   {
    "duration": 17,
    "start_time": "2023-07-07T09:26:23.653Z"
   },
   {
    "duration": 26,
    "start_time": "2023-07-07T09:26:23.671Z"
   },
   {
    "duration": 192,
    "start_time": "2023-07-07T10:50:59.883Z"
   },
   {
    "duration": 1141,
    "start_time": "2023-07-07T10:54:49.755Z"
   },
   {
    "duration": 64,
    "start_time": "2023-07-07T10:54:50.899Z"
   },
   {
    "duration": 12,
    "start_time": "2023-07-07T10:54:50.965Z"
   },
   {
    "duration": 33,
    "start_time": "2023-07-07T10:54:50.978Z"
   },
   {
    "duration": 23,
    "start_time": "2023-07-07T10:54:51.013Z"
   },
   {
    "duration": 30,
    "start_time": "2023-07-07T10:54:51.037Z"
   },
   {
    "duration": 7,
    "start_time": "2023-07-07T10:54:51.068Z"
   },
   {
    "duration": 28,
    "start_time": "2023-07-07T10:54:51.077Z"
   },
   {
    "duration": 22,
    "start_time": "2023-07-07T10:54:51.107Z"
   },
   {
    "duration": 22,
    "start_time": "2023-07-07T10:54:51.130Z"
   },
   {
    "duration": 23,
    "start_time": "2023-07-07T10:54:51.153Z"
   },
   {
    "duration": 20,
    "start_time": "2023-07-07T10:54:51.178Z"
   },
   {
    "duration": 21,
    "start_time": "2023-07-07T10:54:51.199Z"
   },
   {
    "duration": 11,
    "start_time": "2023-07-07T10:54:51.223Z"
   },
   {
    "duration": 26,
    "start_time": "2023-07-07T10:54:51.236Z"
   },
   {
    "duration": 21,
    "start_time": "2023-07-07T10:54:51.264Z"
   },
   {
    "duration": 39,
    "start_time": "2023-07-07T10:54:51.286Z"
   },
   {
    "duration": 48,
    "start_time": "2023-07-07T10:54:51.327Z"
   },
   {
    "duration": 27,
    "start_time": "2023-07-07T10:54:51.377Z"
   },
   {
    "duration": 19,
    "start_time": "2023-07-07T10:54:51.406Z"
   },
   {
    "duration": 9,
    "start_time": "2023-07-07T10:54:51.426Z"
   },
   {
    "duration": 42,
    "start_time": "2023-07-07T10:54:51.437Z"
   },
   {
    "duration": 18,
    "start_time": "2023-07-07T10:54:51.481Z"
   },
   {
    "duration": 192,
    "start_time": "2023-07-07T10:54:51.501Z"
   },
   {
    "duration": 3,
    "start_time": "2023-07-07T10:54:51.695Z"
   },
   {
    "duration": 20,
    "start_time": "2023-07-07T10:54:51.699Z"
   },
   {
    "duration": 107,
    "start_time": "2023-07-07T10:54:51.721Z"
   },
   {
    "duration": 5,
    "start_time": "2023-07-07T10:54:51.829Z"
   },
   {
    "duration": 9,
    "start_time": "2023-07-07T10:54:51.836Z"
   },
   {
    "duration": 172,
    "start_time": "2023-07-07T10:54:51.847Z"
   },
   {
    "duration": 8,
    "start_time": "2023-07-07T10:54:52.020Z"
   },
   {
    "duration": 190,
    "start_time": "2023-07-07T10:54:52.029Z"
   },
   {
    "duration": 170,
    "start_time": "2023-07-07T10:54:52.221Z"
   },
   {
    "duration": 9,
    "start_time": "2023-07-07T10:54:52.392Z"
   },
   {
    "duration": 179,
    "start_time": "2023-07-07T10:54:52.402Z"
   },
   {
    "duration": 154,
    "start_time": "2023-07-07T10:54:52.582Z"
   },
   {
    "duration": 11,
    "start_time": "2023-07-07T10:54:52.738Z"
   },
   {
    "duration": 26,
    "start_time": "2023-07-07T10:54:52.751Z"
   },
   {
    "duration": 18,
    "start_time": "2023-07-07T10:54:52.778Z"
   },
   {
    "duration": 11,
    "start_time": "2023-07-07T10:54:52.797Z"
   },
   {
    "duration": 17,
    "start_time": "2023-07-07T10:54:52.812Z"
   },
   {
    "duration": 16,
    "start_time": "2023-07-07T10:54:52.831Z"
   },
   {
    "duration": 37,
    "start_time": "2023-07-07T10:54:52.848Z"
   },
   {
    "duration": 19,
    "start_time": "2023-07-07T10:54:52.887Z"
   },
   {
    "duration": 190,
    "start_time": "2023-07-07T10:54:52.907Z"
   },
   {
    "duration": 8,
    "start_time": "2023-07-07T10:54:53.099Z"
   },
   {
    "duration": 275,
    "start_time": "2023-07-07T10:54:53.109Z"
   },
   {
    "duration": 7,
    "start_time": "2023-07-07T10:54:53.386Z"
   },
   {
    "duration": 187,
    "start_time": "2023-07-07T10:54:53.395Z"
   },
   {
    "duration": 8,
    "start_time": "2023-07-07T10:54:53.584Z"
   },
   {
    "duration": 164,
    "start_time": "2023-07-07T10:54:53.593Z"
   },
   {
    "duration": 831,
    "start_time": "2023-07-07T10:54:53.759Z"
   },
   {
    "duration": 3,
    "start_time": "2023-07-07T10:54:54.592Z"
   },
   {
    "duration": 14,
    "start_time": "2023-07-07T10:54:54.597Z"
   },
   {
    "duration": 19,
    "start_time": "2023-07-07T10:54:54.613Z"
   },
   {
    "duration": 4,
    "start_time": "2023-07-07T10:54:54.633Z"
   },
   {
    "duration": 128,
    "start_time": "2023-07-07T10:54:54.638Z"
   },
   {
    "duration": 12,
    "start_time": "2023-07-07T10:54:54.768Z"
   },
   {
    "duration": 8,
    "start_time": "2023-07-07T10:54:54.781Z"
   },
   {
    "duration": 5,
    "start_time": "2023-07-07T10:54:54.790Z"
   },
   {
    "duration": 13,
    "start_time": "2023-07-07T10:54:54.797Z"
   },
   {
    "duration": 1152,
    "start_time": "2023-07-07T11:04:44.480Z"
   },
   {
    "duration": 64,
    "start_time": "2023-07-07T11:04:45.634Z"
   },
   {
    "duration": 12,
    "start_time": "2023-07-07T11:04:45.700Z"
   },
   {
    "duration": 10,
    "start_time": "2023-07-07T11:04:45.715Z"
   },
   {
    "duration": 14,
    "start_time": "2023-07-07T11:04:45.727Z"
   },
   {
    "duration": 12,
    "start_time": "2023-07-07T11:04:45.742Z"
   },
   {
    "duration": 20,
    "start_time": "2023-07-07T11:04:45.756Z"
   },
   {
    "duration": 10,
    "start_time": "2023-07-07T11:04:45.778Z"
   },
   {
    "duration": 7,
    "start_time": "2023-07-07T11:04:45.789Z"
   },
   {
    "duration": 13,
    "start_time": "2023-07-07T11:04:45.798Z"
   },
   {
    "duration": 5,
    "start_time": "2023-07-07T11:04:45.813Z"
   },
   {
    "duration": 8,
    "start_time": "2023-07-07T11:04:45.820Z"
   },
   {
    "duration": 8,
    "start_time": "2023-07-07T11:04:45.829Z"
   },
   {
    "duration": 10,
    "start_time": "2023-07-07T11:04:45.838Z"
   },
   {
    "duration": 6,
    "start_time": "2023-07-07T11:04:45.875Z"
   },
   {
    "duration": 11,
    "start_time": "2023-07-07T11:04:45.882Z"
   },
   {
    "duration": 8,
    "start_time": "2023-07-07T11:04:45.894Z"
   },
   {
    "duration": 4,
    "start_time": "2023-07-07T11:04:45.904Z"
   },
   {
    "duration": 12,
    "start_time": "2023-07-07T11:04:45.909Z"
   },
   {
    "duration": 13,
    "start_time": "2023-07-07T11:04:45.923Z"
   },
   {
    "duration": 9,
    "start_time": "2023-07-07T11:04:45.937Z"
   },
   {
    "duration": 12,
    "start_time": "2023-07-07T11:04:45.948Z"
   },
   {
    "duration": 18,
    "start_time": "2023-07-07T11:04:45.961Z"
   },
   {
    "duration": 149,
    "start_time": "2023-07-07T11:04:45.981Z"
   },
   {
    "duration": 5,
    "start_time": "2023-07-07T11:04:46.132Z"
   },
   {
    "duration": 7,
    "start_time": "2023-07-07T11:04:46.139Z"
   },
   {
    "duration": 119,
    "start_time": "2023-07-07T11:04:46.148Z"
   },
   {
    "duration": 7,
    "start_time": "2023-07-07T11:04:46.284Z"
   },
   {
    "duration": 50,
    "start_time": "2023-07-07T11:04:46.292Z"
   },
   {
    "duration": 254,
    "start_time": "2023-07-07T11:04:46.344Z"
   },
   {
    "duration": 9,
    "start_time": "2023-07-07T11:04:46.599Z"
   },
   {
    "duration": 212,
    "start_time": "2023-07-07T11:04:46.610Z"
   },
   {
    "duration": 198,
    "start_time": "2023-07-07T11:04:46.824Z"
   },
   {
    "duration": 10,
    "start_time": "2023-07-07T11:04:47.023Z"
   },
   {
    "duration": 195,
    "start_time": "2023-07-07T11:04:47.034Z"
   },
   {
    "duration": 170,
    "start_time": "2023-07-07T11:04:47.231Z"
   },
   {
    "duration": 13,
    "start_time": "2023-07-07T11:04:47.403Z"
   },
   {
    "duration": 38,
    "start_time": "2023-07-07T11:04:47.418Z"
   },
   {
    "duration": 20,
    "start_time": "2023-07-07T11:04:47.458Z"
   },
   {
    "duration": 10,
    "start_time": "2023-07-07T11:04:47.480Z"
   },
   {
    "duration": 21,
    "start_time": "2023-07-07T11:04:47.492Z"
   },
   {
    "duration": 10,
    "start_time": "2023-07-07T11:04:47.514Z"
   },
   {
    "duration": 20,
    "start_time": "2023-07-07T11:04:47.525Z"
   },
   {
    "duration": 31,
    "start_time": "2023-07-07T11:04:47.547Z"
   },
   {
    "duration": 179,
    "start_time": "2023-07-07T11:04:47.579Z"
   },
   {
    "duration": 17,
    "start_time": "2023-07-07T11:04:47.760Z"
   },
   {
    "duration": 285,
    "start_time": "2023-07-07T11:04:47.779Z"
   },
   {
    "duration": 17,
    "start_time": "2023-07-07T11:04:48.066Z"
   },
   {
    "duration": 212,
    "start_time": "2023-07-07T11:04:48.085Z"
   },
   {
    "duration": 11,
    "start_time": "2023-07-07T11:04:48.299Z"
   },
   {
    "duration": 186,
    "start_time": "2023-07-07T11:04:48.312Z"
   },
   {
    "duration": 892,
    "start_time": "2023-07-07T11:04:48.499Z"
   },
   {
    "duration": 4,
    "start_time": "2023-07-07T11:04:49.393Z"
   },
   {
    "duration": 9,
    "start_time": "2023-07-07T11:04:49.399Z"
   },
   {
    "duration": 25,
    "start_time": "2023-07-07T11:04:49.409Z"
   },
   {
    "duration": 4,
    "start_time": "2023-07-07T11:04:49.436Z"
   },
   {
    "duration": 167,
    "start_time": "2023-07-07T11:04:49.442Z"
   },
   {
    "duration": 8,
    "start_time": "2023-07-07T11:04:49.611Z"
   },
   {
    "duration": 18,
    "start_time": "2023-07-07T11:04:49.620Z"
   },
   {
    "duration": 28,
    "start_time": "2023-07-07T11:04:49.640Z"
   },
   {
    "duration": 136,
    "start_time": "2023-07-07T11:04:49.670Z"
   },
   {
    "duration": 1173,
    "start_time": "2023-07-07T11:06:16.587Z"
   },
   {
    "duration": 66,
    "start_time": "2023-07-07T11:06:17.762Z"
   },
   {
    "duration": 12,
    "start_time": "2023-07-07T11:06:17.830Z"
   },
   {
    "duration": 11,
    "start_time": "2023-07-07T11:06:17.844Z"
   },
   {
    "duration": 29,
    "start_time": "2023-07-07T11:06:17.856Z"
   },
   {
    "duration": 28,
    "start_time": "2023-07-07T11:06:17.887Z"
   },
   {
    "duration": 15,
    "start_time": "2023-07-07T11:06:17.917Z"
   },
   {
    "duration": 19,
    "start_time": "2023-07-07T11:06:17.933Z"
   },
   {
    "duration": 19,
    "start_time": "2023-07-07T11:06:17.954Z"
   },
   {
    "duration": 14,
    "start_time": "2023-07-07T11:06:17.975Z"
   },
   {
    "duration": 5,
    "start_time": "2023-07-07T11:06:17.990Z"
   },
   {
    "duration": 8,
    "start_time": "2023-07-07T11:06:17.996Z"
   },
   {
    "duration": 8,
    "start_time": "2023-07-07T11:06:18.005Z"
   },
   {
    "duration": 12,
    "start_time": "2023-07-07T11:06:18.014Z"
   },
   {
    "duration": 8,
    "start_time": "2023-07-07T11:06:18.027Z"
   },
   {
    "duration": 10,
    "start_time": "2023-07-07T11:06:18.037Z"
   },
   {
    "duration": 9,
    "start_time": "2023-07-07T11:06:18.049Z"
   },
   {
    "duration": 5,
    "start_time": "2023-07-07T11:06:18.075Z"
   },
   {
    "duration": 11,
    "start_time": "2023-07-07T11:06:18.081Z"
   },
   {
    "duration": 6,
    "start_time": "2023-07-07T11:06:18.094Z"
   },
   {
    "duration": 17,
    "start_time": "2023-07-07T11:06:18.101Z"
   },
   {
    "duration": 10,
    "start_time": "2023-07-07T11:06:18.120Z"
   },
   {
    "duration": 13,
    "start_time": "2023-07-07T11:06:18.131Z"
   },
   {
    "duration": 139,
    "start_time": "2023-07-07T11:06:18.146Z"
   },
   {
    "duration": 4,
    "start_time": "2023-07-07T11:06:18.287Z"
   },
   {
    "duration": 12,
    "start_time": "2023-07-07T11:06:18.293Z"
   },
   {
    "duration": 113,
    "start_time": "2023-07-07T11:06:18.307Z"
   },
   {
    "duration": 6,
    "start_time": "2023-07-07T11:06:18.426Z"
   },
   {
    "duration": 29,
    "start_time": "2023-07-07T11:06:18.434Z"
   },
   {
    "duration": 161,
    "start_time": "2023-07-07T11:06:18.465Z"
   },
   {
    "duration": 9,
    "start_time": "2023-07-07T11:06:18.628Z"
   },
   {
    "duration": 184,
    "start_time": "2023-07-07T11:06:18.639Z"
   },
   {
    "duration": 167,
    "start_time": "2023-07-07T11:06:18.825Z"
   },
   {
    "duration": 8,
    "start_time": "2023-07-07T11:06:18.994Z"
   },
   {
    "duration": 176,
    "start_time": "2023-07-07T11:06:19.004Z"
   },
   {
    "duration": 144,
    "start_time": "2023-07-07T11:06:19.181Z"
   },
   {
    "duration": 10,
    "start_time": "2023-07-07T11:06:19.327Z"
   },
   {
    "duration": 15,
    "start_time": "2023-07-07T11:06:19.338Z"
   },
   {
    "duration": 33,
    "start_time": "2023-07-07T11:06:19.354Z"
   },
   {
    "duration": 9,
    "start_time": "2023-07-07T11:06:19.388Z"
   },
   {
    "duration": 35,
    "start_time": "2023-07-07T11:06:19.398Z"
   },
   {
    "duration": 16,
    "start_time": "2023-07-07T11:06:19.434Z"
   },
   {
    "duration": 31,
    "start_time": "2023-07-07T11:06:19.451Z"
   },
   {
    "duration": 16,
    "start_time": "2023-07-07T11:06:19.483Z"
   },
   {
    "duration": 183,
    "start_time": "2023-07-07T11:06:19.500Z"
   },
   {
    "duration": 8,
    "start_time": "2023-07-07T11:06:19.684Z"
   },
   {
    "duration": 269,
    "start_time": "2023-07-07T11:06:19.694Z"
   },
   {
    "duration": 12,
    "start_time": "2023-07-07T11:06:19.964Z"
   },
   {
    "duration": 180,
    "start_time": "2023-07-07T11:06:19.977Z"
   },
   {
    "duration": 16,
    "start_time": "2023-07-07T11:06:20.159Z"
   },
   {
    "duration": 180,
    "start_time": "2023-07-07T11:06:20.176Z"
   },
   {
    "duration": 820,
    "start_time": "2023-07-07T11:06:20.358Z"
   },
   {
    "duration": 4,
    "start_time": "2023-07-07T11:06:21.180Z"
   },
   {
    "duration": 32,
    "start_time": "2023-07-07T11:06:21.186Z"
   },
   {
    "duration": 22,
    "start_time": "2023-07-07T11:06:21.220Z"
   },
   {
    "duration": 4,
    "start_time": "2023-07-07T11:06:21.244Z"
   },
   {
    "duration": 135,
    "start_time": "2023-07-07T11:06:21.250Z"
   },
   {
    "duration": 8,
    "start_time": "2023-07-07T11:06:21.387Z"
   },
   {
    "duration": 32,
    "start_time": "2023-07-07T11:06:21.396Z"
   },
   {
    "duration": 26,
    "start_time": "2023-07-07T11:06:21.430Z"
   },
   {
    "duration": 142,
    "start_time": "2023-07-07T11:06:21.458Z"
   },
   {
    "duration": 13,
    "start_time": "2023-07-07T11:06:42.781Z"
   },
   {
    "duration": 1286,
    "start_time": "2023-07-07T11:06:50.757Z"
   },
   {
    "duration": 75,
    "start_time": "2023-07-07T11:06:52.046Z"
   },
   {
    "duration": 17,
    "start_time": "2023-07-07T11:06:52.123Z"
   },
   {
    "duration": 13,
    "start_time": "2023-07-07T11:06:52.142Z"
   },
   {
    "duration": 25,
    "start_time": "2023-07-07T11:06:52.157Z"
   },
   {
    "duration": 20,
    "start_time": "2023-07-07T11:06:52.184Z"
   },
   {
    "duration": 7,
    "start_time": "2023-07-07T11:06:52.207Z"
   },
   {
    "duration": 18,
    "start_time": "2023-07-07T11:06:52.216Z"
   },
   {
    "duration": 13,
    "start_time": "2023-07-07T11:06:52.236Z"
   },
   {
    "duration": 6,
    "start_time": "2023-07-07T11:06:52.252Z"
   },
   {
    "duration": 15,
    "start_time": "2023-07-07T11:06:52.260Z"
   },
   {
    "duration": 16,
    "start_time": "2023-07-07T11:06:52.277Z"
   },
   {
    "duration": 10,
    "start_time": "2023-07-07T11:06:52.294Z"
   },
   {
    "duration": 5,
    "start_time": "2023-07-07T11:06:52.306Z"
   },
   {
    "duration": 9,
    "start_time": "2023-07-07T11:06:52.313Z"
   },
   {
    "duration": 6,
    "start_time": "2023-07-07T11:06:52.323Z"
   },
   {
    "duration": 9,
    "start_time": "2023-07-07T11:06:52.330Z"
   },
   {
    "duration": 36,
    "start_time": "2023-07-07T11:06:52.340Z"
   },
   {
    "duration": 17,
    "start_time": "2023-07-07T11:06:52.378Z"
   },
   {
    "duration": 12,
    "start_time": "2023-07-07T11:06:52.396Z"
   },
   {
    "duration": 8,
    "start_time": "2023-07-07T11:06:52.410Z"
   },
   {
    "duration": 25,
    "start_time": "2023-07-07T11:06:52.420Z"
   },
   {
    "duration": 8,
    "start_time": "2023-07-07T11:06:52.447Z"
   },
   {
    "duration": 158,
    "start_time": "2023-07-07T11:06:52.457Z"
   },
   {
    "duration": 5,
    "start_time": "2023-07-07T11:06:52.617Z"
   },
   {
    "duration": 11,
    "start_time": "2023-07-07T11:06:52.624Z"
   },
   {
    "duration": 135,
    "start_time": "2023-07-07T11:06:52.636Z"
   },
   {
    "duration": 6,
    "start_time": "2023-07-07T11:06:52.774Z"
   },
   {
    "duration": 14,
    "start_time": "2023-07-07T11:06:52.781Z"
   },
   {
    "duration": 173,
    "start_time": "2023-07-07T11:06:52.797Z"
   },
   {
    "duration": 9,
    "start_time": "2023-07-07T11:06:52.975Z"
   },
   {
    "duration": 197,
    "start_time": "2023-07-07T11:06:52.986Z"
   },
   {
    "duration": 208,
    "start_time": "2023-07-07T11:06:53.185Z"
   },
   {
    "duration": 12,
    "start_time": "2023-07-07T11:06:53.395Z"
   },
   {
    "duration": 222,
    "start_time": "2023-07-07T11:06:53.409Z"
   },
   {
    "duration": 152,
    "start_time": "2023-07-07T11:06:53.633Z"
   },
   {
    "duration": 11,
    "start_time": "2023-07-07T11:06:53.787Z"
   },
   {
    "duration": 14,
    "start_time": "2023-07-07T11:06:53.800Z"
   },
   {
    "duration": 19,
    "start_time": "2023-07-07T11:06:53.816Z"
   },
   {
    "duration": 10,
    "start_time": "2023-07-07T11:06:53.837Z"
   },
   {
    "duration": 44,
    "start_time": "2023-07-07T11:06:53.849Z"
   },
   {
    "duration": 12,
    "start_time": "2023-07-07T11:06:53.894Z"
   },
   {
    "duration": 22,
    "start_time": "2023-07-07T11:06:53.910Z"
   },
   {
    "duration": 11,
    "start_time": "2023-07-07T11:06:53.934Z"
   },
   {
    "duration": 189,
    "start_time": "2023-07-07T11:06:53.949Z"
   },
   {
    "duration": 9,
    "start_time": "2023-07-07T11:06:54.139Z"
   },
   {
    "duration": 264,
    "start_time": "2023-07-07T11:06:54.150Z"
   },
   {
    "duration": 9,
    "start_time": "2023-07-07T11:06:54.416Z"
   },
   {
    "duration": 184,
    "start_time": "2023-07-07T11:06:54.427Z"
   },
   {
    "duration": 8,
    "start_time": "2023-07-07T11:06:54.613Z"
   },
   {
    "duration": 165,
    "start_time": "2023-07-07T11:06:54.622Z"
   },
   {
    "duration": 797,
    "start_time": "2023-07-07T11:06:54.789Z"
   },
   {
    "duration": 4,
    "start_time": "2023-07-07T11:06:55.587Z"
   },
   {
    "duration": 8,
    "start_time": "2023-07-07T11:06:55.592Z"
   },
   {
    "duration": 27,
    "start_time": "2023-07-07T11:06:55.601Z"
   },
   {
    "duration": 5,
    "start_time": "2023-07-07T11:06:55.630Z"
   },
   {
    "duration": 135,
    "start_time": "2023-07-07T11:06:55.636Z"
   },
   {
    "duration": 7,
    "start_time": "2023-07-07T11:06:55.774Z"
   },
   {
    "duration": 19,
    "start_time": "2023-07-07T11:06:55.783Z"
   },
   {
    "duration": 9,
    "start_time": "2023-07-07T11:06:55.804Z"
   },
   {
    "duration": 91,
    "start_time": "2023-07-07T11:06:55.815Z"
   },
   {
    "duration": 1353,
    "start_time": "2023-07-07T11:54:20.397Z"
   },
   {
    "duration": 80,
    "start_time": "2023-07-07T11:54:21.752Z"
   },
   {
    "duration": 14,
    "start_time": "2023-07-07T11:54:21.834Z"
   },
   {
    "duration": 16,
    "start_time": "2023-07-07T11:54:21.850Z"
   },
   {
    "duration": 17,
    "start_time": "2023-07-07T11:54:21.870Z"
   },
   {
    "duration": 19,
    "start_time": "2023-07-07T11:54:21.905Z"
   },
   {
    "duration": 14,
    "start_time": "2023-07-07T11:54:21.926Z"
   },
   {
    "duration": 12,
    "start_time": "2023-07-07T11:54:21.943Z"
   },
   {
    "duration": 16,
    "start_time": "2023-07-07T11:54:21.957Z"
   },
   {
    "duration": 34,
    "start_time": "2023-07-07T11:54:21.975Z"
   },
   {
    "duration": 9,
    "start_time": "2023-07-07T11:54:22.013Z"
   },
   {
    "duration": 11,
    "start_time": "2023-07-07T11:54:22.024Z"
   },
   {
    "duration": 10,
    "start_time": "2023-07-07T11:54:22.037Z"
   },
   {
    "duration": 7,
    "start_time": "2023-07-07T11:54:22.051Z"
   },
   {
    "duration": 15,
    "start_time": "2023-07-07T11:54:22.060Z"
   },
   {
    "duration": 37,
    "start_time": "2023-07-07T11:54:22.077Z"
   },
   {
    "duration": 22,
    "start_time": "2023-07-07T11:54:22.115Z"
   },
   {
    "duration": 11,
    "start_time": "2023-07-07T11:54:22.139Z"
   },
   {
    "duration": 12,
    "start_time": "2023-07-07T11:54:22.152Z"
   },
   {
    "duration": 12,
    "start_time": "2023-07-07T11:54:22.166Z"
   },
   {
    "duration": 8,
    "start_time": "2023-07-07T11:54:22.180Z"
   },
   {
    "duration": 14,
    "start_time": "2023-07-07T11:54:22.190Z"
   },
   {
    "duration": 21,
    "start_time": "2023-07-07T11:54:22.208Z"
   },
   {
    "duration": 204,
    "start_time": "2023-07-07T11:54:22.232Z"
   },
   {
    "duration": 5,
    "start_time": "2023-07-07T11:54:22.439Z"
   },
   {
    "duration": 22,
    "start_time": "2023-07-07T11:54:22.446Z"
   },
   {
    "duration": 125,
    "start_time": "2023-07-07T11:54:22.470Z"
   },
   {
    "duration": 15,
    "start_time": "2023-07-07T11:54:22.601Z"
   },
   {
    "duration": 23,
    "start_time": "2023-07-07T11:54:22.617Z"
   },
   {
    "duration": 195,
    "start_time": "2023-07-07T11:54:22.642Z"
   },
   {
    "duration": 12,
    "start_time": "2023-07-07T11:54:22.839Z"
   },
   {
    "duration": 217,
    "start_time": "2023-07-07T11:54:22.853Z"
   },
   {
    "duration": 219,
    "start_time": "2023-07-07T11:54:23.073Z"
   },
   {
    "duration": 28,
    "start_time": "2023-07-07T11:54:23.294Z"
   },
   {
    "duration": 207,
    "start_time": "2023-07-07T11:54:23.324Z"
   },
   {
    "duration": 211,
    "start_time": "2023-07-07T11:54:23.533Z"
   },
   {
    "duration": 12,
    "start_time": "2023-07-07T11:54:23.746Z"
   },
   {
    "duration": 14,
    "start_time": "2023-07-07T11:54:23.759Z"
   },
   {
    "duration": 42,
    "start_time": "2023-07-07T11:54:23.775Z"
   },
   {
    "duration": 12,
    "start_time": "2023-07-07T11:54:23.819Z"
   },
   {
    "duration": 21,
    "start_time": "2023-07-07T11:54:23.836Z"
   },
   {
    "duration": 24,
    "start_time": "2023-07-07T11:54:23.859Z"
   },
   {
    "duration": 30,
    "start_time": "2023-07-07T11:54:23.885Z"
   },
   {
    "duration": 39,
    "start_time": "2023-07-07T11:54:23.918Z"
   },
   {
    "duration": 228,
    "start_time": "2023-07-07T11:54:23.959Z"
   },
   {
    "duration": 18,
    "start_time": "2023-07-07T11:54:24.189Z"
   },
   {
    "duration": 299,
    "start_time": "2023-07-07T11:54:24.213Z"
   },
   {
    "duration": 10,
    "start_time": "2023-07-07T11:54:24.518Z"
   },
   {
    "duration": 199,
    "start_time": "2023-07-07T11:54:24.530Z"
   },
   {
    "duration": 11,
    "start_time": "2023-07-07T11:54:24.731Z"
   },
   {
    "duration": 201,
    "start_time": "2023-07-07T11:54:24.744Z"
   },
   {
    "duration": 1058,
    "start_time": "2023-07-07T11:54:24.947Z"
   },
   {
    "duration": 7,
    "start_time": "2023-07-07T11:54:26.007Z"
   },
   {
    "duration": 13,
    "start_time": "2023-07-07T11:54:26.018Z"
   },
   {
    "duration": 38,
    "start_time": "2023-07-07T11:54:26.033Z"
   },
   {
    "duration": 5,
    "start_time": "2023-07-07T11:54:26.074Z"
   },
   {
    "duration": 158,
    "start_time": "2023-07-07T11:54:26.081Z"
   },
   {
    "duration": 9,
    "start_time": "2023-07-07T11:54:26.241Z"
   },
   {
    "duration": 10,
    "start_time": "2023-07-07T11:54:26.251Z"
   },
   {
    "duration": 8,
    "start_time": "2023-07-07T11:54:26.262Z"
   },
   {
    "duration": 31,
    "start_time": "2023-07-07T11:54:26.272Z"
   },
   {
    "duration": 1455,
    "start_time": "2023-07-07T11:54:36.529Z"
   },
   {
    "duration": 89,
    "start_time": "2023-07-07T11:54:37.987Z"
   },
   {
    "duration": 19,
    "start_time": "2023-07-07T11:54:38.078Z"
   },
   {
    "duration": 40,
    "start_time": "2023-07-07T11:54:38.100Z"
   },
   {
    "duration": 24,
    "start_time": "2023-07-07T11:54:38.142Z"
   },
   {
    "duration": 27,
    "start_time": "2023-07-07T11:54:38.168Z"
   },
   {
    "duration": 34,
    "start_time": "2023-07-07T11:54:38.197Z"
   },
   {
    "duration": 18,
    "start_time": "2023-07-07T11:54:38.233Z"
   },
   {
    "duration": 16,
    "start_time": "2023-07-07T11:54:38.253Z"
   },
   {
    "duration": 17,
    "start_time": "2023-07-07T11:54:38.272Z"
   },
   {
    "duration": 6,
    "start_time": "2023-07-07T11:54:38.291Z"
   },
   {
    "duration": 27,
    "start_time": "2023-07-07T11:54:38.299Z"
   },
   {
    "duration": 14,
    "start_time": "2023-07-07T11:54:38.328Z"
   },
   {
    "duration": 13,
    "start_time": "2023-07-07T11:54:38.344Z"
   },
   {
    "duration": 9,
    "start_time": "2023-07-07T11:54:38.359Z"
   },
   {
    "duration": 14,
    "start_time": "2023-07-07T11:54:38.370Z"
   },
   {
    "duration": 34,
    "start_time": "2023-07-07T11:54:38.387Z"
   },
   {
    "duration": 13,
    "start_time": "2023-07-07T11:54:38.423Z"
   },
   {
    "duration": 10,
    "start_time": "2023-07-07T11:54:38.437Z"
   },
   {
    "duration": 6,
    "start_time": "2023-07-07T11:54:38.449Z"
   },
   {
    "duration": 11,
    "start_time": "2023-07-07T11:54:38.456Z"
   },
   {
    "duration": 18,
    "start_time": "2023-07-07T11:54:38.469Z"
   },
   {
    "duration": 26,
    "start_time": "2023-07-07T11:54:38.490Z"
   },
   {
    "duration": 265,
    "start_time": "2023-07-07T11:54:38.518Z"
   },
   {
    "duration": 6,
    "start_time": "2023-07-07T11:54:38.785Z"
   },
   {
    "duration": 40,
    "start_time": "2023-07-07T11:54:38.793Z"
   },
   {
    "duration": 147,
    "start_time": "2023-07-07T11:54:38.836Z"
   },
   {
    "duration": 19,
    "start_time": "2023-07-07T11:54:38.988Z"
   },
   {
    "duration": 35,
    "start_time": "2023-07-07T11:54:39.009Z"
   },
   {
    "duration": 230,
    "start_time": "2023-07-07T11:54:39.047Z"
   },
   {
    "duration": 13,
    "start_time": "2023-07-07T11:54:39.279Z"
   },
   {
    "duration": 255,
    "start_time": "2023-07-07T11:54:39.305Z"
   },
   {
    "duration": 211,
    "start_time": "2023-07-07T11:54:39.562Z"
   },
   {
    "duration": 13,
    "start_time": "2023-07-07T11:54:39.775Z"
   },
   {
    "duration": 238,
    "start_time": "2023-07-07T11:54:39.802Z"
   },
   {
    "duration": 212,
    "start_time": "2023-07-07T11:54:40.043Z"
   },
   {
    "duration": 17,
    "start_time": "2023-07-07T11:54:40.257Z"
   },
   {
    "duration": 35,
    "start_time": "2023-07-07T11:54:40.276Z"
   },
   {
    "duration": 22,
    "start_time": "2023-07-07T11:54:40.315Z"
   },
   {
    "duration": 10,
    "start_time": "2023-07-07T11:54:40.338Z"
   },
   {
    "duration": 30,
    "start_time": "2023-07-07T11:54:40.350Z"
   },
   {
    "duration": 33,
    "start_time": "2023-07-07T11:54:40.383Z"
   },
   {
    "duration": 60,
    "start_time": "2023-07-07T11:54:40.418Z"
   },
   {
    "duration": 23,
    "start_time": "2023-07-07T11:54:40.480Z"
   },
   {
    "duration": 273,
    "start_time": "2023-07-07T11:54:40.505Z"
   },
   {
    "duration": 26,
    "start_time": "2023-07-07T11:54:40.783Z"
   },
   {
    "duration": 345,
    "start_time": "2023-07-07T11:54:40.813Z"
   },
   {
    "duration": 29,
    "start_time": "2023-07-07T11:54:41.160Z"
   },
   {
    "duration": 236,
    "start_time": "2023-07-07T11:54:41.191Z"
   },
   {
    "duration": 10,
    "start_time": "2023-07-07T11:54:41.429Z"
   },
   {
    "duration": 205,
    "start_time": "2023-07-07T11:54:41.441Z"
   },
   {
    "duration": 991,
    "start_time": "2023-07-07T11:54:41.648Z"
   },
   {
    "duration": 6,
    "start_time": "2023-07-07T11:54:42.642Z"
   },
   {
    "duration": 7,
    "start_time": "2023-07-07T11:54:42.650Z"
   },
   {
    "duration": 62,
    "start_time": "2023-07-07T11:54:42.659Z"
   },
   {
    "duration": 6,
    "start_time": "2023-07-07T11:54:42.728Z"
   },
   {
    "duration": 157,
    "start_time": "2023-07-07T11:54:42.737Z"
   },
   {
    "duration": 25,
    "start_time": "2023-07-07T11:54:42.896Z"
   },
   {
    "duration": 9,
    "start_time": "2023-07-07T11:54:42.923Z"
   },
   {
    "duration": 7,
    "start_time": "2023-07-07T11:54:42.934Z"
   },
   {
    "duration": 19,
    "start_time": "2023-07-07T11:54:42.943Z"
   },
   {
    "duration": 53,
    "start_time": "2023-07-07T13:29:52.185Z"
   },
   {
    "duration": 1883,
    "start_time": "2023-07-07T13:30:02.661Z"
   },
   {
    "duration": 193,
    "start_time": "2023-07-07T13:30:04.548Z"
   },
   {
    "duration": 20,
    "start_time": "2023-07-07T13:30:04.742Z"
   },
   {
    "duration": 14,
    "start_time": "2023-07-07T13:30:04.764Z"
   },
   {
    "duration": 27,
    "start_time": "2023-07-07T13:30:04.780Z"
   },
   {
    "duration": 22,
    "start_time": "2023-07-07T13:30:04.809Z"
   },
   {
    "duration": 12,
    "start_time": "2023-07-07T13:30:04.833Z"
   },
   {
    "duration": 39,
    "start_time": "2023-07-07T13:30:04.847Z"
   },
   {
    "duration": 38,
    "start_time": "2023-07-07T13:30:04.888Z"
   },
   {
    "duration": 23,
    "start_time": "2023-07-07T13:30:04.931Z"
   },
   {
    "duration": 34,
    "start_time": "2023-07-07T13:30:04.955Z"
   },
   {
    "duration": 47,
    "start_time": "2023-07-07T13:30:04.991Z"
   },
   {
    "duration": 28,
    "start_time": "2023-07-07T13:30:05.040Z"
   },
   {
    "duration": 25,
    "start_time": "2023-07-07T13:30:05.070Z"
   },
   {
    "duration": 23,
    "start_time": "2023-07-07T13:30:05.096Z"
   },
   {
    "duration": 50,
    "start_time": "2023-07-07T13:30:05.121Z"
   },
   {
    "duration": 41,
    "start_time": "2023-07-07T13:30:05.173Z"
   },
   {
    "duration": 26,
    "start_time": "2023-07-07T13:30:05.216Z"
   },
   {
    "duration": 24,
    "start_time": "2023-07-07T13:30:05.244Z"
   },
   {
    "duration": 30,
    "start_time": "2023-07-07T13:30:05.271Z"
   },
   {
    "duration": 39,
    "start_time": "2023-07-07T13:30:05.303Z"
   },
   {
    "duration": 29,
    "start_time": "2023-07-07T13:30:05.344Z"
   },
   {
    "duration": 52,
    "start_time": "2023-07-07T13:30:05.375Z"
   },
   {
    "duration": 6,
    "start_time": "2023-07-07T13:30:07.064Z"
   },
   {
    "duration": 229,
    "start_time": "2023-07-07T13:30:07.635Z"
   },
   {
    "duration": 213,
    "start_time": "2023-07-07T13:30:23.283Z"
   },
   {
    "duration": 122,
    "start_time": "2023-07-07T13:32:40.965Z"
   },
   {
    "duration": 11,
    "start_time": "2023-07-07T13:33:46.852Z"
   },
   {
    "duration": 11,
    "start_time": "2023-07-07T13:33:59.720Z"
   },
   {
    "duration": 10,
    "start_time": "2023-07-07T13:36:21.448Z"
   },
   {
    "duration": 239,
    "start_time": "2023-07-07T13:36:58.833Z"
   },
   {
    "duration": 124,
    "start_time": "2023-07-07T13:40:29.768Z"
   },
   {
    "duration": 143,
    "start_time": "2023-07-07T13:40:42.873Z"
   },
   {
    "duration": 116,
    "start_time": "2023-07-07T13:41:08.072Z"
   },
   {
    "duration": 4,
    "start_time": "2023-07-07T13:46:15.703Z"
   },
   {
    "duration": 4,
    "start_time": "2023-07-07T13:46:33.557Z"
   },
   {
    "duration": 4,
    "start_time": "2023-07-07T13:46:35.832Z"
   },
   {
    "duration": 4,
    "start_time": "2023-07-07T13:46:53.658Z"
   },
   {
    "duration": 1198,
    "start_time": "2023-07-07T13:47:17.226Z"
   },
   {
    "duration": 70,
    "start_time": "2023-07-07T13:47:18.426Z"
   },
   {
    "duration": 13,
    "start_time": "2023-07-07T13:47:18.498Z"
   },
   {
    "duration": 12,
    "start_time": "2023-07-07T13:47:18.513Z"
   },
   {
    "duration": 12,
    "start_time": "2023-07-07T13:47:18.527Z"
   },
   {
    "duration": 14,
    "start_time": "2023-07-07T13:47:18.541Z"
   },
   {
    "duration": 16,
    "start_time": "2023-07-07T13:47:18.556Z"
   },
   {
    "duration": 35,
    "start_time": "2023-07-07T13:47:18.574Z"
   },
   {
    "duration": 8,
    "start_time": "2023-07-07T13:47:18.610Z"
   },
   {
    "duration": 10,
    "start_time": "2023-07-07T13:47:18.620Z"
   },
   {
    "duration": 5,
    "start_time": "2023-07-07T13:47:18.631Z"
   },
   {
    "duration": 5,
    "start_time": "2023-07-07T13:47:18.638Z"
   },
   {
    "duration": 6,
    "start_time": "2023-07-07T13:47:18.645Z"
   },
   {
    "duration": 5,
    "start_time": "2023-07-07T13:47:18.653Z"
   },
   {
    "duration": 14,
    "start_time": "2023-07-07T13:47:18.659Z"
   },
   {
    "duration": 8,
    "start_time": "2023-07-07T13:47:18.701Z"
   },
   {
    "duration": 9,
    "start_time": "2023-07-07T13:47:18.711Z"
   },
   {
    "duration": 4,
    "start_time": "2023-07-07T13:47:18.722Z"
   },
   {
    "duration": 10,
    "start_time": "2023-07-07T13:47:18.728Z"
   },
   {
    "duration": 7,
    "start_time": "2023-07-07T13:47:18.740Z"
   },
   {
    "duration": 10,
    "start_time": "2023-07-07T13:47:18.748Z"
   },
   {
    "duration": 7,
    "start_time": "2023-07-07T13:47:18.760Z"
   },
   {
    "duration": 34,
    "start_time": "2023-07-07T13:47:18.768Z"
   },
   {
    "duration": 155,
    "start_time": "2023-07-07T13:47:18.804Z"
   },
   {
    "duration": 4,
    "start_time": "2023-07-07T13:47:18.961Z"
   },
   {
    "duration": 10,
    "start_time": "2023-07-07T13:47:18.966Z"
   },
   {
    "duration": 124,
    "start_time": "2023-07-07T13:47:18.978Z"
   },
   {
    "duration": 5,
    "start_time": "2023-07-07T13:47:19.107Z"
   },
   {
    "duration": 11,
    "start_time": "2023-07-07T13:47:19.114Z"
   },
   {
    "duration": 183,
    "start_time": "2023-07-07T13:47:19.126Z"
   },
   {
    "duration": 10,
    "start_time": "2023-07-07T13:47:19.310Z"
   },
   {
    "duration": 204,
    "start_time": "2023-07-07T13:47:19.321Z"
   },
   {
    "duration": 113,
    "start_time": "2023-07-07T13:47:19.526Z"
   },
   {
    "duration": 183,
    "start_time": "2023-07-07T13:47:19.640Z"
   },
   {
    "duration": 9,
    "start_time": "2023-07-07T13:47:19.825Z"
   },
   {
    "duration": 194,
    "start_time": "2023-07-07T13:47:19.836Z"
   },
   {
    "duration": 166,
    "start_time": "2023-07-07T13:47:20.032Z"
   },
   {
    "duration": 197,
    "start_time": "2023-07-07T13:47:20.199Z"
   },
   {
    "duration": 5,
    "start_time": "2023-07-07T13:47:20.402Z"
   },
   {
    "duration": 34,
    "start_time": "2023-07-07T13:47:20.409Z"
   },
   {
    "duration": 11,
    "start_time": "2023-07-07T13:47:20.445Z"
   },
   {
    "duration": 11,
    "start_time": "2023-07-07T13:47:20.458Z"
   },
   {
    "duration": 25,
    "start_time": "2023-07-07T13:47:20.471Z"
   },
   {
    "duration": 16,
    "start_time": "2023-07-07T13:47:20.499Z"
   },
   {
    "duration": 30,
    "start_time": "2023-07-07T13:47:20.517Z"
   },
   {
    "duration": 34,
    "start_time": "2023-07-07T13:47:20.550Z"
   },
   {
    "duration": 17,
    "start_time": "2023-07-07T13:47:20.586Z"
   },
   {
    "duration": 31,
    "start_time": "2023-07-07T13:47:20.605Z"
   },
   {
    "duration": 8,
    "start_time": "2023-07-07T13:47:20.638Z"
   },
   {
    "duration": 189,
    "start_time": "2023-07-07T13:47:20.647Z"
   },
   {
    "duration": 8,
    "start_time": "2023-07-07T13:47:20.838Z"
   },
   {
    "duration": 197,
    "start_time": "2023-07-07T13:47:20.848Z"
   },
   {
    "duration": 8,
    "start_time": "2023-07-07T13:47:21.047Z"
   },
   {
    "duration": 191,
    "start_time": "2023-07-07T13:47:21.057Z"
   },
   {
    "duration": 9,
    "start_time": "2023-07-07T13:47:21.249Z"
   },
   {
    "duration": 181,
    "start_time": "2023-07-07T13:47:21.259Z"
   },
   {
    "duration": 870,
    "start_time": "2023-07-07T13:47:21.441Z"
   },
   {
    "duration": 4,
    "start_time": "2023-07-07T13:47:22.313Z"
   },
   {
    "duration": 25,
    "start_time": "2023-07-07T13:47:22.318Z"
   },
   {
    "duration": 23,
    "start_time": "2023-07-07T13:47:22.345Z"
   },
   {
    "duration": 3,
    "start_time": "2023-07-07T13:47:22.370Z"
   },
   {
    "duration": 159,
    "start_time": "2023-07-07T13:47:22.374Z"
   },
   {
    "duration": 8,
    "start_time": "2023-07-07T13:47:22.534Z"
   },
   {
    "duration": 9,
    "start_time": "2023-07-07T13:47:22.544Z"
   },
   {
    "duration": 21,
    "start_time": "2023-07-07T13:47:22.555Z"
   },
   {
    "duration": 22,
    "start_time": "2023-07-07T13:47:22.578Z"
   },
   {
    "duration": 12,
    "start_time": "2023-07-07T13:47:32.474Z"
   },
   {
    "duration": 10,
    "start_time": "2023-07-07T13:47:33.222Z"
   },
   {
    "duration": 4,
    "start_time": "2023-07-07T13:47:43.562Z"
   },
   {
    "duration": 19,
    "start_time": "2023-07-07T13:48:28.837Z"
   },
   {
    "duration": 1508,
    "start_time": "2023-07-07T13:49:13.117Z"
   },
   {
    "duration": 70,
    "start_time": "2023-07-07T13:49:14.627Z"
   },
   {
    "duration": 13,
    "start_time": "2023-07-07T13:49:14.699Z"
   },
   {
    "duration": 19,
    "start_time": "2023-07-07T13:49:14.715Z"
   },
   {
    "duration": 13,
    "start_time": "2023-07-07T13:49:14.736Z"
   },
   {
    "duration": 22,
    "start_time": "2023-07-07T13:49:14.750Z"
   },
   {
    "duration": 13,
    "start_time": "2023-07-07T13:49:14.774Z"
   },
   {
    "duration": 25,
    "start_time": "2023-07-07T13:49:14.789Z"
   },
   {
    "duration": 13,
    "start_time": "2023-07-07T13:49:14.817Z"
   },
   {
    "duration": 13,
    "start_time": "2023-07-07T13:49:14.831Z"
   },
   {
    "duration": 6,
    "start_time": "2023-07-07T13:49:14.846Z"
   },
   {
    "duration": 9,
    "start_time": "2023-07-07T13:49:14.854Z"
   },
   {
    "duration": 7,
    "start_time": "2023-07-07T13:49:14.867Z"
   },
   {
    "duration": 26,
    "start_time": "2023-07-07T13:49:14.876Z"
   },
   {
    "duration": 8,
    "start_time": "2023-07-07T13:49:14.903Z"
   },
   {
    "duration": 22,
    "start_time": "2023-07-07T13:49:14.913Z"
   },
   {
    "duration": 14,
    "start_time": "2023-07-07T13:49:14.937Z"
   },
   {
    "duration": 6,
    "start_time": "2023-07-07T13:49:14.953Z"
   },
   {
    "duration": 15,
    "start_time": "2023-07-07T13:49:14.961Z"
   },
   {
    "duration": 18,
    "start_time": "2023-07-07T13:49:14.977Z"
   },
   {
    "duration": 26,
    "start_time": "2023-07-07T13:49:14.997Z"
   },
   {
    "duration": 41,
    "start_time": "2023-07-07T13:49:15.025Z"
   },
   {
    "duration": 79,
    "start_time": "2023-07-07T13:49:15.068Z"
   },
   {
    "duration": 177,
    "start_time": "2023-07-07T13:49:15.148Z"
   },
   {
    "duration": 4,
    "start_time": "2023-07-07T13:49:15.327Z"
   },
   {
    "duration": 38,
    "start_time": "2023-07-07T13:49:15.333Z"
   },
   {
    "duration": 144,
    "start_time": "2023-07-07T13:49:15.373Z"
   },
   {
    "duration": 5,
    "start_time": "2023-07-07T13:49:15.519Z"
   },
   {
    "duration": 17,
    "start_time": "2023-07-07T13:49:15.526Z"
   },
   {
    "duration": 192,
    "start_time": "2023-07-07T13:49:15.545Z"
   },
   {
    "duration": 12,
    "start_time": "2023-07-07T13:49:15.738Z"
   },
   {
    "duration": 214,
    "start_time": "2023-07-07T13:49:15.752Z"
   },
   {
    "duration": 119,
    "start_time": "2023-07-07T13:49:15.968Z"
   },
   {
    "duration": 195,
    "start_time": "2023-07-07T13:49:16.089Z"
   },
   {
    "duration": 20,
    "start_time": "2023-07-07T13:49:16.286Z"
   },
   {
    "duration": 214,
    "start_time": "2023-07-07T13:49:16.307Z"
   },
   {
    "duration": 181,
    "start_time": "2023-07-07T13:49:16.523Z"
   },
   {
    "duration": 213,
    "start_time": "2023-07-07T13:49:16.706Z"
   },
   {
    "duration": 5,
    "start_time": "2023-07-07T13:49:16.921Z"
   },
   {
    "duration": 13,
    "start_time": "2023-07-07T13:49:16.930Z"
   },
   {
    "duration": 7,
    "start_time": "2023-07-07T13:49:16.945Z"
   },
   {
    "duration": 14,
    "start_time": "2023-07-07T13:49:16.954Z"
   },
   {
    "duration": 32,
    "start_time": "2023-07-07T13:49:16.971Z"
   },
   {
    "duration": 14,
    "start_time": "2023-07-07T13:49:17.006Z"
   },
   {
    "duration": 12,
    "start_time": "2023-07-07T13:49:17.022Z"
   },
   {
    "duration": 4,
    "start_time": "2023-07-07T13:49:20.634Z"
   },
   {
    "duration": 22,
    "start_time": "2023-07-07T13:49:21.521Z"
   },
   {
    "duration": 11,
    "start_time": "2023-07-07T13:51:11.491Z"
   },
   {
    "duration": 15,
    "start_time": "2023-07-07T13:51:51.343Z"
   },
   {
    "duration": 322,
    "start_time": "2023-07-07T13:52:46.818Z"
   },
   {
    "duration": 124,
    "start_time": "2023-07-07T13:52:51.120Z"
   },
   {
    "duration": 1027,
    "start_time": "2023-07-07T13:57:13.049Z"
   },
   {
    "duration": 1270,
    "start_time": "2023-07-07T13:57:25.095Z"
   },
   {
    "duration": 71,
    "start_time": "2023-07-07T13:57:26.368Z"
   },
   {
    "duration": 15,
    "start_time": "2023-07-07T13:57:26.441Z"
   },
   {
    "duration": 18,
    "start_time": "2023-07-07T13:57:26.458Z"
   },
   {
    "duration": 25,
    "start_time": "2023-07-07T13:57:26.478Z"
   },
   {
    "duration": 53,
    "start_time": "2023-07-07T13:57:26.504Z"
   },
   {
    "duration": 25,
    "start_time": "2023-07-07T13:57:26.559Z"
   },
   {
    "duration": 35,
    "start_time": "2023-07-07T13:57:26.586Z"
   },
   {
    "duration": 41,
    "start_time": "2023-07-07T13:57:26.623Z"
   },
   {
    "duration": 19,
    "start_time": "2023-07-07T13:57:26.669Z"
   },
   {
    "duration": 21,
    "start_time": "2023-07-07T13:57:26.690Z"
   },
   {
    "duration": 17,
    "start_time": "2023-07-07T13:57:26.713Z"
   },
   {
    "duration": 27,
    "start_time": "2023-07-07T13:57:26.732Z"
   },
   {
    "duration": 14,
    "start_time": "2023-07-07T13:57:26.761Z"
   },
   {
    "duration": 24,
    "start_time": "2023-07-07T13:57:26.776Z"
   },
   {
    "duration": 13,
    "start_time": "2023-07-07T13:57:26.803Z"
   },
   {
    "duration": 19,
    "start_time": "2023-07-07T13:57:26.818Z"
   },
   {
    "duration": 23,
    "start_time": "2023-07-07T13:57:26.840Z"
   },
   {
    "duration": 25,
    "start_time": "2023-07-07T13:57:26.865Z"
   },
   {
    "duration": 25,
    "start_time": "2023-07-07T13:57:26.892Z"
   },
   {
    "duration": 31,
    "start_time": "2023-07-07T13:57:26.919Z"
   },
   {
    "duration": 24,
    "start_time": "2023-07-07T13:57:26.952Z"
   },
   {
    "duration": 17,
    "start_time": "2023-07-07T13:57:26.978Z"
   },
   {
    "duration": 195,
    "start_time": "2023-07-07T13:57:26.997Z"
   },
   {
    "duration": 6,
    "start_time": "2023-07-07T13:57:27.203Z"
   },
   {
    "duration": 33,
    "start_time": "2023-07-07T13:57:27.211Z"
   },
   {
    "duration": 140,
    "start_time": "2023-07-07T13:57:27.246Z"
   },
   {
    "duration": 15,
    "start_time": "2023-07-07T13:57:27.390Z"
   },
   {
    "duration": 31,
    "start_time": "2023-07-07T13:57:27.407Z"
   },
   {
    "duration": 211,
    "start_time": "2023-07-07T13:57:27.439Z"
   },
   {
    "duration": 10,
    "start_time": "2023-07-07T13:57:27.651Z"
   },
   {
    "duration": 209,
    "start_time": "2023-07-07T13:57:27.663Z"
   },
   {
    "duration": 140,
    "start_time": "2023-07-07T13:57:27.874Z"
   },
   {
    "duration": 198,
    "start_time": "2023-07-07T13:57:28.017Z"
   },
   {
    "duration": 11,
    "start_time": "2023-07-07T13:57:28.217Z"
   },
   {
    "duration": 219,
    "start_time": "2023-07-07T13:57:28.230Z"
   },
   {
    "duration": 184,
    "start_time": "2023-07-07T13:57:28.452Z"
   },
   {
    "duration": 214,
    "start_time": "2023-07-07T13:57:28.638Z"
   },
   {
    "duration": 6,
    "start_time": "2023-07-07T13:57:28.854Z"
   },
   {
    "duration": 27,
    "start_time": "2023-07-07T13:57:28.862Z"
   },
   {
    "duration": 19,
    "start_time": "2023-07-07T13:57:28.891Z"
   },
   {
    "duration": 31,
    "start_time": "2023-07-07T13:57:28.912Z"
   },
   {
    "duration": 18,
    "start_time": "2023-07-07T13:57:28.945Z"
   },
   {
    "duration": 5,
    "start_time": "2023-07-07T13:57:28.965Z"
   },
   {
    "duration": 35,
    "start_time": "2023-07-07T13:57:28.972Z"
   },
   {
    "duration": 15,
    "start_time": "2023-07-07T13:57:29.009Z"
   },
   {
    "duration": 25,
    "start_time": "2023-07-07T13:57:29.027Z"
   },
   {
    "duration": 21,
    "start_time": "2023-07-07T13:57:29.054Z"
   },
   {
    "duration": 42,
    "start_time": "2023-07-07T13:57:29.077Z"
   },
   {
    "duration": 14,
    "start_time": "2023-07-07T13:57:29.121Z"
   },
   {
    "duration": 218,
    "start_time": "2023-07-07T13:57:29.137Z"
   },
   {
    "duration": 10,
    "start_time": "2023-07-07T13:57:29.356Z"
   },
   {
    "duration": 223,
    "start_time": "2023-07-07T13:57:29.368Z"
   },
   {
    "duration": 15,
    "start_time": "2023-07-07T13:57:29.593Z"
   },
   {
    "duration": 194,
    "start_time": "2023-07-07T13:57:29.610Z"
   },
   {
    "duration": 10,
    "start_time": "2023-07-07T13:57:29.806Z"
   },
   {
    "duration": 199,
    "start_time": "2023-07-07T13:57:29.818Z"
   },
   {
    "duration": 9,
    "start_time": "2023-07-07T13:57:30.019Z"
   },
   {
    "duration": 47,
    "start_time": "2023-07-07T13:57:30.030Z"
   },
   {
    "duration": 1026,
    "start_time": "2023-07-07T13:57:32.824Z"
   },
   {
    "duration": 5,
    "start_time": "2023-07-07T13:57:35.049Z"
   },
   {
    "duration": 5,
    "start_time": "2023-07-07T13:57:37.324Z"
   },
   {
    "duration": 10,
    "start_time": "2023-07-07T13:58:43.524Z"
   },
   {
    "duration": 9,
    "start_time": "2023-07-07T13:58:55.910Z"
   },
   {
    "duration": 932,
    "start_time": "2023-07-07T13:59:27.155Z"
   },
   {
    "duration": 4,
    "start_time": "2023-07-07T13:59:28.090Z"
   },
   {
    "duration": 8,
    "start_time": "2023-07-07T13:59:28.102Z"
   },
   {
    "duration": 8,
    "start_time": "2023-07-07T13:59:28.170Z"
   },
   {
    "duration": 3,
    "start_time": "2023-07-07T13:59:29.230Z"
   },
   {
    "duration": 16,
    "start_time": "2023-07-07T13:59:29.730Z"
   },
   {
    "duration": 1342,
    "start_time": "2023-07-07T13:59:50.511Z"
   },
   {
    "duration": 71,
    "start_time": "2023-07-07T13:59:51.855Z"
   },
   {
    "duration": 16,
    "start_time": "2023-07-07T13:59:51.927Z"
   },
   {
    "duration": 29,
    "start_time": "2023-07-07T13:59:51.945Z"
   },
   {
    "duration": 36,
    "start_time": "2023-07-07T13:59:51.977Z"
   },
   {
    "duration": 48,
    "start_time": "2023-07-07T13:59:52.015Z"
   },
   {
    "duration": 31,
    "start_time": "2023-07-07T13:59:52.065Z"
   },
   {
    "duration": 21,
    "start_time": "2023-07-07T13:59:52.098Z"
   },
   {
    "duration": 35,
    "start_time": "2023-07-07T13:59:52.121Z"
   },
   {
    "duration": 21,
    "start_time": "2023-07-07T13:59:52.162Z"
   },
   {
    "duration": 9,
    "start_time": "2023-07-07T13:59:52.185Z"
   },
   {
    "duration": 21,
    "start_time": "2023-07-07T13:59:52.196Z"
   },
   {
    "duration": 27,
    "start_time": "2023-07-07T13:59:52.220Z"
   },
   {
    "duration": 16,
    "start_time": "2023-07-07T13:59:52.249Z"
   },
   {
    "duration": 24,
    "start_time": "2023-07-07T13:59:52.267Z"
   },
   {
    "duration": 16,
    "start_time": "2023-07-07T13:59:52.293Z"
   },
   {
    "duration": 13,
    "start_time": "2023-07-07T13:59:52.312Z"
   },
   {
    "duration": 16,
    "start_time": "2023-07-07T13:59:52.327Z"
   },
   {
    "duration": 18,
    "start_time": "2023-07-07T13:59:52.345Z"
   },
   {
    "duration": 125,
    "start_time": "2023-07-07T13:59:52.365Z"
   },
   {
    "duration": 23,
    "start_time": "2023-07-07T13:59:52.492Z"
   },
   {
    "duration": 37,
    "start_time": "2023-07-07T13:59:52.517Z"
   },
   {
    "duration": 25,
    "start_time": "2023-07-07T13:59:52.556Z"
   },
   {
    "duration": 176,
    "start_time": "2023-07-07T13:59:52.583Z"
   },
   {
    "duration": 6,
    "start_time": "2023-07-07T13:59:52.761Z"
   },
   {
    "duration": 15,
    "start_time": "2023-07-07T13:59:52.769Z"
   },
   {
    "duration": 127,
    "start_time": "2023-07-07T13:59:52.801Z"
   },
   {
    "duration": 7,
    "start_time": "2023-07-07T13:59:52.935Z"
   },
   {
    "duration": 31,
    "start_time": "2023-07-07T13:59:52.944Z"
   },
   {
    "duration": 219,
    "start_time": "2023-07-07T13:59:52.978Z"
   },
   {
    "duration": 13,
    "start_time": "2023-07-07T13:59:53.202Z"
   },
   {
    "duration": 218,
    "start_time": "2023-07-07T13:59:53.217Z"
   },
   {
    "duration": 158,
    "start_time": "2023-07-07T13:59:53.437Z"
   },
   {
    "duration": 215,
    "start_time": "2023-07-07T13:59:53.601Z"
   },
   {
    "duration": 12,
    "start_time": "2023-07-07T13:59:53.818Z"
   },
   {
    "duration": 254,
    "start_time": "2023-07-07T13:59:53.832Z"
   },
   {
    "duration": 176,
    "start_time": "2023-07-07T13:59:54.088Z"
   },
   {
    "duration": 269,
    "start_time": "2023-07-07T13:59:54.267Z"
   },
   {
    "duration": 5,
    "start_time": "2023-07-07T13:59:54.538Z"
   },
   {
    "duration": 16,
    "start_time": "2023-07-07T13:59:54.545Z"
   },
   {
    "duration": 11,
    "start_time": "2023-07-07T13:59:54.563Z"
   },
   {
    "duration": 31,
    "start_time": "2023-07-07T13:59:54.577Z"
   },
   {
    "duration": 15,
    "start_time": "2023-07-07T13:59:54.610Z"
   },
   {
    "duration": 15,
    "start_time": "2023-07-07T13:59:54.628Z"
   },
   {
    "duration": 40,
    "start_time": "2023-07-07T13:59:54.646Z"
   },
   {
    "duration": 23,
    "start_time": "2023-07-07T13:59:54.688Z"
   },
   {
    "duration": 34,
    "start_time": "2023-07-07T13:59:54.714Z"
   },
   {
    "duration": 28,
    "start_time": "2023-07-07T13:59:54.750Z"
   },
   {
    "duration": 39,
    "start_time": "2023-07-07T13:59:54.781Z"
   },
   {
    "duration": 37,
    "start_time": "2023-07-07T13:59:54.822Z"
   },
   {
    "duration": 247,
    "start_time": "2023-07-07T13:59:54.861Z"
   },
   {
    "duration": 10,
    "start_time": "2023-07-07T13:59:55.110Z"
   },
   {
    "duration": 231,
    "start_time": "2023-07-07T13:59:55.122Z"
   },
   {
    "duration": 12,
    "start_time": "2023-07-07T13:59:55.355Z"
   },
   {
    "duration": 248,
    "start_time": "2023-07-07T13:59:55.370Z"
   },
   {
    "duration": 11,
    "start_time": "2023-07-07T13:59:55.620Z"
   },
   {
    "duration": 221,
    "start_time": "2023-07-07T13:59:55.632Z"
   },
   {
    "duration": 10,
    "start_time": "2023-07-07T13:59:55.855Z"
   },
   {
    "duration": 37,
    "start_time": "2023-07-07T13:59:55.867Z"
   },
   {
    "duration": 957,
    "start_time": "2023-07-07T13:59:55.906Z"
   },
   {
    "duration": 4,
    "start_time": "2023-07-07T13:59:56.865Z"
   },
   {
    "duration": 26,
    "start_time": "2023-07-07T13:59:56.871Z"
   },
   {
    "duration": 15,
    "start_time": "2023-07-07T13:59:56.899Z"
   },
   {
    "duration": 10,
    "start_time": "2023-07-07T13:59:56.915Z"
   },
   {
    "duration": 30,
    "start_time": "2023-07-07T13:59:56.927Z"
   },
   {
    "duration": 11,
    "start_time": "2023-07-07T13:59:56.960Z"
   },
   {
    "duration": 156,
    "start_time": "2023-07-07T13:59:56.972Z"
   },
   {
    "duration": 8,
    "start_time": "2023-07-07T13:59:57.130Z"
   },
   {
    "duration": 7,
    "start_time": "2023-07-07T14:01:32.269Z"
   },
   {
    "duration": 1240,
    "start_time": "2023-07-07T14:19:14.136Z"
   },
   {
    "duration": 83,
    "start_time": "2023-07-07T14:19:15.378Z"
   },
   {
    "duration": 13,
    "start_time": "2023-07-07T14:19:15.463Z"
   },
   {
    "duration": 13,
    "start_time": "2023-07-07T14:19:15.478Z"
   },
   {
    "duration": 15,
    "start_time": "2023-07-07T14:19:15.492Z"
   },
   {
    "duration": 30,
    "start_time": "2023-07-07T14:19:15.509Z"
   },
   {
    "duration": 17,
    "start_time": "2023-07-07T14:19:15.541Z"
   },
   {
    "duration": 25,
    "start_time": "2023-07-07T14:19:15.559Z"
   },
   {
    "duration": 10,
    "start_time": "2023-07-07T14:19:15.586Z"
   },
   {
    "duration": 9,
    "start_time": "2023-07-07T14:19:15.599Z"
   },
   {
    "duration": 20,
    "start_time": "2023-07-07T14:19:15.610Z"
   },
   {
    "duration": 6,
    "start_time": "2023-07-07T14:19:15.632Z"
   },
   {
    "duration": 11,
    "start_time": "2023-07-07T14:19:15.639Z"
   },
   {
    "duration": 33,
    "start_time": "2023-07-07T14:19:15.651Z"
   },
   {
    "duration": 8,
    "start_time": "2023-07-07T14:19:15.686Z"
   },
   {
    "duration": 12,
    "start_time": "2023-07-07T14:19:15.696Z"
   },
   {
    "duration": 16,
    "start_time": "2023-07-07T14:19:15.712Z"
   },
   {
    "duration": 4,
    "start_time": "2023-07-07T14:19:15.730Z"
   },
   {
    "duration": 9,
    "start_time": "2023-07-07T14:19:15.736Z"
   },
   {
    "duration": 12,
    "start_time": "2023-07-07T14:19:15.746Z"
   },
   {
    "duration": 17,
    "start_time": "2023-07-07T14:19:15.760Z"
   },
   {
    "duration": 28,
    "start_time": "2023-07-07T14:19:15.779Z"
   },
   {
    "duration": 8,
    "start_time": "2023-07-07T14:19:15.814Z"
   },
   {
    "duration": 173,
    "start_time": "2023-07-07T14:19:15.824Z"
   },
   {
    "duration": 10,
    "start_time": "2023-07-07T14:19:16.007Z"
   },
   {
    "duration": 10,
    "start_time": "2023-07-07T14:19:16.019Z"
   },
   {
    "duration": 136,
    "start_time": "2023-07-07T14:19:16.031Z"
   },
   {
    "duration": 6,
    "start_time": "2023-07-07T14:19:16.173Z"
   },
   {
    "duration": 28,
    "start_time": "2023-07-07T14:19:16.180Z"
   },
   {
    "duration": 192,
    "start_time": "2023-07-07T14:19:16.212Z"
   },
   {
    "duration": 14,
    "start_time": "2023-07-07T14:19:16.406Z"
   },
   {
    "duration": 232,
    "start_time": "2023-07-07T14:19:16.422Z"
   },
   {
    "duration": 123,
    "start_time": "2023-07-07T14:19:16.657Z"
   },
   {
    "duration": 205,
    "start_time": "2023-07-07T14:19:16.782Z"
   },
   {
    "duration": 15,
    "start_time": "2023-07-07T14:19:16.989Z"
   },
   {
    "duration": 218,
    "start_time": "2023-07-07T14:19:17.008Z"
   },
   {
    "duration": 182,
    "start_time": "2023-07-07T14:19:17.227Z"
   },
   {
    "duration": 227,
    "start_time": "2023-07-07T14:19:17.416Z"
   },
   {
    "duration": 5,
    "start_time": "2023-07-07T14:19:17.644Z"
   },
   {
    "duration": 13,
    "start_time": "2023-07-07T14:19:17.650Z"
   },
   {
    "duration": 25,
    "start_time": "2023-07-07T14:19:17.664Z"
   },
   {
    "duration": 18,
    "start_time": "2023-07-07T14:19:17.690Z"
   },
   {
    "duration": 21,
    "start_time": "2023-07-07T14:19:17.710Z"
   },
   {
    "duration": 5,
    "start_time": "2023-07-07T14:19:17.733Z"
   },
   {
    "duration": 21,
    "start_time": "2023-07-07T14:19:17.739Z"
   },
   {
    "duration": 10,
    "start_time": "2023-07-07T14:19:17.761Z"
   },
   {
    "duration": 33,
    "start_time": "2023-07-07T14:19:17.773Z"
   },
   {
    "duration": 21,
    "start_time": "2023-07-07T14:19:17.810Z"
   },
   {
    "duration": 22,
    "start_time": "2023-07-07T14:19:17.833Z"
   },
   {
    "duration": 11,
    "start_time": "2023-07-07T14:19:17.857Z"
   },
   {
    "duration": 214,
    "start_time": "2023-07-07T14:19:17.869Z"
   },
   {
    "duration": 33,
    "start_time": "2023-07-07T14:19:18.085Z"
   },
   {
    "duration": 213,
    "start_time": "2023-07-07T14:19:18.120Z"
   },
   {
    "duration": 9,
    "start_time": "2023-07-07T14:19:18.335Z"
   },
   {
    "duration": 204,
    "start_time": "2023-07-07T14:19:18.345Z"
   },
   {
    "duration": 13,
    "start_time": "2023-07-07T14:19:18.550Z"
   },
   {
    "duration": 214,
    "start_time": "2023-07-07T14:19:18.565Z"
   },
   {
    "duration": 9,
    "start_time": "2023-07-07T14:19:18.781Z"
   },
   {
    "duration": 33,
    "start_time": "2023-07-07T14:19:18.802Z"
   },
   {
    "duration": 990,
    "start_time": "2023-07-07T14:19:18.836Z"
   },
   {
    "duration": 4,
    "start_time": "2023-07-07T14:19:19.828Z"
   },
   {
    "duration": 12,
    "start_time": "2023-07-07T14:19:19.833Z"
   },
   {
    "duration": 13,
    "start_time": "2023-07-07T14:19:19.847Z"
   },
   {
    "duration": 1233,
    "start_time": "2023-07-07T14:20:32.637Z"
   },
   {
    "duration": 83,
    "start_time": "2023-07-07T14:20:33.872Z"
   },
   {
    "duration": 21,
    "start_time": "2023-07-07T14:20:33.958Z"
   },
   {
    "duration": 17,
    "start_time": "2023-07-07T14:20:33.982Z"
   },
   {
    "duration": 12,
    "start_time": "2023-07-07T14:20:34.001Z"
   },
   {
    "duration": 14,
    "start_time": "2023-07-07T14:20:34.015Z"
   },
   {
    "duration": 8,
    "start_time": "2023-07-07T14:20:34.031Z"
   },
   {
    "duration": 11,
    "start_time": "2023-07-07T14:20:34.042Z"
   },
   {
    "duration": 13,
    "start_time": "2023-07-07T14:20:34.055Z"
   },
   {
    "duration": 34,
    "start_time": "2023-07-07T14:20:34.072Z"
   },
   {
    "duration": 10,
    "start_time": "2023-07-07T14:20:34.108Z"
   },
   {
    "duration": 10,
    "start_time": "2023-07-07T14:20:34.120Z"
   },
   {
    "duration": 14,
    "start_time": "2023-07-07T14:20:34.132Z"
   },
   {
    "duration": 10,
    "start_time": "2023-07-07T14:20:34.148Z"
   },
   {
    "duration": 11,
    "start_time": "2023-07-07T14:20:34.160Z"
   },
   {
    "duration": 35,
    "start_time": "2023-07-07T14:20:34.174Z"
   },
   {
    "duration": 14,
    "start_time": "2023-07-07T14:20:34.212Z"
   },
   {
    "duration": 6,
    "start_time": "2023-07-07T14:20:34.227Z"
   },
   {
    "duration": 9,
    "start_time": "2023-07-07T14:20:34.236Z"
   },
   {
    "duration": 6,
    "start_time": "2023-07-07T14:20:34.247Z"
   },
   {
    "duration": 7,
    "start_time": "2023-07-07T14:20:34.255Z"
   },
   {
    "duration": 41,
    "start_time": "2023-07-07T14:20:34.265Z"
   },
   {
    "duration": 6,
    "start_time": "2023-07-07T14:20:34.308Z"
   },
   {
    "duration": 166,
    "start_time": "2023-07-07T14:20:34.317Z"
   },
   {
    "duration": 4,
    "start_time": "2023-07-07T14:20:34.485Z"
   },
   {
    "duration": 12,
    "start_time": "2023-07-07T14:20:34.491Z"
   },
   {
    "duration": 131,
    "start_time": "2023-07-07T14:20:34.505Z"
   },
   {
    "duration": 6,
    "start_time": "2023-07-07T14:20:34.642Z"
   },
   {
    "duration": 17,
    "start_time": "2023-07-07T14:20:34.650Z"
   },
   {
    "duration": 193,
    "start_time": "2023-07-07T14:20:34.669Z"
   },
   {
    "duration": 10,
    "start_time": "2023-07-07T14:20:34.864Z"
   },
   {
    "duration": 212,
    "start_time": "2023-07-07T14:20:34.876Z"
   },
   {
    "duration": 140,
    "start_time": "2023-07-07T14:20:35.090Z"
   },
   {
    "duration": 215,
    "start_time": "2023-07-07T14:20:35.232Z"
   },
   {
    "duration": 10,
    "start_time": "2023-07-07T14:20:35.450Z"
   },
   {
    "duration": 215,
    "start_time": "2023-07-07T14:20:35.462Z"
   },
   {
    "duration": 167,
    "start_time": "2023-07-07T14:20:35.679Z"
   },
   {
    "duration": 219,
    "start_time": "2023-07-07T14:20:35.848Z"
   },
   {
    "duration": 4,
    "start_time": "2023-07-07T14:20:36.069Z"
   },
   {
    "duration": 35,
    "start_time": "2023-07-07T14:20:36.074Z"
   },
   {
    "duration": 16,
    "start_time": "2023-07-07T14:20:36.111Z"
   },
   {
    "duration": 22,
    "start_time": "2023-07-07T14:20:36.128Z"
   },
   {
    "duration": 14,
    "start_time": "2023-07-07T14:20:36.151Z"
   },
   {
    "duration": 6,
    "start_time": "2023-07-07T14:20:36.166Z"
   },
   {
    "duration": 48,
    "start_time": "2023-07-07T14:20:36.173Z"
   },
   {
    "duration": 8,
    "start_time": "2023-07-07T14:20:36.223Z"
   },
   {
    "duration": 30,
    "start_time": "2023-07-07T14:20:36.233Z"
   },
   {
    "duration": 21,
    "start_time": "2023-07-07T14:20:36.265Z"
   },
   {
    "duration": 23,
    "start_time": "2023-07-07T14:20:36.288Z"
   },
   {
    "duration": 29,
    "start_time": "2023-07-07T14:20:36.313Z"
   },
   {
    "duration": 1311,
    "start_time": "2023-07-07T14:35:59.377Z"
   },
   {
    "duration": 78,
    "start_time": "2023-07-07T14:36:00.691Z"
   },
   {
    "duration": 17,
    "start_time": "2023-07-07T14:36:00.771Z"
   },
   {
    "duration": 38,
    "start_time": "2023-07-07T14:36:00.790Z"
   },
   {
    "duration": 48,
    "start_time": "2023-07-07T14:36:00.831Z"
   },
   {
    "duration": 39,
    "start_time": "2023-07-07T14:36:00.881Z"
   },
   {
    "duration": 43,
    "start_time": "2023-07-07T14:36:00.922Z"
   },
   {
    "duration": 58,
    "start_time": "2023-07-07T14:36:00.968Z"
   },
   {
    "duration": 59,
    "start_time": "2023-07-07T14:36:01.029Z"
   },
   {
    "duration": 38,
    "start_time": "2023-07-07T14:36:01.093Z"
   },
   {
    "duration": 89,
    "start_time": "2023-07-07T14:36:01.133Z"
   },
   {
    "duration": 100,
    "start_time": "2023-07-07T14:36:01.225Z"
   },
   {
    "duration": 102,
    "start_time": "2023-07-07T14:36:01.328Z"
   },
   {
    "duration": 210,
    "start_time": "2023-07-07T14:36:01.432Z"
   },
   {
    "duration": 182,
    "start_time": "2023-07-07T14:36:01.644Z"
   },
   {
    "duration": 143,
    "start_time": "2023-07-07T14:36:01.828Z"
   },
   {
    "duration": 74,
    "start_time": "2023-07-07T14:36:01.973Z"
   },
   {
    "duration": 50,
    "start_time": "2023-07-07T14:36:02.049Z"
   },
   {
    "duration": 44,
    "start_time": "2023-07-07T14:36:02.101Z"
   },
   {
    "duration": 52,
    "start_time": "2023-07-07T14:36:02.147Z"
   },
   {
    "duration": 42,
    "start_time": "2023-07-07T14:36:02.201Z"
   },
   {
    "duration": 42,
    "start_time": "2023-07-07T14:36:02.245Z"
   },
   {
    "duration": 51,
    "start_time": "2023-07-07T14:36:02.290Z"
   },
   {
    "duration": 232,
    "start_time": "2023-07-07T14:36:02.344Z"
   },
   {
    "duration": 4,
    "start_time": "2023-07-07T14:36:02.578Z"
   },
   {
    "duration": 19,
    "start_time": "2023-07-07T14:36:02.584Z"
   },
   {
    "duration": 133,
    "start_time": "2023-07-07T14:36:02.605Z"
   },
   {
    "duration": 5,
    "start_time": "2023-07-07T14:36:02.743Z"
   },
   {
    "duration": 79,
    "start_time": "2023-07-07T14:36:02.750Z"
   },
   {
    "duration": 194,
    "start_time": "2023-07-07T14:36:02.830Z"
   },
   {
    "duration": 9,
    "start_time": "2023-07-07T14:36:03.027Z"
   },
   {
    "duration": 232,
    "start_time": "2023-07-07T14:36:03.038Z"
   },
   {
    "duration": 139,
    "start_time": "2023-07-07T14:36:03.272Z"
   },
   {
    "duration": 205,
    "start_time": "2023-07-07T14:36:03.413Z"
   },
   {
    "duration": 12,
    "start_time": "2023-07-07T14:36:03.620Z"
   },
   {
    "duration": 261,
    "start_time": "2023-07-07T14:36:03.635Z"
   },
   {
    "duration": 184,
    "start_time": "2023-07-07T14:36:03.898Z"
   },
   {
    "duration": 228,
    "start_time": "2023-07-07T14:36:04.084Z"
   },
   {
    "duration": 5,
    "start_time": "2023-07-07T14:36:04.314Z"
   },
   {
    "duration": 10,
    "start_time": "2023-07-07T14:36:04.321Z"
   },
   {
    "duration": 8,
    "start_time": "2023-07-07T14:36:04.333Z"
   },
   {
    "duration": 18,
    "start_time": "2023-07-07T14:36:04.344Z"
   },
   {
    "duration": 42,
    "start_time": "2023-07-07T14:36:04.365Z"
   },
   {
    "duration": 5,
    "start_time": "2023-07-07T14:36:04.409Z"
   },
   {
    "duration": 24,
    "start_time": "2023-07-07T14:36:04.416Z"
   },
   {
    "duration": 15,
    "start_time": "2023-07-07T14:36:04.442Z"
   },
   {
    "duration": 46,
    "start_time": "2023-07-07T14:36:04.459Z"
   },
   {
    "duration": 12,
    "start_time": "2023-07-07T14:36:04.508Z"
   },
   {
    "duration": 27,
    "start_time": "2023-07-07T14:36:04.521Z"
   },
   {
    "duration": 11,
    "start_time": "2023-07-07T14:36:04.550Z"
   },
   {
    "duration": 280,
    "start_time": "2023-07-07T14:36:04.563Z"
   },
   {
    "duration": 11,
    "start_time": "2023-07-07T14:36:04.845Z"
   },
   {
    "duration": 212,
    "start_time": "2023-07-07T14:36:04.857Z"
   },
   {
    "duration": 10,
    "start_time": "2023-07-07T14:36:05.071Z"
   },
   {
    "duration": 219,
    "start_time": "2023-07-07T14:36:05.083Z"
   },
   {
    "duration": 11,
    "start_time": "2023-07-07T14:36:05.304Z"
   },
   {
    "duration": 210,
    "start_time": "2023-07-07T14:36:05.317Z"
   },
   {
    "duration": 10,
    "start_time": "2023-07-07T14:36:05.530Z"
   },
   {
    "duration": 19,
    "start_time": "2023-07-07T14:36:05.542Z"
   },
   {
    "duration": 954,
    "start_time": "2023-07-07T14:36:05.563Z"
   },
   {
    "duration": 5,
    "start_time": "2023-07-07T14:36:06.519Z"
   },
   {
    "duration": 15,
    "start_time": "2023-07-07T14:36:06.526Z"
   },
   {
    "duration": 13,
    "start_time": "2023-07-07T14:36:06.543Z"
   },
   {
    "duration": 19,
    "start_time": "2023-07-07T14:36:06.558Z"
   },
   {
    "duration": 32,
    "start_time": "2023-07-07T14:36:06.579Z"
   },
   {
    "duration": 3,
    "start_time": "2023-07-07T14:36:06.613Z"
   },
   {
    "duration": 175,
    "start_time": "2023-07-07T14:36:06.618Z"
   },
   {
    "duration": 9,
    "start_time": "2023-07-07T14:36:06.795Z"
   },
   {
    "duration": 15,
    "start_time": "2023-07-07T14:36:06.805Z"
   },
   {
    "duration": 9,
    "start_time": "2023-07-07T14:36:06.822Z"
   },
   {
    "duration": 13,
    "start_time": "2023-07-07T14:36:06.833Z"
   },
   {
    "duration": 124,
    "start_time": "2023-07-07T14:36:54.605Z"
   },
   {
    "duration": 10,
    "start_time": "2023-07-07T14:37:31.984Z"
   },
   {
    "duration": 189,
    "start_time": "2023-07-07T14:37:40.540Z"
   }
  ],
  "kernelspec": {
   "display_name": "Python 3 (ipykernel)",
   "language": "python",
   "name": "python3"
  },
  "language_info": {
   "codemirror_mode": {
    "name": "ipython",
    "version": 3
   },
   "file_extension": ".py",
   "mimetype": "text/x-python",
   "name": "python",
   "nbconvert_exporter": "python",
   "pygments_lexer": "ipython3",
   "version": "3.10.9"
  },
  "toc": {
   "base_numbering": 1,
   "nav_menu": {},
   "number_sections": true,
   "sideBar": true,
   "skip_h1_title": true,
   "title_cell": "Table of Contents",
   "title_sidebar": "Contents",
   "toc_cell": false,
   "toc_position": {
    "height": "calc(100% - 180px)",
    "left": "10px",
    "top": "150px",
    "width": "361.391px"
   },
   "toc_section_display": true,
   "toc_window_display": true
  }
 },
 "nbformat": 4,
 "nbformat_minor": 5
}
