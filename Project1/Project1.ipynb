{
 "cells": [
  {
   "cell_type": "markdown",
   "id": "d9924238",
   "metadata": {},
   "source": [
    "<div class=\"alert alert-info\"; style=\"border-left: 7px solid SteelBlue\">\n",
    "<h5>🎓 <font color=\"SteelBlue\">Комментарий от студента (синий)</font></h5>    \n",
    "\n",
    "Напиши здесь свои мысли и идеи по поводу комментария ревьюера.\n",
    "\n",
    "</div>"
   ]
  },
  {
   "cell_type": "markdown",
   "id": "386f2ae7",
   "metadata": {
    "deletable": false,
    "editable": false,
    "id": "386f2ae7"
   },
   "source": [
    "# Исследование надежности заемщиков\n"
   ]
  },
  {
   "cell_type": "markdown",
   "id": "ffe86f65",
   "metadata": {
    "deletable": false,
    "editable": false,
    "id": "ffe86f65"
   },
   "source": [
    "Во второй части проекта вы выполните шаги 3 и 4. Их вручную проверит ревьюер.\n",
    "Чтобы вам не пришлось писать код заново для шагов 1 и 2, мы добавили авторские решения в ячейки с кодом. \n",
    "\n"
   ]
  },
  {
   "cell_type": "markdown",
   "id": "26613308",
   "metadata": {
    "deletable": false,
    "editable": false,
    "id": "26613308"
   },
   "source": [
    "## Откройте таблицу и изучите общую информацию о данных"
   ]
  },
  {
   "cell_type": "markdown",
   "id": "3c9f838e",
   "metadata": {
    "deletable": false,
    "editable": false,
    "id": "3c9f838e"
   },
   "source": [
    "**Задание 1. Импортируйте библиотеку pandas. Считайте данные из csv-файла в датафрейм и сохраните в переменную `data`. Путь к файлу:**\n",
    "\n",
    "`/datasets/data.csv`"
   ]
  },
  {
   "cell_type": "code",
   "execution_count": 1,
   "id": "77a68a90",
   "metadata": {
    "deletable": false,
    "id": "77a68a90"
   },
   "outputs": [],
   "source": [
    "import pandas as pd\n",
    "\n",
    "try:\n",
    "    data = pd.read_csv('/datasets/data.csv')\n",
    "except:\n",
    "    data = pd.read_csv('https://code.s3.yandex.net/datasets/data.csv')"
   ]
  },
  {
   "cell_type": "markdown",
   "id": "45365635",
   "metadata": {
    "deletable": false,
    "editable": false,
    "id": "45365635"
   },
   "source": [
    "**Задание 2. Выведите первые 20 строчек датафрейма `data` на экран.**"
   ]
  },
  {
   "cell_type": "code",
   "execution_count": 2,
   "id": "b0451a9a",
   "metadata": {
    "deletable": false,
    "id": "b0451a9a",
    "outputId": "1a8f3ef2-d323-4ec2-ddf7-89670b5944c4"
   },
   "outputs": [
    {
     "data": {
      "text/html": [
       "<div>\n",
       "<style scoped>\n",
       "    .dataframe tbody tr th:only-of-type {\n",
       "        vertical-align: middle;\n",
       "    }\n",
       "\n",
       "    .dataframe tbody tr th {\n",
       "        vertical-align: top;\n",
       "    }\n",
       "\n",
       "    .dataframe thead th {\n",
       "        text-align: right;\n",
       "    }\n",
       "</style>\n",
       "<table border=\"1\" class=\"dataframe\">\n",
       "  <thead>\n",
       "    <tr style=\"text-align: right;\">\n",
       "      <th></th>\n",
       "      <th>children</th>\n",
       "      <th>days_employed</th>\n",
       "      <th>dob_years</th>\n",
       "      <th>education</th>\n",
       "      <th>education_id</th>\n",
       "      <th>family_status</th>\n",
       "      <th>family_status_id</th>\n",
       "      <th>gender</th>\n",
       "      <th>income_type</th>\n",
       "      <th>debt</th>\n",
       "      <th>total_income</th>\n",
       "      <th>purpose</th>\n",
       "    </tr>\n",
       "  </thead>\n",
       "  <tbody>\n",
       "    <tr>\n",
       "      <th>0</th>\n",
       "      <td>1</td>\n",
       "      <td>-8437.673028</td>\n",
       "      <td>42</td>\n",
       "      <td>высшее</td>\n",
       "      <td>0</td>\n",
       "      <td>женат / замужем</td>\n",
       "      <td>0</td>\n",
       "      <td>F</td>\n",
       "      <td>сотрудник</td>\n",
       "      <td>0</td>\n",
       "      <td>253875.639453</td>\n",
       "      <td>покупка жилья</td>\n",
       "    </tr>\n",
       "    <tr>\n",
       "      <th>1</th>\n",
       "      <td>1</td>\n",
       "      <td>-4024.803754</td>\n",
       "      <td>36</td>\n",
       "      <td>среднее</td>\n",
       "      <td>1</td>\n",
       "      <td>женат / замужем</td>\n",
       "      <td>0</td>\n",
       "      <td>F</td>\n",
       "      <td>сотрудник</td>\n",
       "      <td>0</td>\n",
       "      <td>112080.014102</td>\n",
       "      <td>приобретение автомобиля</td>\n",
       "    </tr>\n",
       "    <tr>\n",
       "      <th>2</th>\n",
       "      <td>0</td>\n",
       "      <td>-5623.422610</td>\n",
       "      <td>33</td>\n",
       "      <td>Среднее</td>\n",
       "      <td>1</td>\n",
       "      <td>женат / замужем</td>\n",
       "      <td>0</td>\n",
       "      <td>M</td>\n",
       "      <td>сотрудник</td>\n",
       "      <td>0</td>\n",
       "      <td>145885.952297</td>\n",
       "      <td>покупка жилья</td>\n",
       "    </tr>\n",
       "    <tr>\n",
       "      <th>3</th>\n",
       "      <td>3</td>\n",
       "      <td>-4124.747207</td>\n",
       "      <td>32</td>\n",
       "      <td>среднее</td>\n",
       "      <td>1</td>\n",
       "      <td>женат / замужем</td>\n",
       "      <td>0</td>\n",
       "      <td>M</td>\n",
       "      <td>сотрудник</td>\n",
       "      <td>0</td>\n",
       "      <td>267628.550329</td>\n",
       "      <td>дополнительное образование</td>\n",
       "    </tr>\n",
       "    <tr>\n",
       "      <th>4</th>\n",
       "      <td>0</td>\n",
       "      <td>340266.072047</td>\n",
       "      <td>53</td>\n",
       "      <td>среднее</td>\n",
       "      <td>1</td>\n",
       "      <td>гражданский брак</td>\n",
       "      <td>1</td>\n",
       "      <td>F</td>\n",
       "      <td>пенсионер</td>\n",
       "      <td>0</td>\n",
       "      <td>158616.077870</td>\n",
       "      <td>сыграть свадьбу</td>\n",
       "    </tr>\n",
       "    <tr>\n",
       "      <th>5</th>\n",
       "      <td>0</td>\n",
       "      <td>-926.185831</td>\n",
       "      <td>27</td>\n",
       "      <td>высшее</td>\n",
       "      <td>0</td>\n",
       "      <td>гражданский брак</td>\n",
       "      <td>1</td>\n",
       "      <td>M</td>\n",
       "      <td>компаньон</td>\n",
       "      <td>0</td>\n",
       "      <td>255763.565419</td>\n",
       "      <td>покупка жилья</td>\n",
       "    </tr>\n",
       "    <tr>\n",
       "      <th>6</th>\n",
       "      <td>0</td>\n",
       "      <td>-2879.202052</td>\n",
       "      <td>43</td>\n",
       "      <td>высшее</td>\n",
       "      <td>0</td>\n",
       "      <td>женат / замужем</td>\n",
       "      <td>0</td>\n",
       "      <td>F</td>\n",
       "      <td>компаньон</td>\n",
       "      <td>0</td>\n",
       "      <td>240525.971920</td>\n",
       "      <td>операции с жильем</td>\n",
       "    </tr>\n",
       "    <tr>\n",
       "      <th>7</th>\n",
       "      <td>0</td>\n",
       "      <td>-152.779569</td>\n",
       "      <td>50</td>\n",
       "      <td>СРЕДНЕЕ</td>\n",
       "      <td>1</td>\n",
       "      <td>женат / замужем</td>\n",
       "      <td>0</td>\n",
       "      <td>M</td>\n",
       "      <td>сотрудник</td>\n",
       "      <td>0</td>\n",
       "      <td>135823.934197</td>\n",
       "      <td>образование</td>\n",
       "    </tr>\n",
       "    <tr>\n",
       "      <th>8</th>\n",
       "      <td>2</td>\n",
       "      <td>-6929.865299</td>\n",
       "      <td>35</td>\n",
       "      <td>ВЫСШЕЕ</td>\n",
       "      <td>0</td>\n",
       "      <td>гражданский брак</td>\n",
       "      <td>1</td>\n",
       "      <td>F</td>\n",
       "      <td>сотрудник</td>\n",
       "      <td>0</td>\n",
       "      <td>95856.832424</td>\n",
       "      <td>на проведение свадьбы</td>\n",
       "    </tr>\n",
       "    <tr>\n",
       "      <th>9</th>\n",
       "      <td>0</td>\n",
       "      <td>-2188.756445</td>\n",
       "      <td>41</td>\n",
       "      <td>среднее</td>\n",
       "      <td>1</td>\n",
       "      <td>женат / замужем</td>\n",
       "      <td>0</td>\n",
       "      <td>M</td>\n",
       "      <td>сотрудник</td>\n",
       "      <td>0</td>\n",
       "      <td>144425.938277</td>\n",
       "      <td>покупка жилья для семьи</td>\n",
       "    </tr>\n",
       "    <tr>\n",
       "      <th>10</th>\n",
       "      <td>2</td>\n",
       "      <td>-4171.483647</td>\n",
       "      <td>36</td>\n",
       "      <td>высшее</td>\n",
       "      <td>0</td>\n",
       "      <td>женат / замужем</td>\n",
       "      <td>0</td>\n",
       "      <td>M</td>\n",
       "      <td>компаньон</td>\n",
       "      <td>0</td>\n",
       "      <td>113943.491460</td>\n",
       "      <td>покупка недвижимости</td>\n",
       "    </tr>\n",
       "    <tr>\n",
       "      <th>11</th>\n",
       "      <td>0</td>\n",
       "      <td>-792.701887</td>\n",
       "      <td>40</td>\n",
       "      <td>среднее</td>\n",
       "      <td>1</td>\n",
       "      <td>женат / замужем</td>\n",
       "      <td>0</td>\n",
       "      <td>F</td>\n",
       "      <td>сотрудник</td>\n",
       "      <td>0</td>\n",
       "      <td>77069.234271</td>\n",
       "      <td>покупка коммерческой недвижимости</td>\n",
       "    </tr>\n",
       "    <tr>\n",
       "      <th>12</th>\n",
       "      <td>0</td>\n",
       "      <td>NaN</td>\n",
       "      <td>65</td>\n",
       "      <td>среднее</td>\n",
       "      <td>1</td>\n",
       "      <td>гражданский брак</td>\n",
       "      <td>1</td>\n",
       "      <td>M</td>\n",
       "      <td>пенсионер</td>\n",
       "      <td>0</td>\n",
       "      <td>NaN</td>\n",
       "      <td>сыграть свадьбу</td>\n",
       "    </tr>\n",
       "    <tr>\n",
       "      <th>13</th>\n",
       "      <td>0</td>\n",
       "      <td>-1846.641941</td>\n",
       "      <td>54</td>\n",
       "      <td>неоконченное высшее</td>\n",
       "      <td>2</td>\n",
       "      <td>женат / замужем</td>\n",
       "      <td>0</td>\n",
       "      <td>F</td>\n",
       "      <td>сотрудник</td>\n",
       "      <td>0</td>\n",
       "      <td>130458.228857</td>\n",
       "      <td>приобретение автомобиля</td>\n",
       "    </tr>\n",
       "    <tr>\n",
       "      <th>14</th>\n",
       "      <td>0</td>\n",
       "      <td>-1844.956182</td>\n",
       "      <td>56</td>\n",
       "      <td>высшее</td>\n",
       "      <td>0</td>\n",
       "      <td>гражданский брак</td>\n",
       "      <td>1</td>\n",
       "      <td>F</td>\n",
       "      <td>компаньон</td>\n",
       "      <td>1</td>\n",
       "      <td>165127.911772</td>\n",
       "      <td>покупка жилой недвижимости</td>\n",
       "    </tr>\n",
       "    <tr>\n",
       "      <th>15</th>\n",
       "      <td>1</td>\n",
       "      <td>-972.364419</td>\n",
       "      <td>26</td>\n",
       "      <td>среднее</td>\n",
       "      <td>1</td>\n",
       "      <td>женат / замужем</td>\n",
       "      <td>0</td>\n",
       "      <td>F</td>\n",
       "      <td>сотрудник</td>\n",
       "      <td>0</td>\n",
       "      <td>116820.904450</td>\n",
       "      <td>строительство собственной недвижимости</td>\n",
       "    </tr>\n",
       "    <tr>\n",
       "      <th>16</th>\n",
       "      <td>0</td>\n",
       "      <td>-1719.934226</td>\n",
       "      <td>35</td>\n",
       "      <td>среднее</td>\n",
       "      <td>1</td>\n",
       "      <td>женат / замужем</td>\n",
       "      <td>0</td>\n",
       "      <td>F</td>\n",
       "      <td>сотрудник</td>\n",
       "      <td>0</td>\n",
       "      <td>289202.704229</td>\n",
       "      <td>недвижимость</td>\n",
       "    </tr>\n",
       "    <tr>\n",
       "      <th>17</th>\n",
       "      <td>0</td>\n",
       "      <td>-2369.999720</td>\n",
       "      <td>33</td>\n",
       "      <td>высшее</td>\n",
       "      <td>0</td>\n",
       "      <td>гражданский брак</td>\n",
       "      <td>1</td>\n",
       "      <td>M</td>\n",
       "      <td>сотрудник</td>\n",
       "      <td>0</td>\n",
       "      <td>90410.586745</td>\n",
       "      <td>строительство недвижимости</td>\n",
       "    </tr>\n",
       "    <tr>\n",
       "      <th>18</th>\n",
       "      <td>0</td>\n",
       "      <td>400281.136913</td>\n",
       "      <td>53</td>\n",
       "      <td>среднее</td>\n",
       "      <td>1</td>\n",
       "      <td>вдовец / вдова</td>\n",
       "      <td>2</td>\n",
       "      <td>F</td>\n",
       "      <td>пенсионер</td>\n",
       "      <td>0</td>\n",
       "      <td>56823.777243</td>\n",
       "      <td>на покупку подержанного автомобиля</td>\n",
       "    </tr>\n",
       "    <tr>\n",
       "      <th>19</th>\n",
       "      <td>0</td>\n",
       "      <td>-10038.818549</td>\n",
       "      <td>48</td>\n",
       "      <td>СРЕДНЕЕ</td>\n",
       "      <td>1</td>\n",
       "      <td>в разводе</td>\n",
       "      <td>3</td>\n",
       "      <td>F</td>\n",
       "      <td>сотрудник</td>\n",
       "      <td>0</td>\n",
       "      <td>242831.107982</td>\n",
       "      <td>на покупку своего автомобиля</td>\n",
       "    </tr>\n",
       "  </tbody>\n",
       "</table>\n",
       "</div>"
      ],
      "text/plain": [
       "    children  days_employed  dob_years            education  education_id  \\\n",
       "0          1   -8437.673028         42               высшее             0   \n",
       "1          1   -4024.803754         36              среднее             1   \n",
       "2          0   -5623.422610         33              Среднее             1   \n",
       "3          3   -4124.747207         32              среднее             1   \n",
       "4          0  340266.072047         53              среднее             1   \n",
       "5          0    -926.185831         27               высшее             0   \n",
       "6          0   -2879.202052         43               высшее             0   \n",
       "7          0    -152.779569         50              СРЕДНЕЕ             1   \n",
       "8          2   -6929.865299         35               ВЫСШЕЕ             0   \n",
       "9          0   -2188.756445         41              среднее             1   \n",
       "10         2   -4171.483647         36               высшее             0   \n",
       "11         0    -792.701887         40              среднее             1   \n",
       "12         0            NaN         65              среднее             1   \n",
       "13         0   -1846.641941         54  неоконченное высшее             2   \n",
       "14         0   -1844.956182         56               высшее             0   \n",
       "15         1    -972.364419         26              среднее             1   \n",
       "16         0   -1719.934226         35              среднее             1   \n",
       "17         0   -2369.999720         33               высшее             0   \n",
       "18         0  400281.136913         53              среднее             1   \n",
       "19         0  -10038.818549         48              СРЕДНЕЕ             1   \n",
       "\n",
       "       family_status  family_status_id gender income_type  debt  \\\n",
       "0    женат / замужем                 0      F   сотрудник     0   \n",
       "1    женат / замужем                 0      F   сотрудник     0   \n",
       "2    женат / замужем                 0      M   сотрудник     0   \n",
       "3    женат / замужем                 0      M   сотрудник     0   \n",
       "4   гражданский брак                 1      F   пенсионер     0   \n",
       "5   гражданский брак                 1      M   компаньон     0   \n",
       "6    женат / замужем                 0      F   компаньон     0   \n",
       "7    женат / замужем                 0      M   сотрудник     0   \n",
       "8   гражданский брак                 1      F   сотрудник     0   \n",
       "9    женат / замужем                 0      M   сотрудник     0   \n",
       "10   женат / замужем                 0      M   компаньон     0   \n",
       "11   женат / замужем                 0      F   сотрудник     0   \n",
       "12  гражданский брак                 1      M   пенсионер     0   \n",
       "13   женат / замужем                 0      F   сотрудник     0   \n",
       "14  гражданский брак                 1      F   компаньон     1   \n",
       "15   женат / замужем                 0      F   сотрудник     0   \n",
       "16   женат / замужем                 0      F   сотрудник     0   \n",
       "17  гражданский брак                 1      M   сотрудник     0   \n",
       "18    вдовец / вдова                 2      F   пенсионер     0   \n",
       "19         в разводе                 3      F   сотрудник     0   \n",
       "\n",
       "     total_income                                 purpose  \n",
       "0   253875.639453                           покупка жилья  \n",
       "1   112080.014102                 приобретение автомобиля  \n",
       "2   145885.952297                           покупка жилья  \n",
       "3   267628.550329              дополнительное образование  \n",
       "4   158616.077870                         сыграть свадьбу  \n",
       "5   255763.565419                           покупка жилья  \n",
       "6   240525.971920                       операции с жильем  \n",
       "7   135823.934197                             образование  \n",
       "8    95856.832424                   на проведение свадьбы  \n",
       "9   144425.938277                 покупка жилья для семьи  \n",
       "10  113943.491460                    покупка недвижимости  \n",
       "11   77069.234271       покупка коммерческой недвижимости  \n",
       "12            NaN                         сыграть свадьбу  \n",
       "13  130458.228857                 приобретение автомобиля  \n",
       "14  165127.911772              покупка жилой недвижимости  \n",
       "15  116820.904450  строительство собственной недвижимости  \n",
       "16  289202.704229                            недвижимость  \n",
       "17   90410.586745              строительство недвижимости  \n",
       "18   56823.777243      на покупку подержанного автомобиля  \n",
       "19  242831.107982            на покупку своего автомобиля  "
      ]
     },
     "execution_count": 2,
     "metadata": {},
     "output_type": "execute_result"
    }
   ],
   "source": [
    "data.head(20)"
   ]
  },
  {
   "cell_type": "markdown",
   "id": "0ed8f27f",
   "metadata": {
    "deletable": false,
    "editable": false,
    "id": "0ed8f27f"
   },
   "source": [
    "**Задание 3. Выведите основную информацию о датафрейме с помощью метода `info()`.**"
   ]
  },
  {
   "cell_type": "code",
   "execution_count": 3,
   "id": "ab3f863b",
   "metadata": {
    "deletable": false,
    "id": "ab3f863b",
    "outputId": "15376089-8dad-46c9-b520-c05248d43158"
   },
   "outputs": [
    {
     "name": "stdout",
     "output_type": "stream",
     "text": [
      "<class 'pandas.core.frame.DataFrame'>\n",
      "RangeIndex: 21525 entries, 0 to 21524\n",
      "Data columns (total 12 columns):\n",
      " #   Column            Non-Null Count  Dtype  \n",
      "---  ------            --------------  -----  \n",
      " 0   children          21525 non-null  int64  \n",
      " 1   days_employed     19351 non-null  float64\n",
      " 2   dob_years         21525 non-null  int64  \n",
      " 3   education         21525 non-null  object \n",
      " 4   education_id      21525 non-null  int64  \n",
      " 5   family_status     21525 non-null  object \n",
      " 6   family_status_id  21525 non-null  int64  \n",
      " 7   gender            21525 non-null  object \n",
      " 8   income_type       21525 non-null  object \n",
      " 9   debt              21525 non-null  int64  \n",
      " 10  total_income      19351 non-null  float64\n",
      " 11  purpose           21525 non-null  object \n",
      "dtypes: float64(2), int64(5), object(5)\n",
      "memory usage: 2.0+ MB\n"
     ]
    }
   ],
   "source": [
    "data.info()"
   ]
  },
  {
   "cell_type": "markdown",
   "id": "60e3e22d",
   "metadata": {
    "deletable": false,
    "editable": false,
    "id": "60e3e22d"
   },
   "source": [
    "## Предобработка данных"
   ]
  },
  {
   "cell_type": "markdown",
   "id": "03dc170c",
   "metadata": {
    "deletable": false,
    "editable": false,
    "id": "03dc170c"
   },
   "source": [
    "### Удаление пропусков"
   ]
  },
  {
   "cell_type": "markdown",
   "id": "a4f54eef",
   "metadata": {
    "deletable": false,
    "editable": false,
    "id": "a4f54eef"
   },
   "source": [
    "**Задание 4. Выведите количество пропущенных значений для каждого столбца. Используйте комбинацию двух методов.**"
   ]
  },
  {
   "cell_type": "code",
   "execution_count": 4,
   "id": "2dc372b2",
   "metadata": {
    "deletable": false,
    "id": "2dc372b2",
    "outputId": "81f4d817-781c-465c-ed15-91ce4446810d"
   },
   "outputs": [
    {
     "data": {
      "text/plain": [
       "children               0\n",
       "days_employed       2174\n",
       "dob_years              0\n",
       "education              0\n",
       "education_id           0\n",
       "family_status          0\n",
       "family_status_id       0\n",
       "gender                 0\n",
       "income_type            0\n",
       "debt                   0\n",
       "total_income        2174\n",
       "purpose                0\n",
       "dtype: int64"
      ]
     },
     "execution_count": 4,
     "metadata": {},
     "output_type": "execute_result"
    }
   ],
   "source": [
    "data.isna().sum()"
   ]
  },
  {
   "cell_type": "markdown",
   "id": "14f011b1",
   "metadata": {
    "deletable": false,
    "editable": false,
    "id": "14f011b1"
   },
   "source": [
    "**Задание 5. В двух столбцах есть пропущенные значения. Один из них — `days_employed`. Пропуски в этом столбце вы обработаете на следующем этапе. Другой столбец с пропущенными значениями — `total_income` — хранит данные о доходах. На сумму дохода сильнее всего влияет тип занятости, поэтому заполнить пропуски в этом столбце нужно медианным значением по каждому типу из столбца `income_type`. Например, у человека с типом занятости `сотрудник` пропуск в столбце `total_income` должен быть заполнен медианным доходом среди всех записей с тем же типом.**"
   ]
  },
  {
   "cell_type": "code",
   "execution_count": 5,
   "id": "bdabfb6e",
   "metadata": {
    "deletable": false,
    "id": "bdabfb6e"
   },
   "outputs": [],
   "source": [
    "for t in data['income_type'].unique():\n",
    "    data.loc[(data['income_type'] == t) & (data['total_income'].isna()), 'total_income'] = \\\n",
    "    data.loc[(data['income_type'] == t), 'total_income'].median()"
   ]
  },
  {
   "cell_type": "markdown",
   "id": "5be34059",
   "metadata": {
    "deletable": false,
    "editable": false,
    "id": "5be34059"
   },
   "source": [
    "### Обработка аномальных значений"
   ]
  },
  {
   "cell_type": "markdown",
   "id": "a87606cb",
   "metadata": {
    "deletable": false,
    "editable": false,
    "id": "a87606cb"
   },
   "source": [
    "**Задание 6. В данных могут встречаться артефакты (аномалии) — значения, которые не отражают действительность и появились по какой-то ошибке. таким артефактом будет отрицательное количество дней трудового стажа в столбце `days_employed`. Для реальных данных это нормально. Обработайте значения в этом столбце: замените все отрицательные значения положительными с помощью метода `abs()`.**"
   ]
  },
  {
   "cell_type": "code",
   "execution_count": 6,
   "id": "020c46cc",
   "metadata": {
    "deletable": false,
    "id": "020c46cc"
   },
   "outputs": [],
   "source": [
    "data['days_employed'] = data['days_employed'].abs()"
   ]
  },
  {
   "cell_type": "markdown",
   "id": "45538a3a",
   "metadata": {
    "deletable": false,
    "editable": false,
    "id": "45538a3a"
   },
   "source": [
    "**Задание 7. Для каждого типа занятости выведите медианное значение трудового стажа `days_employed` в днях.**"
   ]
  },
  {
   "cell_type": "code",
   "execution_count": 7,
   "id": "cd3e6328",
   "metadata": {
    "deletable": false,
    "id": "cd3e6328",
    "outputId": "801ef80e-522b-4668-f34e-565af7432bcf"
   },
   "outputs": [
    {
     "data": {
      "text/plain": [
       "income_type\n",
       "безработный        366413.652744\n",
       "в декрете            3296.759962\n",
       "госслужащий          2689.368353\n",
       "компаньон            1547.382223\n",
       "пенсионер          365213.306266\n",
       "предприниматель       520.848083\n",
       "сотрудник            1574.202821\n",
       "студент               578.751554\n",
       "Name: days_employed, dtype: float64"
      ]
     },
     "execution_count": 7,
     "metadata": {},
     "output_type": "execute_result"
    }
   ],
   "source": [
    "data.groupby('income_type')['days_employed'].agg('median')"
   ]
  },
  {
   "cell_type": "markdown",
   "id": "90c5f058",
   "metadata": {
    "deletable": false,
    "editable": false,
    "id": "90c5f058"
   },
   "source": [
    "У двух типов (безработные и пенсионеры) получатся аномально большие значения. Исправить такие значения сложно, поэтому оставьте их как есть."
   ]
  },
  {
   "cell_type": "markdown",
   "id": "9652e50d",
   "metadata": {
    "deletable": false,
    "editable": false,
    "id": "9652e50d"
   },
   "source": [
    "**Задание 8. Выведите перечень уникальных значений столбца `children`.**"
   ]
  },
  {
   "cell_type": "code",
   "execution_count": 8,
   "id": "dbb37b8e",
   "metadata": {
    "deletable": false,
    "id": "dbb37b8e",
    "outputId": "6975b15c-7f95-4697-d16d-a0c79b657b03"
   },
   "outputs": [
    {
     "data": {
      "text/plain": [
       "array([ 1,  0,  3,  2, -1,  4, 20,  5])"
      ]
     },
     "execution_count": 8,
     "metadata": {},
     "output_type": "execute_result"
    }
   ],
   "source": [
    "data['children'].unique()"
   ]
  },
  {
   "cell_type": "markdown",
   "id": "2b8b0715",
   "metadata": {
    "deletable": false,
    "editable": false,
    "id": "2b8b0715"
   },
   "source": [
    "**Задание 9. В столбце `children` есть два аномальных значения. Удалите строки, в которых встречаются такие аномальные значения из датафрейма `data`.**"
   ]
  },
  {
   "cell_type": "code",
   "execution_count": 9,
   "id": "20009df8",
   "metadata": {
    "deletable": false,
    "id": "20009df8"
   },
   "outputs": [],
   "source": [
    "data = data[(data['children'] != -1) & (data['children'] != 20)]"
   ]
  },
  {
   "cell_type": "markdown",
   "id": "8c6ac9f1",
   "metadata": {
    "deletable": false,
    "editable": false,
    "id": "8c6ac9f1"
   },
   "source": [
    "**Задание 10. Ещё раз выведите перечень уникальных значений столбца `children`, чтобы убедиться, что артефакты удалены.**"
   ]
  },
  {
   "cell_type": "code",
   "execution_count": 10,
   "id": "07337b81",
   "metadata": {
    "deletable": false,
    "id": "07337b81",
    "outputId": "b2097101-d49d-44d9-901b-32a65c9463d1"
   },
   "outputs": [
    {
     "data": {
      "text/plain": [
       "array([1, 0, 3, 2, 4, 5])"
      ]
     },
     "execution_count": 10,
     "metadata": {},
     "output_type": "execute_result"
    }
   ],
   "source": [
    "data['children'].unique()"
   ]
  },
  {
   "cell_type": "markdown",
   "id": "ee3f52d4",
   "metadata": {
    "deletable": false,
    "editable": false,
    "id": "ee3f52d4"
   },
   "source": [
    "### Удаление пропусков (продолжение)"
   ]
  },
  {
   "cell_type": "markdown",
   "id": "a700b0e4",
   "metadata": {
    "deletable": false,
    "editable": false,
    "id": "a700b0e4"
   },
   "source": [
    "**Задание 11. Заполните пропуски в столбце `days_employed` медианными значениями по каждого типа занятости `income_type`.**"
   ]
  },
  {
   "cell_type": "code",
   "execution_count": 11,
   "id": "61946b83",
   "metadata": {
    "deletable": false,
    "id": "61946b83"
   },
   "outputs": [],
   "source": [
    "for t in data['income_type'].unique():\n",
    "    data.loc[(data['income_type'] == t) & (data['days_employed'].isna()), 'days_employed'] = \\\n",
    "    data.loc[(data['income_type'] == t), 'days_employed'].median()"
   ]
  },
  {
   "cell_type": "markdown",
   "id": "550dcd9b",
   "metadata": {
    "deletable": false,
    "editable": false,
    "id": "550dcd9b"
   },
   "source": [
    "**Задание 12. Убедитесь, что все пропуски заполнены. Проверьте себя и ещё раз выведите количество пропущенных значений для каждого столбца с помощью двух методов.**"
   ]
  },
  {
   "cell_type": "code",
   "execution_count": 12,
   "id": "937c7014",
   "metadata": {
    "deletable": false,
    "id": "937c7014",
    "outputId": "8da1e4e1-358e-4e87-98c9-f261bce0a7b2"
   },
   "outputs": [
    {
     "data": {
      "text/plain": [
       "children            0\n",
       "days_employed       0\n",
       "dob_years           0\n",
       "education           0\n",
       "education_id        0\n",
       "family_status       0\n",
       "family_status_id    0\n",
       "gender              0\n",
       "income_type         0\n",
       "debt                0\n",
       "total_income        0\n",
       "purpose             0\n",
       "dtype: int64"
      ]
     },
     "execution_count": 12,
     "metadata": {},
     "output_type": "execute_result"
    }
   ],
   "source": [
    "data.isna().sum()"
   ]
  },
  {
   "cell_type": "markdown",
   "id": "d522e295",
   "metadata": {
    "deletable": false,
    "editable": false,
    "id": "d522e295"
   },
   "source": [
    "### Изменение типов данных"
   ]
  },
  {
   "cell_type": "markdown",
   "id": "c229c581",
   "metadata": {
    "deletable": false,
    "editable": false,
    "id": "c229c581"
   },
   "source": [
    "**Задание 13. Замените вещественный тип данных в столбце `total_income` на целочисленный с помощью метода `astype()`.**"
   ]
  },
  {
   "cell_type": "code",
   "execution_count": 13,
   "id": "31036462",
   "metadata": {
    "deletable": false,
    "id": "31036462"
   },
   "outputs": [],
   "source": [
    "data['total_income'] = data['total_income'].astype(int)"
   ]
  },
  {
   "cell_type": "markdown",
   "id": "b8e3d1d9",
   "metadata": {
    "deletable": false,
    "editable": false,
    "id": "b8e3d1d9"
   },
   "source": [
    "### Обработка дубликатов"
   ]
  },
  {
   "cell_type": "markdown",
   "id": "9be53c49",
   "metadata": {
    "deletable": false,
    "editable": false,
    "id": "9be53c49"
   },
   "source": [
    "**Задание 14. Обработайте неявные дубликаты в столбце `education`. В этом столбце есть одни и те же значения, но записанные по-разному: с использованием заглавных и строчных букв. Приведите их к нижнему регистру.**"
   ]
  },
  {
   "cell_type": "code",
   "execution_count": 14,
   "id": "d89e73e1",
   "metadata": {
    "deletable": false,
    "id": "d89e73e1"
   },
   "outputs": [],
   "source": [
    "data['education'] = data['education'].str.lower()"
   ]
  },
  {
   "cell_type": "markdown",
   "id": "01d4500e",
   "metadata": {
    "deletable": false,
    "editable": false,
    "id": "01d4500e"
   },
   "source": [
    "**Задание 15. Выведите на экран количество строк-дубликатов в данных. Если такие строки присутствуют, удалите их.**"
   ]
  },
  {
   "cell_type": "code",
   "execution_count": 15,
   "id": "e10efb23",
   "metadata": {
    "deletable": false,
    "id": "e10efb23",
    "outputId": "9684deba-1934-42d1-99e1-cda61740f822"
   },
   "outputs": [
    {
     "data": {
      "text/plain": [
       "71"
      ]
     },
     "execution_count": 15,
     "metadata": {},
     "output_type": "execute_result"
    }
   ],
   "source": [
    "data.duplicated().sum()"
   ]
  },
  {
   "cell_type": "code",
   "execution_count": 16,
   "id": "df853f20",
   "metadata": {
    "deletable": false,
    "id": "df853f20"
   },
   "outputs": [],
   "source": [
    "data = data.drop_duplicates()"
   ]
  },
  {
   "cell_type": "markdown",
   "id": "627be38f",
   "metadata": {
    "deletable": false,
    "editable": false,
    "id": "627be38f"
   },
   "source": [
    "### Категоризация данных"
   ]
  },
  {
   "cell_type": "markdown",
   "id": "4684c3e0",
   "metadata": {
    "deletable": false,
    "editable": false,
    "id": "4684c3e0"
   },
   "source": [
    "**Задание 16. На основании диапазонов, указанных ниже, создайте в датафрейме `data` столбец `total_income_category` с категориями:**\n",
    "\n",
    "- 0–30000 — `'E'`;\n",
    "- 30001–50000 — `'D'`;\n",
    "- 50001–200000 — `'C'`;\n",
    "- 200001–1000000 — `'B'`;\n",
    "- 1000001 и выше — `'A'`.\n",
    "\n",
    "\n",
    "**Например, кредитополучателю с доходом 25000 нужно назначить категорию `'E'`, а клиенту, получающему 235000, — `'B'`. Используйте собственную функцию с именем `categorize_income()` и метод `apply()`.**"
   ]
  },
  {
   "cell_type": "code",
   "execution_count": 17,
   "id": "78965238",
   "metadata": {
    "deletable": false,
    "id": "78965238"
   },
   "outputs": [],
   "source": [
    "def categorize_income(income):\n",
    "    try:\n",
    "        if 0 <= income <= 30000:\n",
    "            return 'E'\n",
    "        elif 30001 <= income <= 50000:\n",
    "            return 'D'\n",
    "        elif 50001 <= income <= 200000:\n",
    "            return 'C'\n",
    "        elif 200001 <= income <= 1000000:\n",
    "            return 'B'\n",
    "        elif income >= 1000001:\n",
    "            return 'A'\n",
    "    except:\n",
    "        pass"
   ]
  },
  {
   "cell_type": "code",
   "execution_count": 18,
   "id": "0980ada1",
   "metadata": {
    "deletable": false,
    "id": "0980ada1"
   },
   "outputs": [],
   "source": [
    "data['total_income_category'] = data['total_income'].apply(categorize_income)"
   ]
  },
  {
   "cell_type": "markdown",
   "id": "9917bba0",
   "metadata": {
    "deletable": false,
    "editable": false,
    "id": "9917bba0"
   },
   "source": [
    "**Задание 17. Выведите на экран перечень уникальных целей взятия кредита из столбца `purpose`.**"
   ]
  },
  {
   "cell_type": "code",
   "execution_count": 19,
   "id": "ee07b65e",
   "metadata": {
    "deletable": false,
    "id": "ee07b65e",
    "outputId": "673c12d9-7d7e-4ae0-9812-c622c89dd244"
   },
   "outputs": [
    {
     "data": {
      "text/plain": [
       "array(['покупка жилья', 'приобретение автомобиля',\n",
       "       'дополнительное образование', 'сыграть свадьбу',\n",
       "       'операции с жильем', 'образование', 'на проведение свадьбы',\n",
       "       'покупка жилья для семьи', 'покупка недвижимости',\n",
       "       'покупка коммерческой недвижимости', 'покупка жилой недвижимости',\n",
       "       'строительство собственной недвижимости', 'недвижимость',\n",
       "       'строительство недвижимости', 'на покупку подержанного автомобиля',\n",
       "       'на покупку своего автомобиля',\n",
       "       'операции с коммерческой недвижимостью',\n",
       "       'строительство жилой недвижимости', 'жилье',\n",
       "       'операции со своей недвижимостью', 'автомобили',\n",
       "       'заняться образованием', 'сделка с подержанным автомобилем',\n",
       "       'получение образования', 'автомобиль', 'свадьба',\n",
       "       'получение дополнительного образования', 'покупка своего жилья',\n",
       "       'операции с недвижимостью', 'получение высшего образования',\n",
       "       'свой автомобиль', 'сделка с автомобилем',\n",
       "       'профильное образование', 'высшее образование',\n",
       "       'покупка жилья для сдачи', 'на покупку автомобиля', 'ремонт жилью',\n",
       "       'заняться высшим образованием'], dtype=object)"
      ]
     },
     "execution_count": 19,
     "metadata": {},
     "output_type": "execute_result"
    }
   ],
   "source": [
    "data['purpose'].unique()"
   ]
  },
  {
   "cell_type": "markdown",
   "id": "52b79d56",
   "metadata": {
    "deletable": false,
    "editable": false,
    "id": "52b79d56"
   },
   "source": [
    "**Задание 18. Создайте функцию, которая на основании данных из столбца `purpose` сформирует новый столбец `purpose_category`, в который войдут следующие категории:**\n",
    "\n",
    "- `'операции с автомобилем'`,\n",
    "- `'операции с недвижимостью'`,\n",
    "- `'проведение свадьбы'`,\n",
    "- `'получение образования'`.\n",
    "\n",
    "**Например, если в столбце `purpose` находится подстрока `'на покупку автомобиля'`, то в столбце `purpose_category` должна появиться строка `'операции с автомобилем'`.**\n",
    "\n",
    "**Используйте собственную функцию с именем `categorize_purpose()` и метод `apply()`. Изучите данные в столбце `purpose` и определите, какие подстроки помогут вам правильно определить категорию.**"
   ]
  },
  {
   "cell_type": "code",
   "execution_count": 20,
   "id": "be41da5d",
   "metadata": {
    "deletable": false,
    "id": "be41da5d"
   },
   "outputs": [],
   "source": [
    "def categorize_purpose(row):\n",
    "    try:\n",
    "        if 'автом' in row:\n",
    "            return 'операции с автомобилем'\n",
    "        elif 'жил' in row or 'недвиж' in row:\n",
    "            return 'операции с недвижимостью'\n",
    "        elif 'свад' in row:\n",
    "            return 'проведение свадьбы'\n",
    "        elif 'образов' in row:\n",
    "            return 'получение образования'\n",
    "    except:\n",
    "        return 'нет категории'"
   ]
  },
  {
   "cell_type": "code",
   "execution_count": 21,
   "id": "94c4a19a",
   "metadata": {
    "deletable": false,
    "id": "94c4a19a"
   },
   "outputs": [],
   "source": [
    "data['purpose_category'] = data['purpose'].apply(categorize_purpose)"
   ]
  },
  {
   "cell_type": "markdown",
   "id": "3d596c34",
   "metadata": {
    "deletable": false,
    "editable": false,
    "id": "3d596c34"
   },
   "source": [
    "### Шаг 3. Исследуйте данные и ответьте на вопросы"
   ]
  },
  {
   "cell_type": "markdown",
   "id": "648db036",
   "metadata": {
    "deletable": false,
    "editable": false,
    "id": "648db036"
   },
   "source": [
    "#### 3.1 Есть ли зависимость между количеством детей и возвратом кредита в срок?"
   ]
  },
  {
   "cell_type": "code",
   "execution_count": 23,
   "id": "7fcff25e",
   "metadata": {
    "deletable": false,
    "id": "7fcff25e"
   },
   "outputs": [
    {
     "name": "stdout",
     "output_type": "stream",
     "text": [
      "Процент просрочки среди клиентов с детьми 1 составляет 9.234608985024959\n",
      "Процент просрочки среди клиентов с детьми 0 составляет 7.543822297920659\n",
      "Процент просрочки среди клиентов с детьми 3 составляет 8.181818181818182\n",
      "Процент просрочки среди клиентов с детьми 2 составляет 9.4541910331384\n",
      "Процент просрочки среди клиентов с детьми 4 составляет 9.75609756097561\n",
      "Процент просрочки среди клиентов с детьми 5 составляет 0.0\n",
      "\n",
      "Если в семье 1 детей, количетсво в группе 4808 ( процент от общего числа наблюдений 22.53996530870564 )\n",
      "Если в семье 0 детей, количетсво в группе 14091 ( процент от общего числа наблюдений 66.05878767990248 )\n",
      "Если в семье 3 детей, количетсво в группе 330 ( процент от общего числа наблюдений 1.5470442079602456 )\n",
      "Если в семье 2 детей, количетсво в группе 2052 ( процент от общего числа наблюдений 9.619802165861891 )\n",
      "Если в семье 4 детей, количетсво в группе 41 ( процент от общего числа наблюдений 0.19220852280718204 )\n",
      "Если в семье 5 детей, количетсво в группе 9 ( процент от общего числа наблюдений 0.04219211476255215 )\n"
     ]
    }
   ],
   "source": [
    "# print (data.head(21)) #вывел для себя наглядность таблицы для более лучшего понимания если вдруг забыл название столбцов\n",
    "# для проверки зависимости мы должны сравнить влияют ли дети на возврат кредита\n",
    "for row in data['children'].unique():\n",
    "    deti_procent = data['debt'].loc[data['children'] == row].mean()\n",
    "    print ('Процент просрочки среди клиентов с детьми', row, 'составляет', 100*deti_procent)\n",
    "print ()    \n",
    "for x in data['children'].unique():\n",
    "    deti_koli = len(data.loc[data['children'] == x])\n",
    "    deti_prcent_koli = len(data.loc[data['children'] == x]) / len(data)\n",
    "    print ('Если в семье', x, 'детей, количетсво в группе', deti_koli, '(', 'процент от общего числа наблюдений',\n",
    "           100*deti_prcent_koli, ')')\n"
   ]
  },
  {
   "cell_type": "markdown",
   "id": "2eb9088e",
   "metadata": {
    "deletable": false,
    "id": "2eb9088e"
   },
   "source": [
    "**Вывод:** из полученных данных видно, что клиенты с детьми чаще имеют просрочку чем клиент без детей. \n",
    "Однако данные с 3 и 5 детьми вызывают сомнения: с одним, двумя, четырмя детьми процент просрочки возростает (как и должен в моем понимание), но с тремя детьми резко подает. С 5ю детьми данных вообще нет. Возможно предоставлены некорректные данные в таблице?\n"
   ]
  },
  {
   "cell_type": "markdown",
   "id": "74c9b3a7",
   "metadata": {
    "deletable": false,
    "editable": false,
    "id": "74c9b3a7"
   },
   "source": [
    "#### 3.2 Есть ли зависимость между семейным положением и возвратом кредита в срок?"
   ]
  },
  {
   "cell_type": "code",
   "execution_count": 24,
   "id": "8098ab3b",
   "metadata": {
    "deletable": false,
    "id": "8098ab3b"
   },
   "outputs": [
    {
     "name": "stdout",
     "output_type": "stream",
     "text": [
      "Семейный стату женат / замужем имеет процент по задолжности 7.560557866405676 %\n",
      "Семейный стату гражданский брак имеет процент по задолжности 9.313014029995163 %\n",
      "Семейный стату вдовец / вдова имеет процент по задолжности 6.624605678233439 %\n",
      "Семейный стату в разводе имеет процент по задолжности 7.064760302775442 %\n",
      "Семейный стату Не женат / не замужем имеет процент по задолжности 9.763948497854077 %\n",
      "\n",
      "Категория женат / замужем : количество в группе 12261 ( 57.47972434485021 % от общего количества)\n",
      "Категория гражданский брак : количество в группе 4134 ( 19.380244714265622 % от общего количества)\n",
      "Категория вдовец / вдова : количество в группе 951 ( 4.4583001265763444 % от общего количества)\n",
      "Категория в разводе : количество в группе 1189 ( 5.574047161408279 % от общего количества)\n",
      "Категория Не женат / не замужем : количество в группе 2796 ( 13.107683652899535 % от общего количества)\n"
     ]
    }
   ],
   "source": [
    "# Для того что бы ответить на этот вопрос, нужно провести исследование, как влияет наличие \"семьи\" на возврат кредита\n",
    "for row in data['family_status'].unique():\n",
    "    family_procent = data['debt'].loc[data['family_status'] == row].mean()\n",
    "    print ('Семейный стату', row, 'имеет процент по задолжности', 100 * family_procent, '%')\n",
    "print ()    \n",
    "for x in data['family_status'].unique():\n",
    "    family_koli = len(data.loc[data['family_status'] == x])\n",
    "    family_procent_koli = len(data.loc[data['family_status'] == x]) / len(data)\n",
    "    print ('Категория', x, ': количество в группе', family_koli, '(', 100*family_procent_koli, '% от общего количества)' )"
   ]
  },
  {
   "cell_type": "markdown",
   "id": "c389ca63",
   "metadata": {
    "deletable": false,
    "id": "c389ca63"
   },
   "source": [
    "**Вывод:** Вывод на мой взгляд не однозначный: \"вдовец/вдова\" и \"в равзводе\" - самые благонадежные плательщики\n",
    "Но почему разница между \"женат/замужем\" и \"гражданский брак\" - такая большая, хотя по мне это фактически одна категория.\n",
    "Получается у гражданского брака и \"не женат/не замужем\" процент не возврата кредита самый большой.\n"
   ]
  },
  {
   "cell_type": "markdown",
   "id": "9529de68",
   "metadata": {
    "deletable": false,
    "editable": false,
    "id": "9529de68"
   },
   "source": [
    "#### 3.3 Есть ли зависимость между уровнем дохода и возвратом кредита в срок?"
   ]
  },
  {
   "cell_type": "code",
   "execution_count": 25,
   "id": "8787f44a",
   "metadata": {
    "deletable": false,
    "id": "8787f44a",
    "scrolled": true
   },
   "outputs": [
    {
     "name": "stdout",
     "output_type": "stream",
     "text": [
      "Клиенты в категории дохода B имеют 7.060231352213801 процент задолжности\n",
      "Клиенты в категории дохода C имеют 8.498209911437723 процент задолжности\n",
      "Клиенты в категории дохода D имеют 6.017191977077363 процент задолжности\n",
      "Клиенты в категории дохода E имеют 9.090909090909092 процент задолжности\n",
      "Клиенты в категории дохода A имеют 8.0 процент задолжности\n",
      "\n",
      "Клиентов в категории дохода B : 5014 ( 23.505695935492945 % от общего количества)\n",
      "Клиентов в категории дохода C : 15921 ( 74.63785101495476 % от общего количества)\n",
      "Клиентов в категории дохода D : 349 ( 1.6361164502367447 % от общего количества)\n",
      "Клиентов в категории дохода E : 22 ( 0.10313628053068304 % от общего количества)\n",
      "Клиентов в категории дохода A : 25 ( 0.11720031878486709 % от общего количества)\n"
     ]
    }
   ],
   "source": [
    "# Аналогично предыдущим заданиям составляем функцию которая поможет нам сравнить\n",
    "for row in data['total_income_category'].unique():\n",
    "    dohod_procent = data['debt'].loc[data['total_income_category'] == row].mean()\n",
    "    print ('Клиенты в категории дохода', row, 'имеют', 100*dohod_procent, 'процент задолжности')\n",
    "print ()    \n",
    "for x in data['total_income_category'].unique():\n",
    "    dohod_koli = len(data.loc[data['total_income_category'] == x])\n",
    "    dohod_procent_koli = len(data.loc[data['total_income_category'] == x]) / len(data)\n",
    "    print ('Клиентов в категории дохода', x,':', dohod_koli, '(', 100*dohod_procent_koli, '% от общего количества)')"
   ]
  },
  {
   "cell_type": "markdown",
   "id": "6dd14b57",
   "metadata": {
    "deletable": false,
    "id": "6dd14b57"
   },
   "source": [
    "**Вывод:** Из задания №16 мы знаем что категории деляться в зависимости от суммы заработка.\n",
    "0–30000 — 'E';\n",
    "30 001– 50 000 — 'D';\n",
    "50 001– 200 000 — 'C';\n",
    "200 001– 1 000 000 — 'B';\n",
    "1 000 001 и выше — 'A'.\n",
    "И сново данные кажется не отображают всей картины полностью: процент не возврата в категории А выше чем в категории B, по идеи такого не может быть. \n",
    "Хотя то что категория Е является самой \"не благополучной\" - очевидно и это подтверждается исследованием."
   ]
  },
  {
   "cell_type": "markdown",
   "id": "1dcc9b12",
   "metadata": {
    "deletable": false,
    "editable": false,
    "id": "1dcc9b12"
   },
   "source": [
    "#### 3.4 Как разные цели кредита влияют на его возврат в срок?"
   ]
  },
  {
   "cell_type": "code",
   "execution_count": 26,
   "id": "c602bc8b",
   "metadata": {
    "deletable": false,
    "id": "c602bc8b"
   },
   "outputs": [
    {
     "name": "stdout",
     "output_type": "stream",
     "text": [
      "При цели кредита операции с недвижимостью процент не возврата кредита 7.255139056831923\n",
      "При цели кредита операции с автомобилем процент не возврата кредита 9.34797849964945\n",
      "При цели кредита получение образования процент не возврата кредита 9.252758274824474\n",
      "При цели кредита проведение свадьбы процент не возврата кредита 7.911802853437094\n",
      "\n",
      "Клиентов в категории цели \" операции с недвижимостью \" : 10751 ( 50.40082509024425 % от общего количества)\n",
      "Клиентов в категории цели \" операции с автомобилем \" : 4279 ( 20.060006563217854 % от общего количества)\n",
      "Клиентов в категории цели \" получение образования \" : 3988 ( 18.695794852562 % от общего количества)\n",
      "Клиентов в категории цели \" проведение свадьбы \" : 2313 ( 10.843373493975903 % от общего количества)\n"
     ]
    }
   ],
   "source": [
    "# И сново что бы проверить это нам нужно написать функцию аналогично предыдущей\n",
    "for row in data['purpose_category'].unique():\n",
    "    cel_procent = data['debt'].loc[data['purpose_category'] == row].mean()\n",
    "    print ('При цели кредита', row, 'процент не возврата кредита', 100*cel_procent)\n",
    "print ()    \n",
    "for x in data['purpose_category'].unique():\n",
    "    cel_koli = len(data.loc[data['purpose_category'] == x])\n",
    "    cel_procent_koli = len(data.loc[data['purpose_category'] == x]) /len(data)\n",
    "    print ('Клиентов в категории цели', '\"',x,'\"', ':', cel_koli, '(', 100*cel_procent_koli, '% от общего количества)')"
   ]
  },
  {
   "cell_type": "markdown",
   "id": "cf05ed63",
   "metadata": {
    "deletable": false,
    "id": "cf05ed63"
   },
   "source": [
    "**Вывод:** Из данных очевидно, что самые надежные кредиторы с целями проведения свадьбы и приобертение недвижемости.\n",
    "И наоборот, цель покупка авто или получение образования - самые \"худшие\" цели для кредитов основываясь на этих данных.\n",
    "Кстати о данных - здесь \"выбивающихся\" результатов нет. Согласен что проведение свадьбы и покупка недвижемости чаще погащаются в срок чем другие цели."
   ]
  },
  {
   "cell_type": "markdown",
   "id": "46c1f10b",
   "metadata": {
    "deletable": false,
    "editable": false,
    "id": "46c1f10b"
   },
   "source": [
    "#### 3.5 Приведите возможные причины появления пропусков в исходных данных."
   ]
  },
  {
   "cell_type": "markdown",
   "id": "3697d2a9",
   "metadata": {
    "deletable": false,
    "id": "3697d2a9"
   },
   "source": [
    "*Ответ:* исходя из предыдущих заданий и данного вопроса могу сделать вывод что данные предоставлены не полностью: либо техническая ошибка, либо человечиский фактор (не все клиенты предоставили данные о себе  полном объеме, из за этого выборка может быть не полной/полноценной)."
   ]
  },
  {
   "cell_type": "markdown",
   "id": "3137d257",
   "metadata": {
    "deletable": false,
    "editable": false,
    "id": "3137d257"
   },
   "source": [
    "#### 3.6 Объясните, почему заполнить пропуски медианным значением — лучшее решение для количественных переменных."
   ]
  },
  {
   "cell_type": "markdown",
   "id": "cf40012a",
   "metadata": {
    "deletable": false,
    "id": "cf40012a"
   },
   "source": [
    "*Ответ:* Прежде всего нужно понимание что такое среднее значение и медианное. \n",
    "Из-за того что данных в датафрейме много, просмотреть все их труднозатратно, соответственно говорить об отсутсвии \"перекосов\" значений нельзя. Что бы избежать этого и что бы исследования были точнее, лучше использовать медианные значения чем средние."
   ]
  },
  {
   "cell_type": "markdown",
   "id": "57bc304e",
   "metadata": {
    "deletable": false,
    "editable": false,
    "id": "57bc304e"
   },
   "source": [
    "### Шаг 4: общий вывод."
   ]
  },
  {
   "cell_type": "markdown",
   "id": "1ab75d1c",
   "metadata": {
    "deletable": false,
    "id": "1ab75d1c"
   },
   "source": [
    "# Выводы:\n",
    "Для проведения корректного исследования данного датафрейма были проведены стандартные операции: проверка на дубликаты, удаление дубликатов, проверка на пропуски значений и замена этих пропусков на их медианные значения, а так же проработал другие аномальные значения\n",
    "Создал новый столбец «purpose_category» для упорядочивания целей на взятие кредита.\n",
    "\n",
    "### Из исследования можно сделать следующие выводы:\n",
    "####  \tЕсть ли зависимость между количеством детей и возвратом кредита в срок?\n",
    "Да, есть. Процент просрочки среди клиентов без детей составляет 7,5%, а уже наличие детей (1 – 5 детей) увеличивает данный показатель свыше 9%  \n",
    "\n",
    "####  \tЕсть ли зависимость между семейным положением и возвратом кредита в срок?\n",
    "Да, есть. Заемщики, состоящие или состоявшие в браке реже допускают просрочку: клиенты в разводе или вдовцы/вдовы имеют процент просрочки 6,6-7%, тогда как другие категории семейного статуса стремятся к 9%.\n",
    "\n",
    "####  \tЕсть ли зависимость между уровнем дохода и возвратом кредита в срок?\n",
    "Да, есть. Исходя из того количества данных которые есть в датафрейме, можно с уверенностью предположить что категории дохода «В» и «С» самые ответственные – процент просрочки по таким клиентам составляет 7% и 8,5% соответственно.\n",
    "К сожалению, другие категории дохода полноценно оценить не получиться - слишком маленькая выборка. \n",
    "\n",
    "####  \tКак разные цели кредита влияют на его возврат в срок?\n",
    "Как это не было бы странным, но цели кредита тоже непосредственно влияют на процент его возврата.\n",
    "Так кредиты с целью «операции с недвижимостью» и «проведение свадьбы» имеют показатель невозврата в срок 7,2% и 7,9% соответственно.\n",
    "Тогда как другие цели имеют данный показатель свыше 9%.\n",
    "\n",
    "# Общий вывод: \n",
    "Как видно из проведенного исследования на факт погашения кредита в срок влияют и семейное положение и количество детей клиента, а также цели займа и доход клиента.\n",
    "Так же можно увидеть «идеального клиента» — это вдовец/вдова или клиент в разводе, не имеющий детей, но имеющий хороший разработок.\n",
    "И наоборот – клиент в гражданском или обычном браке с детьми, с заработком ниже 200 тыс. рублей – это не целевая аудитория.\n",
    "\n"
   ]
  }
 ],
 "metadata": {
  "ExecuteTimeLog": [
   {
    "duration": 466,
    "start_time": "2023-06-05T07:53:58.617Z"
   },
   {
    "duration": 21,
    "start_time": "2023-06-05T07:53:59.085Z"
   },
   {
    "duration": 14,
    "start_time": "2023-06-05T07:53:59.107Z"
   },
   {
    "duration": 9,
    "start_time": "2023-06-05T07:53:59.123Z"
   },
   {
    "duration": 59,
    "start_time": "2023-06-05T07:53:59.133Z"
   },
   {
    "duration": 3,
    "start_time": "2023-06-05T07:53:59.194Z"
   },
   {
    "duration": 15,
    "start_time": "2023-06-05T07:53:59.198Z"
   },
   {
    "duration": 8,
    "start_time": "2023-06-05T07:53:59.215Z"
   },
   {
    "duration": 16,
    "start_time": "2023-06-05T07:53:59.224Z"
   },
   {
    "duration": 7,
    "start_time": "2023-06-05T07:53:59.244Z"
   },
   {
    "duration": 44,
    "start_time": "2023-06-05T07:53:59.252Z"
   },
   {
    "duration": 10,
    "start_time": "2023-06-05T07:53:59.297Z"
   },
   {
    "duration": 16,
    "start_time": "2023-06-05T07:53:59.308Z"
   },
   {
    "duration": 26,
    "start_time": "2023-06-05T07:53:59.325Z"
   },
   {
    "duration": 27,
    "start_time": "2023-06-05T07:53:59.352Z"
   },
   {
    "duration": 21,
    "start_time": "2023-06-05T07:53:59.381Z"
   },
   {
    "duration": 7,
    "start_time": "2023-06-05T07:53:59.404Z"
   },
   {
    "duration": 25,
    "start_time": "2023-06-05T07:53:59.412Z"
   },
   {
    "duration": 21,
    "start_time": "2023-06-05T07:53:59.438Z"
   },
   {
    "duration": 16,
    "start_time": "2023-06-05T07:53:59.461Z"
   },
   {
    "duration": 35,
    "start_time": "2023-06-05T07:53:59.479Z"
   },
   {
    "duration": 27,
    "start_time": "2023-06-05T07:53:59.517Z"
   },
   {
    "duration": 15,
    "start_time": "2023-06-05T07:53:59.546Z"
   },
   {
    "duration": 15,
    "start_time": "2023-06-05T07:53:59.563Z"
   },
   {
    "duration": 14,
    "start_time": "2023-06-05T07:53:59.579Z"
   },
   {
    "duration": 12,
    "start_time": "2023-06-05T07:54:53.479Z"
   },
   {
    "duration": 8,
    "start_time": "2023-06-05T07:55:21.248Z"
   },
   {
    "duration": 67,
    "start_time": "2023-06-05T07:57:52.990Z"
   },
   {
    "duration": 9,
    "start_time": "2023-06-05T07:58:05.164Z"
   },
   {
    "duration": 9,
    "start_time": "2023-06-05T07:58:18.540Z"
   },
   {
    "duration": 61,
    "start_time": "2023-06-05T08:02:20.026Z"
   },
   {
    "duration": 11,
    "start_time": "2023-06-05T08:02:30.120Z"
   },
   {
    "duration": 9,
    "start_time": "2023-06-05T08:03:02.103Z"
   },
   {
    "duration": 7,
    "start_time": "2023-06-05T08:07:23.478Z"
   },
   {
    "duration": 5,
    "start_time": "2023-06-05T08:07:43.342Z"
   },
   {
    "duration": 66,
    "start_time": "2023-06-05T08:07:59.770Z"
   },
   {
    "duration": 60,
    "start_time": "2023-06-05T08:08:08.406Z"
   },
   {
    "duration": 66,
    "start_time": "2023-06-05T08:08:12.632Z"
   },
   {
    "duration": 6,
    "start_time": "2023-06-05T08:08:18.205Z"
   },
   {
    "duration": 16,
    "start_time": "2023-06-05T08:11:42.577Z"
   },
   {
    "duration": 12,
    "start_time": "2023-06-05T08:11:55.741Z"
   },
   {
    "duration": 20,
    "start_time": "2023-06-05T08:38:02.456Z"
   },
   {
    "duration": 22,
    "start_time": "2023-06-05T08:38:21.529Z"
   },
   {
    "duration": 16,
    "start_time": "2023-06-05T08:39:51.333Z"
   },
   {
    "duration": 23,
    "start_time": "2023-06-05T08:40:05.247Z"
   },
   {
    "duration": 21,
    "start_time": "2023-06-05T08:42:14.273Z"
   },
   {
    "duration": 11,
    "start_time": "2023-06-05T08:54:49.049Z"
   },
   {
    "duration": 13,
    "start_time": "2023-06-05T08:55:11.317Z"
   },
   {
    "duration": 62,
    "start_time": "2023-06-05T08:55:41.760Z"
   },
   {
    "duration": 11,
    "start_time": "2023-06-05T08:55:46.528Z"
   },
   {
    "duration": 43,
    "start_time": "2023-06-05T08:56:07.490Z"
   },
   {
    "duration": 11,
    "start_time": "2023-06-05T08:56:14.368Z"
   },
   {
    "duration": 11,
    "start_time": "2023-06-05T08:57:57.329Z"
   },
   {
    "duration": 10,
    "start_time": "2023-06-05T08:58:21.912Z"
   },
   {
    "duration": 12,
    "start_time": "2023-06-05T09:00:50.465Z"
   },
   {
    "duration": 11,
    "start_time": "2023-06-05T09:00:59.632Z"
   },
   {
    "duration": 12,
    "start_time": "2023-06-05T09:02:45.696Z"
   },
   {
    "duration": 21,
    "start_time": "2023-06-05T09:02:48.254Z"
   },
   {
    "duration": 67,
    "start_time": "2023-06-05T09:05:30.290Z"
   },
   {
    "duration": 15,
    "start_time": "2023-06-05T09:05:37.311Z"
   },
   {
    "duration": 21,
    "start_time": "2023-06-05T09:07:08.288Z"
   },
   {
    "duration": 17,
    "start_time": "2023-06-05T09:07:22.904Z"
   },
   {
    "duration": 768,
    "start_time": "2023-06-05T09:20:46.312Z"
   },
   {
    "duration": 799,
    "start_time": "2023-06-05T09:20:58.069Z"
   },
   {
    "duration": 13,
    "start_time": "2023-06-05T09:21:47.384Z"
   },
   {
    "duration": 12,
    "start_time": "2023-06-05T09:22:25.794Z"
   },
   {
    "duration": 493,
    "start_time": "2023-06-05T11:24:04.967Z"
   },
   {
    "duration": 21,
    "start_time": "2023-06-05T11:24:05.463Z"
   },
   {
    "duration": 16,
    "start_time": "2023-06-05T11:24:05.485Z"
   },
   {
    "duration": 13,
    "start_time": "2023-06-05T11:24:05.503Z"
   },
   {
    "duration": 32,
    "start_time": "2023-06-05T11:24:05.518Z"
   },
   {
    "duration": 3,
    "start_time": "2023-06-05T11:24:05.552Z"
   },
   {
    "duration": 32,
    "start_time": "2023-06-05T11:24:05.557Z"
   },
   {
    "duration": 8,
    "start_time": "2023-06-05T11:24:05.590Z"
   },
   {
    "duration": 10,
    "start_time": "2023-06-05T11:24:05.599Z"
   },
   {
    "duration": 10,
    "start_time": "2023-06-05T11:24:05.612Z"
   },
   {
    "duration": 35,
    "start_time": "2023-06-05T11:24:05.624Z"
   },
   {
    "duration": 9,
    "start_time": "2023-06-05T11:24:05.661Z"
   },
   {
    "duration": 3,
    "start_time": "2023-06-05T11:24:05.672Z"
   },
   {
    "duration": 13,
    "start_time": "2023-06-05T11:24:05.677Z"
   },
   {
    "duration": 19,
    "start_time": "2023-06-05T11:24:05.692Z"
   },
   {
    "duration": 18,
    "start_time": "2023-06-05T11:24:05.713Z"
   },
   {
    "duration": 4,
    "start_time": "2023-06-05T11:24:05.732Z"
   },
   {
    "duration": 21,
    "start_time": "2023-06-05T11:24:05.737Z"
   },
   {
    "duration": 9,
    "start_time": "2023-06-05T11:24:05.760Z"
   },
   {
    "duration": 15,
    "start_time": "2023-06-05T11:24:05.771Z"
   },
   {
    "duration": 27,
    "start_time": "2023-06-05T11:24:05.787Z"
   },
   {
    "duration": 21,
    "start_time": "2023-06-05T11:24:05.816Z"
   },
   {
    "duration": 26,
    "start_time": "2023-06-05T11:24:05.839Z"
   },
   {
    "duration": 22,
    "start_time": "2023-06-05T11:24:05.867Z"
   },
   {
    "duration": 17,
    "start_time": "2023-06-05T11:24:05.891Z"
   },
   {
    "duration": 76,
    "start_time": "2023-06-05T11:55:44.342Z"
   },
   {
    "duration": 82,
    "start_time": "2023-06-05T11:55:52.211Z"
   },
   {
    "duration": 115,
    "start_time": "2023-06-05T11:56:08.923Z"
   },
   {
    "duration": 46,
    "start_time": "2023-06-05T11:58:27.891Z"
   },
   {
    "duration": 7,
    "start_time": "2023-06-05T11:58:45.130Z"
   },
   {
    "duration": 7,
    "start_time": "2023-06-05T11:58:58.059Z"
   },
   {
    "duration": 6,
    "start_time": "2023-06-05T11:59:16.564Z"
   },
   {
    "duration": 7,
    "start_time": "2023-06-05T11:59:56.798Z"
   },
   {
    "duration": 6,
    "start_time": "2023-06-05T12:00:06.769Z"
   },
   {
    "duration": 648,
    "start_time": "2023-06-05T12:00:35.468Z"
   },
   {
    "duration": 21,
    "start_time": "2023-06-05T12:00:37.184Z"
   },
   {
    "duration": 13,
    "start_time": "2023-06-05T12:00:37.916Z"
   },
   {
    "duration": 8,
    "start_time": "2023-06-05T12:00:39.335Z"
   },
   {
    "duration": 31,
    "start_time": "2023-06-05T12:00:39.731Z"
   },
   {
    "duration": 4,
    "start_time": "2023-06-05T12:00:41.312Z"
   },
   {
    "duration": 8,
    "start_time": "2023-06-05T12:00:42.451Z"
   },
   {
    "duration": 5,
    "start_time": "2023-06-05T12:00:43.818Z"
   },
   {
    "duration": 6,
    "start_time": "2023-06-05T12:00:44.600Z"
   },
   {
    "duration": 4,
    "start_time": "2023-06-05T12:00:45.337Z"
   },
   {
    "duration": 30,
    "start_time": "2023-06-05T12:00:46.699Z"
   },
   {
    "duration": 11,
    "start_time": "2023-06-05T12:00:47.732Z"
   },
   {
    "duration": 4,
    "start_time": "2023-06-05T12:00:48.712Z"
   },
   {
    "duration": 10,
    "start_time": "2023-06-05T12:00:49.958Z"
   },
   {
    "duration": 19,
    "start_time": "2023-06-05T12:00:51.494Z"
   },
   {
    "duration": 18,
    "start_time": "2023-06-05T12:00:53.151Z"
   },
   {
    "duration": 3,
    "start_time": "2023-06-05T12:00:55.311Z"
   },
   {
    "duration": 10,
    "start_time": "2023-06-05T12:00:55.762Z"
   },
   {
    "duration": 6,
    "start_time": "2023-06-05T12:00:56.867Z"
   },
   {
    "duration": 3,
    "start_time": "2023-06-05T12:00:58.466Z"
   },
   {
    "duration": 8,
    "start_time": "2023-06-05T12:00:58.937Z"
   },
   {
    "duration": 11,
    "start_time": "2023-06-05T12:01:01.246Z"
   },
   {
    "duration": 15,
    "start_time": "2023-06-05T12:01:03.733Z"
   },
   {
    "duration": 15,
    "start_time": "2023-06-05T12:01:04.843Z"
   },
   {
    "duration": 13,
    "start_time": "2023-06-05T12:01:05.781Z"
   },
   {
    "duration": 11,
    "start_time": "2023-06-05T12:01:36.222Z"
   },
   {
    "duration": 24,
    "start_time": "2023-06-05T12:10:45.669Z"
   },
   {
    "duration": 245,
    "start_time": "2023-06-05T12:14:18.295Z"
   },
   {
    "duration": 25,
    "start_time": "2023-06-05T12:14:25.133Z"
   },
   {
    "duration": 23,
    "start_time": "2023-06-05T12:14:40.923Z"
   },
   {
    "duration": 24,
    "start_time": "2023-06-05T12:14:54.572Z"
   },
   {
    "duration": 130,
    "start_time": "2023-06-05T12:28:16.564Z"
   },
   {
    "duration": 38,
    "start_time": "2023-06-05T12:28:22.773Z"
   },
   {
    "duration": 50,
    "start_time": "2023-06-05T12:28:34.181Z"
   },
   {
    "duration": 41,
    "start_time": "2023-06-05T12:37:48.526Z"
   },
   {
    "duration": 47,
    "start_time": "2023-06-05T12:37:59.924Z"
   },
   {
    "duration": 35,
    "start_time": "2023-06-05T12:47:34.415Z"
   },
   {
    "duration": 34,
    "start_time": "2023-06-05T12:47:55.076Z"
   },
   {
    "duration": 35,
    "start_time": "2023-06-05T12:48:07.865Z"
   },
   {
    "duration": 36,
    "start_time": "2023-06-05T12:48:14.956Z"
   },
   {
    "duration": 37,
    "start_time": "2023-06-05T12:48:23.506Z"
   },
   {
    "duration": 36,
    "start_time": "2023-06-05T12:48:57.497Z"
   },
   {
    "duration": 37,
    "start_time": "2023-06-05T12:49:06.507Z"
   },
   {
    "duration": 38,
    "start_time": "2023-06-05T12:49:13.317Z"
   },
   {
    "duration": 25,
    "start_time": "2023-06-05T12:49:19.795Z"
   },
   {
    "duration": 44,
    "start_time": "2023-06-05T12:51:35.103Z"
   },
   {
    "duration": 521,
    "start_time": "2023-06-06T08:06:09.641Z"
   },
   {
    "duration": 22,
    "start_time": "2023-06-06T08:06:10.164Z"
   },
   {
    "duration": 15,
    "start_time": "2023-06-06T08:06:10.188Z"
   },
   {
    "duration": 8,
    "start_time": "2023-06-06T08:06:10.205Z"
   },
   {
    "duration": 47,
    "start_time": "2023-06-06T08:06:10.214Z"
   },
   {
    "duration": 3,
    "start_time": "2023-06-06T08:06:10.263Z"
   },
   {
    "duration": 11,
    "start_time": "2023-06-06T08:06:10.268Z"
   },
   {
    "duration": 5,
    "start_time": "2023-06-06T08:06:10.281Z"
   },
   {
    "duration": 8,
    "start_time": "2023-06-06T08:06:10.287Z"
   },
   {
    "duration": 4,
    "start_time": "2023-06-06T08:06:10.297Z"
   },
   {
    "duration": 63,
    "start_time": "2023-06-06T08:06:10.303Z"
   },
   {
    "duration": 8,
    "start_time": "2023-06-06T08:06:10.368Z"
   },
   {
    "duration": 3,
    "start_time": "2023-06-06T08:06:10.378Z"
   },
   {
    "duration": 11,
    "start_time": "2023-06-06T08:06:10.383Z"
   },
   {
    "duration": 19,
    "start_time": "2023-06-06T08:06:10.396Z"
   },
   {
    "duration": 45,
    "start_time": "2023-06-06T08:06:10.416Z"
   },
   {
    "duration": 4,
    "start_time": "2023-06-06T08:06:10.463Z"
   },
   {
    "duration": 12,
    "start_time": "2023-06-06T08:06:10.468Z"
   },
   {
    "duration": 8,
    "start_time": "2023-06-06T08:06:10.481Z"
   },
   {
    "duration": 3,
    "start_time": "2023-06-06T08:06:10.490Z"
   },
   {
    "duration": 11,
    "start_time": "2023-06-06T08:06:10.495Z"
   },
   {
    "duration": 58,
    "start_time": "2023-06-06T08:06:10.508Z"
   },
   {
    "duration": 29,
    "start_time": "2023-06-06T08:06:10.568Z"
   },
   {
    "duration": 60,
    "start_time": "2023-06-06T08:06:10.599Z"
   },
   {
    "duration": 38,
    "start_time": "2023-06-06T08:06:10.661Z"
   },
   {
    "duration": 60,
    "start_time": "2023-06-06T08:06:10.701Z"
   }
  ],
  "colab": {
   "provenance": []
  },
  "kernelspec": {
   "display_name": "Python 3 (ipykernel)",
   "language": "python",
   "name": "python3"
  },
  "language_info": {
   "codemirror_mode": {
    "name": "ipython",
    "version": 3
   },
   "file_extension": ".py",
   "mimetype": "text/x-python",
   "name": "python",
   "nbconvert_exporter": "python",
   "pygments_lexer": "ipython3",
   "version": "3.10.9"
  },
  "toc": {
   "base_numbering": 1,
   "nav_menu": {},
   "number_sections": true,
   "sideBar": true,
   "skip_h1_title": true,
   "title_cell": "Table of Contents",
   "title_sidebar": "Contents",
   "toc_cell": false,
   "toc_position": {},
   "toc_section_display": true,
   "toc_window_display": true
  }
 },
 "nbformat": 4,
 "nbformat_minor": 5
}
