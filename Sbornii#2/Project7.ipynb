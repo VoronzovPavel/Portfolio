{
 "cells": [
  {
   "cell_type": "markdown",
   "metadata": {},
   "source": [
    "# Сборный проект №2"
   ]
  },
  {
   "cell_type": "markdown",
   "metadata": {},
   "source": [
    "**Описание  проекта**\n",
    "\n",
    "Я работаю в стартапе, который продаёт продукты питания. Нужно разобраться, как ведут себя пользователи нашего мобильного приложения. \n",
    "\n",
    "Для этого:\n",
    "\n",
    "1) Изучим воронку продаж. Узнайте, как пользователи доходят до покупки. Сколько пользователей доходит до покупки, а сколько — «застревает» на предыдущих шагах? На каких именно?\n",
    "\n",
    "2) После этого исследуйте результаты A/A/B-эксперимента. Дизайнеры захотели поменять шрифты во всём приложении, а менеджеры испугались, что пользователям будет непривычно. Договорились принять решение по результатам A/A/B-теста. Пользователей разбили на 3 группы: 2 контрольные со старыми шрифтами и одну экспериментальную — с новыми. Выясните, какой шрифт лучше.\n",
    "\n",
    "3) Создание двух групп A вместо одной имеет определённые преимущества. Если две контрольные группы окажутся равны, вы можете быть уверены в точности проведенного тестирования. Если же между значениями A и A будут существенные различия, это поможет обнаружить факторы, которые привели к искажению результатов. Сравнение контрольных групп также помогает понять, сколько времени и данных потребуется для дальнейших тестов.\n",
    "\n",
    "4) В случае общей аналитики и A/A/B-эксперимента работайте с одними и теми же данными. В реальных проектах всегда идут эксперименты. Аналитики исследуют качество работы приложения по общим данным, не учитывая принадлежность пользователей к экспериментам.\n",
    "\n",
    "\n",
    "**Проект будет разделен на 5 шагов.**\n",
    "\n"
   ]
  },
  {
   "cell_type": "markdown",
   "metadata": {},
   "source": [
    "### Шаг 1. Откроем файл с данными и изучим общую информацию."
   ]
  },
  {
   "cell_type": "code",
   "execution_count": 1,
   "metadata": {},
   "outputs": [],
   "source": [
    "#загружаем библиотеки\n",
    "import pandas as pd\n",
    "import matplotlib.pyplot as plt\n",
    "import numpy as np\n",
    "import seaborn as sns\n",
    "from datetime import datetime, timedelta\n",
    "from scipy import stats as st\n",
    "import math as mth"
   ]
  },
  {
   "cell_type": "code",
   "execution_count": 2,
   "metadata": {},
   "outputs": [],
   "source": [
    "#загрузим датафрейм\n",
    "data = pd.read_csv('/datasets/logs_exp.csv', sep = '\\t')"
   ]
  },
  {
   "cell_type": "code",
   "execution_count": 3,
   "metadata": {},
   "outputs": [
    {
     "name": "stdout",
     "output_type": "stream",
     "text": [
      "<class 'pandas.core.frame.DataFrame'>\n",
      "RangeIndex: 244126 entries, 0 to 244125\n",
      "Data columns (total 4 columns):\n",
      " #   Column          Non-Null Count   Dtype \n",
      "---  ------          --------------   ----- \n",
      " 0   EventName       244126 non-null  object\n",
      " 1   DeviceIDHash    244126 non-null  int64 \n",
      " 2   EventTimestamp  244126 non-null  int64 \n",
      " 3   ExpId           244126 non-null  int64 \n",
      "dtypes: int64(3), object(1)\n",
      "memory usage: 7.5+ MB\n"
     ]
    }
   ],
   "source": [
    "#изучим общую информацию\n",
    "data.info()"
   ]
  },
  {
   "cell_type": "code",
   "execution_count": 4,
   "metadata": {},
   "outputs": [
    {
     "data": {
      "text/html": [
       "<div>\n",
       "<style scoped>\n",
       "    .dataframe tbody tr th:only-of-type {\n",
       "        vertical-align: middle;\n",
       "    }\n",
       "\n",
       "    .dataframe tbody tr th {\n",
       "        vertical-align: top;\n",
       "    }\n",
       "\n",
       "    .dataframe thead th {\n",
       "        text-align: right;\n",
       "    }\n",
       "</style>\n",
       "<table border=\"1\" class=\"dataframe\">\n",
       "  <thead>\n",
       "    <tr style=\"text-align: right;\">\n",
       "      <th></th>\n",
       "      <th>EventName</th>\n",
       "      <th>DeviceIDHash</th>\n",
       "      <th>EventTimestamp</th>\n",
       "      <th>ExpId</th>\n",
       "    </tr>\n",
       "  </thead>\n",
       "  <tbody>\n",
       "    <tr>\n",
       "      <th>0</th>\n",
       "      <td>MainScreenAppear</td>\n",
       "      <td>4575588528974610257</td>\n",
       "      <td>1564029816</td>\n",
       "      <td>246</td>\n",
       "    </tr>\n",
       "    <tr>\n",
       "      <th>1</th>\n",
       "      <td>MainScreenAppear</td>\n",
       "      <td>7416695313311560658</td>\n",
       "      <td>1564053102</td>\n",
       "      <td>246</td>\n",
       "    </tr>\n",
       "    <tr>\n",
       "      <th>2</th>\n",
       "      <td>PaymentScreenSuccessful</td>\n",
       "      <td>3518123091307005509</td>\n",
       "      <td>1564054127</td>\n",
       "      <td>248</td>\n",
       "    </tr>\n",
       "    <tr>\n",
       "      <th>3</th>\n",
       "      <td>CartScreenAppear</td>\n",
       "      <td>3518123091307005509</td>\n",
       "      <td>1564054127</td>\n",
       "      <td>248</td>\n",
       "    </tr>\n",
       "    <tr>\n",
       "      <th>4</th>\n",
       "      <td>PaymentScreenSuccessful</td>\n",
       "      <td>6217807653094995999</td>\n",
       "      <td>1564055322</td>\n",
       "      <td>248</td>\n",
       "    </tr>\n",
       "    <tr>\n",
       "      <th>5</th>\n",
       "      <td>CartScreenAppear</td>\n",
       "      <td>6217807653094995999</td>\n",
       "      <td>1564055323</td>\n",
       "      <td>248</td>\n",
       "    </tr>\n",
       "    <tr>\n",
       "      <th>6</th>\n",
       "      <td>OffersScreenAppear</td>\n",
       "      <td>8351860793733343758</td>\n",
       "      <td>1564066242</td>\n",
       "      <td>246</td>\n",
       "    </tr>\n",
       "    <tr>\n",
       "      <th>7</th>\n",
       "      <td>MainScreenAppear</td>\n",
       "      <td>5682100281902512875</td>\n",
       "      <td>1564085677</td>\n",
       "      <td>246</td>\n",
       "    </tr>\n",
       "    <tr>\n",
       "      <th>8</th>\n",
       "      <td>MainScreenAppear</td>\n",
       "      <td>1850981295691852772</td>\n",
       "      <td>1564086702</td>\n",
       "      <td>247</td>\n",
       "    </tr>\n",
       "    <tr>\n",
       "      <th>9</th>\n",
       "      <td>MainScreenAppear</td>\n",
       "      <td>5407636962369102641</td>\n",
       "      <td>1564112112</td>\n",
       "      <td>246</td>\n",
       "    </tr>\n",
       "  </tbody>\n",
       "</table>\n",
       "</div>"
      ],
      "text/plain": [
       "                 EventName         DeviceIDHash  EventTimestamp  ExpId\n",
       "0         MainScreenAppear  4575588528974610257      1564029816    246\n",
       "1         MainScreenAppear  7416695313311560658      1564053102    246\n",
       "2  PaymentScreenSuccessful  3518123091307005509      1564054127    248\n",
       "3         CartScreenAppear  3518123091307005509      1564054127    248\n",
       "4  PaymentScreenSuccessful  6217807653094995999      1564055322    248\n",
       "5         CartScreenAppear  6217807653094995999      1564055323    248\n",
       "6       OffersScreenAppear  8351860793733343758      1564066242    246\n",
       "7         MainScreenAppear  5682100281902512875      1564085677    246\n",
       "8         MainScreenAppear  1850981295691852772      1564086702    247\n",
       "9         MainScreenAppear  5407636962369102641      1564112112    246"
      ]
     },
     "execution_count": 4,
     "metadata": {},
     "output_type": "execute_result"
    }
   ],
   "source": [
    "data.head(10)"
   ]
  },
  {
   "cell_type": "markdown",
   "metadata": {},
   "source": [
    "**Вывод**\n",
    "\n",
    "Загрузили датафрейм. Видим что наименование столбцов ниобходимо привести к \"змеином\" регистру.\n",
    "Видим так же \"проблемы\" с типом данных в имеющейся таблице."
   ]
  },
  {
   "cell_type": "markdown",
   "metadata": {},
   "source": [
    "### Шаг 2. Подготовим данные для дальнейшего анализа"
   ]
  },
  {
   "cell_type": "code",
   "execution_count": 5,
   "metadata": {},
   "outputs": [],
   "source": [
    "#переименуем стобцы\n",
    "data = data.rename(\n",
    "    columns={'EventName':'event_name', 'DeviceIDHash':'device_id', 'EventTimestamp':'event_time', 'ExpId':'group'})"
   ]
  },
  {
   "cell_type": "code",
   "execution_count": 6,
   "metadata": {},
   "outputs": [
    {
     "data": {
      "text/plain": [
       "event_name    0\n",
       "device_id     0\n",
       "event_time    0\n",
       "group         0\n",
       "dtype: int64"
      ]
     },
     "execution_count": 6,
     "metadata": {},
     "output_type": "execute_result"
    }
   ],
   "source": [
    "#проверим на пропуски:\n",
    "data.isna().sum()"
   ]
  },
  {
   "cell_type": "code",
   "execution_count": 7,
   "metadata": {},
   "outputs": [
    {
     "data": {
      "text/plain": [
       "413"
      ]
     },
     "execution_count": 7,
     "metadata": {},
     "output_type": "execute_result"
    }
   ],
   "source": [
    "#проверим на явные дубликаты:\n",
    "data.duplicated().sum()"
   ]
  },
  {
   "cell_type": "markdown",
   "metadata": {},
   "source": [
    "Видим 413 явных дубликатов. Выясним сколько это % информации от общего количества"
   ]
  },
  {
   "cell_type": "code",
   "execution_count": 8,
   "metadata": {},
   "outputs": [
    {
     "name": "stdout",
     "output_type": "stream",
     "text": [
      "доля дубликатов 0.2%\n"
     ]
    }
   ],
   "source": [
    "print(f\"доля дубликатов {data.duplicated().sum()/data['device_id'].count():.1%}\")"
   ]
  },
  {
   "cell_type": "markdown",
   "metadata": {},
   "source": [
    "Видим, что даля дубликатов составляет 0,2%. Считаем что от от данных дубликатов можно избавиться."
   ]
  },
  {
   "cell_type": "code",
   "execution_count": 9,
   "metadata": {},
   "outputs": [],
   "source": [
    "data = data.drop_duplicates().reset_index(drop=True)"
   ]
  },
  {
   "cell_type": "code",
   "execution_count": 10,
   "metadata": {},
   "outputs": [
    {
     "data": {
      "text/plain": [
       "0"
      ]
     },
     "execution_count": 10,
     "metadata": {},
     "output_type": "execute_result"
    }
   ],
   "source": [
    "#Проверяем\n",
    "data.duplicated().sum()"
   ]
  },
  {
   "cell_type": "code",
   "execution_count": 11,
   "metadata": {},
   "outputs": [],
   "source": [
    "#Приобразовываем формат даты\n",
    "data.event_time = pd.to_datetime(data.event_time, unit='s')"
   ]
  },
  {
   "cell_type": "code",
   "execution_count": 12,
   "metadata": {},
   "outputs": [],
   "source": [
    "#Добавляем отдельный столбец дат\n",
    "data['event_date'] = data.event_time.dt.date"
   ]
  },
  {
   "cell_type": "code",
   "execution_count": 13,
   "metadata": {},
   "outputs": [
    {
     "data": {
      "text/html": [
       "<div>\n",
       "<style scoped>\n",
       "    .dataframe tbody tr th:only-of-type {\n",
       "        vertical-align: middle;\n",
       "    }\n",
       "\n",
       "    .dataframe tbody tr th {\n",
       "        vertical-align: top;\n",
       "    }\n",
       "\n",
       "    .dataframe thead th {\n",
       "        text-align: right;\n",
       "    }\n",
       "</style>\n",
       "<table border=\"1\" class=\"dataframe\">\n",
       "  <thead>\n",
       "    <tr style=\"text-align: right;\">\n",
       "      <th></th>\n",
       "      <th>event_name</th>\n",
       "      <th>device_id</th>\n",
       "      <th>event_time</th>\n",
       "      <th>group</th>\n",
       "      <th>event_date</th>\n",
       "    </tr>\n",
       "  </thead>\n",
       "  <tbody>\n",
       "    <tr>\n",
       "      <th>0</th>\n",
       "      <td>MainScreenAppear</td>\n",
       "      <td>4575588528974610257</td>\n",
       "      <td>2019-07-25 04:43:36</td>\n",
       "      <td>246</td>\n",
       "      <td>2019-07-25</td>\n",
       "    </tr>\n",
       "    <tr>\n",
       "      <th>1</th>\n",
       "      <td>MainScreenAppear</td>\n",
       "      <td>7416695313311560658</td>\n",
       "      <td>2019-07-25 11:11:42</td>\n",
       "      <td>246</td>\n",
       "      <td>2019-07-25</td>\n",
       "    </tr>\n",
       "    <tr>\n",
       "      <th>2</th>\n",
       "      <td>PaymentScreenSuccessful</td>\n",
       "      <td>3518123091307005509</td>\n",
       "      <td>2019-07-25 11:28:47</td>\n",
       "      <td>248</td>\n",
       "      <td>2019-07-25</td>\n",
       "    </tr>\n",
       "    <tr>\n",
       "      <th>3</th>\n",
       "      <td>CartScreenAppear</td>\n",
       "      <td>3518123091307005509</td>\n",
       "      <td>2019-07-25 11:28:47</td>\n",
       "      <td>248</td>\n",
       "      <td>2019-07-25</td>\n",
       "    </tr>\n",
       "    <tr>\n",
       "      <th>4</th>\n",
       "      <td>PaymentScreenSuccessful</td>\n",
       "      <td>6217807653094995999</td>\n",
       "      <td>2019-07-25 11:48:42</td>\n",
       "      <td>248</td>\n",
       "      <td>2019-07-25</td>\n",
       "    </tr>\n",
       "  </tbody>\n",
       "</table>\n",
       "</div>"
      ],
      "text/plain": [
       "                event_name            device_id          event_time  group  \\\n",
       "0         MainScreenAppear  4575588528974610257 2019-07-25 04:43:36    246   \n",
       "1         MainScreenAppear  7416695313311560658 2019-07-25 11:11:42    246   \n",
       "2  PaymentScreenSuccessful  3518123091307005509 2019-07-25 11:28:47    248   \n",
       "3         CartScreenAppear  3518123091307005509 2019-07-25 11:28:47    248   \n",
       "4  PaymentScreenSuccessful  6217807653094995999 2019-07-25 11:48:42    248   \n",
       "\n",
       "   event_date  \n",
       "0  2019-07-25  \n",
       "1  2019-07-25  \n",
       "2  2019-07-25  \n",
       "3  2019-07-25  \n",
       "4  2019-07-25  "
      ]
     },
     "metadata": {},
     "output_type": "display_data"
    },
    {
     "name": "stdout",
     "output_type": "stream",
     "text": [
      "<class 'pandas.core.frame.DataFrame'>\n",
      "RangeIndex: 243713 entries, 0 to 243712\n",
      "Data columns (total 5 columns):\n",
      " #   Column      Non-Null Count   Dtype         \n",
      "---  ------      --------------   -----         \n",
      " 0   event_name  243713 non-null  object        \n",
      " 1   device_id   243713 non-null  int64         \n",
      " 2   event_time  243713 non-null  datetime64[ns]\n",
      " 3   group       243713 non-null  int64         \n",
      " 4   event_date  243713 non-null  object        \n",
      "dtypes: datetime64[ns](1), int64(2), object(2)\n",
      "memory usage: 9.3+ MB\n"
     ]
    },
    {
     "data": {
      "text/plain": [
       "None"
      ]
     },
     "metadata": {},
     "output_type": "display_data"
    }
   ],
   "source": [
    "# Проверяем, что получилось\n",
    "display(data.head())\n",
    "display(data.info())"
   ]
  },
  {
   "cell_type": "code",
   "execution_count": 14,
   "metadata": {},
   "outputs": [],
   "source": [
    "#создадим списки уникальных пользователей в каждой группе\n",
    "gr246 = data.query('group == 246')['device_id'].unique()\n",
    "gr247 = data.query('group == 247')['device_id'].unique()\n",
    "gr248 = data.query('group == 248')['device_id'].unique()"
   ]
  },
  {
   "cell_type": "code",
   "execution_count": 15,
   "metadata": {},
   "outputs": [
    {
     "name": "stdout",
     "output_type": "stream",
     "text": [
      "0\n"
     ]
    }
   ],
   "source": [
    "#проверим пересечения в группах 246 и 247\n",
    "intersection_1 = []\n",
    "for i in gr246:\n",
    "  if i in gr247:\n",
    "    intersection_1.append(i)\n",
    "print(len(intersection_1))"
   ]
  },
  {
   "cell_type": "code",
   "execution_count": 16,
   "metadata": {},
   "outputs": [
    {
     "name": "stdout",
     "output_type": "stream",
     "text": [
      "0\n"
     ]
    }
   ],
   "source": [
    "#проверим пересечения в группах 246 и 248\n",
    "intersection_2 = []\n",
    "for i in gr246:\n",
    "  if i in gr248:\n",
    "    intersection_2.append(i)\n",
    "print(len(intersection_2))"
   ]
  },
  {
   "cell_type": "code",
   "execution_count": 17,
   "metadata": {},
   "outputs": [
    {
     "name": "stdout",
     "output_type": "stream",
     "text": [
      "0\n"
     ]
    }
   ],
   "source": [
    "#проверим пересечения в группах 247 и 248\n",
    "intersection_3 = []\n",
    "for i in gr247:\n",
    "  if i in gr248:\n",
    "    intersection_3.append(i)\n",
    "print(len(intersection_3))"
   ]
  },
  {
   "cell_type": "markdown",
   "metadata": {},
   "source": [
    "**Вывод**\n",
    "\n",
    "Привели наименование столбцов к \"змеиному\" регистру.\n",
    "\n",
    "Проверили на пропуски и дублицаты датафрейм. Доля дубликатов составли 0,2% от всего датафрейма. Приняли решение удалить дубликаты.\n",
    "\n",
    "Отредактировали тип данных в стобце даты и времени, а так же создали отдельный столбец дат."
   ]
  },
  {
   "cell_type": "markdown",
   "metadata": {},
   "source": [
    "### Шаг 3. Изучим и проверим данные более детально"
   ]
  },
  {
   "cell_type": "code",
   "execution_count": 18,
   "metadata": {},
   "outputs": [
    {
     "name": "stdout",
     "output_type": "stream",
     "text": [
      "количество событий в логе 243713\n"
     ]
    }
   ],
   "source": [
    "#количество событий в логе\n",
    "print(f\"количество событий в логе {data['event_name'].count()}\")"
   ]
  },
  {
   "cell_type": "code",
   "execution_count": 19,
   "metadata": {},
   "outputs": [
    {
     "name": "stdout",
     "output_type": "stream",
     "text": [
      "количество уникальных пользователей 7551\n"
     ]
    }
   ],
   "source": [
    "#количество всего пользователей\n",
    "print(f\"количество уникальных пользователей {data['device_id'].nunique()}\")"
   ]
  },
  {
   "cell_type": "code",
   "execution_count": 20,
   "metadata": {},
   "outputs": [
    {
     "name": "stdout",
     "output_type": "stream",
     "text": [
      "В среднем 32 событий приходятся на 1 пользователя\n"
     ]
    }
   ],
   "source": [
    "#количество событий на пользователя в среднем\n",
    "print(f\"В среднем {int(len(data) / len(data.device_id.unique()))} событий приходятся на 1 пользователя\")"
   ]
  },
  {
   "cell_type": "code",
   "execution_count": 21,
   "metadata": {},
   "outputs": [
    {
     "data": {
      "text/html": [
       "<div>\n",
       "<style scoped>\n",
       "    .dataframe tbody tr th:only-of-type {\n",
       "        vertical-align: middle;\n",
       "    }\n",
       "\n",
       "    .dataframe tbody tr th {\n",
       "        vertical-align: top;\n",
       "    }\n",
       "\n",
       "    .dataframe thead th {\n",
       "        text-align: right;\n",
       "    }\n",
       "</style>\n",
       "<table border=\"1\" class=\"dataframe\">\n",
       "  <thead>\n",
       "    <tr style=\"text-align: right;\">\n",
       "      <th></th>\n",
       "      <th>event_name</th>\n",
       "    </tr>\n",
       "  </thead>\n",
       "  <tbody>\n",
       "    <tr>\n",
       "      <th>count</th>\n",
       "      <td>7551.000000</td>\n",
       "    </tr>\n",
       "    <tr>\n",
       "      <th>mean</th>\n",
       "      <td>32.275593</td>\n",
       "    </tr>\n",
       "    <tr>\n",
       "      <th>std</th>\n",
       "      <td>65.154219</td>\n",
       "    </tr>\n",
       "    <tr>\n",
       "      <th>min</th>\n",
       "      <td>1.000000</td>\n",
       "    </tr>\n",
       "    <tr>\n",
       "      <th>25%</th>\n",
       "      <td>9.000000</td>\n",
       "    </tr>\n",
       "    <tr>\n",
       "      <th>50%</th>\n",
       "      <td>20.000000</td>\n",
       "    </tr>\n",
       "    <tr>\n",
       "      <th>75%</th>\n",
       "      <td>37.000000</td>\n",
       "    </tr>\n",
       "    <tr>\n",
       "      <th>max</th>\n",
       "      <td>2307.000000</td>\n",
       "    </tr>\n",
       "  </tbody>\n",
       "</table>\n",
       "</div>"
      ],
      "text/plain": [
       "        event_name\n",
       "count  7551.000000\n",
       "mean     32.275593\n",
       "std      65.154219\n",
       "min       1.000000\n",
       "25%       9.000000\n",
       "50%      20.000000\n",
       "75%      37.000000\n",
       "max    2307.000000"
      ]
     },
     "execution_count": 21,
     "metadata": {},
     "output_type": "execute_result"
    }
   ],
   "source": [
    "data.groupby('device_id')[['event_name']].count().describe(percentiles=[1/4, 1/2, 3/4])"
   ]
  },
  {
   "cell_type": "code",
   "execution_count": 22,
   "metadata": {},
   "outputs": [
    {
     "name": "stdout",
     "output_type": "stream",
     "text": [
      "2019-07-25 04:43:36\n"
     ]
    }
   ],
   "source": [
    "#минимальная дата:\n",
    "print(data['event_time'].min())"
   ]
  },
  {
   "cell_type": "code",
   "execution_count": 23,
   "metadata": {},
   "outputs": [
    {
     "name": "stdout",
     "output_type": "stream",
     "text": [
      "2019-08-07 21:15:17\n"
     ]
    }
   ],
   "source": [
    "#максимальная дата:\n",
    "print(data['event_time'].max())"
   ]
  },
  {
   "cell_type": "code",
   "execution_count": 24,
   "metadata": {},
   "outputs": [
    {
     "data": {
      "image/png": "[encoded data removed]",
      "text/plain": [
       "<Figure size 1440x1080 with 1 Axes>"
      ]
     },
     "metadata": {
      "needs_background": "light"
     },
     "output_type": "display_data"
    }
   ],
   "source": [
    "#построим график для наглядности\n",
    "data['event_time'].hist(bins=150,  figsize=(20, 15))\n",
    "plt.title('Распределение событий по дате')\n",
    "plt.ylabel('Количество событий')\n",
    "plt.xlabel('Дата')\n",
    "plt.show()"
   ]
  },
  {
   "cell_type": "markdown",
   "metadata": {},
   "source": [
    "Даны данные с 25.07.19 по 07.08.2019, однако по гистограмме видим что мы обладает полными данными только с 01.08.19."
   ]
  },
  {
   "cell_type": "code",
   "execution_count": 25,
   "metadata": {},
   "outputs": [],
   "source": [
    "#удалим период с неполными датами:\n",
    "actual_data = data.query('event_time >= \"2019-08-01\"')"
   ]
  },
  {
   "cell_type": "code",
   "execution_count": 26,
   "metadata": {},
   "outputs": [
    {
     "name": "stdout",
     "output_type": "stream",
     "text": [
      "количество потерянных событий 2826\n",
      "доля потерянных событий 1.2%\n",
      "количество потерянных пользователей 17\n",
      "доля потерянных пользователей 0.2%\n"
     ]
    }
   ],
   "source": [
    "#посчитаем потерю событий:\n",
    "print(f\"количество потерянных событий {len(data) - len(actual_data)}\")\n",
    "print(f\"доля потерянных событий {(len(data) - len(actual_data))/len(data):.1%}\")\n",
    "print(f\"количество потерянных пользователей {data['device_id'].nunique()- actual_data['device_id'].nunique()}\")\n",
    "print(f\"доля потерянных пользователей {(data['device_id'].nunique() - actual_data['device_id'].nunique())/data['device_id'].nunique():.1%}\")"
   ]
  },
  {
   "cell_type": "markdown",
   "metadata": {},
   "source": [
    "Количество потерь не большое, по этому принимаем их и продолжаем работу."
   ]
  },
  {
   "cell_type": "code",
   "execution_count": 27,
   "metadata": {},
   "outputs": [
    {
     "name": "stdout",
     "output_type": "stream",
     "text": [
      "group\n",
      "246    2484\n",
      "247    2513\n",
      "248    2537\n",
      "Name: device_id, dtype: int64\n"
     ]
    }
   ],
   "source": [
    "#проверим, есть ли пользователи из всех трёх экспериментальных групп.\n",
    "print (actual_data.groupby('group')['device_id'].nunique())"
   ]
  },
  {
   "cell_type": "markdown",
   "metadata": {},
   "source": [
    "**Вывод**\n",
    "\n",
    "1) Определили количество событий в логе, их 243 713\n",
    "\n",
    "2) Определили количество пользователей в логе, их 7 551\n",
    "\n",
    "3) Определили количетсво событий в среднем на пользователя, их 20\n",
    "\n",
    "4) Определили минимальную и максимальную дату событий: 2019-07-25 и 2019-08-07 соответственно, однако полные данные оказались лишь 2019-08-01 по 2019-08-07;\n",
    "\n",
    "5) Обросили неполные данные и посчитали потери:\n",
    "\n",
    "* потеря событий всего 2826 из 243713 (1,2%)\n",
    "* потеря пользователей 17 из 7551 (0,2%)"
   ]
  },
  {
   "cell_type": "markdown",
   "metadata": {},
   "source": [
    "### Шаг 4. Изучим воронку событий"
   ]
  },
  {
   "cell_type": "code",
   "execution_count": 28,
   "metadata": {},
   "outputs": [
    {
     "data": {
      "text/html": [
       "<div>\n",
       "<style scoped>\n",
       "    .dataframe tbody tr th:only-of-type {\n",
       "        vertical-align: middle;\n",
       "    }\n",
       "\n",
       "    .dataframe tbody tr th {\n",
       "        vertical-align: top;\n",
       "    }\n",
       "\n",
       "    .dataframe thead th {\n",
       "        text-align: right;\n",
       "    }\n",
       "</style>\n",
       "<table border=\"1\" class=\"dataframe\">\n",
       "  <thead>\n",
       "    <tr style=\"text-align: right;\">\n",
       "      <th></th>\n",
       "      <th>count</th>\n",
       "    </tr>\n",
       "    <tr>\n",
       "      <th>event_name</th>\n",
       "      <th></th>\n",
       "    </tr>\n",
       "  </thead>\n",
       "  <tbody>\n",
       "    <tr>\n",
       "      <th>MainScreenAppear</th>\n",
       "      <td>117328</td>\n",
       "    </tr>\n",
       "    <tr>\n",
       "      <th>OffersScreenAppear</th>\n",
       "      <td>46333</td>\n",
       "    </tr>\n",
       "    <tr>\n",
       "      <th>CartScreenAppear</th>\n",
       "      <td>42303</td>\n",
       "    </tr>\n",
       "    <tr>\n",
       "      <th>PaymentScreenSuccessful</th>\n",
       "      <td>33918</td>\n",
       "    </tr>\n",
       "    <tr>\n",
       "      <th>Tutorial</th>\n",
       "      <td>1005</td>\n",
       "    </tr>\n",
       "  </tbody>\n",
       "</table>\n",
       "</div>"
      ],
      "text/plain": [
       "                          count\n",
       "event_name                     \n",
       "MainScreenAppear         117328\n",
       "OffersScreenAppear        46333\n",
       "CartScreenAppear          42303\n",
       "PaymentScreenSuccessful   33918\n",
       "Tutorial                   1005"
      ]
     },
     "execution_count": 28,
     "metadata": {},
     "output_type": "execute_result"
    }
   ],
   "source": [
    "#Посмотрим, какие события есть в логах, как часто они встречаются. Отсортируем события по частоте.\n",
    "actual_data.groupby('event_name').agg(count = ('device_id', 'count')).sort_values(by = 'count', ascending=False)"
   ]
  },
  {
   "cell_type": "code",
   "execution_count": 29,
   "metadata": {},
   "outputs": [
    {
     "data": {
      "text/html": [
       "<div>\n",
       "<style scoped>\n",
       "    .dataframe tbody tr th:only-of-type {\n",
       "        vertical-align: middle;\n",
       "    }\n",
       "\n",
       "    .dataframe tbody tr th {\n",
       "        vertical-align: top;\n",
       "    }\n",
       "\n",
       "    .dataframe thead th {\n",
       "        text-align: right;\n",
       "    }\n",
       "</style>\n",
       "<table border=\"1\" class=\"dataframe\">\n",
       "  <thead>\n",
       "    <tr style=\"text-align: right;\">\n",
       "      <th></th>\n",
       "      <th>users</th>\n",
       "    </tr>\n",
       "    <tr>\n",
       "      <th>event_name</th>\n",
       "      <th></th>\n",
       "    </tr>\n",
       "  </thead>\n",
       "  <tbody>\n",
       "    <tr>\n",
       "      <th>MainScreenAppear</th>\n",
       "      <td>7419</td>\n",
       "    </tr>\n",
       "    <tr>\n",
       "      <th>OffersScreenAppear</th>\n",
       "      <td>4593</td>\n",
       "    </tr>\n",
       "    <tr>\n",
       "      <th>CartScreenAppear</th>\n",
       "      <td>3734</td>\n",
       "    </tr>\n",
       "    <tr>\n",
       "      <th>PaymentScreenSuccessful</th>\n",
       "      <td>3539</td>\n",
       "    </tr>\n",
       "    <tr>\n",
       "      <th>Tutorial</th>\n",
       "      <td>840</td>\n",
       "    </tr>\n",
       "  </tbody>\n",
       "</table>\n",
       "</div>"
      ],
      "text/plain": [
       "                         users\n",
       "event_name                    \n",
       "MainScreenAppear          7419\n",
       "OffersScreenAppear        4593\n",
       "CartScreenAppear          3734\n",
       "PaymentScreenSuccessful   3539\n",
       "Tutorial                   840"
      ]
     },
     "execution_count": 29,
     "metadata": {},
     "output_type": "execute_result"
    }
   ],
   "source": [
    "#Посчитаем, сколько пользователей совершали каждое из этих событий. Отсортируем события по числу пользователей.\n",
    "event_users = actual_data.groupby('event_name').agg(users=('device_id','nunique')).sort_values('users', ascending=False)\n",
    "event_users"
   ]
  },
  {
   "cell_type": "code",
   "execution_count": 30,
   "metadata": {},
   "outputs": [
    {
     "data": {
      "text/html": [
       "<div>\n",
       "<style scoped>\n",
       "    .dataframe tbody tr th:only-of-type {\n",
       "        vertical-align: middle;\n",
       "    }\n",
       "\n",
       "    .dataframe tbody tr th {\n",
       "        vertical-align: top;\n",
       "    }\n",
       "\n",
       "    .dataframe thead th {\n",
       "        text-align: right;\n",
       "    }\n",
       "</style>\n",
       "<table border=\"1\" class=\"dataframe\">\n",
       "  <thead>\n",
       "    <tr style=\"text-align: right;\">\n",
       "      <th></th>\n",
       "      <th>users</th>\n",
       "      <th>ratio</th>\n",
       "    </tr>\n",
       "    <tr>\n",
       "      <th>event_name</th>\n",
       "      <th></th>\n",
       "      <th></th>\n",
       "    </tr>\n",
       "  </thead>\n",
       "  <tbody>\n",
       "    <tr>\n",
       "      <th>MainScreenAppear</th>\n",
       "      <td>7419</td>\n",
       "      <td>98.47</td>\n",
       "    </tr>\n",
       "    <tr>\n",
       "      <th>OffersScreenAppear</th>\n",
       "      <td>4593</td>\n",
       "      <td>60.96</td>\n",
       "    </tr>\n",
       "    <tr>\n",
       "      <th>CartScreenAppear</th>\n",
       "      <td>3734</td>\n",
       "      <td>49.56</td>\n",
       "    </tr>\n",
       "    <tr>\n",
       "      <th>PaymentScreenSuccessful</th>\n",
       "      <td>3539</td>\n",
       "      <td>46.97</td>\n",
       "    </tr>\n",
       "    <tr>\n",
       "      <th>Tutorial</th>\n",
       "      <td>840</td>\n",
       "      <td>11.15</td>\n",
       "    </tr>\n",
       "  </tbody>\n",
       "</table>\n",
       "</div>"
      ],
      "text/plain": [
       "                         users  ratio\n",
       "event_name                           \n",
       "MainScreenAppear          7419  98.47\n",
       "OffersScreenAppear        4593  60.96\n",
       "CartScreenAppear          3734  49.56\n",
       "PaymentScreenSuccessful   3539  46.97\n",
       "Tutorial                   840  11.15"
      ]
     },
     "execution_count": 30,
     "metadata": {},
     "output_type": "execute_result"
    }
   ],
   "source": [
    "#Посчитаем долю пользователей, которые хоть раз совершали событие.\n",
    "event_users['ratio'] = round(event_users['users']/actual_data['device_id'].nunique() * 100, 2)\n",
    "event_users"
   ]
  },
  {
   "cell_type": "markdown",
   "metadata": {},
   "source": [
    "**Необходимо определить в каком порядке происходят события. Все ли они выстраиваются в последовательную цепочку?**\n",
    "\n",
    "Предположим, что пользователь:\n",
    "\n",
    "* сначала открывает главную страницу приложения(MainScreenAppear);\n",
    "* потом в каталоге выбирает товары(OffersScreenAppear);\n",
    "* кладёт их в корзину(CartScreenAppear);\n",
    "* оплачивает(PaymentScreenSuccessful).\n",
    "\n",
    "Tutorial(обучение) - не входит в эту последовательность так как не является обязательным этапом (если приложение достаточно дружелюбное)."
   ]
  },
  {
   "cell_type": "code",
   "execution_count": 31,
   "metadata": {},
   "outputs": [
    {
     "data": {
      "text/html": [
       "<div>\n",
       "<style scoped>\n",
       "    .dataframe tbody tr th:only-of-type {\n",
       "        vertical-align: middle;\n",
       "    }\n",
       "\n",
       "    .dataframe tbody tr th {\n",
       "        vertical-align: top;\n",
       "    }\n",
       "\n",
       "    .dataframe thead th {\n",
       "        text-align: right;\n",
       "    }\n",
       "</style>\n",
       "<table border=\"1\" class=\"dataframe\">\n",
       "  <thead>\n",
       "    <tr style=\"text-align: right;\">\n",
       "      <th></th>\n",
       "      <th>device_id</th>\n",
       "      <th>conversion</th>\n",
       "    </tr>\n",
       "    <tr>\n",
       "      <th>event_name</th>\n",
       "      <th></th>\n",
       "      <th></th>\n",
       "    </tr>\n",
       "  </thead>\n",
       "  <tbody>\n",
       "    <tr>\n",
       "      <th>MainScreenAppear</th>\n",
       "      <td>7439</td>\n",
       "      <td>100.0</td>\n",
       "    </tr>\n",
       "    <tr>\n",
       "      <th>OffersScreenAppear</th>\n",
       "      <td>4613</td>\n",
       "      <td>62.0</td>\n",
       "    </tr>\n",
       "    <tr>\n",
       "      <th>CartScreenAppear</th>\n",
       "      <td>3749</td>\n",
       "      <td>81.3</td>\n",
       "    </tr>\n",
       "    <tr>\n",
       "      <th>PaymentScreenSuccessful</th>\n",
       "      <td>3547</td>\n",
       "      <td>94.6</td>\n",
       "    </tr>\n",
       "  </tbody>\n",
       "</table>\n",
       "</div>"
      ],
      "text/plain": [
       "                         device_id  conversion\n",
       "event_name                                    \n",
       "MainScreenAppear              7439       100.0\n",
       "OffersScreenAppear            4613        62.0\n",
       "CartScreenAppear              3749        81.3\n",
       "PaymentScreenSuccessful       3547        94.6"
      ]
     },
     "execution_count": 31,
     "metadata": {},
     "output_type": "execute_result"
    }
   ],
   "source": [
    "#По воронке событий посчитаем, какая доля пользователей проходит на следующий шаг воронки\n",
    "\n",
    "#создадим сводную таблицу с количеством уникальных пользователей совершавших каждое из событий\n",
    "event_users = data.query('event_name != \"Tutorial\"').pivot_table(index = 'event_name', values = 'device_id', aggfunc = 'nunique').sort_values(by = 'device_id', ascending = False)\n",
    "#добавим столбец со смещенными значениями количества пользователей методом shift\n",
    "#недостающее значение заполним первым значением столбца параметром fill_value\n",
    "event_users['shift'] = event_users['device_id'].shift(1, fill_value = event_users['device_id'].loc[event_users.index[0]])\n",
    "#посчитаем и добавим столбец с конверсией округленной до 1 десятка\n",
    "event_users['conversion'] = round(event_users['device_id']/event_users['shift'] * 100, 1)\n",
    "#в итоговой таблице оставим только количество уникальных пользователей и конверсией\n",
    "event_users = event_users[['device_id', 'conversion']]\n",
    "event_users"
   ]
  },
  {
   "cell_type": "markdown",
   "metadata": {},
   "source": [
    "Исходя из таблицы выше, больше всего пользователей теряется после первого шага (MainScreenAppear). Порядка 2 826 пользователей (38%)."
   ]
  },
  {
   "cell_type": "code",
   "execution_count": 32,
   "metadata": {},
   "outputs": [
    {
     "name": "stdout",
     "output_type": "stream",
     "text": [
      "Доля пользователей прошедших от первого события до оплаты 47.7%\n"
     ]
    }
   ],
   "source": [
    "#Посчитаем, какая доля пользователей доходит от первого события до оплаты\n",
    "print(f\"Доля пользователей прошедших от первого события до оплаты {event_users['device_id'].loc[event_users.index[-1]]/event_users['device_id'].loc[event_users.index[0]]:.1%}\")"
   ]
  },
  {
   "cell_type": "markdown",
   "metadata": {},
   "source": [
    "**Вывод**\n",
    "\n",
    "Посмотрели, как часто встречаются события в логе.\n",
    "\n",
    "Посчитали, сколько пользователей совершали каждое из этих событий и долю пользователей, которые хоть раз совершали событие.\n",
    "\n",
    "Предположили, в каком порядке происходят события:\n",
    "\n",
    "По воронке событий посчитали, какая доля пользователей проходит на следующий шаг воронки (от числа пользователей на предыдущем):\n",
    "\n",
    "* на первом шаге 7419 пользователей;\n",
    "* до второго шага доходит 4613 пользователей, доля от предыдущего шага 62.0%;\n",
    "* до третьего шага доходит 3749 пользователей, доля от предыдущего шага 81.3%;\n",
    "* до четвертого шага доходит 3547, доля от предыдущего шага 94.6%\n",
    "\n",
    "Определили, что больше всего пользователей теряется на первом шаге: доля оплативших товар от тех кто дошел до просмотра корзины 62.0%.\n",
    "\n",
    "Посчитали, что доля пользователей прошедших от первого события до оплаты 47.7%."
   ]
  },
  {
   "cell_type": "markdown",
   "metadata": {},
   "source": [
    "### Шаг 5. Изучим результаты эксперимента."
   ]
  },
  {
   "cell_type": "code",
   "execution_count": 33,
   "metadata": {},
   "outputs": [
    {
     "data": {
      "text/html": [
       "<div>\n",
       "<style scoped>\n",
       "    .dataframe tbody tr th:only-of-type {\n",
       "        vertical-align: middle;\n",
       "    }\n",
       "\n",
       "    .dataframe tbody tr th {\n",
       "        vertical-align: top;\n",
       "    }\n",
       "\n",
       "    .dataframe thead th {\n",
       "        text-align: right;\n",
       "    }\n",
       "</style>\n",
       "<table border=\"1\" class=\"dataframe\">\n",
       "  <thead>\n",
       "    <tr style=\"text-align: right;\">\n",
       "      <th></th>\n",
       "      <th>device_id</th>\n",
       "    </tr>\n",
       "    <tr>\n",
       "      <th>group</th>\n",
       "      <th></th>\n",
       "    </tr>\n",
       "  </thead>\n",
       "  <tbody>\n",
       "    <tr>\n",
       "      <th>246</th>\n",
       "      <td>2484</td>\n",
       "    </tr>\n",
       "    <tr>\n",
       "      <th>247</th>\n",
       "      <td>2513</td>\n",
       "    </tr>\n",
       "    <tr>\n",
       "      <th>248</th>\n",
       "      <td>2537</td>\n",
       "    </tr>\n",
       "  </tbody>\n",
       "</table>\n",
       "</div>"
      ],
      "text/plain": [
       "       device_id\n",
       "group           \n",
       "246         2484\n",
       "247         2513\n",
       "248         2537"
      ]
     },
     "execution_count": 33,
     "metadata": {},
     "output_type": "execute_result"
    }
   ],
   "source": [
    "#Посчитаем, пользователей в каждой экспериментальной группе\n",
    "actual_data.pivot_table(index = 'group', values = 'device_id', aggfunc = 'nunique')"
   ]
  },
  {
   "cell_type": "markdown",
   "metadata": {},
   "source": [
    "Всего имеются три группы пользователей: \n",
    "\n",
    "группы 246 и 247 - контрольные, \n",
    "\n",
    "группа 248 - экспериментальная. \n",
    "\n",
    "В них соответственно по 2484, 2513 и 2537 человек.\n",
    "\n",
    "Есть незначительная разница в количестве пользователей в каждой эксперементальной группе."
   ]
  },
  {
   "cell_type": "markdown",
   "metadata": {},
   "source": [
    "**Проверим, находят ли статистические критерии разницу между выборками 246 и 247.\n",
    "Критерии успешного A/A-теста:**\n",
    "\n",
    "* Количество пользователей в различных группах различается не более, чем на 1%;\n",
    "\n",
    "* Для всех групп фиксируют и отправляют в системы аналитики данные об одном и том же;\n",
    "\n",
    "* Различие ключевых метрик по группам не превышает 1% и не имеет статистической значимости;\n",
    "\n",
    "* Попавший в одну из групп посетитель остаётся в этой группе до конца теста."
   ]
  },
  {
   "cell_type": "code",
   "execution_count": 34,
   "metadata": {},
   "outputs": [
    {
     "name": "stdout",
     "output_type": "stream",
     "text": [
      "Разница между группой 246 и 247 составляет 1.15%\n",
      "Разница между группой 247 и 248 составляет 0.95%\n",
      "Разница между группой 248 и 246 составляет -2.13%\n"
     ]
    }
   ],
   "source": [
    "for i in range(0, 3):\n",
    "    gr_list = [246, 247, 248, 246]\n",
    "    print(f'Разница между группой {gr_list[i]} и {gr_list[i+1]} составляет {1 - actual_data.query(\"group == @gr_list[@i]\")[\"device_id\"].nunique() / actual_data.query(\"group == @gr_list[@i+1]\")[\"device_id\"].nunique():.2%}')"
   ]
  },
  {
   "cell_type": "markdown",
   "metadata": {},
   "source": [
    "Количество пользователей в каждой из групп достаточно большое для проведения исследования и разница между размерами групп не большая. \n",
    "\n",
    "Проверить, как зафиксированы и отправлены логи, мы не можем - остается положиться на источник данных."
   ]
  },
  {
   "cell_type": "markdown",
   "metadata": {},
   "source": [
    "**Выберем самое популярное событие.**\n",
    "\n",
    "Посчитаем число пользователей, совершивших это событие в каждой из контрольных групп. Посчитаем долю пользователей, совершивших это событие. \n",
    "\n",
    "Проверим, будет ли отличие между группами статистически достоверным. "
   ]
  },
  {
   "cell_type": "code",
   "execution_count": 35,
   "metadata": {},
   "outputs": [],
   "source": [
    "gr_246 = actual_data.query('group == 246')\n",
    "gr_247 = actual_data.query('group == 247')\n",
    "gr_248 = actual_data.query('group == 248')"
   ]
  },
  {
   "cell_type": "code",
   "execution_count": 36,
   "metadata": {},
   "outputs": [
    {
     "data": {
      "text/html": [
       "<div>\n",
       "<style scoped>\n",
       "    .dataframe tbody tr th:only-of-type {\n",
       "        vertical-align: middle;\n",
       "    }\n",
       "\n",
       "    .dataframe tbody tr th {\n",
       "        vertical-align: top;\n",
       "    }\n",
       "\n",
       "    .dataframe thead th {\n",
       "        text-align: right;\n",
       "    }\n",
       "</style>\n",
       "<table border=\"1\" class=\"dataframe\">\n",
       "  <thead>\n",
       "    <tr style=\"text-align: right;\">\n",
       "      <th></th>\n",
       "      <th>device_id</th>\n",
       "    </tr>\n",
       "    <tr>\n",
       "      <th>event_name</th>\n",
       "      <th></th>\n",
       "    </tr>\n",
       "  </thead>\n",
       "  <tbody>\n",
       "    <tr>\n",
       "      <th>MainScreenAppear</th>\n",
       "      <td>2450</td>\n",
       "    </tr>\n",
       "    <tr>\n",
       "      <th>OffersScreenAppear</th>\n",
       "      <td>1542</td>\n",
       "    </tr>\n",
       "    <tr>\n",
       "      <th>CartScreenAppear</th>\n",
       "      <td>1266</td>\n",
       "    </tr>\n",
       "    <tr>\n",
       "      <th>PaymentScreenSuccessful</th>\n",
       "      <td>1200</td>\n",
       "    </tr>\n",
       "    <tr>\n",
       "      <th>Tutorial</th>\n",
       "      <td>278</td>\n",
       "    </tr>\n",
       "  </tbody>\n",
       "</table>\n",
       "</div>"
      ],
      "text/plain": [
       "                         device_id\n",
       "event_name                        \n",
       "MainScreenAppear              2450\n",
       "OffersScreenAppear            1542\n",
       "CartScreenAppear              1266\n",
       "PaymentScreenSuccessful       1200\n",
       "Tutorial                       278"
      ]
     },
     "execution_count": 36,
     "metadata": {},
     "output_type": "execute_result"
    }
   ],
   "source": [
    "gr_246.pivot_table(index = 'event_name', values = 'device_id', aggfunc = 'nunique'\n",
    "                  ).sort_values(by = 'device_id', ascending = False)"
   ]
  },
  {
   "cell_type": "code",
   "execution_count": 37,
   "metadata": {},
   "outputs": [
    {
     "data": {
      "text/html": [
       "<div>\n",
       "<style scoped>\n",
       "    .dataframe tbody tr th:only-of-type {\n",
       "        vertical-align: middle;\n",
       "    }\n",
       "\n",
       "    .dataframe tbody tr th {\n",
       "        vertical-align: top;\n",
       "    }\n",
       "\n",
       "    .dataframe thead th {\n",
       "        text-align: right;\n",
       "    }\n",
       "</style>\n",
       "<table border=\"1\" class=\"dataframe\">\n",
       "  <thead>\n",
       "    <tr style=\"text-align: right;\">\n",
       "      <th></th>\n",
       "      <th>device_id</th>\n",
       "    </tr>\n",
       "    <tr>\n",
       "      <th>event_name</th>\n",
       "      <th></th>\n",
       "    </tr>\n",
       "  </thead>\n",
       "  <tbody>\n",
       "    <tr>\n",
       "      <th>MainScreenAppear</th>\n",
       "      <td>2476</td>\n",
       "    </tr>\n",
       "    <tr>\n",
       "      <th>OffersScreenAppear</th>\n",
       "      <td>1520</td>\n",
       "    </tr>\n",
       "    <tr>\n",
       "      <th>CartScreenAppear</th>\n",
       "      <td>1238</td>\n",
       "    </tr>\n",
       "    <tr>\n",
       "      <th>PaymentScreenSuccessful</th>\n",
       "      <td>1158</td>\n",
       "    </tr>\n",
       "    <tr>\n",
       "      <th>Tutorial</th>\n",
       "      <td>283</td>\n",
       "    </tr>\n",
       "  </tbody>\n",
       "</table>\n",
       "</div>"
      ],
      "text/plain": [
       "                         device_id\n",
       "event_name                        \n",
       "MainScreenAppear              2476\n",
       "OffersScreenAppear            1520\n",
       "CartScreenAppear              1238\n",
       "PaymentScreenSuccessful       1158\n",
       "Tutorial                       283"
      ]
     },
     "execution_count": 37,
     "metadata": {},
     "output_type": "execute_result"
    }
   ],
   "source": [
    "gr_247.pivot_table(index = 'event_name', values = 'device_id', aggfunc = 'nunique'\n",
    "                  ).sort_values(by = 'device_id', ascending = False)"
   ]
  },
  {
   "cell_type": "markdown",
   "metadata": {},
   "source": [
    "**Сформируем гипотезы:**\n",
    "\n",
    "* H0: Между долями статистической значимой разницы нет, поведение групп не отличается;\n",
    "\n",
    "* H1: Между долями статистическая значимая разница есть, поведение групп отличается.\n",
    "\n",
    "Закрепим критический уровент статистической значемости = 0.05"
   ]
  },
  {
   "cell_type": "code",
   "execution_count": 38,
   "metadata": {},
   "outputs": [],
   "source": [
    "#Для дальнейшей работы напимем функцию\n",
    "def test(g1, g2, event_name, alpha):\n",
    "    \n",
    "    users_event = np.array([g1[g1['event_name'] == event_name]['device_id'].nunique(), g2[g2['event_name'] == event_name]['device_id'].nunique()])\n",
    "        \n",
    "    users_group = np.array([g1['device_id'].nunique(), g2['device_id'].nunique()])\n",
    "    \n",
    "    p1 = users_event[0]/users_group[0]\n",
    "    p2 = users_event[1]/users_group[1]\n",
    "    \n",
    "    p_combin = (users_event[0] + users_event[1]) / (users_group[0] + users_group[1])\n",
    "    \n",
    "    difference = p1 - p2\n",
    "    \n",
    "    z_value = difference / mth.sqrt(p_combin * (1 - p_combin) * (1/users_event[0] + 1/users_event[1]))\n",
    "    \n",
    "    distr = st.norm(0, 1)  \n",
    "    \n",
    "    p_value = (1 - distr.cdf(abs(z_value))) * 2\n",
    "    \n",
    "    print(event_name)\n",
    "          \n",
    "    print('p-значение: ', p_value)\n",
    "\n",
    "    if p_value < alpha:\n",
    "        print('Отвергаем нулевую гипотезу: между долями есть значимая разница')\n",
    "    else:\n",
    "        print('Не получилось отвергнуть нулевую гипотезу, нет оснований считать доли разными')\n",
    "    print()"
   ]
  },
  {
   "cell_type": "code",
   "execution_count": 39,
   "metadata": {},
   "outputs": [
    {
     "name": "stdout",
     "output_type": "stream",
     "text": [
      "MainScreenAppear\n",
      "p-значение:  0.758737151572354\n",
      "Не получилось отвергнуть нулевую гипотезу, нет оснований считать доли разными\n",
      "\n",
      "PaymentScreenSuccessful\n",
      "p-значение:  0.2784401253423807\n",
      "Не получилось отвергнуть нулевую гипотезу, нет оснований считать доли разными\n",
      "\n",
      "CartScreenAppear\n",
      "p-значение:  0.39432110136773835\n",
      "Не получилось отвергнуть нулевую гипотезу, нет оснований считать доли разными\n",
      "\n",
      "OffersScreenAppear\n",
      "p-значение:  0.36593695068605325\n",
      "Не получилось отвергнуть нулевую гипотезу, нет оснований считать доли разными\n",
      "\n"
     ]
    }
   ],
   "source": [
    "#создадим список с уникальными событиями:\n",
    "event_name_unique = data['event_name'].unique()\n",
    "\n",
    "#создадим цикл, который будет подставлять в функцию уникальные значения собитый:\n",
    "for event_name in event_name_unique[:-1]:\n",
    "    test(gr_246, gr_247, event_name, 0.05)"
   ]
  },
  {
   "cell_type": "markdown",
   "metadata": {},
   "source": [
    "**Делаем вывод**\n",
    "\n",
    "Статистические критерии разницу между выборками 246 и 247 не находят, т.к. ни для одного из событий разница не оказалось значимой, обе эти группы можно считать контрольными, так же разбиение на группы работает корректно."
   ]
  },
  {
   "cell_type": "markdown",
   "metadata": {},
   "source": [
    "**Аналогично поступим с группой с изменённым шрифтом.**\n",
    "\n",
    "Сравним результаты с каждой из контрольных групп в отдельности по каждому событию. Сравним результаты с объединённой контрольной группой."
   ]
  },
  {
   "cell_type": "code",
   "execution_count": 40,
   "metadata": {},
   "outputs": [
    {
     "name": "stdout",
     "output_type": "stream",
     "text": [
      "MainScreenAppear\n",
      "p-значение:  0.2987450335656847\n",
      "Не получилось отвергнуть нулевую гипотезу, нет оснований считать доли разными\n",
      "\n",
      "PaymentScreenSuccessful\n",
      "p-значение:  0.3903369220965023\n",
      "Не получилось отвергнуть нулевую гипотезу, нет оснований считать доли разными\n",
      "\n",
      "CartScreenAppear\n",
      "p-значение:  0.21469452387393084\n",
      "Не получилось отвергнуть нулевую гипотезу, нет оснований считать доли разными\n",
      "\n",
      "OffersScreenAppear\n",
      "p-значение:  0.32498018019986397\n",
      "Не получилось отвергнуть нулевую гипотезу, нет оснований считать доли разными\n",
      "\n"
     ]
    }
   ],
   "source": [
    "for event_name in event_name_unique[:-1]:\n",
    "    test(gr_246, gr_248, event_name, 0.05)"
   ]
  },
  {
   "cell_type": "markdown",
   "metadata": {},
   "source": [
    "**Вывод**\n",
    "\n",
    "Значимой разницы в поведении пользователей групп 246 и 248 нет"
   ]
  },
  {
   "cell_type": "code",
   "execution_count": 41,
   "metadata": {},
   "outputs": [
    {
     "name": "stdout",
     "output_type": "stream",
     "text": [
      "MainScreenAppear\n",
      "p-значение:  0.2987450335656847\n",
      "Не получилось отвергнуть нулевую гипотезу, нет оснований считать доли разными\n",
      "\n",
      "PaymentScreenSuccessful\n",
      "p-значение:  0.3903369220965023\n",
      "Не получилось отвергнуть нулевую гипотезу, нет оснований считать доли разными\n",
      "\n",
      "CartScreenAppear\n",
      "p-значение:  0.21469452387393084\n",
      "Не получилось отвергнуть нулевую гипотезу, нет оснований считать доли разными\n",
      "\n",
      "OffersScreenAppear\n",
      "p-значение:  0.32498018019986397\n",
      "Не получилось отвергнуть нулевую гипотезу, нет оснований считать доли разными\n",
      "\n"
     ]
    }
   ],
   "source": [
    "#Проверим 2 контрольную группу 247 с группой с изменным шрифтом 248\n",
    "for event_name in event_name_unique[:-1]:\n",
    "    test(gr_246, gr_248, event_name, 0.05)"
   ]
  },
  {
   "cell_type": "markdown",
   "metadata": {},
   "source": [
    "**Вывод**\n",
    "\n",
    "Значимой разницы в поведении пользователей групп 247 и 248 нет"
   ]
  },
  {
   "cell_type": "code",
   "execution_count": 42,
   "metadata": {},
   "outputs": [
    {
     "name": "stdout",
     "output_type": "stream",
     "text": [
      "MainScreenAppear\n",
      "p-значение:  0.2982116211407275\n",
      "Не получилось отвергнуть нулевую гипотезу, нет оснований считать доли разными\n",
      "\n",
      "PaymentScreenSuccessful\n",
      "p-значение:  0.7202057779473505\n",
      "Не получилось отвергнуть нулевую гипотезу, нет оснований считать доли разными\n",
      "\n",
      "CartScreenAppear\n",
      "p-значение:  0.34982490083868933\n",
      "Не получилось отвергнуть нулевую гипотезу, нет оснований считать доли разными\n",
      "\n",
      "OffersScreenAppear\n",
      "p-значение:  0.5425331263544062\n",
      "Не получилось отвергнуть нулевую гипотезу, нет оснований считать доли разными\n",
      "\n"
     ]
    }
   ],
   "source": [
    "#создадим группы \n",
    "gr_246_247 = pd.concat([gr_246, gr_247])\n",
    "\n",
    "#И проверим объедененную контрольную группу с группой с изменным шрифтом 248\n",
    "for event_name in event_name_unique[:-1]:\n",
    "    test(gr_246_247, gr_248, event_name, 0.05)"
   ]
  },
  {
   "cell_type": "markdown",
   "metadata": {},
   "source": [
    "**Какой уровень значимости мы выбрали при проверке статистических гипотез выше. Посчитаем, сколько проверок статистических гипотез вы сделали. При уровне значимости 0.1 каждый десятый раз можно получать ложный результат. Какой уровень значимости стоит применить? Если вы хотите изменить его, проделайте предыдущие пункты и проверьте свои выводы.**"
   ]
  },
  {
   "cell_type": "code",
   "execution_count": 43,
   "metadata": {},
   "outputs": [
    {
     "name": "stdout",
     "output_type": "stream",
     "text": [
      "p-value без корректировки: 0.5598733313482347\n"
     ]
    }
   ],
   "source": [
    "#убедимся, что 0.05 без корректировки нам не подходит\n",
    "p_value_cor1 = 1 - (1 - 0.05)**16\n",
    "print('p-value без корректировки:', p_value_cor1)"
   ]
  },
  {
   "cell_type": "markdown",
   "metadata": {},
   "source": [
    "**Вывод:**\n",
    "Так как полученное значение больше применяемого нами значения alpha, делаем вывод что нужна поправка уровня значимости."
   ]
  },
  {
   "cell_type": "code",
   "execution_count": 44,
   "metadata": {},
   "outputs": [
    {
     "name": "stdout",
     "output_type": "stream",
     "text": [
      "Уточненное значение alpha: 0.0032006977101884937\n"
     ]
    }
   ],
   "source": [
    "alpha_new = 1 - (1 - 0.05)**(1 / 16)\n",
    "print('Уточненное значение alpha:', alpha_new)"
   ]
  },
  {
   "cell_type": "code",
   "execution_count": 45,
   "metadata": {},
   "outputs": [
    {
     "name": "stdout",
     "output_type": "stream",
     "text": [
      "Скорректированный p-value: 0.04999999999999993\n"
     ]
    }
   ],
   "source": [
    "#Убедимся, что 0.05 с корректировкой нам подходит.\n",
    "p_value_cor2 = 1 - (1 - alpha_new)**16\n",
    "print('Скорректированный p-value:', p_value_cor2)"
   ]
  },
  {
   "cell_type": "markdown",
   "metadata": {},
   "source": [
    "**Вывод**\n",
    "\n",
    "Полученное значение хоть и очень близко к нашему значению alpha приминяемого в тестах, но все же меньше.\n",
    "Исходя из полученного результата делаем вывод, что текущий уровень значимости актуален."
   ]
  },
  {
   "cell_type": "markdown",
   "metadata": {},
   "source": [
    "### Общий Вывод"
   ]
  },
  {
   "cell_type": "markdown",
   "metadata": {},
   "source": [
    "В ходе исследования мы изучили данные о работе мобильного приложения-магазина. \n",
    "\n",
    "Данные были получены в ходе проведения эксперимента. Нулевой гипотезой было предположение, что выбранный дизайнерами шрифт не влияет на взаимодействие пользователей с приложением. Отвергнуть эту гипотезу не удалось, по-видимому, шрифт действительно не влияет на пользователей, либо новый шрифт так же удобен и читаем, как старый. \n",
    "\n",
    "**Рекомендация коллегам:**\n",
    "Наибольший скачок в воронке наблюдается между начальной страницей приложения и каталогом - этот этап не проходят почти 40% пользователей. Возможно, следует поискать проблему в этом этапе."
   ]
  }
 ],
 "metadata": {
  "ExecuteTimeLog": [
   {
    "duration": 1291,
    "start_time": "2023-09-19T09:24:41.374Z"
   },
   {
    "duration": 779,
    "start_time": "2023-09-19T09:25:26.425Z"
   },
   {
    "duration": 291,
    "start_time": "2023-09-19T09:25:53.383Z"
   },
   {
    "duration": 22,
    "start_time": "2023-09-19T09:26:17.788Z"
   },
   {
    "duration": 9,
    "start_time": "2023-09-19T09:26:23.351Z"
   },
   {
    "duration": 7,
    "start_time": "2023-09-19T09:26:43.297Z"
   },
   {
    "duration": 1177,
    "start_time": "2023-09-19T09:27:02.807Z"
   },
   {
    "duration": 173,
    "start_time": "2023-09-19T09:27:03.986Z"
   },
   {
    "duration": 22,
    "start_time": "2023-09-19T09:27:04.162Z"
   },
   {
    "duration": 33,
    "start_time": "2023-09-19T09:27:04.186Z"
   },
   {
    "duration": 7,
    "start_time": "2023-09-19T09:31:38.989Z"
   },
   {
    "duration": 11,
    "start_time": "2023-09-19T09:31:44.696Z"
   },
   {
    "duration": 7,
    "start_time": "2023-09-19T09:32:05.322Z"
   },
   {
    "duration": 95,
    "start_time": "2023-09-19T09:32:33.266Z"
   },
   {
    "duration": 15,
    "start_time": "2023-09-19T09:32:39.541Z"
   },
   {
    "duration": 7,
    "start_time": "2023-09-19T09:33:35.101Z"
   },
   {
    "duration": 58,
    "start_time": "2023-09-19T09:33:41.332Z"
   },
   {
    "duration": 8,
    "start_time": "2023-09-19T09:34:42.970Z"
   },
   {
    "duration": 1865,
    "start_time": "2023-09-19T09:34:51.581Z"
   },
   {
    "duration": 52,
    "start_time": "2023-09-19T09:35:55.890Z"
   },
   {
    "duration": 61,
    "start_time": "2023-09-19T09:37:09.876Z"
   },
   {
    "duration": 54,
    "start_time": "2023-09-19T09:37:28.169Z"
   },
   {
    "duration": 8,
    "start_time": "2023-09-19T09:39:14.831Z"
   },
   {
    "duration": 8,
    "start_time": "2023-09-19T09:40:05.866Z"
   },
   {
    "duration": 72,
    "start_time": "2023-09-19T09:40:18.789Z"
   },
   {
    "duration": 9,
    "start_time": "2023-09-19T09:40:30.910Z"
   },
   {
    "duration": 40,
    "start_time": "2023-09-19T09:40:37.586Z"
   },
   {
    "duration": 39,
    "start_time": "2023-09-19T09:41:03.019Z"
   },
   {
    "duration": 38,
    "start_time": "2023-09-19T09:42:10.177Z"
   },
   {
    "duration": 22,
    "start_time": "2023-09-19T09:42:25.147Z"
   },
   {
    "duration": 127,
    "start_time": "2023-09-19T09:42:33.065Z"
   },
   {
    "duration": 14,
    "start_time": "2023-09-19T09:42:38.016Z"
   },
   {
    "duration": 16,
    "start_time": "2023-09-19T09:42:48.272Z"
   },
   {
    "duration": 3,
    "start_time": "2023-09-19T09:48:28.140Z"
   },
   {
    "duration": 8,
    "start_time": "2023-09-19T09:48:56.168Z"
   },
   {
    "duration": 13,
    "start_time": "2023-09-19T09:49:01.479Z"
   },
   {
    "duration": 4,
    "start_time": "2023-09-19T09:51:18.276Z"
   },
   {
    "duration": 6,
    "start_time": "2023-09-19T09:51:36.300Z"
   },
   {
    "duration": 7,
    "start_time": "2023-09-19T09:51:44.173Z"
   },
   {
    "duration": 19,
    "start_time": "2023-09-19T09:53:27.607Z"
   },
   {
    "duration": 5,
    "start_time": "2023-09-19T09:56:54.623Z"
   },
   {
    "duration": 5,
    "start_time": "2023-09-19T09:57:14.496Z"
   },
   {
    "duration": 476,
    "start_time": "2023-09-19T09:57:43.858Z"
   },
   {
    "duration": 562,
    "start_time": "2023-09-19T09:57:53.727Z"
   },
   {
    "duration": 487,
    "start_time": "2023-09-19T09:58:04.763Z"
   },
   {
    "duration": 15,
    "start_time": "2023-09-19T10:01:02.118Z"
   },
   {
    "duration": 5,
    "start_time": "2023-09-19T10:01:19.728Z"
   },
   {
    "duration": 10,
    "start_time": "2023-09-19T10:01:35.285Z"
   },
   {
    "duration": 4,
    "start_time": "2023-09-19T10:01:51.915Z"
   },
   {
    "duration": 3,
    "start_time": "2023-09-19T10:02:37.957Z"
   },
   {
    "duration": 295,
    "start_time": "2023-09-19T10:04:14.645Z"
   },
   {
    "duration": 92,
    "start_time": "2023-09-19T10:04:26.821Z"
   },
   {
    "duration": 13,
    "start_time": "2023-09-19T10:05:15.099Z"
   },
   {
    "duration": 93,
    "start_time": "2023-09-19T10:06:04.139Z"
   },
   {
    "duration": 21,
    "start_time": "2023-09-19T10:06:09.601Z"
   },
   {
    "duration": 16,
    "start_time": "2023-09-19T10:07:47.970Z"
   },
   {
    "duration": 39,
    "start_time": "2023-09-19T10:17:11.932Z"
   },
   {
    "duration": 53,
    "start_time": "2023-09-19T10:20:58.988Z"
   },
   {
    "duration": 54,
    "start_time": "2023-09-19T10:21:06.968Z"
   },
   {
    "duration": 12,
    "start_time": "2023-09-19T10:21:55.332Z"
   },
   {
    "duration": 152,
    "start_time": "2023-09-19T10:28:38.443Z"
   },
   {
    "duration": 214,
    "start_time": "2023-09-19T10:34:34.134Z"
   },
   {
    "duration": 127,
    "start_time": "2023-09-19T10:34:41.561Z"
   },
   {
    "duration": 4,
    "start_time": "2023-09-19T10:35:18.104Z"
   },
   {
    "duration": 177,
    "start_time": "2023-09-19T10:38:45.728Z"
   },
   {
    "duration": 100,
    "start_time": "2023-09-19T10:38:50.766Z"
   },
   {
    "duration": 3,
    "start_time": "2023-09-19T10:39:01.776Z"
   },
   {
    "duration": 37,
    "start_time": "2023-09-19T10:44:06.645Z"
   },
   {
    "duration": 149,
    "start_time": "2023-09-19T10:46:45.362Z"
   },
   {
    "duration": 9,
    "start_time": "2023-09-19T10:47:52.775Z"
   },
   {
    "duration": 100,
    "start_time": "2023-09-19T10:48:28.899Z"
   },
   {
    "duration": 68,
    "start_time": "2023-09-19T10:50:06.519Z"
   },
   {
    "duration": 1132,
    "start_time": "2023-09-19T10:54:33.094Z"
   },
   {
    "duration": 172,
    "start_time": "2023-09-19T10:54:34.228Z"
   },
   {
    "duration": 27,
    "start_time": "2023-09-19T10:54:34.402Z"
   },
   {
    "duration": 19,
    "start_time": "2023-09-19T10:54:34.432Z"
   },
   {
    "duration": 8,
    "start_time": "2023-09-19T10:54:34.453Z"
   },
   {
    "duration": 26,
    "start_time": "2023-09-19T10:54:34.463Z"
   },
   {
    "duration": 101,
    "start_time": "2023-09-19T10:54:34.491Z"
   },
   {
    "duration": 71,
    "start_time": "2023-09-19T10:54:34.595Z"
   },
   {
    "duration": 90,
    "start_time": "2023-09-19T10:54:34.668Z"
   },
   {
    "duration": 57,
    "start_time": "2023-09-19T10:54:34.761Z"
   },
   {
    "duration": 7,
    "start_time": "2023-09-19T10:54:34.820Z"
   },
   {
    "duration": 78,
    "start_time": "2023-09-19T10:54:34.829Z"
   },
   {
    "duration": 47,
    "start_time": "2023-09-19T10:54:34.909Z"
   },
   {
    "duration": 41,
    "start_time": "2023-09-19T10:54:34.957Z"
   },
   {
    "duration": 13,
    "start_time": "2023-09-19T10:54:34.999Z"
   },
   {
    "duration": 37,
    "start_time": "2023-09-19T10:54:35.014Z"
   },
   {
    "duration": 122,
    "start_time": "2023-09-19T10:54:35.052Z"
   },
   {
    "duration": 83,
    "start_time": "2023-09-19T10:54:35.175Z"
   },
   {
    "duration": 28,
    "start_time": "2023-09-19T10:54:35.260Z"
   },
   {
    "duration": 32,
    "start_time": "2023-09-19T10:54:35.289Z"
   },
   {
    "duration": 4,
    "start_time": "2023-09-19T10:54:35.323Z"
   },
   {
    "duration": 40,
    "start_time": "2023-09-19T10:54:35.329Z"
   },
   {
    "duration": 522,
    "start_time": "2023-09-19T10:54:35.371Z"
   },
   {
    "duration": 12,
    "start_time": "2023-09-19T10:54:35.894Z"
   },
   {
    "duration": 29,
    "start_time": "2023-09-19T10:54:35.907Z"
   },
   {
    "duration": 20,
    "start_time": "2023-09-19T10:54:35.943Z"
   },
   {
    "duration": 36,
    "start_time": "2023-09-19T10:54:35.965Z"
   },
   {
    "duration": 68,
    "start_time": "2023-09-19T10:54:36.004Z"
   },
   {
    "duration": 11,
    "start_time": "2023-09-19T10:54:36.074Z"
   },
   {
    "duration": 97,
    "start_time": "2023-09-19T10:54:36.087Z"
   },
   {
    "duration": 4,
    "start_time": "2023-09-19T10:54:36.185Z"
   },
   {
    "duration": 78,
    "start_time": "2023-09-19T10:54:36.191Z"
   },
   {
    "duration": 1397,
    "start_time": "2023-09-20T11:06:00.146Z"
   },
   {
    "duration": 582,
    "start_time": "2023-09-20T11:06:01.545Z"
   },
   {
    "duration": 21,
    "start_time": "2023-09-20T11:06:02.128Z"
   },
   {
    "duration": 29,
    "start_time": "2023-09-20T11:06:02.154Z"
   },
   {
    "duration": 29,
    "start_time": "2023-09-20T11:06:02.185Z"
   },
   {
    "duration": 51,
    "start_time": "2023-09-20T11:06:02.216Z"
   },
   {
    "duration": 70,
    "start_time": "2023-09-20T11:06:02.269Z"
   },
   {
    "duration": 73,
    "start_time": "2023-09-20T11:06:02.341Z"
   },
   {
    "duration": 90,
    "start_time": "2023-09-20T11:06:02.416Z"
   },
   {
    "duration": 61,
    "start_time": "2023-09-20T11:06:02.509Z"
   },
   {
    "duration": 16,
    "start_time": "2023-09-20T11:06:02.572Z"
   },
   {
    "duration": 85,
    "start_time": "2023-09-20T11:06:02.590Z"
   },
   {
    "duration": 40,
    "start_time": "2023-09-20T11:06:02.676Z"
   },
   {
    "duration": 65,
    "start_time": "2023-09-20T11:06:02.718Z"
   },
   {
    "duration": 16,
    "start_time": "2023-09-20T11:06:02.785Z"
   },
   {
    "duration": 14,
    "start_time": "2023-09-20T11:06:02.804Z"
   },
   {
    "duration": 23,
    "start_time": "2023-09-20T11:06:02.819Z"
   },
   {
    "duration": 50,
    "start_time": "2023-09-20T11:06:02.849Z"
   },
   {
    "duration": 30,
    "start_time": "2023-09-20T11:06:02.901Z"
   },
   {
    "duration": 22,
    "start_time": "2023-09-20T11:06:02.932Z"
   },
   {
    "duration": 5,
    "start_time": "2023-09-20T11:06:02.962Z"
   },
   {
    "duration": 12,
    "start_time": "2023-09-20T11:06:02.969Z"
   },
   {
    "duration": 534,
    "start_time": "2023-09-20T11:06:02.983Z"
   },
   {
    "duration": 15,
    "start_time": "2023-09-20T11:06:03.519Z"
   },
   {
    "duration": 33,
    "start_time": "2023-09-20T11:06:03.536Z"
   },
   {
    "duration": 40,
    "start_time": "2023-09-20T11:06:03.570Z"
   },
   {
    "duration": 170,
    "start_time": "2023-09-20T11:06:03.612Z"
   },
   {
    "duration": 66,
    "start_time": "2023-09-20T11:06:03.786Z"
   },
   {
    "duration": 13,
    "start_time": "2023-09-20T11:06:03.857Z"
   },
   {
    "duration": 135,
    "start_time": "2023-09-20T11:06:03.871Z"
   },
   {
    "duration": 3,
    "start_time": "2023-09-20T11:06:04.008Z"
   },
   {
    "duration": 81,
    "start_time": "2023-09-20T11:06:04.013Z"
   },
   {
    "duration": 199,
    "start_time": "2023-09-20T11:06:04.095Z"
   },
   {
    "duration": 22,
    "start_time": "2023-09-20T11:09:04.708Z"
   },
   {
    "duration": 12,
    "start_time": "2023-09-20T11:09:32.092Z"
   },
   {
    "duration": 23,
    "start_time": "2023-09-20T11:09:53.195Z"
   },
   {
    "duration": 35,
    "start_time": "2023-09-20T11:10:24.730Z"
   },
   {
    "duration": 41,
    "start_time": "2023-09-20T11:16:13.241Z"
   },
   {
    "duration": 7,
    "start_time": "2023-09-20T11:19:44.464Z"
   },
   {
    "duration": 5,
    "start_time": "2023-09-20T11:20:29.681Z"
   },
   {
    "duration": 95,
    "start_time": "2023-09-20T11:20:58.017Z"
   },
   {
    "duration": 103,
    "start_time": "2023-09-20T11:23:02.283Z"
   },
   {
    "duration": 82,
    "start_time": "2023-09-20T11:25:08.861Z"
   },
   {
    "duration": 91,
    "start_time": "2023-09-20T11:25:34.697Z"
   },
   {
    "duration": 8,
    "start_time": "2023-09-20T11:28:00.592Z"
   },
   {
    "duration": 19,
    "start_time": "2023-09-20T11:28:07.129Z"
   },
   {
    "duration": 157,
    "start_time": "2023-09-20T11:28:17.231Z"
   },
   {
    "duration": 3,
    "start_time": "2023-09-20T11:30:34.711Z"
   },
   {
    "duration": 1061,
    "start_time": "2023-09-20T11:32:49.569Z"
   },
   {
    "duration": 164,
    "start_time": "2023-09-20T11:32:50.632Z"
   },
   {
    "duration": 21,
    "start_time": "2023-09-20T11:32:50.797Z"
   },
   {
    "duration": 32,
    "start_time": "2023-09-20T11:32:50.820Z"
   },
   {
    "duration": 34,
    "start_time": "2023-09-20T11:32:50.854Z"
   },
   {
    "duration": 41,
    "start_time": "2023-09-20T11:32:50.890Z"
   },
   {
    "duration": 73,
    "start_time": "2023-09-20T11:32:50.933Z"
   },
   {
    "duration": 59,
    "start_time": "2023-09-20T11:32:51.007Z"
   },
   {
    "duration": 83,
    "start_time": "2023-09-20T11:32:51.067Z"
   },
   {
    "duration": 53,
    "start_time": "2023-09-20T11:32:51.152Z"
   },
   {
    "duration": 9,
    "start_time": "2023-09-20T11:32:51.207Z"
   },
   {
    "duration": 101,
    "start_time": "2023-09-20T11:32:51.217Z"
   },
   {
    "duration": 37,
    "start_time": "2023-09-20T11:32:51.319Z"
   },
   {
    "duration": 58,
    "start_time": "2023-09-20T11:32:51.358Z"
   },
   {
    "duration": 38,
    "start_time": "2023-09-20T11:32:51.418Z"
   },
   {
    "duration": 23,
    "start_time": "2023-09-20T11:32:51.458Z"
   },
   {
    "duration": 28,
    "start_time": "2023-09-20T11:32:51.482Z"
   },
   {
    "duration": 35,
    "start_time": "2023-09-20T11:32:51.512Z"
   },
   {
    "duration": 24,
    "start_time": "2023-09-20T11:32:51.548Z"
   },
   {
    "duration": 32,
    "start_time": "2023-09-20T11:32:51.574Z"
   },
   {
    "duration": 9,
    "start_time": "2023-09-20T11:32:51.608Z"
   },
   {
    "duration": 24,
    "start_time": "2023-09-20T11:32:51.618Z"
   },
   {
    "duration": 481,
    "start_time": "2023-09-20T11:32:51.644Z"
   },
   {
    "duration": 30,
    "start_time": "2023-09-20T11:32:52.127Z"
   },
   {
    "duration": 55,
    "start_time": "2023-09-20T11:32:52.159Z"
   },
   {
    "duration": 61,
    "start_time": "2023-09-20T11:32:52.216Z"
   },
   {
    "duration": 101,
    "start_time": "2023-09-20T11:32:52.279Z"
   },
   {
    "duration": 88,
    "start_time": "2023-09-20T11:32:52.382Z"
   },
   {
    "duration": 10,
    "start_time": "2023-09-20T11:32:52.471Z"
   },
   {
    "duration": 147,
    "start_time": "2023-09-20T11:32:52.483Z"
   },
   {
    "duration": 2,
    "start_time": "2023-09-20T11:32:52.632Z"
   },
   {
    "duration": 84,
    "start_time": "2023-09-20T11:32:52.635Z"
   },
   {
    "duration": 224,
    "start_time": "2023-09-20T11:32:52.720Z"
   },
   {
    "duration": 28,
    "start_time": "2023-09-20T11:32:52.945Z"
   },
   {
    "duration": 27,
    "start_time": "2023-09-20T11:32:52.975Z"
   },
   {
    "duration": 52,
    "start_time": "2023-09-20T11:32:53.003Z"
   },
   {
    "duration": 19,
    "start_time": "2023-09-20T11:32:53.056Z"
   },
   {
    "duration": 143,
    "start_time": "2023-09-20T11:32:53.077Z"
   },
   {
    "duration": 85,
    "start_time": "2023-09-20T11:32:53.221Z"
   },
   {
    "duration": 83,
    "start_time": "2023-09-20T11:32:53.307Z"
   },
   {
    "duration": 131,
    "start_time": "2023-09-20T11:32:53.393Z"
   },
   {
    "duration": 1180,
    "start_time": "2023-09-20T11:45:49.671Z"
   },
   {
    "duration": 257,
    "start_time": "2023-09-20T11:45:50.854Z"
   },
   {
    "duration": 38,
    "start_time": "2023-09-20T11:45:51.113Z"
   },
   {
    "duration": 24,
    "start_time": "2023-09-20T11:45:51.153Z"
   },
   {
    "duration": 21,
    "start_time": "2023-09-20T11:45:51.180Z"
   },
   {
    "duration": 68,
    "start_time": "2023-09-20T11:45:51.203Z"
   },
   {
    "duration": 87,
    "start_time": "2023-09-20T11:45:51.274Z"
   },
   {
    "duration": 95,
    "start_time": "2023-09-20T11:45:51.363Z"
   },
   {
    "duration": 74,
    "start_time": "2023-09-20T11:45:51.460Z"
   },
   {
    "duration": 64,
    "start_time": "2023-09-20T11:45:51.536Z"
   },
   {
    "duration": 11,
    "start_time": "2023-09-20T11:45:51.602Z"
   },
   {
    "duration": 93,
    "start_time": "2023-09-20T11:45:51.615Z"
   },
   {
    "duration": 47,
    "start_time": "2023-09-20T11:45:51.710Z"
   },
   {
    "duration": 37,
    "start_time": "2023-09-20T11:45:51.760Z"
   },
   {
    "duration": 81,
    "start_time": "2023-09-20T11:45:51.799Z"
   },
   {
    "duration": 47,
    "start_time": "2023-09-20T11:45:51.882Z"
   },
   {
    "duration": 25,
    "start_time": "2023-09-20T11:45:51.931Z"
   },
   {
    "duration": 64,
    "start_time": "2023-09-20T11:45:51.958Z"
   },
   {
    "duration": 38,
    "start_time": "2023-09-20T11:45:52.024Z"
   },
   {
    "duration": 56,
    "start_time": "2023-09-20T11:45:52.064Z"
   },
   {
    "duration": 5,
    "start_time": "2023-09-20T11:45:52.122Z"
   },
   {
    "duration": 38,
    "start_time": "2023-09-20T11:45:52.129Z"
   },
   {
    "duration": 573,
    "start_time": "2023-09-20T11:45:52.169Z"
   },
   {
    "duration": 20,
    "start_time": "2023-09-20T11:45:52.756Z"
   },
   {
    "duration": 27,
    "start_time": "2023-09-20T11:45:52.780Z"
   },
   {
    "duration": 43,
    "start_time": "2023-09-20T11:45:52.809Z"
   },
   {
    "duration": 83,
    "start_time": "2023-09-20T11:45:52.854Z"
   },
   {
    "duration": 58,
    "start_time": "2023-09-20T11:45:52.939Z"
   },
   {
    "duration": 30,
    "start_time": "2023-09-20T11:45:52.998Z"
   },
   {
    "duration": 113,
    "start_time": "2023-09-20T11:45:53.030Z"
   },
   {
    "duration": 4,
    "start_time": "2023-09-20T11:45:53.145Z"
   },
   {
    "duration": 59,
    "start_time": "2023-09-20T11:45:53.151Z"
   },
   {
    "duration": 183,
    "start_time": "2023-09-20T11:45:53.212Z"
   },
   {
    "duration": 22,
    "start_time": "2023-09-20T11:45:53.397Z"
   },
   {
    "duration": 51,
    "start_time": "2023-09-20T11:45:53.421Z"
   },
   {
    "duration": 50,
    "start_time": "2023-09-20T11:45:53.473Z"
   },
   {
    "duration": 19,
    "start_time": "2023-09-20T11:45:53.525Z"
   },
   {
    "duration": 134,
    "start_time": "2023-09-20T11:45:53.546Z"
   },
   {
    "duration": 97,
    "start_time": "2023-09-20T11:45:53.682Z"
   },
   {
    "duration": 103,
    "start_time": "2023-09-20T11:45:53.781Z"
   },
   {
    "duration": 134,
    "start_time": "2023-09-20T11:45:53.887Z"
   },
   {
    "duration": 1299,
    "start_time": "2023-09-20T16:03:43.102Z"
   },
   {
    "duration": 693,
    "start_time": "2023-09-20T16:03:44.403Z"
   },
   {
    "duration": 22,
    "start_time": "2023-09-20T16:03:45.098Z"
   },
   {
    "duration": 12,
    "start_time": "2023-09-20T16:03:45.122Z"
   },
   {
    "duration": 7,
    "start_time": "2023-09-20T16:03:45.135Z"
   },
   {
    "duration": 24,
    "start_time": "2023-09-20T16:03:45.144Z"
   },
   {
    "duration": 61,
    "start_time": "2023-09-20T16:03:45.170Z"
   },
   {
    "duration": 62,
    "start_time": "2023-09-20T16:03:45.233Z"
   },
   {
    "duration": 79,
    "start_time": "2023-09-20T16:03:45.297Z"
   },
   {
    "duration": 51,
    "start_time": "2023-09-20T16:03:45.378Z"
   },
   {
    "duration": 18,
    "start_time": "2023-09-20T16:03:45.430Z"
   },
   {
    "duration": 66,
    "start_time": "2023-09-20T16:03:45.449Z"
   },
   {
    "duration": 44,
    "start_time": "2023-09-20T16:03:45.517Z"
   },
   {
    "duration": 40,
    "start_time": "2023-09-20T16:03:45.562Z"
   },
   {
    "duration": 14,
    "start_time": "2023-09-20T16:03:45.603Z"
   },
   {
    "duration": 35,
    "start_time": "2023-09-20T16:03:45.618Z"
   },
   {
    "duration": 13,
    "start_time": "2023-09-20T16:03:45.654Z"
   },
   {
    "duration": 11,
    "start_time": "2023-09-20T16:03:45.669Z"
   },
   {
    "duration": 12,
    "start_time": "2023-09-20T16:03:45.681Z"
   },
   {
    "duration": 21,
    "start_time": "2023-09-20T16:03:45.694Z"
   },
   {
    "duration": 27,
    "start_time": "2023-09-20T16:03:45.717Z"
   },
   {
    "duration": 3,
    "start_time": "2023-09-20T16:03:45.746Z"
   },
   {
    "duration": 498,
    "start_time": "2023-09-20T16:03:45.750Z"
   },
   {
    "duration": 17,
    "start_time": "2023-09-20T16:03:46.249Z"
   },
   {
    "duration": 21,
    "start_time": "2023-09-20T16:03:46.268Z"
   },
   {
    "duration": 13,
    "start_time": "2023-09-20T16:03:46.291Z"
   },
   {
    "duration": 65,
    "start_time": "2023-09-20T16:03:46.306Z"
   },
   {
    "duration": 53,
    "start_time": "2023-09-20T16:03:46.374Z"
   },
   {
    "duration": 22,
    "start_time": "2023-09-20T16:03:46.428Z"
   },
   {
    "duration": 77,
    "start_time": "2023-09-20T16:03:46.452Z"
   },
   {
    "duration": 14,
    "start_time": "2023-09-20T16:03:46.531Z"
   },
   {
    "duration": 36,
    "start_time": "2023-09-20T16:03:46.547Z"
   },
   {
    "duration": 187,
    "start_time": "2023-09-20T16:03:46.585Z"
   },
   {
    "duration": 22,
    "start_time": "2023-09-20T16:03:46.773Z"
   },
   {
    "duration": 25,
    "start_time": "2023-09-20T16:03:46.797Z"
   },
   {
    "duration": 39,
    "start_time": "2023-09-20T16:03:46.823Z"
   },
   {
    "duration": 12,
    "start_time": "2023-09-20T16:03:46.863Z"
   },
   {
    "duration": 106,
    "start_time": "2023-09-20T16:03:46.877Z"
   },
   {
    "duration": 97,
    "start_time": "2023-09-20T16:03:46.985Z"
   },
   {
    "duration": 89,
    "start_time": "2023-09-20T16:03:47.083Z"
   },
   {
    "duration": 128,
    "start_time": "2023-09-20T16:03:47.174Z"
   },
   {
    "duration": 1224,
    "start_time": "2023-09-20T18:37:23.726Z"
   },
   {
    "duration": 185,
    "start_time": "2023-09-20T18:37:24.952Z"
   },
   {
    "duration": 23,
    "start_time": "2023-09-20T18:37:25.139Z"
   },
   {
    "duration": 23,
    "start_time": "2023-09-20T18:37:25.164Z"
   },
   {
    "duration": 40,
    "start_time": "2023-09-20T18:37:25.190Z"
   },
   {
    "duration": 48,
    "start_time": "2023-09-20T18:37:25.232Z"
   },
   {
    "duration": 89,
    "start_time": "2023-09-20T18:37:25.282Z"
   },
   {
    "duration": 74,
    "start_time": "2023-09-20T18:37:25.374Z"
   },
   {
    "duration": 90,
    "start_time": "2023-09-20T18:37:25.450Z"
   },
   {
    "duration": 68,
    "start_time": "2023-09-20T18:37:25.542Z"
   },
   {
    "duration": 8,
    "start_time": "2023-09-20T18:37:25.612Z"
   },
   {
    "duration": 91,
    "start_time": "2023-09-20T18:37:25.622Z"
   },
   {
    "duration": 44,
    "start_time": "2023-09-20T18:37:25.715Z"
   },
   {
    "duration": 58,
    "start_time": "2023-09-20T18:37:25.762Z"
   },
   {
    "duration": 16,
    "start_time": "2023-09-20T18:37:25.821Z"
   },
   {
    "duration": 35,
    "start_time": "2023-09-20T18:37:25.839Z"
   },
   {
    "duration": 25,
    "start_time": "2023-09-20T18:37:25.875Z"
   },
   {
    "duration": 26,
    "start_time": "2023-09-20T18:37:25.901Z"
   },
   {
    "duration": 17,
    "start_time": "2023-09-20T18:37:25.929Z"
   },
   {
    "duration": 35,
    "start_time": "2023-09-20T18:37:25.948Z"
   },
   {
    "duration": 23,
    "start_time": "2023-09-20T18:37:25.984Z"
   },
   {
    "duration": 17,
    "start_time": "2023-09-20T18:37:26.009Z"
   },
   {
    "duration": 550,
    "start_time": "2023-09-20T18:37:26.027Z"
   },
   {
    "duration": 29,
    "start_time": "2023-09-20T18:37:26.580Z"
   },
   {
    "duration": 26,
    "start_time": "2023-09-20T18:37:26.611Z"
   },
   {
    "duration": 18,
    "start_time": "2023-09-20T18:37:26.639Z"
   },
   {
    "duration": 72,
    "start_time": "2023-09-20T18:37:26.659Z"
   },
   {
    "duration": 60,
    "start_time": "2023-09-20T18:37:26.734Z"
   },
   {
    "duration": 25,
    "start_time": "2023-09-20T18:37:26.795Z"
   },
   {
    "duration": 105,
    "start_time": "2023-09-20T18:37:26.822Z"
   },
   {
    "duration": 4,
    "start_time": "2023-09-20T18:37:26.929Z"
   },
   {
    "duration": 56,
    "start_time": "2023-09-20T18:37:26.934Z"
   },
   {
    "duration": 215,
    "start_time": "2023-09-20T18:37:26.992Z"
   },
   {
    "duration": 28,
    "start_time": "2023-09-20T18:37:27.210Z"
   },
   {
    "duration": 33,
    "start_time": "2023-09-20T18:37:27.240Z"
   },
   {
    "duration": 46,
    "start_time": "2023-09-20T18:37:27.275Z"
   },
   {
    "duration": 6,
    "start_time": "2023-09-20T18:37:27.323Z"
   },
   {
    "duration": 133,
    "start_time": "2023-09-20T18:37:27.330Z"
   },
   {
    "duration": 109,
    "start_time": "2023-09-20T18:37:27.464Z"
   },
   {
    "duration": 107,
    "start_time": "2023-09-20T18:37:27.575Z"
   },
   {
    "duration": 168,
    "start_time": "2023-09-20T18:37:27.686Z"
   },
   {
    "duration": 1424,
    "start_time": "2023-09-20T18:38:31.018Z"
   },
   {
    "duration": 227,
    "start_time": "2023-09-20T18:38:32.444Z"
   },
   {
    "duration": 29,
    "start_time": "2023-09-20T18:38:32.673Z"
   },
   {
    "duration": 17,
    "start_time": "2023-09-20T18:38:32.711Z"
   },
   {
    "duration": 10,
    "start_time": "2023-09-20T18:38:32.731Z"
   },
   {
    "duration": 28,
    "start_time": "2023-09-20T18:38:32.743Z"
   },
   {
    "duration": 108,
    "start_time": "2023-09-20T18:38:32.774Z"
   },
   {
    "duration": 79,
    "start_time": "2023-09-20T18:38:32.884Z"
   },
   {
    "duration": 100,
    "start_time": "2023-09-20T18:38:32.965Z"
   },
   {
    "duration": 71,
    "start_time": "2023-09-20T18:38:33.068Z"
   },
   {
    "duration": 9,
    "start_time": "2023-09-20T18:38:33.140Z"
   },
   {
    "duration": 90,
    "start_time": "2023-09-20T18:38:33.151Z"
   },
   {
    "duration": 44,
    "start_time": "2023-09-20T18:38:33.243Z"
   },
   {
    "duration": 60,
    "start_time": "2023-09-20T18:38:33.289Z"
   },
   {
    "duration": 18,
    "start_time": "2023-09-20T18:38:33.351Z"
   },
   {
    "duration": 40,
    "start_time": "2023-09-20T18:38:33.371Z"
   },
   {
    "duration": 19,
    "start_time": "2023-09-20T18:38:33.412Z"
   },
   {
    "duration": 15,
    "start_time": "2023-09-20T18:38:33.433Z"
   },
   {
    "duration": 10,
    "start_time": "2023-09-20T18:38:33.450Z"
   },
   {
    "duration": 52,
    "start_time": "2023-09-20T18:38:33.462Z"
   },
   {
    "duration": 5,
    "start_time": "2023-09-20T18:38:33.515Z"
   },
   {
    "duration": 6,
    "start_time": "2023-09-20T18:38:33.522Z"
   },
   {
    "duration": 611,
    "start_time": "2023-09-20T18:38:33.530Z"
   },
   {
    "duration": 19,
    "start_time": "2023-09-20T18:38:34.143Z"
   },
   {
    "duration": 26,
    "start_time": "2023-09-20T18:38:34.164Z"
   },
   {
    "duration": 19,
    "start_time": "2023-09-20T18:38:34.209Z"
   },
   {
    "duration": 44,
    "start_time": "2023-09-20T18:38:34.230Z"
   },
   {
    "duration": 83,
    "start_time": "2023-09-20T18:38:34.277Z"
   },
   {
    "duration": 13,
    "start_time": "2023-09-20T18:38:34.362Z"
   },
   {
    "duration": 114,
    "start_time": "2023-09-20T18:38:34.376Z"
   },
   {
    "duration": 4,
    "start_time": "2023-09-20T18:38:34.491Z"
   },
   {
    "duration": 53,
    "start_time": "2023-09-20T18:38:34.496Z"
   },
   {
    "duration": 233,
    "start_time": "2023-09-20T18:38:34.551Z"
   },
   {
    "duration": 35,
    "start_time": "2023-09-20T18:38:34.786Z"
   },
   {
    "duration": 33,
    "start_time": "2023-09-20T18:38:34.823Z"
   },
   {
    "duration": 62,
    "start_time": "2023-09-20T18:38:34.858Z"
   },
   {
    "duration": 9,
    "start_time": "2023-09-20T18:38:34.923Z"
   },
   {
    "duration": 129,
    "start_time": "2023-09-20T18:38:34.934Z"
   },
   {
    "duration": 113,
    "start_time": "2023-09-20T18:38:35.065Z"
   },
   {
    "duration": 112,
    "start_time": "2023-09-20T18:38:35.179Z"
   },
   {
    "duration": 173,
    "start_time": "2023-09-20T18:38:35.294Z"
   },
   {
    "duration": 1507,
    "start_time": "2023-09-22T05:43:57.791Z"
   },
   {
    "duration": 765,
    "start_time": "2023-09-22T05:43:59.301Z"
   },
   {
    "duration": 28,
    "start_time": "2023-09-22T05:44:00.067Z"
   },
   {
    "duration": 23,
    "start_time": "2023-09-22T05:44:00.105Z"
   },
   {
    "duration": 22,
    "start_time": "2023-09-22T05:44:00.132Z"
   },
   {
    "duration": 48,
    "start_time": "2023-09-22T05:44:00.156Z"
   },
   {
    "duration": 94,
    "start_time": "2023-09-22T05:44:00.206Z"
   },
   {
    "duration": 71,
    "start_time": "2023-09-22T05:44:00.302Z"
   },
   {
    "duration": 90,
    "start_time": "2023-09-22T05:44:00.376Z"
   },
   {
    "duration": 62,
    "start_time": "2023-09-22T05:44:00.468Z"
   },
   {
    "duration": 31,
    "start_time": "2023-09-22T05:44:00.532Z"
   },
   {
    "duration": 172,
    "start_time": "2023-09-22T05:44:00.566Z"
   },
   {
    "duration": 42,
    "start_time": "2023-09-22T05:44:00.741Z"
   },
   {
    "duration": 96,
    "start_time": "2023-09-22T05:44:00.787Z"
   },
   {
    "duration": 116,
    "start_time": "2023-09-22T05:44:00.885Z"
   },
   {
    "duration": 82,
    "start_time": "2023-09-22T05:44:01.003Z"
   },
   {
    "duration": 68,
    "start_time": "2023-09-22T05:44:01.088Z"
   },
   {
    "duration": 87,
    "start_time": "2023-09-22T05:44:01.158Z"
   },
   {
    "duration": 70,
    "start_time": "2023-09-22T05:44:01.247Z"
   },
   {
    "duration": 82,
    "start_time": "2023-09-22T05:44:01.320Z"
   },
   {
    "duration": 40,
    "start_time": "2023-09-22T05:44:01.404Z"
   },
   {
    "duration": 43,
    "start_time": "2023-09-22T05:44:01.447Z"
   },
   {
    "duration": 651,
    "start_time": "2023-09-22T05:44:01.493Z"
   },
   {
    "duration": 31,
    "start_time": "2023-09-22T05:44:02.146Z"
   },
   {
    "duration": 34,
    "start_time": "2023-09-22T05:44:02.179Z"
   },
   {
    "duration": 18,
    "start_time": "2023-09-22T05:44:02.215Z"
   },
   {
    "duration": 100,
    "start_time": "2023-09-22T05:44:02.235Z"
   },
   {
    "duration": 72,
    "start_time": "2023-09-22T05:44:02.337Z"
   },
   {
    "duration": 16,
    "start_time": "2023-09-22T05:44:02.410Z"
   },
   {
    "duration": 109,
    "start_time": "2023-09-22T05:44:02.428Z"
   },
   {
    "duration": 3,
    "start_time": "2023-09-22T05:44:02.539Z"
   },
   {
    "duration": 62,
    "start_time": "2023-09-22T05:44:02.544Z"
   },
   {
    "duration": 229,
    "start_time": "2023-09-22T05:44:02.607Z"
   },
   {
    "duration": 42,
    "start_time": "2023-09-22T05:44:02.837Z"
   },
   {
    "duration": 30,
    "start_time": "2023-09-22T05:44:02.881Z"
   },
   {
    "duration": 44,
    "start_time": "2023-09-22T05:44:02.913Z"
   },
   {
    "duration": 6,
    "start_time": "2023-09-22T05:44:02.960Z"
   },
   {
    "duration": 136,
    "start_time": "2023-09-22T05:44:02.968Z"
   },
   {
    "duration": 107,
    "start_time": "2023-09-22T05:44:03.106Z"
   },
   {
    "duration": 105,
    "start_time": "2023-09-22T05:44:03.215Z"
   },
   {
    "duration": 160,
    "start_time": "2023-09-22T05:44:03.323Z"
   },
   {
    "duration": 6,
    "start_time": "2023-09-22T05:47:20.798Z"
   },
   {
    "duration": 4,
    "start_time": "2023-09-22T05:49:02.534Z"
   },
   {
    "duration": 13,
    "start_time": "2023-09-22T05:49:23.581Z"
   },
   {
    "duration": 4,
    "start_time": "2023-09-22T05:49:30.750Z"
   },
   {
    "duration": 6,
    "start_time": "2023-09-22T05:49:39.151Z"
   },
   {
    "duration": 4,
    "start_time": "2023-09-22T05:50:04.550Z"
   },
   {
    "duration": 113,
    "start_time": "2023-09-22T05:50:16.639Z"
   },
   {
    "duration": 10,
    "start_time": "2023-09-22T05:50:22.760Z"
   },
   {
    "duration": 9,
    "start_time": "2023-09-22T05:50:29.600Z"
   },
   {
    "duration": 139,
    "start_time": "2023-09-22T05:50:44.209Z"
   },
   {
    "duration": 7,
    "start_time": "2023-09-22T05:50:52.656Z"
   },
   {
    "duration": 34,
    "start_time": "2023-09-22T05:51:45.557Z"
   },
   {
    "duration": 35,
    "start_time": "2023-09-22T05:52:22.902Z"
   },
   {
    "duration": 34,
    "start_time": "2023-09-22T05:52:32.708Z"
   },
   {
    "duration": 100,
    "start_time": "2023-09-22T05:53:01.437Z"
   },
   {
    "duration": 36,
    "start_time": "2023-09-22T05:56:03.744Z"
   },
   {
    "duration": 32,
    "start_time": "2023-09-22T05:56:20.072Z"
   },
   {
    "duration": 100,
    "start_time": "2023-09-22T05:56:48.340Z"
   },
   {
    "duration": 6,
    "start_time": "2023-09-22T06:03:47.462Z"
   },
   {
    "duration": 129,
    "start_time": "2023-09-22T06:03:58.722Z"
   },
   {
    "duration": 11,
    "start_time": "2023-09-22T06:04:06.783Z"
   },
   {
    "duration": 105,
    "start_time": "2023-09-22T06:04:11.530Z"
   },
   {
    "duration": 108,
    "start_time": "2023-09-22T06:04:16.776Z"
   },
   {
    "duration": 159,
    "start_time": "2023-09-22T06:04:23.126Z"
   },
   {
    "duration": 1373,
    "start_time": "2023-09-23T06:00:27.318Z"
   },
   {
    "duration": 532,
    "start_time": "2023-09-23T06:00:28.693Z"
   },
   {
    "duration": 24,
    "start_time": "2023-09-23T06:00:29.226Z"
   },
   {
    "duration": 11,
    "start_time": "2023-09-23T06:00:29.252Z"
   },
   {
    "duration": 7,
    "start_time": "2023-09-23T06:00:29.264Z"
   },
   {
    "duration": 19,
    "start_time": "2023-09-23T06:00:29.273Z"
   },
   {
    "duration": 95,
    "start_time": "2023-09-23T06:00:29.293Z"
   },
   {
    "duration": 72,
    "start_time": "2023-09-23T06:00:29.389Z"
   },
   {
    "duration": 88,
    "start_time": "2023-09-23T06:00:29.463Z"
   },
   {
    "duration": 72,
    "start_time": "2023-09-23T06:00:29.553Z"
   },
   {
    "duration": 9,
    "start_time": "2023-09-23T06:00:29.626Z"
   },
   {
    "duration": 88,
    "start_time": "2023-09-23T06:00:29.636Z"
   },
   {
    "duration": 39,
    "start_time": "2023-09-23T06:00:29.726Z"
   },
   {
    "duration": 62,
    "start_time": "2023-09-23T06:00:29.766Z"
   },
   {
    "duration": 15,
    "start_time": "2023-09-23T06:00:29.830Z"
   },
   {
    "duration": 22,
    "start_time": "2023-09-23T06:00:29.847Z"
   },
   {
    "duration": 14,
    "start_time": "2023-09-23T06:00:29.871Z"
   },
   {
    "duration": 40,
    "start_time": "2023-09-23T06:00:29.886Z"
   },
   {
    "duration": 13,
    "start_time": "2023-09-23T06:00:29.928Z"
   },
   {
    "duration": 14,
    "start_time": "2023-09-23T06:00:29.942Z"
   },
   {
    "duration": 66,
    "start_time": "2023-09-23T06:00:29.957Z"
   },
   {
    "duration": 4,
    "start_time": "2023-09-23T06:00:30.025Z"
   },
   {
    "duration": 64,
    "start_time": "2023-09-23T06:00:30.031Z"
   },
   {
    "duration": 585,
    "start_time": "2023-09-23T06:00:30.097Z"
   },
   {
    "duration": 18,
    "start_time": "2023-09-23T06:00:30.684Z"
   },
   {
    "duration": 138,
    "start_time": "2023-09-23T06:00:30.703Z"
   },
   {
    "duration": 78,
    "start_time": "2023-09-23T06:00:30.842Z"
   },
   {
    "duration": 143,
    "start_time": "2023-09-23T06:00:30.924Z"
   },
   {
    "duration": 80,
    "start_time": "2023-09-23T06:00:31.068Z"
   },
   {
    "duration": 12,
    "start_time": "2023-09-23T06:00:31.150Z"
   },
   {
    "duration": 127,
    "start_time": "2023-09-23T06:00:31.163Z"
   },
   {
    "duration": 90,
    "start_time": "2023-09-23T06:00:31.291Z"
   },
   {
    "duration": 158,
    "start_time": "2023-09-23T06:00:31.383Z"
   },
   {
    "duration": 246,
    "start_time": "2023-09-23T06:00:31.543Z"
   },
   {
    "duration": 40,
    "start_time": "2023-09-23T06:00:31.791Z"
   },
   {
    "duration": 75,
    "start_time": "2023-09-23T06:00:31.833Z"
   },
   {
    "duration": 31,
    "start_time": "2023-09-23T06:00:31.910Z"
   },
   {
    "duration": 21,
    "start_time": "2023-09-23T06:00:31.942Z"
   },
   {
    "duration": 230,
    "start_time": "2023-09-23T06:00:31.965Z"
   },
   {
    "duration": 4,
    "start_time": "2023-09-23T06:01:27.385Z"
   },
   {
    "duration": 5,
    "start_time": "2023-09-23T06:01:32.343Z"
   },
   {
    "duration": 69,
    "start_time": "2023-09-24T15:21:53.274Z"
   },
   {
    "duration": 1683,
    "start_time": "2023-09-24T15:22:01.564Z"
   },
   {
    "duration": 797,
    "start_time": "2023-09-24T15:22:03.249Z"
   },
   {
    "duration": 29,
    "start_time": "2023-09-24T15:22:04.047Z"
   },
   {
    "duration": 36,
    "start_time": "2023-09-24T15:22:04.078Z"
   },
   {
    "duration": 31,
    "start_time": "2023-09-24T15:22:04.120Z"
   },
   {
    "duration": 44,
    "start_time": "2023-09-24T15:22:04.153Z"
   },
   {
    "duration": 126,
    "start_time": "2023-09-24T15:22:04.199Z"
   },
   {
    "duration": 109,
    "start_time": "2023-09-24T15:22:04.327Z"
   },
   {
    "duration": 113,
    "start_time": "2023-09-24T15:22:04.441Z"
   },
   {
    "duration": 97,
    "start_time": "2023-09-24T15:22:04.560Z"
   },
   {
    "duration": 12,
    "start_time": "2023-09-24T15:22:04.659Z"
   },
   {
    "duration": 147,
    "start_time": "2023-09-24T15:22:04.673Z"
   },
   {
    "duration": 64,
    "start_time": "2023-09-24T15:22:04.826Z"
   },
   {
    "duration": 66,
    "start_time": "2023-09-24T15:22:04.900Z"
   },
   {
    "duration": 48,
    "start_time": "2023-09-24T15:22:04.969Z"
   },
   {
    "duration": 28,
    "start_time": "2023-09-24T15:22:05.034Z"
   },
   {
    "duration": 17,
    "start_time": "2023-09-24T15:22:05.064Z"
   },
   {
    "duration": 42,
    "start_time": "2023-09-24T15:22:05.083Z"
   },
   {
    "duration": 25,
    "start_time": "2023-09-24T15:22:05.127Z"
   },
   {
    "duration": 25,
    "start_time": "2023-09-24T15:22:05.155Z"
   },
   {
    "duration": 95,
    "start_time": "2023-09-24T15:22:05.182Z"
   },
   {
    "duration": 5,
    "start_time": "2023-09-24T15:22:05.279Z"
   },
   {
    "duration": 36,
    "start_time": "2023-09-24T15:22:05.286Z"
   },
   {
    "duration": 688,
    "start_time": "2023-09-24T15:22:05.330Z"
   },
   {
    "duration": 25,
    "start_time": "2023-09-24T15:22:06.020Z"
   },
   {
    "duration": 33,
    "start_time": "2023-09-24T15:22:06.047Z"
   },
   {
    "duration": 72,
    "start_time": "2023-09-24T15:22:06.082Z"
   },
   {
    "duration": 61,
    "start_time": "2023-09-24T15:22:06.156Z"
   },
   {
    "duration": 105,
    "start_time": "2023-09-24T15:22:06.219Z"
   },
   {
    "duration": 18,
    "start_time": "2023-09-24T15:22:06.326Z"
   },
   {
    "duration": 114,
    "start_time": "2023-09-24T15:22:06.346Z"
   },
   {
    "duration": 5,
    "start_time": "2023-09-24T15:22:06.462Z"
   },
   {
    "duration": 79,
    "start_time": "2023-09-24T15:22:06.468Z"
   },
   {
    "duration": 304,
    "start_time": "2023-09-24T15:22:06.550Z"
   },
   {
    "duration": 59,
    "start_time": "2023-09-24T15:22:06.857Z"
   },
   {
    "duration": 49,
    "start_time": "2023-09-24T15:22:06.919Z"
   },
   {
    "duration": 44,
    "start_time": "2023-09-24T15:22:06.971Z"
   },
   {
    "duration": 103,
    "start_time": "2023-09-24T15:22:07.021Z"
   },
   {
    "duration": 141,
    "start_time": "2023-09-24T15:22:07.131Z"
   },
   {
    "duration": 111,
    "start_time": "2023-09-24T15:22:07.274Z"
   },
   {
    "duration": 132,
    "start_time": "2023-09-24T15:22:07.389Z"
   },
   {
    "duration": 220,
    "start_time": "2023-09-24T15:22:07.523Z"
   },
   {
    "duration": 111,
    "start_time": "2023-09-24T15:22:22.320Z"
   },
   {
    "duration": 180,
    "start_time": "2023-09-24T15:22:27.992Z"
   },
   {
    "duration": 136,
    "start_time": "2023-09-24T15:22:55.241Z"
   },
   {
    "duration": 97,
    "start_time": "2023-09-24T15:45:50.049Z"
   },
   {
    "duration": 3,
    "start_time": "2023-09-24T15:45:59.032Z"
   },
   {
    "duration": 19,
    "start_time": "2023-09-24T15:46:06.624Z"
   },
   {
    "duration": 4,
    "start_time": "2023-09-24T15:46:14.932Z"
   },
   {
    "duration": 14,
    "start_time": "2023-09-25T08:08:48.269Z"
   },
   {
    "duration": 1430,
    "start_time": "2023-09-25T08:21:03.860Z"
   },
   {
    "duration": 1480,
    "start_time": "2023-09-25T08:21:05.292Z"
   },
   {
    "duration": 24,
    "start_time": "2023-09-25T08:21:06.774Z"
   },
   {
    "duration": 10,
    "start_time": "2023-09-25T08:21:06.800Z"
   },
   {
    "duration": 10,
    "start_time": "2023-09-25T08:21:06.811Z"
   },
   {
    "duration": 15,
    "start_time": "2023-09-25T08:21:06.822Z"
   },
   {
    "duration": 71,
    "start_time": "2023-09-25T08:21:06.839Z"
   },
   {
    "duration": 73,
    "start_time": "2023-09-25T08:21:06.912Z"
   },
   {
    "duration": 91,
    "start_time": "2023-09-25T08:21:06.987Z"
   },
   {
    "duration": 54,
    "start_time": "2023-09-25T08:21:07.081Z"
   },
   {
    "duration": 23,
    "start_time": "2023-09-25T08:21:07.136Z"
   },
   {
    "duration": 65,
    "start_time": "2023-09-25T08:21:07.162Z"
   },
   {
    "duration": 73,
    "start_time": "2023-09-25T08:21:07.229Z"
   },
   {
    "duration": 43,
    "start_time": "2023-09-25T08:21:07.303Z"
   },
   {
    "duration": 20,
    "start_time": "2023-09-25T08:21:07.350Z"
   },
   {
    "duration": 16,
    "start_time": "2023-09-25T08:21:07.372Z"
   },
   {
    "duration": 15,
    "start_time": "2023-09-25T08:21:07.389Z"
   },
   {
    "duration": 12,
    "start_time": "2023-09-25T08:21:07.405Z"
   },
   {
    "duration": 37,
    "start_time": "2023-09-25T08:21:07.419Z"
   },
   {
    "duration": 5,
    "start_time": "2023-09-25T08:21:07.461Z"
   },
   {
    "duration": 28,
    "start_time": "2023-09-25T08:21:07.467Z"
   },
   {
    "duration": 4,
    "start_time": "2023-09-25T08:21:07.497Z"
   },
   {
    "duration": 11,
    "start_time": "2023-09-25T08:21:07.502Z"
   },
   {
    "duration": 553,
    "start_time": "2023-09-25T08:21:07.515Z"
   },
   {
    "duration": 11,
    "start_time": "2023-09-25T08:21:08.070Z"
   },
   {
    "duration": 21,
    "start_time": "2023-09-25T08:21:08.082Z"
   },
   {
    "duration": 49,
    "start_time": "2023-09-25T08:21:08.105Z"
   },
   {
    "duration": 41,
    "start_time": "2023-09-25T08:21:08.162Z"
   },
   {
    "duration": 79,
    "start_time": "2023-09-25T08:21:08.205Z"
   },
   {
    "duration": 10,
    "start_time": "2023-09-25T08:21:08.285Z"
   },
   {
    "duration": 101,
    "start_time": "2023-09-25T08:21:08.297Z"
   },
   {
    "duration": 3,
    "start_time": "2023-09-25T08:21:08.400Z"
   },
   {
    "duration": 50,
    "start_time": "2023-09-25T08:21:08.405Z"
   },
   {
    "duration": 210,
    "start_time": "2023-09-25T08:21:08.459Z"
   },
   {
    "duration": 25,
    "start_time": "2023-09-25T08:21:08.670Z"
   },
   {
    "duration": 26,
    "start_time": "2023-09-25T08:21:08.697Z"
   },
   {
    "duration": 49,
    "start_time": "2023-09-25T08:21:08.724Z"
   },
   {
    "duration": 6,
    "start_time": "2023-09-25T08:21:08.774Z"
   },
   {
    "duration": 109,
    "start_time": "2023-09-25T08:21:08.781Z"
   },
   {
    "duration": 90,
    "start_time": "2023-09-25T08:21:08.892Z"
   },
   {
    "duration": 94,
    "start_time": "2023-09-25T08:21:08.984Z"
   },
   {
    "duration": 130,
    "start_time": "2023-09-25T08:21:09.079Z"
   },
   {
    "duration": 5,
    "start_time": "2023-09-25T08:21:09.210Z"
   },
   {
    "duration": 7,
    "start_time": "2023-09-25T08:21:09.216Z"
   },
   {
    "duration": 7,
    "start_time": "2023-09-25T08:21:54.044Z"
   },
   {
    "duration": 4,
    "start_time": "2023-09-25T08:22:17.986Z"
   },
   {
    "duration": 4,
    "start_time": "2023-09-25T08:22:45.561Z"
   },
   {
    "duration": 3,
    "start_time": "2023-09-25T08:26:15.232Z"
   },
   {
    "duration": 4,
    "start_time": "2023-09-25T08:26:27.743Z"
   },
   {
    "duration": 3,
    "start_time": "2023-09-25T08:26:41.909Z"
   },
   {
    "duration": 4,
    "start_time": "2023-09-25T08:27:14.540Z"
   },
   {
    "duration": 5,
    "start_time": "2023-09-25T08:27:42.211Z"
   },
   {
    "duration": 3,
    "start_time": "2023-09-25T08:28:46.043Z"
   },
   {
    "duration": 4,
    "start_time": "2023-09-25T08:30:28.282Z"
   },
   {
    "duration": 99,
    "start_time": "2023-09-25T08:36:07.450Z"
   },
   {
    "duration": 1243,
    "start_time": "2023-09-25T08:36:22.549Z"
   },
   {
    "duration": 167,
    "start_time": "2023-09-25T08:36:23.794Z"
   },
   {
    "duration": 23,
    "start_time": "2023-09-25T08:36:23.963Z"
   },
   {
    "duration": 20,
    "start_time": "2023-09-25T08:36:23.989Z"
   },
   {
    "duration": 11,
    "start_time": "2023-09-25T08:36:24.018Z"
   },
   {
    "duration": 32,
    "start_time": "2023-09-25T08:36:24.031Z"
   },
   {
    "duration": 102,
    "start_time": "2023-09-25T08:36:24.065Z"
   },
   {
    "duration": 95,
    "start_time": "2023-09-25T08:36:24.170Z"
   },
   {
    "duration": 116,
    "start_time": "2023-09-25T08:36:24.267Z"
   },
   {
    "duration": 85,
    "start_time": "2023-09-25T08:36:24.386Z"
   },
   {
    "duration": 8,
    "start_time": "2023-09-25T08:36:24.473Z"
   },
   {
    "duration": 97,
    "start_time": "2023-09-25T08:36:24.484Z"
   },
   {
    "duration": 74,
    "start_time": "2023-09-25T08:36:24.583Z"
   },
   {
    "duration": 57,
    "start_time": "2023-09-25T08:36:24.659Z"
   },
   {
    "duration": 33,
    "start_time": "2023-09-25T08:36:24.717Z"
   },
   {
    "duration": 14,
    "start_time": "2023-09-25T08:36:24.752Z"
   },
   {
    "duration": 20,
    "start_time": "2023-09-25T08:36:24.767Z"
   },
   {
    "duration": 15,
    "start_time": "2023-09-25T08:36:24.788Z"
   },
   {
    "duration": 19,
    "start_time": "2023-09-25T08:36:24.805Z"
   },
   {
    "duration": 18,
    "start_time": "2023-09-25T08:36:24.826Z"
   },
   {
    "duration": 45,
    "start_time": "2023-09-25T08:36:24.846Z"
   },
   {
    "duration": 5,
    "start_time": "2023-09-25T08:36:24.893Z"
   },
   {
    "duration": 11,
    "start_time": "2023-09-25T08:36:24.899Z"
   },
   {
    "duration": 550,
    "start_time": "2023-09-25T08:36:24.912Z"
   },
   {
    "duration": 12,
    "start_time": "2023-09-25T08:36:25.463Z"
   },
   {
    "duration": 22,
    "start_time": "2023-09-25T08:36:25.477Z"
   },
   {
    "duration": 62,
    "start_time": "2023-09-25T08:36:25.501Z"
   },
   {
    "duration": 62,
    "start_time": "2023-09-25T08:36:25.568Z"
   },
   {
    "duration": 100,
    "start_time": "2023-09-25T08:36:25.644Z"
   },
   {
    "duration": 18,
    "start_time": "2023-09-25T08:36:25.746Z"
   },
   {
    "duration": 118,
    "start_time": "2023-09-25T08:36:25.766Z"
   },
   {
    "duration": 4,
    "start_time": "2023-09-25T08:36:25.886Z"
   },
   {
    "duration": 55,
    "start_time": "2023-09-25T08:36:25.892Z"
   },
   {
    "duration": 200,
    "start_time": "2023-09-25T08:36:25.948Z"
   },
   {
    "duration": 27,
    "start_time": "2023-09-25T08:36:26.150Z"
   },
   {
    "duration": 44,
    "start_time": "2023-09-25T08:36:26.180Z"
   },
   {
    "duration": 40,
    "start_time": "2023-09-25T08:36:26.246Z"
   },
   {
    "duration": 8,
    "start_time": "2023-09-25T08:36:26.287Z"
   },
   {
    "duration": 147,
    "start_time": "2023-09-25T08:36:26.298Z"
   },
   {
    "duration": 74,
    "start_time": "2023-09-25T08:36:26.447Z"
   },
   {
    "duration": 107,
    "start_time": "2023-09-25T08:36:26.523Z"
   },
   {
    "duration": 143,
    "start_time": "2023-09-25T08:36:26.632Z"
   },
   {
    "duration": 4,
    "start_time": "2023-09-25T08:36:26.777Z"
   },
   {
    "duration": 9,
    "start_time": "2023-09-25T08:36:26.782Z"
   },
   {
    "duration": 8,
    "start_time": "2023-09-25T08:36:26.792Z"
   }
  ],
  "kernelspec": {
   "display_name": "Python 3 (ipykernel)",
   "language": "python",
   "name": "python3"
  },
  "language_info": {
   "codemirror_mode": {
    "name": "ipython",
    "version": 3
   },
   "file_extension": ".py",
   "mimetype": "text/x-python",
   "name": "python",
   "nbconvert_exporter": "python",
   "pygments_lexer": "ipython3",
   "version": "3.10.9"
  },
  "toc": {
   "base_numbering": 1,
   "nav_menu": {},
   "number_sections": true,
   "sideBar": true,
   "skip_h1_title": true,
   "title_cell": "Table of Contents",
   "title_sidebar": "Contents",
   "toc_cell": false,
   "toc_position": {},
   "toc_section_display": true,
   "toc_window_display": false
  }
 },
 "nbformat": 4,
 "nbformat_minor": 4
}
